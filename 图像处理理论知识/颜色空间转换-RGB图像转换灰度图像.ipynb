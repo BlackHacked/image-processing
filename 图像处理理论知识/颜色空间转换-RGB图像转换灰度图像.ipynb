{
 "cells": [
  {
   "cell_type": "markdown",
   "metadata": {},
   "source": [
    "# RGB图像转换灰度图像"
   ]
  },
  {
   "cell_type": "markdown",
   "metadata": {},
   "source": [
    "RGB图像转换成灰度图像一般有以下几种方法：\n",
    "\n",
    "1. 基于心理学公式： Gray = R*0.299 + G*0.587 + B*0.114\n",
    "\n",
    "2. 平均值方法：Gray = (R + G + B) / 3\n",
    "\n",
    "3. 使用Photoshop的转换公式：Gray =  (R^2.2 * 0.2973 + G^2.2 * 0.6274 + B^2.2 * 0.0753)^(1/2.2)\n",
    "\n",
    "为了避免浮点数带来低速度运算，可以考虑将浮点数转换成整数计算。比如，对于第一种方法一般情况下使用16位精度整数来计算，转换公式如下：\n",
    "\n",
    "  0.299 * 65536 = 19595.264 ≈ 19595\n",
    "  \n",
    "  0.587 * 65536 + (0.264) = 38469.632 + 0.264 = 38469.896 ≈ 38469\n",
    "  \n",
    "  0.114 * 65536 + (0.896) = 7471.104 + 0.896 = 7472\n",
    "  \n",
    " 浮点数转换成整数，多少会带来一些误差，以上方法转换不使用四舍五入方法，而使用舍尾法，最终的转换公式为：\n",
    " \n",
    "  Gray = (R*19595 + G*38469 + B*7472) >> 16"
   ]
  },
  {
   "cell_type": "markdown",
   "metadata": {},
   "source": [
    "## RGB向灰度转换的原理\n",
    "\n",
    "RGB向灰度转换时，是以LAB模式为中介的（这和PS中关于LAB模式的一贯解释是完全吻合的）。其基本的流程是：首先将RGB转换为LAB，然后在LAB中去色，使A、B均为零，并依此生成一个RGB等值的灰阶，最后再根据该灰阶向灰度空间转换。\n",
    "\n",
    "由此可见，转换为灰度的等值RGB只与原来的RGB空间有关，而与作为目标空间的灰度空间无关。\n",
    "\n",
    "## 灰阶的计算\n",
    "不同的RGB空间，灰阶的计算公式有所不同，常见的几种RGB空间的计算灰阶的公式如下：\n",
    "\n",
    "  1、简化 sRGB IEC61966-2.1 [gamma=2.20]\n",
    "  \n",
    "    Gray = (R^2.2 * 0.2126  + G^2.2  * 0.7152  + B^2.2  * 0.0722)^(1/2.2)\n",
    "\n",
    "    2、 Adobe RGB (1998) [gamma=2.20]\n",
    "    \n",
    "    Gray = (R^2.2 * 0.2973  + G^2.2  * 0.6274  + B^2.2  * 0.0753)^(1/2.2)\n",
    "\n",
    "    3、Apple RGB [gamma=1.80]\n",
    "    \n",
    "    Gray = (R^1.8 * 0.2446  + G^1.8  * 0.6720  + B^1.8  * 0.0833)^(1/1.8)\n",
    "\n",
    "    4、ColorMatch RGB [gamma=1.8]\n",
    "    \n",
    "    Gray = (R^1.8 * 0.2750  + G^1.8  * 0.6581  + B^1.8  * 0.0670)^(1/1.8)\n",
    "\n",
    "    5、简化 KODAK DC Series Digital Camera [gamma=2.2]\n",
    "    \n",
    "    Gray = (R^2.2 * 0.2229  + G^2.2  * 0.7175  + B^2.2  * 0.0595)^(1/2.2)"
   ]
<<<<<<< HEAD
  },
  {
   "cell_type": "markdown",
   "metadata": {},
   "source": [
    "## 灰度图像转换RGB\n",
    " 我们要将RGB表示转换为gGB表示，也就是用灰度分量g取代蓝色分量R，蓝色分量B和绿色分量G不变。我们可以从gGB计算出红色分量R，因为灰度g=p*R+q*G+t*B（其中p=0.2989,q=0.5870,t=0.1140），于是R=(g-q*G-t*B)/p。于是我们只要保留B和G两个颜色分量，再加上灰度图g，就可以回复原来的RGB图像。同样，我们这里的g是可以随便取代红绿蓝三种分量中的任一分量的。"
   ]
  },
  {
   "cell_type": "markdown",
   "metadata": {},
   "source": [
    "参考:\n",
    "    \n",
    "[1]. https://www.cnblogs.com/zhangjiansheng/p/6925722.html\n",
    "\n",
    "[2]. https://blog.csdn.net/FloatDreamed/article/details/79016874"
   ]
=======
>>>>>>> 51995ec027260a4e9bd6f4e78a01e5c4cc281810
  }
 ],
 "metadata": {
  "kernelspec": {
   "display_name": "Python 3",
   "language": "python",
   "name": "python3"
  },
  "language_info": {
   "codemirror_mode": {
    "name": "ipython",
    "version": 3
   },
   "file_extension": ".py",
   "mimetype": "text/x-python",
   "name": "python",
   "nbconvert_exporter": "python",
   "pygments_lexer": "ipython3",
   "version": "3.6.4"
  }
 },
 "nbformat": 4,
 "nbformat_minor": 2
}
