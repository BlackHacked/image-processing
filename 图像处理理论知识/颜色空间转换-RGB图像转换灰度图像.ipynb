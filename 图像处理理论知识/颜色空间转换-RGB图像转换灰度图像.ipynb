{
 "cells": [
  {
   "cell_type": "markdown",
   "metadata": {},
   "source": [
    "# RGB图像转换灰度图像"
   ]
  },
  {
   "cell_type": "markdown",
   "metadata": {},
   "source": [
    "RGB图像转换成灰度图像一般有以下几种方法：\n",
    "\n",
    "1. 基于心理学公式： Gray = R*0.299 + G*0.587 + B*0.114\n",
    "\n",
    "2. 平均值方法：Gray = (R + G + B) / 3\n",
    "\n",
    "3. 使用Photoshop的转换公式：Gray = (R^2.2 * 0.2973 + G^2.2 * 0.6274 + B^2.2 * 0.0753)^(1/2.2)\n",
    "\n",
    "为了避免浮点数带来低速度运算，可以考虑将浮点数转换成整数计算。比如，对于第一种方法一般情况下使用16位精度整数来计算，转换公式如下：\n",
    "\n",
    "  0.299 * 65536 = 19595.264 ≈ 19595\n",
    "  \n",
    "  0.587 * 65536 + (0.264) = 38469.632 + 0.264 = 38469.896 ≈ 38469\n",
    "  \n",
    "  0.114 * 65536 + (0.896) = 7471.104 + 0.896 = 7472\n",
    "  \n",
    " 浮点数转换成整数，多少会带来一些误差，以上方法转换不使用四舍五入方法，而使用舍尾法，最终的转换公式为：\n",
    " \n",
    "  Gray = (R*19595 + G*38469 + B*7472) >> 16"
   ]
  },
  {
   "cell_type": "markdown",
   "metadata": {},
   "source": [
    "参考:\n",
    "    \n",
    "[1]. https://www.cnblogs.com/zhangjiansheng/p/6925722.html"
   ]
  },
  {
   "cell_type": "code",
   "execution_count": null,
   "metadata": {},
   "outputs": [],
   "source": []
  }
 ],
 "metadata": {
  "kernelspec": {
   "display_name": "Python 3",
   "language": "python",
   "name": "python3"
  },
  "language_info": {
   "codemirror_mode": {
    "name": "ipython",
    "version": 3
   },
   "file_extension": ".py",
   "mimetype": "text/x-python",
   "name": "python",
   "nbconvert_exporter": "python",
   "pygments_lexer": "ipython3",
   "version": "3.6.3"
  }
 },
 "nbformat": 4,
 "nbformat_minor": 2
}
