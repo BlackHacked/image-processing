{
 "cells": [
  {
   "attachments": {
    "image.png": {
     "image/png": "[encoded data removed]"
    }
   },
   "cell_type": "markdown",
   "metadata": {},
   "source": [
    "# 倒角距离变换(Chamfer Distance)\n",
    "\n",
    "图像处理中的倒角距离变换(Chamfer Distance Transform)在对象匹配识别中经常用到，算法基本上是基于3x3的窗口来生成每个像素的距离值，分为两步完成距离变换，\n",
    "\n",
    "第一步从左上角开始，从左向右、从上到下移动窗口扫描每个像素，检测在中心像素x的周围0、1、2、3四个像素，保存最小距离与位置作为结果，图示如下：\n",
    "\n",
    "![image.png](attachment:image.png)"
   ]
  },
  {
   "attachments": {
    "image.png": {
     "image/png": "[encoded data removed]"
    }
   },
   "cell_type": "markdown",
   "metadata": {},
   "source": [
    "第二步从底向上、从右向左，对每个像素，检测相邻像素4、5、6、7保存最小距离与位置作为结果，如图示所：\n",
    "\n",
    "![image.png](attachment:image.png)"
   ]
  },
  {
   "cell_type": "markdown",
   "metadata": {},
   "source": [
    "完成这两步以后，得到的结果输出即为倒角距离变换的结果。完整的图像倒角距离变\n",
    "\n",
    "换代码实现可以分为如下几步：\n",
    "\n",
    "1. 对像素数组进行初始化，所有背景颜色像素点初始距离为无穷大，前景像素点距离为0\n",
    "2. 开始倒角距离变换中的第一步，并保存结果\n",
    "3. 基于第一步结果完成倒角距离变换中的第二步\n",
    "4. 根据距离变换结果显示所有不同灰度值，形成图像\n"
   ]
  },
  {
   "cell_type": "code",
   "execution_count": 50,
   "metadata": {},
   "outputs": [],
   "source": [
    "%matplotlib inline\n",
    "import matplotlib.pyplot as plt\n",
    "import cv2\n",
    "import numpy as np\n",
    "import skimage\n",
    "import skimage.io\n",
    "import imageio\n",
    "from operator import itemgetter\n",
    "from collections import defaultdict\n",
    "from collections import Counter"
   ]
  },
  {
   "cell_type": "code",
   "execution_count": 2,
   "metadata": {},
   "outputs": [],
   "source": [
    "src = imageio.imread('../datas/face4.jpg')\n",
    "gray = cv2.cvtColor(src,cv2.COLOR_RGB2GRAY)"
   ]
  },
  {
   "cell_type": "code",
   "execution_count": 54,
   "metadata": {},
   "outputs": [],
   "source": [
    "'''\n",
    "%   WEIGHTS = [1 sqrt(2)]   -> quasi-euclidean distance\n",
    "%   WEIGHTS = [1 Inf]       -> \"Manhattan\" or \"cityblock\" distance\n",
    "%   WEIGHTS = [1 1]         -> \"Chessboard\" distance\n",
    "%   WEIGHTS = [3 4]         -> Borgerfors' weights\n",
    "%   WEIGHTS = [5 7]         -> close approximation of sqrt(2)\n",
    "%   WEIGHTS = [5 7 11]      -> Uses an additional weight for chess-knight\n",
    "%                              shifts around each pixel( default)\n",
    "'''\n",
    "def chamfer_distance(src,weights=[5,7,11]):\n",
    "    gray = src.astype(np.float32)\n",
    "    if len(src.shape) > 2:\n",
    "        gray = cv2.cvtColor(src,cv2.COLOR_RGB2GRAY).astype(np.float32)\n",
    "    w1 = weights[0]\n",
    "    w2 = weights[1]\n",
    "    \n",
    "    if w2 < w1:\n",
    "        w2 = 2 * w1\n",
    "    # shifts in directions i and j for (1) forward and (2) backward iterations\n",
    "    if len(weights) == 2:\n",
    "        n_shifts = 4\n",
    "        di1 = [-1, -1, -1,  0]\n",
    "        dj1 = [-1,0,  1, -1]\n",
    "        di2 = [1, 1, 1,  0]\n",
    "        dj2 = [-1,  0,  1, 1]\n",
    "        ws = [w2,w1,w2,w1]\n",
    "    elif len(weights) == 3:\n",
    "        n_shifts = 8\n",
    "        w3 = weights[2]\n",
    "        di1 = [-2, -2, -1, -1, -1, -1, -1,  0]\n",
    "        dj1 = [-1, 1, -2, -1,  0,  1, 2, -1]\n",
    "        di2 = [2, 2 ,1 ,1 ,1 ,1 ,1  ,0]\n",
    "        dj2 = [-1, 1, 2, 1,  0, -1, -2, 1]\n",
    "        ws =  [w3, w3, w3, w2, w1, w2, w3, w1]\n",
    "    dst = np.ones_like(gray)\n",
    "    dst.fill(np.finfo(np.float32).max)\n",
    "    dst[~src] = 0\n",
    "    D1,D2 = gray.shape\n",
    "    \n",
    "    for i in range(D1-2):\n",
    "        for j in range(D2-2):\n",
    "            if gray[i,j] == 0:\n",
    "                continue\n",
    "            new_val = dst[i,j]\n",
    "            for k in range(n_shifts):\n",
    "                i2 = i + di1[k]\n",
    "                j2 = j + dj1[k]\n",
    "                \n",
    "                if (i2 < 0) or (i2 > D1) or (j2 < 0) or (j2 > D2):\n",
    "                    continue\n",
    "                if gray[i2,j2] == gray[i,j]:\n",
    "                    new_val = min(new_val,dst[i2,j2] + ws[k])\n",
    "                else:\n",
    "                    new_val = min(new_val,ws[k])\n",
    "            dst[i,j] = new_val\n",
    "    print(D1,D2)\n",
    "    for i in range(D1-3,0,-1):\n",
    "        for j in range(D2-3,0,-1):\n",
    "#             print(i,j)\n",
    "            if gray[i,j] == 0:\n",
    "                continue\n",
    "            new_val = dst[i,j]\n",
    "            for k in range(n_shifts):\n",
    "                i2 = i + di2[k]\n",
    "                j2 = j + dj2[k]\n",
    "                if (i2 < 0) or (i2 > D1) or (j2 < 0) or (j2 > D2):\n",
    "                    continue\n",
    "#                 print(i2,j2)\n",
    "                if gray[i2,j2] == gray[i,j]:\n",
    "                    new_val = min(new_val,dst[i,j] + ws[k])\n",
    "                else:\n",
    "                    new_val = min(new_val,ws[k])\n",
    "            dst[i,j] = new_val\n",
    "#     dst[dst > 0] = dst[dst > 0] / w1\n",
    "    dst = np.clip(dst,0,255)\n",
    "    print(dst)\n",
    "    return np.uint8(dst)"
   ]
  },
  {
   "cell_type": "code",
   "execution_count": 55,
   "metadata": {},
   "outputs": [
    {
     "name": "stdout",
     "output_type": "stream",
     "text": [
      "375 750\n",
      "[[255. 255. 255. ... 255. 255. 255.]\n",
      " [255. 255. 255. ... 255. 255. 255.]\n",
      " [  0.   0.   0. ...   0.   0.   0.]\n",
      " ...\n",
      " [ 15.  11.  11. ...  25. 255. 255.]\n",
      " [255. 255. 255. ... 255. 255. 255.]\n",
      " [255. 255. 255. ... 255. 255. 255.]]\n"
     ]
    }
   ],
   "source": [
    "dst = chamfer_distance(gray)"
   ]
  },
  {
   "cell_type": "code",
   "execution_count": 57,
   "metadata": {},
   "outputs": [
    {
     "data": {
      "text/plain": [
       "<matplotlib.image.AxesImage at 0x285c4f19240>"
      ]
     },
     "execution_count": 57,
     "metadata": {},
     "output_type": "execute_result"
    },
    {
     "data": {
      "image/png": "[encoded data removed]",
      "text/plain": [
       "<Figure size 432x288 with 1 Axes>"
      ]
     },
     "metadata": {},
     "output_type": "display_data"
    }
   ],
   "source": [
    "plt.imshow(dst,'gray')"
   ]
  },
  {
   "cell_type": "code",
   "execution_count": 51,
   "metadata": {},
   "outputs": [],
   "source": [
    "def _index2coord(index):\n",
    "    return np.array([index // neighborhood_size, index % neighborhood_size])\n",
    "\n",
    "neighborhood_size = 5\n",
    "_cache = {}\n",
    "\n",
    "def chamfer_distance(a,b):\n",
    "    x = _fast_assymetric_chamfer_distance(a,b)\n",
    "    y = _fast_assymetric_chamfer_distance(b,a)\n",
    "    return x + y\n",
    "\n",
    "def _gen_paths():\n",
    "    \"\"\"\n",
    "    Compute search order for each input pixel position.\n",
    "    Search from closest to farthest, so that search can be stopped at\n",
    "    success.\n",
    "    \"\"\"\n",
    "    def path(i,j):\n",
    "        return (max(abs(_index2coord(i)-_index2coord(j))), j)\n",
    "\n",
    "    r = range(neighborhood_size**2)\n",
    "    return [sorted([path(i,j) for j in r], key=itemgetter(0)) for i in r]\n",
    "\n",
    "_paths = _gen_paths()\n",
    "\n",
    "def _fast_assymetric_chamfer_distance(a,b):\n",
    "    key = (tuple(a),tuple(b))\n",
    "\n",
    "    if key in _cache:\n",
    "        return _cache[key]\n",
    "\n",
    "    set_a = set(a)\n",
    "    result = 0\n",
    "    for i,x in enumerate(b):\n",
    "        if x not in set_a:\n",
    "            result += 2 * neighborhood_size\n",
    "        else:\n",
    "            for dist,j in _paths[i]:\n",
    "                if a[j] == x:\n",
    "                    result += dist\n",
    "                    break\n",
    "\n",
    "    _cache[key] = result\n",
    "    return result"
   ]
  },
  {
   "cell_type": "code",
   "execution_count": null,
   "metadata": {},
   "outputs": [],
   "source": []
  }
 ],
 "metadata": {
  "kernelspec": {
   "display_name": "Python 3",
   "language": "python",
   "name": "python3"
  },
  "language_info": {
   "codemirror_mode": {
    "name": "ipython",
    "version": 3
   },
   "file_extension": ".py",
   "mimetype": "text/x-python",
   "name": "python",
   "nbconvert_exporter": "python",
   "pygments_lexer": "ipython3",
   "version": "3.6.4"
  }
 },
 "nbformat": 4,
 "nbformat_minor": 2
}
