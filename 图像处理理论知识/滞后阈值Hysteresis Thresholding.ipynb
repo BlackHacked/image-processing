{
 "cells": [
  {
   "cell_type": "markdown",
   "metadata": {},
   "source": [
    "# 滞后阈值理论\n",
    "\n",
    "滞后阈值需要两个阈值——高阈值与低阈值。假设图像中的重要边缘都是连续的曲线，这样我们就可以跟踪给定曲线中模糊的部分，并且避免将没有组成曲线的噪声像素当成边缘。所以我们从一个较大的阈值开始，这将标识出我们比较确信的真实边缘，使用前面导出的方向信息，我们从这些真正的边缘开始在图像中跟踪整个的边缘。"
   ]
  },
  {
   "cell_type": "code",
   "execution_count": 4,
   "metadata": {},
   "outputs": [],
   "source": [
    "import numpy as np\n",
    "import scipy\n",
    "from scipy.ndimage import filters\n",
    "%matplotlib inline\n",
    "import matplotlib.pyplot as plt\n",
    "import skimage as ski\n",
    "import skimage.io as skio\n",
    "import skimage.color as skcolor\n",
    "from scipy.ndimage import measurements"
   ]
  },
  {
   "cell_type": "code",
   "execution_count": 5,
   "metadata": {},
   "outputs": [],
   "source": [
    "src = skio.imread('../datas/f2.jpg')\n",
    "gray = skcolor.rgb2gray(src)"
   ]
  },
  {
   "cell_type": "code",
   "execution_count": 6,
   "metadata": {},
   "outputs": [],
   "source": [
    "### hysteresis thresholding\n",
    "def hysteresisThreshold(nms, thLow, thHigh, binaryEdge = True):\n",
    "    labels, n = measurements.label(nms > thLow, structure=ones((3,3)))\n",
    "    for i in range(1, n):\n",
    "        upper = amax(nms[labels==i])\n",
    "        if upper < thHigh: labels[labels==i] = 0\n",
    "    if binaryEdge: return 255*(labels>0)        \n",
    "    else: return nms*(labels>0)"
   ]
  }
 ],
 "metadata": {
  "kernelspec": {
   "display_name": "Python 3",
   "language": "python",
   "name": "python3"
  },
  "language_info": {
   "codemirror_mode": {
    "name": "ipython",
    "version": 3
   },
   "file_extension": ".py",
   "mimetype": "text/x-python",
   "name": "python",
   "nbconvert_exporter": "python",
   "pygments_lexer": "ipython3",
   "version": "3.6.4"
  }
 },
 "nbformat": 4,
 "nbformat_minor": 2
}
