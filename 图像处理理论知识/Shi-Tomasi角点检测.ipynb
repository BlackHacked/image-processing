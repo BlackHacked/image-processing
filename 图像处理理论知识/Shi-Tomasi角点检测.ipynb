{
 "cells": [
  {
   "cell_type": "markdown",
   "metadata": {},
   "source": [
    "# Shi-Tomasi角点检测"
   ]
  },
  {
   "cell_type": "markdown",
   "metadata": {},
   "source": [
    "参考：\n",
    "\n",
    "[1]. https://blog.csdn.net/xiaowei_cqu/article/details/7805206\n",
    "\n",
    "[2]. https://blog.csdn.net/tostq/article/details/49178601\n",
    "\n",
    "[3]. https://blog.csdn.net/dcrmg/article/details/52551637\n",
    "\n",
    "[4]. https://www.cnblogs.com/tianyalu/p/5468095.html"
   ]
  }
 ],
 "metadata": {
  "kernelspec": {
   "display_name": "Python 3",
   "language": "python",
   "name": "python3"
  },
  "language_info": {
   "codemirror_mode": {
    "name": "ipython",
    "version": 3
   },
   "file_extension": ".py",
   "mimetype": "text/x-python",
   "name": "python",
   "nbconvert_exporter": "python",
   "pygments_lexer": "ipython3",
   "version": "3.6.3"
  }
 },
 "nbformat": 4,
 "nbformat_minor": 2
}
