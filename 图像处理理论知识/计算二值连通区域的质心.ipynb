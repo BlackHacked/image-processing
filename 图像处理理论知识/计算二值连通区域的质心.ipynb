{
 "cells": [
  {
   "cell_type": "markdown",
   "metadata": {},
   "source": [
    "# 计算二值连通区域的质心"
   ]
  },
  {
   "attachments": {
    "image.png": {
     "image/png": "[encoded data removed]"
    }
   },
   "cell_type": "markdown",
   "metadata": {},
   "source": [
    "图像处理之计算二值连通区域的质心\n",
    "\n",
    "## 一：几何距(Geometric Moments)知识与质心寻找原理\n",
    "\n",
    "### 1.Image Moments\n",
    "\n",
    "Image Moments 是图像处理中非常有用的算法，可以用来计算区域图像的质心，方向等几何特性，同时Mpq的高阶具有旋转不变性，可以用来实现图像比较分类，正是因为Moments有这些特性，很多手绘油画效果也会基于该算法来模拟实现。它的数学表达为：\n",
    "\n",
    "![image.png](attachment:image.png)\n",
    "\n",
    "它的低阶M00，M01, M10可以用来计算质心，中心化以后M11,M02,M20可以用来计算区域的方向/角度\n",
    "\n",
    "### 2.什么是质心\n",
    "\n",
    "就是通过该点，区域达到一种质量上的平衡状态，可能物理学上讲的比较多，简单点的说就是规则几何物体的中心，不规则的可以通过挂绳子的方法来寻找。"
   ]
  },
  {
   "attachments": {
    "image.png": {
     "image/png": "[encoded data removed]"
    }
   },
   "cell_type": "markdown",
   "metadata": {},
   "source": [
    "![image.png](attachment:image.png)\n",
    "\n",
    "二：算法流程\n",
    "\n",
    "1.      输入图像转换为二值图像\n",
    "\n",
    "2.      通过连通组件标记算法找到所有的连通区域，并分别标记\n",
    "\n",
    "3.      对每个连通区域运用计算几何距算法得到质心\n",
    "\n",
    "4.      用不同颜色绘制连通区域与质心，输出处理后图像"
   ]
  },
  {
   "cell_type": "code",
   "execution_count": 1,
   "metadata": {},
   "outputs": [],
   "source": [
    "%matplotlib inline\n",
    "import matplotlib.pyplot as plt\n",
    "import cv2\n",
    "import numpy as np\n",
    "import skimage\n",
    "import skimage.io\n",
    "import imageio\n",
    "import math"
   ]
  },
  {
   "cell_type": "code",
   "execution_count": 7,
   "metadata": {},
   "outputs": [],
   "source": [
    "src = imageio.imread('../datas/blob.jpg')\n",
    "gray = cv2.cvtColor(src,cv2.COLOR_RGB2GRAY)"
   ]
  },
  {
   "cell_type": "code",
   "execution_count": 9,
   "metadata": {},
   "outputs": [],
   "source": [
    "def moments2e(img):\n",
    "    image = img\n",
    "    if len(img.shape) > 2:\n",
    "        image = cv2.cvtColor(img,cv2.COLOR_RGB2GRAY)\n",
    "#     assert len(image.shape) == 2 # only for grayscale images        \n",
    "    x, y = np.mgrid[:image.shape[0],:image.shape[1]]\n",
    "    moments = {}\n",
    "    moments['mean_x'] = np.sum(x*image)/np.sum(image)\n",
    "    moments['mean_y'] = np.sum(y*image)/np.sum(image)\n",
    "           \n",
    "    # raw or spatial moments\n",
    "    moments['m00'] = np.sum(image)\n",
    "    moments['m01'] = np.sum(x*image)\n",
    "    moments['m10'] = np.sum(y*image)\n",
    "    moments['m11'] = np.sum(y*x*image)\n",
    "    moments['m02'] = np.sum(x**2*image)\n",
    "    moments['m20'] = np.sum(y**2*image)\n",
    "    moments['m12'] = np.sum(x*y**2*image)\n",
    "    moments['m21'] = np.sum(x**2*y*image)\n",
    "    moments['m03'] = np.sum(x**3*image)\n",
    "    moments['m30'] = np.sum(y**3*image)\n",
    "  \n",
    "    # central moments\n",
    "    # moments['mu01']= sum((y-moments['mean_y'])*image) # should be 0\n",
    "    # moments['mu10']= sum((x-moments['mean_x'])*image) # should be 0\n",
    "    moments['mu11'] = np.sum((x-moments['mean_x'])*(y-moments['mean_y'])*image)\n",
    "    moments['mu02'] = np.sum((y-moments['mean_y'])**2*image) # variance\n",
    "    moments['mu20'] = np.sum((x-moments['mean_x'])**2*image) # variance\n",
    "    moments['mu12'] = np.sum((x-moments['mean_x'])*(y-moments['mean_y'])**2*image)\n",
    "    moments['mu21'] = np.sum((x-moments['mean_x'])**2*(y-moments['mean_y'])*image) \n",
    "    moments['mu03'] = np.sum((y-moments['mean_y'])**3*image) \n",
    "    moments['mu30'] = np.sum((x-moments['mean_x'])**3*image) \n",
    "\n",
    "    \n",
    "    # opencv versions\n",
    "    #moments['mu02'] = sum(image*(x-m01/m00)**2)\n",
    "    #moments['mu02'] = sum(image*(x-y)**2)\n",
    "\n",
    "    # wiki variations\n",
    "    #moments['mu02'] = m20 - mean_y*m10 \n",
    "    #moments['mu20'] = m02 - mean_x*m01\n",
    "        \n",
    "    # central standardized or normalized or scale invariant moments\n",
    "    moments['nu11'] = moments['mu11'] / np.sum(image)**(2/2+1)\n",
    "    moments['nu12'] = moments['mu12'] / np.sum(image)**(3/2+1)\n",
    "    moments['nu21'] = moments['mu21'] / np.sum(image)**(3/2+1)\n",
    "    moments['nu20'] = moments['mu20'] / np.sum(image)**(2/2+1)\n",
    "    moments['nu03'] = moments['mu03'] / np.sum(image)**(3/2+1) # skewness\n",
    "    moments['nu30'] = moments['mu30'] / np.sum(image)**(3/2+1) # skewness\n",
    "    return moments"
   ]
  },
  {
   "cell_type": "code",
   "execution_count": 10,
   "metadata": {},
   "outputs": [],
   "source": [
    "dst = moments2e(src)"
   ]
  },
  {
   "cell_type": "code",
   "execution_count": 11,
   "metadata": {},
   "outputs": [
    {
     "name": "stdout",
     "output_type": "stream",
     "text": [
      "{'mean_x': -38.79423992012425, 'mean_y': -50.98380816960622, 'm00': 34465529, 'm01': -1337064001, 'm10': -1757183919, 'm11': -2052795721, 'm02': 1335922791, 'm20': 646283661, 'm12': -623806233, 'm21': -170447121, 'm03': 521911605, 'm30': -633855643, 'mu11': 2152665096677.7454, 'mu02': 2698213957391.9727, 'mu20': 2686119744740.09, 'mu12': 679688253673185.2, 'mu21': 676546987710072.6, 'mu03': 962748788800993.1, 'mu30': 943882258081257.4, 'nu11': 0.001812201859811412, 'nu12': 9.746470951006961e-05, 'nu21': 9.701426392279622e-05, 'nu20': 0.00226128588446327, 'nu03': 0.00013805451326333852, 'nu30': 0.00013534912454119354}\n"
     ]
    }
   ],
   "source": [
    "print(dst)"
   ]
  },
  {
   "cell_type": "markdown",
   "metadata": {},
   "source": [
    "参考：\n",
    "\n",
    "- https://blog.csdn.net/jia20003/article/details/17596645\n",
    "- https://en.wikipedia.org/wiki/Image_moment\n",
    "- https://en.wikipedia.org/wiki/Central_moment\n",
    "- https://en.wikipedia.org/wiki/Moment_(mathematics)\n",
    "- https://en.wikipedia.org/wiki/Standardized_moment\n",
    "- http://docs.opencv.org/modules/imgproc/doc/structural_analysis_and_shape_descriptors.html#moments"
   ]
  }
 ],
 "metadata": {
  "kernelspec": {
   "display_name": "Python 3",
   "language": "python",
   "name": "python3"
  },
  "language_info": {
   "codemirror_mode": {
    "name": "ipython",
    "version": 3
   },
   "file_extension": ".py",
   "mimetype": "text/x-python",
   "name": "python",
   "nbconvert_exporter": "python",
   "pygments_lexer": "ipython3",
   "version": "3.6.4"
  }
 },
 "nbformat": 4,
 "nbformat_minor": 2
}
