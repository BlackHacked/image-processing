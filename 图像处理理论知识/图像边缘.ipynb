{
 "cells": [
  {
   "cell_type": "markdown",
   "metadata": {},
   "source": [
    "# 1.图像边缘\n",
    "\n",
    "边缘(edge)是指图像局部强度变化最显著的部分。主要存在于目标与目标、目标与背景、区域与区域(包括不同色彩)之间，是图像分割、纹理特征和形状特征等图像分析的重要基础。\n",
    "\n",
    "图像强度的显著变化可分为：\n",
    "\n",
    "1).阶跃变化函数，即图像强度在不连续处的两边的像素灰度值有着显著的差异；\n",
    "\n",
    "2).线条（屋顶）变化函数，即图像强度突然从一个值变化到另一个值，保持一较小行程后又回到原来的值。\n",
    "\n",
    "图像的边缘有方向和幅度两个属性,沿边缘方向像素变化平缓,垂直于边缘方向像素变化剧烈.边缘上的这种变化可以用微分算子检测出来,通常用一阶或二阶导数来检测边缘。\n",
    "\n",
    "![图像边缘](doc_imgs/04.png)\n",
    "\n",
    "（a）（b）分别是阶跃函数和屋顶函数的二维图像；\n",
    "\n",
    "（c）（d）是阶跃和屋顶函数的函数图象；\n",
    "\n",
    "（e）（f）对应一阶倒数；\n",
    "\n",
    "（g）（h）是二阶倒数。"
   ]
  },
  {
   "cell_type": "markdown",
   "metadata": {},
   "source": [
    "# 2.一阶导数法：梯度算子\n",
    "\n",
    "对于左图，左侧的边是正的（由暗到亮），右侧的边是负的（由亮到暗）。对于右图，结论相反。常数部分为零。用来检测边是否存在。\n",
    "![](doc_imgs/05.png)"
   ]
  },
  {
   "cell_type": "markdown",
   "metadata": {},
   "source": [
    "# 3.梯度算子 Gradient Operators\n",
    "\n",
    "函数f(x,y)在(x,y)处的梯度为一个向量：\n",
    "\n",
    "$$\\nabla f = \\left[\\frac{\\partial f}{\\partial x},\\frac {\\partial f}{\\partial y} \\right]^T$$\n",
    "\n",
    "计算这个向量的大小为：\n",
    "\n",
    "$$\\left|\\nabla f \\right| = mag(\\nabla f) = \\left[\\left(\\frac{\\partial f}{\\partial x}\\right)^2,\\left(\\frac {\\partial f}{\\partial y}\\right)^2\\right]^{\\frac{1}{2}}$$\n",
    "\n",
    "近似为:\n",
    "\n",
    "$$\\left|\\nabla f \\right| \\approx |G_x| + |G_y|$$\n",
    "\n",
    "梯度的方向角为：\n",
    "\n",
    "$$a(x,y) = arctan\\left( \\frac{G_x}{G_y}\\right)$$"
   ]
  },
  {
   "cell_type": "markdown",
   "metadata": {},
   "source": [
    "# 4.Sobel算子\n",
    "\n",
    "sobel算子的表示：\n",
    "\n",
    "$$G_x = (Z_7 + Z_8 + Z_9) - (Z_1 + Z_2 + Z_3)$$\n",
    "\n",
    "$$G_y = (Z_3 + Z_6 + Z_9) - (Z_1 + Z_4 + Z_7)$$\n",
    "\n",
    "梯度幅值：\n",
    "\n",
    "$$\\left|\\nabla f \\right| \\approx |G_x| + |G_y|$$\n",
    "\n",
    "用卷积模板来实现：\n",
    "![](doc_imgs/06.png)"
   ]
  },
  {
   "cell_type": "code",
   "execution_count": null,
   "metadata": {},
   "outputs": [],
   "source": [
    "https://blog.csdn.net/xiaowei_cqu/article/details/7829481"
   ]
  }
 ],
 "metadata": {
  "kernelspec": {
   "display_name": "Python 3",
   "language": "python",
   "name": "python3"
  },
  "language_info": {
   "codemirror_mode": {
    "name": "ipython",
    "version": 3
   },
   "file_extension": ".py",
   "mimetype": "text/x-python",
   "name": "python",
   "nbconvert_exporter": "python",
   "pygments_lexer": "ipython3",
   "version": "3.6.3"
  }
 },
 "nbformat": 4,
 "nbformat_minor": 2
}
