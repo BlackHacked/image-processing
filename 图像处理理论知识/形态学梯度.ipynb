{
 "cells": [
  {
   "attachments": {
    "image.png": {
     "image/png": "[encoded data removed]"
    }
   },
   "cell_type": "markdown",
   "metadata": {},
   "source": [
    "# 形态学梯度\n",
    "\n",
    "\n",
    "## 一：概念介绍\n",
    "\n",
    "通常所说形态学梯度（Morphological Gradient）是膨胀图像与腐蚀图像的之差得到的图像，也是基本梯度。数学表达式如下：\n",
    "\n",
    "![image.png](attachment:image.png)\n",
    "\n",
    "梯度用于刻画目标边界或边缘位于图像灰度级剧烈变化的区域，形态学梯度根据膨胀或者腐蚀与原图作差组合来实现增强结构元素领域中像素的强度，突出高亮区域的外围。计算图像的形态学梯度是形态学重要操作，常常将膨胀和腐蚀基础操作组合起来一起使用实现一些复杂的图像形态学梯度\n",
    "\n",
    "形态学操作膨胀与腐蚀图像形态学中最基本的两个形态学操作、常常被组合起来一起使用实现一些复杂的图像形态学操作，计算图像的形态学梯度是形态学重要操作之一是有膨胀和腐蚀基础操作适当的组合形成。可以计算的梯度常见如下四种：\n",
    "\n",
    "### 基本梯度\n",
    "\n",
    "基本梯度是用膨胀后的图像减去腐蚀后的图像得到差值图像，称为梯度图像也是OpenCV中支持的计算形态学梯度的方法，而此方法得到梯度有被称为基本梯度。\n",
    "\n",
    "### 内部梯度\n",
    "\n",
    "是用原图像减去腐蚀之后的图像得到差值图像，称为图像的内部梯度\n",
    "\n",
    "### 外部梯度\n",
    "\n",
    "图像膨胀之后再减去原来的图像得到的差值图像，称为图像的外部梯度。\n",
    "\n",
    "### 方向梯度\n",
    "\n",
    "方向梯度是使用X方向与Y方向的直线作为结构元素之后得到图像梯度，X的结构元素分布膨胀与腐蚀得到图像之后求差值得到称为X方向梯度，用Y方向直线做结构分别膨胀与腐蚀之后得到图像求差值之后称为Y方向梯度。"
   ]
  },
  {
   "cell_type": "code",
   "execution_count": null,
   "metadata": {},
   "outputs": [],
   "source": []
  }
 ],
 "metadata": {
  "kernelspec": {
   "display_name": "Python 3",
   "language": "python",
   "name": "python3"
  },
  "language_info": {
   "codemirror_mode": {
    "name": "ipython",
    "version": 3
   },
   "file_extension": ".py",
   "mimetype": "text/x-python",
   "name": "python",
   "nbconvert_exporter": "python",
   "pygments_lexer": "ipython3",
   "version": "3.6.4"
  }
 },
 "nbformat": 4,
 "nbformat_minor": 2
}
