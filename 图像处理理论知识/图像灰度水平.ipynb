{
 "cells": [
  {
   "cell_type": "markdown",
   "metadata": {},
   "source": [
    "# 1.图像灰度水平"
   ]
  },
  {
   "cell_type": "markdown",
   "metadata": {},
   "source": [
    "数字图像的灰度水平可以分别使用以下数学公式表示：\n",
    "\n",
    "## 对比度C\n",
    "\n",
    "$C = \\frac{L_{max} - L_{min}}{L_{max}  +  L_{min}}$\n",
    "\n",
    "，其中，$L{max},L_{min}$分别表示灰度图像中灰度最大值和最小值。另外，当$L_{min}$ == 0时，无论${L_{max}}的值为多少，C的值都认为是1\n",
    "\n",
    "## 对比度（Contrast Ratio)$C_R$:\n",
    "\n",
    "$C_R = \\frac{L_{max}}{ L_{min}}$"
   ]
  },
  {
   "cell_type": "code",
   "execution_count": 1,
   "metadata": {},
   "outputs": [],
   "source": [
    "import numpy as np\n",
    "import skimage\n",
    "import skimage.io\n",
    "import skimage.color"
   ]
  },
  {
   "cell_type": "code",
   "execution_count": 2,
   "metadata": {},
   "outputs": [],
   "source": [
    "src = skimage.io.imread('../datas/f2.jpg')\n",
    "gray = skimage.color.rgb2gray(src)"
   ]
  },
  {
   "cell_type": "code",
   "execution_count": 5,
   "metadata": {},
   "outputs": [],
   "source": [
    "def gray_level(gray):\n",
    "    lmax = np.max(gray)\n",
    "    lmin = np.min(gray)\n",
    "    if lmax == 0 and lmin == 0:\n",
    "        return 1\n",
    "    C = (lmax - lmin) / (lmax + lmin)\n",
    "    return C\n",
    "def contrast_ratio(gray):\n",
    "    lmax = np.max(gray)\n",
    "    lmin = np.min(gray)\n",
    "    if lmin == 0:\n",
    "        return np.inf\n",
    "    Cr = lmax / lmin\n",
    "    return Cr"
   ]
  },
  {
   "cell_type": "code",
   "execution_count": 4,
   "metadata": {},
   "outputs": [
    {
     "name": "stdout",
     "output_type": "stream",
     "text": [
      "gray level =  0.9887421725893479\n"
     ]
    }
   ],
   "source": [
    "gl = gray_level(gray)\n",
    "print('gray level = ',gl)"
   ]
  },
  {
   "cell_type": "code",
   "execution_count": 6,
   "metadata": {},
   "outputs": [
    {
     "name": "stdout",
     "output_type": "stream",
     "text": [
      "contrast ratio: 176.65417136414882\n"
     ]
    }
   ],
   "source": [
    "cl = contrast_ratio(gray)\n",
    "print('contrast ratio:',cl)"
   ]
  },
  {
   "cell_type": "markdown",
   "metadata": {},
   "source": [
    "# 2.灰度水平对比度\n",
    "\n",
    "图像在被显示，输出后，为了使人眼感觉更好，更加融洽，不能只考虑图像本身的灰度显示等级，还需要考虑灰度级显示范围（称作灰度水平动量程）。即灰度水平对比度，公式描述如下：\n",
    "\n",
    "$C_L = \\frac{L_{max} - L_{min} + 1}{L_D}$\n",
    "\n",
    "，其中$C_L$表示灰度水平对比度，$L_D$表示灰度水平动量程，也就是灰度级显示范围。$L_D$不是物理上的表示，而是理论上的。比如，8比特图像，$L_D$则为256"
   ]
  },
  {
   "cell_type": "code",
   "execution_count": 7,
   "metadata": {},
   "outputs": [],
   "source": [
    "def gray_level_contrast(gray):\n",
    "    lmax = np.max(gray)\n",
    "    lmin = np.min(gray)\n",
    "    LD = 2 << 8 #8比特图像\n",
    "    CL = (lmax - lmin + 1) / LD\n",
    "    return CL"
   ]
  },
  {
   "cell_type": "code",
   "execution_count": 8,
   "metadata": {},
   "outputs": [
    {
     "name": "stdout",
     "output_type": "stream",
     "text": [
      "gray level contrast ratio: 0.0038625030637254904\n"
     ]
    }
   ],
   "source": [
    "glc = gray_level_contrast(gray)\n",
    "print('gray level contrast ratio:',glc)"
   ]
  }
 ],
 "metadata": {
  "kernelspec": {
   "display_name": "Python 3",
   "language": "python",
   "name": "python3"
  },
  "language_info": {
   "codemirror_mode": {
    "name": "ipython",
    "version": 3
   },
   "file_extension": ".py",
   "mimetype": "text/x-python",
   "name": "python",
   "nbconvert_exporter": "python",
   "pygments_lexer": "ipython3",
   "version": "3.6.4"
  }
 },
 "nbformat": 4,
 "nbformat_minor": 2
}
