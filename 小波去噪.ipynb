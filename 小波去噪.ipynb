{
 "cells": [
  {
   "cell_type": "code",
   "execution_count": 3,
   "metadata": {},
   "outputs": [],
   "source": [
    "#coding:utf-8\n",
    "'''\n",
    "小波去噪\n",
    "https://blog.csdn.net/mingtian715/article/details/60873875\n",
    "'''\n",
    "%matplotlib inline\n",
    "import cv2\n",
    "import numpy as np\n",
    "import matplotlib.pyplot as plt\n",
    "from scipy import signal\n",
    "from pyexcel_xls import get_data\n",
    "import pandas as pd\n",
    "from pandas import DataFrame\n",
    "import pywt\n",
    "from pywt import wavedec2"
   ]
  },
  {
   "cell_type": "code",
   "execution_count": 4,
   "metadata": {},
   "outputs": [],
   "source": [
    "#添加图像噪声\n",
    "def salt(src,num):\n",
    "    if type(src) == type(None):\n",
    "        return None\n",
    "    dst = src.copy()\n",
    "    if len(src.shape) == 3 and src.shape[2] == 3:\n",
    "        rows,cols,_ = src.shape\n",
    "        for n in range(num):\n",
    "            y = np.random.randint(rows - 1)\n",
    "            x = np.random.randint(cols - 1)\n",
    "            dst[y,x] = (255,255,255)\n",
    "    elif len(src.shape) == 2:\n",
    "        rows,cols = src.shape\n",
    "        for n in range(num):\n",
    "            y = np.random.randint(rows - 1)\n",
    "            x = np.random.randint(cols - 1)\n",
    "            dst[y,x] = 255\n",
    "    else:\n",
    "        return None\n",
    "    \n",
    "    return dst\n",
    "        "
   ]
  },
  {
   "cell_type": "code",
   "execution_count": 5,
   "metadata": {},
   "outputs": [],
   "source": [
    "src = cv2.cvtColor(cv2.imread('datas/f2.jpg'),cv2.COLOR_BGR2GRAY)\n",
    "noise = salt(src,5000)"
   ]
  },
  {
   "cell_type": "code",
   "execution_count": 6,
   "metadata": {},
   "outputs": [
    {
     "name": "stdout",
     "output_type": "stream",
     "text": [
      "['haar', 'db', 'sym', 'coif', 'bior', 'rbio', 'dmey', 'gaus', 'mexh', 'morl', 'cgau', 'shan', 'fbsp', 'cmor']\n"
     ]
    }
   ],
   "source": [
    "print(pywt.families())"
   ]
  },
  {
   "cell_type": "code",
   "execution_count": 16,
   "metadata": {},
   "outputs": [],
   "source": [
    "cA2,(cH2,cV2,cD2),(cH1,cV1,cD1) = wavedec2(noise,'coif3',level=2)"
   ]
  },
  {
   "cell_type": "code",
   "execution_count": null,
   "metadata": {},
   "outputs": [],
   "source": []
  },
  {
   "cell_type": "code",
   "execution_count": null,
   "metadata": {},
   "outputs": [],
   "source": []
  },
  {
   "cell_type": "code",
   "execution_count": null,
   "metadata": {},
   "outputs": [],
   "source": []
  }
 ],
 "metadata": {
  "kernelspec": {
   "display_name": "Python 3",
   "language": "python",
   "name": "python3"
  },
  "language_info": {
   "codemirror_mode": {
    "name": "ipython",
    "version": 3
   },
   "file_extension": ".py",
   "mimetype": "text/x-python",
   "name": "python",
   "nbconvert_exporter": "python",
   "pygments_lexer": "ipython3",
   "version": "3.6.4"
  }
 },
 "nbformat": 4,
 "nbformat_minor": 2
}
