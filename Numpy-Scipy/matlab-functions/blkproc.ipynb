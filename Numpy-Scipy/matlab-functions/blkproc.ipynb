{
 "cells": [
  {
   "cell_type": "code",
   "execution_count": 9,
   "metadata": {},
   "outputs": [],
   "source": [
    "import numpy as np\n",
    "from numpy.lib.stride_tricks import as_strided\n",
    "import imageio\n",
    "%matplotlib inline\n",
    "import matplotlib.pyplot as plt\n",
    "import cv2"
   ]
  },
  {
   "cell_type": "code",
   "execution_count": 2,
   "metadata": {},
   "outputs": [],
   "source": [
    "img = imageio.imread('../../datas/f3.jpg')"
   ]
  },
  {
   "cell_type": "code",
   "execution_count": 4,
   "metadata": {},
   "outputs": [],
   "source": [
    "def rolling_block(A, block=(3, 3)):\n",
    "    shape = (A.shape[0] - block[0] + 1, A.shape[1] - block[1] + 1) + block\n",
    "    strides = (A.strides[0], A.strides[1]) + A.strides\n",
    "    return as_strided(A, shape=shape, strides=strides)"
   ]
  },
  {
   "cell_type": "code",
   "execution_count": 6,
   "metadata": {},
   "outputs": [],
   "source": [
    "r,g,b = img[:,:,0],img[:,:,1],img[:,:,2]"
   ]
  },
  {
   "cell_type": "code",
   "execution_count": 8,
   "metadata": {},
   "outputs": [],
   "source": [
    "dr = rolling_block(r)\n",
    "dg = rolling_block(g)\n",
    "db = rolling_block(b)"
   ]
  },
  {
   "cell_type": "code",
   "execution_count": 10,
   "metadata": {},
   "outputs": [],
   "source": [
    "dst = cv2.merge([dr,dg,db])"
   ]
  },
  {
   "cell_type": "code",
   "execution_count": 18,
   "metadata": {},
   "outputs": [
    {
     "data": {
      "text/plain": [
       "<matplotlib.image.AxesImage at 0x16b4f908d30>"
      ]
     },
     "execution_count": 18,
     "metadata": {},
     "output_type": "execute_result"
    },
    {
     "data": {
      "image/png": "[encoded data removed]",
      "text/plain": [
       "<Figure size 432x288 with 1 Axes>"
      ]
     },
     "metadata": {},
     "output_type": "display_data"
    }
   ],
   "source": [
    "plt.imshow(dst[1,2])"
   ]
  },
  {
   "cell_type": "code",
   "execution_count": 12,
   "metadata": {},
   "outputs": [
    {
     "name": "stdout",
     "output_type": "stream",
     "text": [
      "(298, 398, 3, 3, 3) uint8\n"
     ]
    }
   ],
   "source": [
    "print(dst.shape,dst.dtype)"
   ]
  },
  {
   "cell_type": "code",
   "execution_count": 19,
   "metadata": {},
   "outputs": [
    {
     "ename": "SyntaxError",
     "evalue": "invalid syntax (<ipython-input-19-14bb33e1e172>, line 52)",
     "output_type": "error",
     "traceback": [
      "\u001b[1;36m  File \u001b[1;32m\"<ipython-input-19-14bb33e1e172>\"\u001b[1;36m, line \u001b[1;32m52\u001b[0m\n\u001b[1;33m    squareit = lambda(x):x*2\u001b[0m\n\u001b[1;37m                     ^\u001b[0m\n\u001b[1;31mSyntaxError\u001b[0m\u001b[1;31m:\u001b[0m invalid syntax\n"
     ]
    }
   ],
   "source": [
    "from itertools import product\n",
    "def segment_and_concatenate(M, fun=None, blk_size=(16,16), overlap=(0,0)):\n",
    "    # truncate M to a multiple of blk_size\n",
    "    M = M[:M.shape[0]-M.shape[0]%blk_size[0], \n",
    "          :M.shape[1]-M.shape[1]%blk_size[1]]\n",
    "    rows = []\n",
    "    for i in range(0, M.shape[0], blk_size[0]):\n",
    "        cols = []\n",
    "        for j in range(0, M.shape[1], blk_size[1]):\n",
    "            max_ndx = (min(i+blk_size[0], M.shape[0]),\n",
    "                       min(j+blk_size[1], M.shape[1]))\n",
    "            cols.append(fun(M[i:max_ndx[0], j:max_ndx[1]]))\n",
    "        rows.append(np.concatenate(cols, axis=1))\n",
    "    return np.concatenate(rows, axis=0)\n",
    "from numpy.lib.stride_tricks import as_strided\n",
    "def block_view(A, block= (3, 3)):\n",
    "    \"\"\"Provide a 2D block view to 2D array. No error checking made.\n",
    "    Therefore meaningful (as implemented) only for blocks strictly\n",
    "    compatible with the shape of A.\"\"\"\n",
    "    # simple shape and strides computations may seem at first strange\n",
    "    # unless one is able to recognize the 'tuple additions' involved ;-)\n",
    "    shape= (A.shape[0]/ block[0], A.shape[1]/ block[1])+ block\n",
    "    strides= (block[0]* A.strides[0], block[1]* A.strides[1])+ A.strides\n",
    "    return as_strided(A, shape= shape, strides= strides)\n",
    "def segmented_stride(M, fun, blk_size=(3,3), overlap=(0,0)):\n",
    "    # This is some complex function of blk_size and M.shape\n",
    "    stride = blk_size\n",
    "    output = np.zeros(M.shape)\n",
    "    B = block_view(M, block=blk_size)\n",
    "    O = block_view(output, block=blk_size)\n",
    "    for b,o in zip(B, O):\n",
    "        o[:,:] = fun(b);\n",
    "    return output\n",
    "def view_process(M, fun=None, blk_size=(16,16), overlap=None):\n",
    "    # truncate M to a multiple of blk_size\n",
    "    from itertools import product\n",
    "    output = np.zeros(M.shape)\n",
    "    dz = np.asarray(blk_size)\n",
    "    shape = M.shape - (np.mod(np.asarray(M.shape), \n",
    "                          blk_size))\n",
    "    for indices in product(*[range(0, stop, step) \n",
    "                        for stop,step in zip(shape, blk_size)]):\n",
    "        # Don't overrun the end of the array.\n",
    "        #max_ndx = np.min((np.asarray(indices) + dz, M.shape), axis=0)\n",
    "        #slices = [slice(s, s + f, None) for s,f in zip(indices, dz)]\n",
    "        output[indices[0]:indices[0]+dz[0], \n",
    "               indices[1]:indices[1]+dz[1]][:,:] = fun(M[indices[0]:indices[0]+dz[0], \n",
    "               indices[1]:indices[1]+dz[1]])\n",
    "    return output\n",
    "if __name__ == \"__main__\":\n",
    "    R = np.random.rand(128,128)\n",
    "    squareit = lambda(x):x*2\n",
    "    from timeit import timeit\n",
    "    t ={}\n",
    "    kn = np.array(list(product((8,16,64,128), \n",
    "                               (128, 512, 2048, 4096))  ) )\n",
    "    methods = (\"segment_and_concatenate\", \n",
    "               \"view_process\", \n",
    "               \"segmented_stride\")    \n",
    "    t = np.zeros((kn.shape[0], len(methods)))\n",
    "    for i, (k, N) in enumerate(kn):\n",
    "        for j, method in enumerate(methods):\n",
    "            t[i,j] = timeit(\"\"\"Rprime = %s(R, blk_size=(%d,%d), \n",
    "                          overlap = (0,0), \n",
    "                          fun = squareit)\"\"\" % (method, k, k),\n",
    "                   setup=\"\"\"\n",
    "from segmented_processing import %s\n",
    "import numpy as np\n",
    "R = np.random.rand(%d,%d)\n",
    "squareit = lambda(x):x**2\"\"\" % (method, N, N),\n",
    "number=5\n",
    ")\n",
    "        print \"k =\", k, \"N =\", N #, \"time:\", t[i]\n",
    "        print (\"    Speed up (view vs. concat, stride vs. concat): %0.4f, %0.4f\" % (\n",
    "                       t[i][0]/t[i][1], \n",
    "                       t[i][0]/t[i][2]))"
   ]
  },
  {
   "cell_type": "code",
   "execution_count": null,
   "metadata": {},
   "outputs": [],
   "source": []
  }
 ],
 "metadata": {
  "kernelspec": {
   "display_name": "Python 3",
   "language": "python",
   "name": "python3"
  },
  "language_info": {
   "codemirror_mode": {
    "name": "ipython",
    "version": 3
   },
   "file_extension": ".py",
   "mimetype": "text/x-python",
   "name": "python",
   "nbconvert_exporter": "python",
   "pygments_lexer": "ipython3",
   "version": "3.6.4"
  }
 },
 "nbformat": 4,
 "nbformat_minor": 2
}
