{
 "cells": [
  {
   "cell_type": "code",
   "execution_count": 39,
   "metadata": {},
   "outputs": [],
   "source": [
    "#coding:utf-8\n",
    "%matplotlib inline\n",
    "'''\n",
    "低通滤波\n",
    "https://blog.csdn.net/horizon_zore/article/details/53129802\n",
    "'''\n",
    "import cv2\n",
    "import numpy as np\n",
    "import matplotlib.pyplot as plt\n",
    "from scipy import signal\n",
    "import math\n",
    "\n",
    "src = cv2.cvtColor(cv2.imread('datas/f2.jpg'),cv2.COLOR_BGR2RGB)\n",
    "gray = cv2.cvtColor(src,cv2.COLOR_RGB2GRAY)"
   ]
  },
  {
   "cell_type": "code",
   "execution_count": 40,
   "metadata": {},
   "outputs": [],
   "source": [
    "def ideal_low_pass_filter(src):\n",
    "    if type(src) == type(None) or len(src.shape) > 2:\n",
    "        print('gray image is needed')\n",
    "        return None\n",
    "    rows,cols = src.shape\n",
    "    # 调整图像加速傅里叶变换\n",
    "    M = cv2.getOptimalDFTSize(rows)\n",
    "    N = cv2.getOptimalDFTSize(cols)\n",
    "    \n",
    "#     padded = np.zeros_like(src)\n",
    "    padded = cv2.copyMakeBorder(src,0,M - rows,0,N - cols,\n",
    "                       cv2.BORDER_REPLICATE)\n",
    "     # 记录傅里叶的实况和虚部\n",
    "    planes = [np.float32(padded),np.zeros((rows,cols),dtype=np.float32)]\n",
    "    \n",
    "    complexImg = cv2.merge(planes,2)\n",
    "    \n",
    "    # 执行傅里叶变换\n",
    "    complexImg = cv2.dft(complexImg,flags=cv2.DFT_COMPLEX_OUTPUT)\n",
    "    \n",
    "    # 获取图像\n",
    "    mag = complexImg.copy()\n",
    "    m_r,m_c = mag.shape[0],mag.shape[1]\n",
    "    mag = mag[0:m_r & -2,0:m_c & -2]\n",
    "    \n",
    "    cx = m_c // 2\n",
    "    cy = m_r // 2\n",
    "    \n",
    "    # 调整频域\n",
    "    tmp = np.zeros((cy,cx),np.float32)\n",
    "    q0 = mag[0:cy,0:cx]\n",
    "    q1 = mag[cx:m_r,0:cx]\n",
    "    q2 = mag[0:cy,m_c:cx]\n",
    "    q3 = mag[m_r:cy,m_c:cx]\n",
    "    \n",
    "    tmp = q0\n",
    "    q0 = q3\n",
    "    q3 = tmp\n",
    "    \n",
    "    tmp2 = np.zeros((cy,cx),np.float32)\n",
    "    tmp2 = q1\n",
    "    q1 = q2\n",
    "    q2 = tmp2\n",
    "    \n",
    "    D0 = 60\n",
    "    for y in range(m_r):\n",
    "        for x in range(m_c):\n",
    "            d = np.sqrt(math.pow((y - cy),2) + math.pow((x - cx),2))\n",
    "            if d > D0:\n",
    "                mag[y,x] = 0\n",
    "                \n",
    "    tmp = np.zeros((cy,cx),np.float32)\n",
    "    tmp2 = np.zeros((cy,cx),np.float32)\n",
    "    tmp = q0\n",
    "    q0 = q3\n",
    "    q3 = tmp\n",
    "    \n",
    "    tmp2 = q1\n",
    "    q1 = q2\n",
    "    q2 = tmp2\n",
    "    \n",
    "#     inv_dft = np.zeros_like(mag)\n",
    "#     inv_dft_cvt = np.zeros_like(mag)\n",
    "    \n",
    "    inv_dft = cv2.idft(mag)\n",
    "    inv_dft_cvt = cv2.convertScaleAbs(inv_dft)\n",
    "    return inv_dft_cvt"
   ]
  },
  {
   "cell_type": "code",
   "execution_count": 43,
   "metadata": {},
   "outputs": [
    {
     "name": "stdout",
     "output_type": "stream",
     "text": [
      "<class 'numpy.ndarray'>\n",
      "(480, 640, 2)\n"
     ]
    },
    {
     "data": {
      "text/plain": [
       "<matplotlib.image.AxesImage at 0x2a6193c4b38>"
      ]
     },
     "execution_count": 43,
     "metadata": {},
     "output_type": "execute_result"
    },
    {
     "data": {
      "image/png": "[encoded data removed]",
      "text/plain": [
       "<Figure size 432x288 with 1 Axes>"
      ]
     },
     "metadata": {},
     "output_type": "display_data"
    }
   ],
   "source": [
    "result = ideal_low_pass_filter(gray)\n",
    "channels = cv2.split(result)\n",
    "print(type(result))\n",
    "print(result.shape)\n",
    "plt.imshow(channels[1],cmap='gray')"
   ]
  },
  {
   "cell_type": "code",
   "execution_count": null,
   "metadata": {},
   "outputs": [],
   "source": []
  }
 ],
 "metadata": {
  "kernelspec": {
   "display_name": "Python 3",
   "language": "python",
   "name": "python3"
  },
  "language_info": {
   "codemirror_mode": {
    "name": "ipython",
    "version": 3
   },
   "file_extension": ".py",
   "mimetype": "text/x-python",
   "name": "python",
   "nbconvert_exporter": "python",
   "pygments_lexer": "ipython3",
   "version": "3.6.4"
  }
 },
 "nbformat": 4,
 "nbformat_minor": 2
}
