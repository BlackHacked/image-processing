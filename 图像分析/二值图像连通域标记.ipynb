{
 "cells": [
  {
   "cell_type": "markdown",
   "metadata": {},
   "source": [
    "# 二值图像连通域标记"
   ]
  },
  {
   "cell_type": "code",
   "execution_count": 70,
   "metadata": {},
   "outputs": [],
   "source": [
    "%matplotlib inline\n",
    "import matplotlib.pyplot as plt\n",
    "import numpy as np\n",
    "import skimage as ski\n",
    "import skimage.io as skio\n",
    "import skimage.color as skcolor"
   ]
  },
  {
   "cell_type": "code",
   "execution_count": 90,
   "metadata": {},
   "outputs": [],
   "source": [
    "src = skio.imread('../datas/f4.jpg')\n",
    "gray = skcolor.rgb2gray(src) * 255\n",
    "# _,binary = cv2.threshold(gray,120,255,cv2.THRESH_BINARY)\n",
    "binary = np.zeros_like(gray)\n",
    "idx = (gray > 160) & (gray <= 255)\n",
    "binary[idx] = 255\n",
    "binary = np.uint8(binary)\n",
    "# binary = np.clip(binary,0,255)\n",
    "# binary = np.uint8(binary)"
   ]
  },
  {
   "cell_type": "code",
   "execution_count": 138,
   "metadata": {},
   "outputs": [],
   "source": [
    "def bwlabel(src):\n",
    "    rows,cols = src.shape[0],src.shape[1]\n",
    "#     print(rows,cols,src.dtype)\n",
    "    imgclone = np.zeros((rows + 1,cols+1),dtype=src.dtype)\n",
    "    imgclone[1:rows+1,1:cols+1] = src\n",
    "#     print(imgclone.shape)\n",
    "    imglabeled = np.zeros_like(imgclone)\n",
    "    _,contours, hierarchy = cv2.findContours(imgclone,cv2.RETR_TREE,cv2.CHAIN_APPROX_SIMPLE)\n",
    "#     print(len(contours),len(hierarchy))\n",
    "    contours_label = np.zeros(len(contours))\n",
    "    num_label = 1\n",
    "    # 标记外围轮廓\n",
    "    for i in range(len(contours)):\n",
    "        # 有Parent轮廓\n",
    "        print(len(hierarchy[i]))\n",
    "        if (hierarchy[i][3] >= 0).all():\n",
    "            continue\n",
    "        for k in range(len(contours[i])):\n",
    "#             coord = np.array(contours[i][k])\n",
    "#             print(coord.shape)\n",
    "#             print(contours[i][k][0][1])\n",
    "            imglabeled[contours[i][k][0][1],contours[i][k][0][0]] = num_label\n",
    "        num_label += 1\n",
    "        contours_label[i] = num_label\n",
    "    # 标记内轮廓\n",
    "    for i in range(len(contours)):\n",
    "        if (hierarchy[i][3] < 0).all():\n",
    "            continue\n",
    "        for k in range(len(contours[i])):\n",
    "#             coord = np.array(contours[i][k])\n",
    "#             print(coord.shape)\n",
    "            imglabeled[contours[i][k][0][1],contours[i][k][0][0]] = contours_label[hierarchy[i][3]]\n",
    "    # 非轮廓像素的标记\n",
    "    for i in range(0,rows+1):\n",
    "        for j in range(1,cols+1):\n",
    "            if imgclone[i,j] != 0 and imglabeled[i,j] == 0:\n",
    "                imglabeled[i,j] = imglabeled[i,j-1]\n",
    "    return imglabeled"
   ]
  },
  {
   "cell_type": "code",
   "execution_count": 139,
   "metadata": {},
   "outputs": [
    {
     "name": "stdout",
     "output_type": "stream",
     "text": [
      "605\n"
     ]
    },
    {
     "ename": "IndexError",
     "evalue": "index 1 is out of bounds for axis 0 with size 1",
     "output_type": "error",
     "traceback": [
      "\u001b[1;31m---------------------------------------------------------------------------\u001b[0m",
      "\u001b[1;31mIndexError\u001b[0m                                Traceback (most recent call last)",
      "\u001b[1;32m<ipython-input-139-7e4eb1adc68c>\u001b[0m in \u001b[0;36m<module>\u001b[1;34m()\u001b[0m\n\u001b[1;32m----> 1\u001b[1;33m \u001b[0mimglabeled\u001b[0m \u001b[1;33m=\u001b[0m \u001b[0mbwlabel\u001b[0m\u001b[1;33m(\u001b[0m\u001b[0mbinary\u001b[0m\u001b[1;33m)\u001b[0m\u001b[1;33m\u001b[0m\u001b[0m\n\u001b[0m",
      "\u001b[1;32m<ipython-input-138-209224de6b8e>\u001b[0m in \u001b[0;36mbwlabel\u001b[1;34m(src)\u001b[0m\n\u001b[0;32m     13\u001b[0m     \u001b[1;32mfor\u001b[0m \u001b[0mi\u001b[0m \u001b[1;32min\u001b[0m \u001b[0mrange\u001b[0m\u001b[1;33m(\u001b[0m\u001b[0mlen\u001b[0m\u001b[1;33m(\u001b[0m\u001b[0mcontours\u001b[0m\u001b[1;33m)\u001b[0m\u001b[1;33m)\u001b[0m\u001b[1;33m:\u001b[0m\u001b[1;33m\u001b[0m\u001b[0m\n\u001b[0;32m     14\u001b[0m         \u001b[1;31m# 有Parent轮廓\u001b[0m\u001b[1;33m\u001b[0m\u001b[1;33m\u001b[0m\u001b[0m\n\u001b[1;32m---> 15\u001b[1;33m         \u001b[0mprint\u001b[0m\u001b[1;33m(\u001b[0m\u001b[0mlen\u001b[0m\u001b[1;33m(\u001b[0m\u001b[0mhierarchy\u001b[0m\u001b[1;33m[\u001b[0m\u001b[0mi\u001b[0m\u001b[1;33m]\u001b[0m\u001b[1;33m)\u001b[0m\u001b[1;33m)\u001b[0m\u001b[1;33m\u001b[0m\u001b[0m\n\u001b[0m\u001b[0;32m     16\u001b[0m         \u001b[1;32mif\u001b[0m \u001b[1;33m(\u001b[0m\u001b[0mhierarchy\u001b[0m\u001b[1;33m[\u001b[0m\u001b[0mi\u001b[0m\u001b[1;33m]\u001b[0m\u001b[1;33m[\u001b[0m\u001b[1;36m3\u001b[0m\u001b[1;33m]\u001b[0m \u001b[1;33m>=\u001b[0m \u001b[1;36m0\u001b[0m\u001b[1;33m)\u001b[0m\u001b[1;33m.\u001b[0m\u001b[0mall\u001b[0m\u001b[1;33m(\u001b[0m\u001b[1;33m)\u001b[0m\u001b[1;33m:\u001b[0m\u001b[1;33m\u001b[0m\u001b[0m\n\u001b[0;32m     17\u001b[0m             \u001b[1;32mcontinue\u001b[0m\u001b[1;33m\u001b[0m\u001b[0m\n",
      "\u001b[1;31mIndexError\u001b[0m: index 1 is out of bounds for axis 0 with size 1"
     ]
    }
   ],
   "source": [
    "imglabeled = bwlabel(binary)"
   ]
  },
  {
   "cell_type": "code",
   "execution_count": 91,
   "metadata": {},
   "outputs": [
    {
     "data": {
      "text/plain": [
       "<matplotlib.image.AxesImage at 0x9231080>"
      ]
     },
     "execution_count": 91,
     "metadata": {},
     "output_type": "execute_result"
    },
    {
     "data": {
      "image/png": "[encoded data removed]",
      "text/plain": [
       "<matplotlib.figure.Figure at 0x6b59ac8>"
      ]
     },
     "metadata": {},
     "output_type": "display_data"
    }
   ],
   "source": [
    "plt.figure()\n",
    "plt.imshow(binary,'gray')\n",
    "# plt.figure()\n",
    "# plt.imshow(imglabeled,'gray')"
   ]
  },
  {
   "cell_type": "code",
   "execution_count": 92,
   "metadata": {},
   "outputs": [
    {
     "name": "stdout",
     "output_type": "stream",
     "text": [
      "[[107.148  107.148  107.148  ...  95.1348  96.279   97.5598]\n",
      " [112.148  111.0759 110.148  ...  95.1348  96.1348  97.1348]\n",
      " [112.148  111.148  111.0759 ...  96.279   96.279   98.1348]\n",
      " ...\n",
      " [ 72.      74.      75.     ... 112.2261 114.0857 113.2299]\n",
      " [ 72.      74.      77.     ... 113.2982 114.2299 113.2299]\n",
      " [ 84.      84.      83.     ... 111.727  112.2299 108.3741]]\n"
     ]
    }
   ],
   "source": [
    "print(gray)"
   ]
  },
  {
   "cell_type": "code",
   "execution_count": null,
   "metadata": {},
   "outputs": [],
   "source": [
    "http://www.cnblogs.com/ronny/p/img_aly_01.html"
   ]
  },
  {
   "cell_type": "code",
   "execution_count": null,
   "metadata": {},
   "outputs": [],
   "source": []
  }
 ],
 "metadata": {
  "kernelspec": {
   "display_name": "Python 3",
   "language": "python",
   "name": "python3"
  },
  "language_info": {
   "codemirror_mode": {
    "name": "ipython",
    "version": 3
   },
   "file_extension": ".py",
   "mimetype": "text/x-python",
   "name": "python",
   "nbconvert_exporter": "python",
   "pygments_lexer": "ipython3",
   "version": "3.6.3"
  }
 },
 "nbformat": 4,
 "nbformat_minor": 2
}
