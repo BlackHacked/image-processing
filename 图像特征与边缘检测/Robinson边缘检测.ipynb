{
 "cells": [
  {
   "cell_type": "markdown",
   "metadata": {},
   "source": [
    "# Robinson边缘检测"
   ]
  },
  {
   "cell_type": "code",
   "execution_count": 1,
   "metadata": {},
   "outputs": [],
   "source": [
    "%matplotlib inline\n",
    "import matplotlib.pyplot as plt\n",
    "import cv2\n",
    "import numpy as np\n",
    "import skimage\n",
    "import skimage.io\n",
    "import imageio"
   ]
  },
  {
   "cell_type": "code",
   "execution_count": 2,
   "metadata": {},
   "outputs": [],
   "source": [
    "src = imageio.imread('../datas/f4.jpg')\n",
    "gray = cv2.cvtColor(src,cv2.COLOR_RGB2GRAY)"
   ]
  },
  {
   "cell_type": "code",
   "execution_count": 9,
   "metadata": {},
   "outputs": [],
   "source": [
    "def robinson_edge(src):\n",
    "    gray = src\n",
    "    if len(src.shape) > 2:\n",
    "        gray = cv2.cvtColor(src,cv2.COLOR_RGB2GRAY)\n",
    "    g1 = np.array([[1,  2,  1 ],[0, 0 , 0 ],[ -1, -2 ,-1]])#N\n",
    "    g2 = np.array([[2,  1,  0 ],[1 ,0 ,-1  ],[   0, -1 ,-2]])# NE\n",
    "    g3 = np.array([[1,  0, -1 ],[ 2, 0, -2  ],[   1,  0 ,-1]])# E\n",
    "    g4 = np.array([[0, -1, -2 ],[  1, 0, -1  ],[   2,  1,  0]])# SE\n",
    "    g5 = np.array([[-1, -2,-1],[  0 ,0 , 0  ],[1,  2,  1]])# S\n",
    "    g6 = np.array([[-2, -1,  0 ],[ -1, 0 , 1  ],[   0,  1 , 2]])# SW\n",
    "    g7 = np.array([[-1,  0,  1 ] ,[-2 ,0 , 2  ],[  -1,  0 , 1]])# W\n",
    "    g8 = np.array([[ 0,  1,  2 ],[ -1 ,0 , 1  ],[  -2, -1 , 0]])# NW\n",
    "    \n",
    "    kernels = [g1,g2,g3,g4,g5,g6,g7,g8]\n",
    "    res = np.zeros_like(gray)\n",
    "    index = np.zeros_like(gray)\n",
    "    for i,kernel in enumerate(kernels):\n",
    "        img = cv2.filter2D(gray,-1,kernel)\n",
    "        idx = (img > gray)\n",
    "        res[idx] = gray[idx]\n",
    "        index[idx] = 255\n",
    "    return res,index"
   ]
  },
  {
   "cell_type": "code",
   "execution_count": 10,
   "metadata": {},
   "outputs": [],
   "source": [
    "res,index = robinson_edge(gray)"
   ]
  },
  {
   "cell_type": "code",
   "execution_count": 11,
   "metadata": {},
   "outputs": [
    {
     "data": {
      "text/plain": [
       "<matplotlib.image.AxesImage at 0x18bce8301d0>"
      ]
     },
     "execution_count": 11,
     "metadata": {},
     "output_type": "execute_result"
    },
    {
     "data": {
      "image/png": "[encoded data removed]",
      "text/plain": [
       "<Figure size 432x288 with 1 Axes>"
      ]
     },
     "metadata": {},
     "output_type": "display_data"
    }
   ],
   "source": [
    "plt.imshow(res,'gray')"
   ]
  },
  {
   "cell_type": "code",
   "execution_count": 12,
   "metadata": {},
   "outputs": [
    {
     "data": {
      "text/plain": [
       "<matplotlib.image.AxesImage at 0x18bcf898320>"
      ]
     },
     "execution_count": 12,
     "metadata": {},
     "output_type": "execute_result"
    },
    {
     "data": {
      "image/png": "[encoded data removed]",
      "text/plain": [
       "<Figure size 432x288 with 1 Axes>"
      ]
     },
     "metadata": {},
     "output_type": "display_data"
    }
   ],
   "source": [
    "plt.imshow(index,'gray')"
   ]
  },
  {
   "cell_type": "code",
   "execution_count": null,
   "metadata": {},
   "outputs": [],
   "source": []
  }
 ],
 "metadata": {
  "kernelspec": {
   "display_name": "Python 3",
   "language": "python",
   "name": "python3"
  },
  "language_info": {
   "codemirror_mode": {
    "name": "ipython",
    "version": 3
   },
   "file_extension": ".py",
   "mimetype": "text/x-python",
   "name": "python",
   "nbconvert_exporter": "python",
   "pygments_lexer": "ipython3",
   "version": "3.6.4"
  }
 },
 "nbformat": 4,
 "nbformat_minor": 2
}
