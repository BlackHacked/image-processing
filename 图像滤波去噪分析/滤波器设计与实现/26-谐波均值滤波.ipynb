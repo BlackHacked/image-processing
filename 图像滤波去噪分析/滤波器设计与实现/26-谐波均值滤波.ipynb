{
 "cells": [
  {
   "cell_type": "markdown",
   "metadata": {},
   "source": [
    "# 谐波均值滤波"
   ]
  },
  {
   "cell_type": "code",
   "execution_count": 1,
   "metadata": {},
   "outputs": [],
   "source": [
    "#coding:utf-8\n",
    "%matplotlib inline\n",
    "import numpy as np\n",
    "import scipy\n",
    "from scipy.special import comb\n",
    "import matplotlib.pyplot as plt\n",
    "import cv2\n",
    "from scipy import stats\n",
    "import scipy.ndimage.filters as nd_filters\n",
    "import time\n",
    "from numpy.linalg import cholesky"
   ]
  },
  {
   "cell_type": "code",
   "execution_count": 2,
   "metadata": {},
   "outputs": [],
   "source": [
    "gray = cv2.imread('../../datas/f4.jpg',0)\n",
    "rgb = cv2.cvtColor(cv2.imread('../../datas/f4.jpg'),cv2.COLOR_BGR2RGB)\n",
    "rows,cols,ch = rgb.shape"
   ]
  },
  {
   "cell_type": "code",
   "execution_count": 3,
   "metadata": {},
   "outputs": [],
   "source": [
    "def noise_pepper(img,a):\n",
    "    m,n = img.shape[0],img.shape[1]\n",
    "    R = np.random.randn(m,n)\n",
    "    dst = np.zeros(img.shape,dtype=np.float64)\n",
    "    rgb = np.float64(img)\n",
    "#     df_R = DataFrame(R)\n",
    "    idx = R <= a\n",
    "    dst[idx] = rgb[idx]\n",
    "    return dst"
   ]
  },
  {
   "cell_type": "code",
   "execution_count": 4,
   "metadata": {},
   "outputs": [],
   "source": [
    "def noise_gaussian(M,N,a = 0,b=1):\n",
    "    R = a + b * np.random.randn(M,N)\n",
    "    return R"
   ]
  },
  {
   "cell_type": "code",
   "execution_count": 5,
   "metadata": {},
   "outputs": [],
   "source": [
    "src_noise_pepper = noise_pepper(gray,0.01)\n",
    "noise = noise_gaussian(rows,cols,a=0,b=0.1)\n",
    "src_noise_gray = gray.astype(np.float32) + noise * 255\n",
    "src_noise_gray[src_noise_gray < 0] = 0\n",
    "src_noise_gray[src_noise_gray > 255] = 255\n",
    "src_noise_gray = src_noise_gray.astype(np.uint8)"
   ]
  },
  {
   "cell_type": "code",
   "execution_count": 6,
   "metadata": {},
   "outputs": [],
   "source": [
    "def filter2d(input_img, filter):\n",
    "    \"\"\"Apply a 2-d filter to a 2-d image.\"\"\"\n",
    "    M, N = input_img.shape  # M is height, N is width\n",
    "    n, m = len(filter), len(filter[0])  # m is height, n is width\n",
    "    a, b = m // 2, n // 2  # size of neighborhood\n",
    "\n",
    "    # get transpose of the 1-d filter\n",
    "    if isinstance(filter, np.ndarray):\n",
    "        wt = filter.ravel()\n",
    "    else:\n",
    "        wt = np.array(filter).ravel()\n",
    "\n",
    "    def correlate(x, y):\n",
    "        # z = np.zeros(n * m)  # pad with zeros\n",
    "        z = np.full(n * m, input_img[x, y])  # pad with border duplicates\n",
    "        # fill in available neighborhood\n",
    "        for i in range(x - a, x + a + 1):\n",
    "            for j in range(y - b, y + b + 1):\n",
    "                if i >= 0 and i < M and j >= 0 and j < N:\n",
    "                    z[(i - x + a) * n + j - y + b] = input_img[i, j]\n",
    "        return np.dot(wt, z)\n",
    "\n",
    "    # apply to each pixel\n",
    "    xx, yy = np.meshgrid(np.arange(M), np.arange(N), indexing='ij')\n",
    "    vf = np.vectorize(correlate)\n",
    "    return vf(xx, yy)"
   ]
  },
  {
   "cell_type": "code",
   "execution_count": 7,
   "metadata": {},
   "outputs": [],
   "source": [
    "def arithmetic_mean(img, size):\n",
    "    \"\"\"Smooth the given image with arithmetic mean filter of given size.\"\"\"\n",
    "    m, n = size\n",
    "    kernel = np.full((m, n), float(1) / (m * n))  # denominator\n",
    "    return filter2d(img, kernel)"
   ]
  },
  {
   "cell_type": "code",
   "execution_count": 8,
   "metadata": {},
   "outputs": [],
   "source": [
    "def harmonymean_filter(x,n):\n",
    "    eps = 1.0e-5\n",
    "    x_f = x.astype(np.float32)/255\n",
    "    dst = n * n / cv2.filter2D(1.0 /(x_f + eps),-1,np.ones((n,n)) / (n * n))\n",
    "#     print(dst)\n",
    "    #dst = (x_f - dst) * 255\n",
    "#     dst = dst * 255\n",
    "#     dst[dst < 0] = 0\n",
    "#     dst[dst > 255] = 255\n",
    "#     dst = dst.astype(np.uint8)\n",
    "    return dst\n",
    "#     x_f = x.astype(np.float32)+eps\n",
    "#     inverse = np.reciprocal(x_f)\n",
    "#     result = np.reciprocal(arithmetic_mean(inverse,(3,3)))\n",
    "# #     print(result)\n",
    "#     result = result.astype(np.uint8)\n",
    "#     return result"
   ]
  },
  {
   "cell_type": "code",
   "execution_count": 9,
   "metadata": {},
   "outputs": [],
   "source": [
    "dst = harmonymean_filter(src_noise_pepper,3)"
   ]
  },
  {
   "cell_type": "code",
   "execution_count": 10,
   "metadata": {},
   "outputs": [
    {
     "data": {
      "text/plain": [
       "<matplotlib.image.AxesImage at 0x171b38079b0>"
      ]
     },
     "execution_count": 10,
     "metadata": {},
     "output_type": "execute_result"
    },
    {
     "data": {
      "image/png": "[encoded data removed]",
      "text/plain": [
       "<Figure size 432x288 with 1 Axes>"
      ]
     },
     "metadata": {},
     "output_type": "display_data"
    }
   ],
   "source": [
    "plt.imshow(dst,'gray')"
   ]
  },
  {
   "cell_type": "code",
   "execution_count": 11,
   "metadata": {},
   "outputs": [],
   "source": [
    "import sys\n",
    "def harmonicMeanFilter(im,n,m):\n",
    "    [height,weight] = np.shape(im)\n",
    "    newIm = np.zeros([height,weight])\n",
    "    for i in range(height):\n",
    "        for j in range(weight):\n",
    "            count = 0\n",
    "            sum = 0\n",
    "            for k in range(n):\n",
    "                for l in range(m):\n",
    "                    posi, posj = i + k - n // 2, j + l - m // 2\n",
    "                    if posi < 0 or posi >= height or \\\n",
    "                                    posj < 0 or posj >= weight:\n",
    "                        continue\n",
    "                    count += 1\n",
    "                    #防止除零\n",
    "                    sum += 1. / (im[posi,posj]+sys.float_info.epsilon)\n",
    "            newIm[i,j] = count / sum\n",
    "    newIm[newIm>255] =255\n",
    "    newIm[newIm<0] = 0\n",
    "    return newIm"
   ]
  },
  {
   "cell_type": "code",
   "execution_count": 12,
   "metadata": {},
   "outputs": [],
   "source": [
    "dst_hm = harmonicMeanFilter(src_noise_pepper,3,3)"
   ]
  },
  {
   "cell_type": "code",
   "execution_count": 13,
   "metadata": {},
   "outputs": [],
   "source": [
    "def counter_harmonic(src,ksize,Q):\n",
    "    dst = np.zeros_like(src).astype(np.float32)\n",
    "    src_f = src.astype(np.float32)\n",
    "    val = 0.0\n",
    "    rows,cols = src.shape[0],src.shape[1]\n",
    "    center = ksize//2\n",
    "    for i in range(center,rows - center):\n",
    "        for j in range(center,cols - center):\n",
    "            a = 0\n",
    "            b = 0\n",
    "            for k in range(-center,center + i):\n",
    "                for w in range(-center,center+j):\n",
    "                    val = src_f[k,w]\n",
    "                    a += val ** (1.0 + Q)\n",
    "                    b += val ** Q\n",
    "            dst[i - center,j-center] = a / b\n",
    "            \n",
    "    return dst"
   ]
  },
  {
   "cell_type": "code",
   "execution_count": null,
   "metadata": {},
   "outputs": [],
   "source": [
    "dst_ch = counter_harmonic(src_noise_gray,3,0.5)"
   ]
  },
  {
   "cell_type": "code",
   "execution_count": null,
   "metadata": {},
   "outputs": [],
   "source": [
    "plt.imshow(dst_ch,'gray')"
   ]
  }
 ],
 "metadata": {
  "kernelspec": {
   "display_name": "Python 3",
   "language": "python",
   "name": "python3"
  },
  "language_info": {
   "codemirror_mode": {
    "name": "ipython",
    "version": 3
   },
   "file_extension": ".py",
   "mimetype": "text/x-python",
   "name": "python",
   "nbconvert_exporter": "python",
   "pygments_lexer": "ipython3",
   "version": "3.6.4"
  }
 },
 "nbformat": 4,
 "nbformat_minor": 2
}
