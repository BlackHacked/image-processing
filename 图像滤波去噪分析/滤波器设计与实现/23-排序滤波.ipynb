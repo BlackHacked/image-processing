{
 "cells": [
  {
   "cell_type": "markdown",
   "metadata": {},
   "source": [
    "# 排序滤波"
   ]
  },
  {
   "cell_type": "code",
   "execution_count": 27,
   "metadata": {},
   "outputs": [],
   "source": [
    "#coding:utf-8\n",
    "%matplotlib inline\n",
    "import numpy as np\n",
    "import scipy\n",
    "from scipy.special import comb\n",
    "import matplotlib.pyplot as plt\n",
    "import cv2\n",
    "from scipy import stats\n",
    "import scipy.ndimage.filters as nd_filters\n",
    "import time"
   ]
  },
  {
   "cell_type": "code",
   "execution_count": 28,
   "metadata": {},
   "outputs": [],
   "source": [
    "gray = cv2.imread('../../datas/f4.jpg',0)\n",
    "rgb = cv2.cvtColor(cv2.imread('../../datas/f4.jpg'),cv2.COLOR_BGR2RGB)\n",
    "rows,cols,ch = rgb.shape"
   ]
  },
  {
   "cell_type": "code",
   "execution_count": 29,
   "metadata": {},
   "outputs": [],
   "source": [
    "def noise_gaussian(M,N,a = 0,b=1):\n",
    "    R = a + b * np.random.randn(M,N)\n",
    "    return R"
   ]
  },
  {
   "cell_type": "code",
   "execution_count": 30,
   "metadata": {},
   "outputs": [],
   "source": [
    "noise = noise_gaussian(rows,cols,a=0,b=0.1)\n",
    "src_noise_gray = gray.astype(np.float32) + noise * 255\n",
    "src_noise_gray[src_noise_gray < 0] = 0\n",
    "src_noise_gray[src_noise_gray > 255] = 255\n",
    "src_noise_gray = src_noise_gray.astype(np.uint8)"
   ]
  },
  {
   "cell_type": "code",
   "execution_count": 31,
   "metadata": {},
   "outputs": [],
   "source": [
    "def add_syn_border(u,padsize,Xind,Yind):\n",
    "    # add_border of width 5 to get an output image of size [256,256] \n",
    "\n",
    "    m, n = Xind.shape\n",
    "    p1, p2 = padsize\n",
    "\n",
    "    v = zeros((m, n))\n",
    "    v[p1 : m-p1, p2 : n-p2] = u\n",
    "    for i in r_[xrange(p1), xrange(m-p1, m)]:\n",
    "        for j in xrange(n):\n",
    "            v[i, j] = v[Xind[i, j],Yind[i, j]]\n",
    "    for i in xrange(p1, m-p1):\n",
    "        for j in r_[xrange(p2), xrange(n-p2, n)]:\n",
    "            v[i, j] = v[Xind[i, j],Yind[i, j]]\n",
    "    return v"
   ]
  },
  {
   "cell_type": "code",
   "execution_count": 32,
   "metadata": {},
   "outputs": [],
   "source": [
    "def padarray(A, padsize, method='zero', direction='both',\n",
    "      Xind=None, Yind=None):\n",
    "    \"\"\"\n",
    "    pads array A using the specified method and direction. \n",
    "    method can be one of these strings: \n",
    "       'zero'           Pads with zeros\n",
    "       'perodic'        Pads with circular repetitiion of elements\n",
    "       'symmetric'      Pads array with mirror reflections of itself \n",
    "       'antisymmetric'  Pads array with point reflections of itself \n",
    "       'synthteic'      Pads array with synthetic boundary conditions\n",
    "    direction can be one of the following strings.  \n",
    "       'pre'            Pads before the first array element along each\n",
    "                        dimension .\n",
    "       'post'           Pads after the last array element along each\n",
    "                        dimension. \n",
    "       'both'           Pads before the first array element and after the\n",
    "                        last array element\n",
    "    Example:\n",
    "    >>> from numpy import arange\n",
    "    >>> from padarray import padarray\n",
    "    >>> n = 5\n",
    "    >>> A = arange(n ** 2)\n",
    "    >>> A.shape = (n, n)\n",
    "    >>> padsize = (2,3)\n",
    "    >>> B = padarray(A,padsize,'periodic','both')\n",
    "    >>> B\n",
    "    array([[17, 18, 19, 15, 16, 17, 18, 19, 15, 16, 17],\n",
    "           [22, 23, 24, 20, 21, 22, 23, 24, 20, 21, 22],\n",
    "           [ 2,  3,  4,  0,  1,  2,  3,  4,  0,  1,  2],\n",
    "           [ 7,  8,  9,  5,  6,  7,  8,  9,  5,  6,  7],\n",
    "           [12, 13, 14, 10, 11, 12, 13, 14, 10, 11, 12],\n",
    "           [17, 18, 19, 15, 16, 17, 18, 19, 15, 16, 17],\n",
    "           [22, 23, 24, 20, 21, 22, 23, 24, 20, 21, 22],\n",
    "           [ 2,  3,  4,  0,  1,  2,  3,  4,  0,  1,  2],\n",
    "           [ 7,  8,  9,  5,  6,  7,  8,  9,  5,  6,  7]])\n",
    "    \"\"\"\n",
    "\n",
    "    a0, a1 = A.shape\n",
    "    p0, p1 = padsize\n",
    "\n",
    "    if method == 'zero':\n",
    "        if direction == 'pre':\n",
    "            B = np.zeros((a0 + p0, a1 + p1))\n",
    "            B[p0 : p0 + a0, p1 : p1 + a1] = A          \n",
    "        elif direction == 'post':\n",
    "            B = np.zeros((a0 + p0, a1 + p1))\n",
    "            B[0 : a0, 0 : a1] = A          \n",
    "        elif direction == 'both':\n",
    "            B = np.zeros((a0 + 2*p0, a1 + 2*p1))\n",
    "            B[p0 : p0 + a0, p1 : p1 + a1] = A          \n",
    "\n",
    "    elif method == 'periodic':\n",
    "        if direction == 'pre':\n",
    "            B = A[ix_(range(-p0, a0), range(-p1, a1))]\n",
    "        elif direction == 'post':\n",
    "            B = A[ix_(mod(range(0,a0 + p0), a0), mod(range(0,a1 + p1), a1))]\n",
    "        elif direction == 'both':\n",
    "            B = A[ix_(mod(range(-p0,a0+p0), a0), mod(range(-p1,a1+p1), a1))]\n",
    "\n",
    "    elif method == 'reflexive':\n",
    "        if direction == 'pre':\n",
    "            B = A[ix_(range(p0-1, -1, -1) + range(0, a0),\n",
    "                      range(p1-1, -1, -1) + range(0, a1))]\n",
    "        elif direction == 'post':\n",
    "            B = A[ix_(range(0, a0) + range(a0-1, a0-p0-1, -1),\n",
    "                      range(0, a1) + range(a1-1, a1-p1-1, -1))]\n",
    "        elif direction == 'both':\n",
    "            B = A[ix_(range(p0-1,-1,-1)+range(0,a0)+range(a0-1,a0-p0-1,-1),\n",
    "                      range(p1-1,-1,-1)+range(0,a1)+range(a1-1,a1-p1-1,-1))]\n",
    "    \n",
    "    elif method == 'antireflexive':\n",
    "        if direction == 'pre':\n",
    "            B0 = A[ix_([0]*p0 + range(0, a0),\n",
    "                       [0]*p1 + range(0, a1))]\n",
    "            B1 = A[ix_(range(p0, 0, -1) + range(0, a0),\n",
    "                       range(p1, 0, -1) + range(0, a1))]\n",
    "        elif direction == 'post':\n",
    "            B0 = A[ix_(range(0, a0) + [a0-1]*p0,\n",
    "                       range(0, a1) + [a1-1]*p1)]\n",
    "            B1 = A[ix_(range(0, a0) + range(a0-2, a0-p0-2, -1),\n",
    "                       range(0, a1) + range(a1-2, a1-p1-2, -1))]\n",
    "        elif direction == 'both':\n",
    "            B0 = A[ix_([0]*p0 + range(0, a0) + [a0-1]*p0,\n",
    "                       [0]*p1 + range(0, a1) + [a1-1]*p1)]\n",
    "            B1 = A[ix_(range(p0,0,-1)+range(0,a0)+range(a0-2,a0-p0-2,-1),\n",
    "                       range(p1,0,-1)+range(0,a1)+range(a1-2,a1-p1-2,-1))]\n",
    "        B = 2 * B0 - B1\n",
    "    elif method == 'synthetic':\n",
    "        B = add_syn_border(A, padsize, Xind, Yind)\n",
    "    return B "
   ]
  },
  {
   "cell_type": "code",
   "execution_count": 33,
   "metadata": {},
   "outputs": [],
   "source": [
    "def order_filter(img,m = 3):\n",
    "    n = (m - 1) // 2\n",
    "    M,N = img.shape[0],img.shape[1]\n",
    "    tempPic = np.zeros((M + n * 2,N + n * 2),dtype = img.dtype)\n",
    "    min_pic = np.zeros_like(img)\n",
    "    mid_pic = np.zeros_like(img)\n",
    "    max_pic = np.zeros_like(img)\n",
    "    sroted_pic = np.zeros((m*m,))\n",
    "    \n",
    "    for i in range(n+1,M+n):\n",
    "        for j in range(n+1,N + n):\n",
    "            tempMatrix = img[(i-n):(i+n),(j-n):(j+n)].tolist()\n",
    "            sorted_pic = np.sort(tempMatrix)\n",
    "            min_pic[(i-n):(i+n),(j-n):(j+n)] = sorted_pic[0]\n",
    "            max_pic[(i-n):(i+n),(j-n):(j+n)] = sorted_pic[-1]\n",
    "            mid_pic[(i-n):(i+n),(j-n):(j+n)] = sorted_pic[(m*m+1) // 2]\n",
    "            \n",
    "    return min_pic,mid_pic,max_pic"
   ]
  },
  {
   "cell_type": "code",
   "execution_count": 34,
   "metadata": {},
   "outputs": [
    {
     "ename": "IndexError",
     "evalue": "index 5 is out of bounds for axis 0 with size 2",
     "output_type": "error",
     "traceback": [
      "\u001b[1;31m---------------------------------------------------------------------------\u001b[0m",
      "\u001b[1;31mIndexError\u001b[0m                                Traceback (most recent call last)",
      "\u001b[1;32m<ipython-input-34-b16db5521432>\u001b[0m in \u001b[0;36m<module>\u001b[1;34m()\u001b[0m\n\u001b[1;32m----> 1\u001b[1;33m \u001b[0mmin_pic\u001b[0m\u001b[1;33m,\u001b[0m\u001b[0mmid_pic\u001b[0m\u001b[1;33m,\u001b[0m\u001b[0mmax_pic\u001b[0m \u001b[1;33m=\u001b[0m \u001b[0morder_filter\u001b[0m\u001b[1;33m(\u001b[0m\u001b[0mgray\u001b[0m\u001b[1;33m)\u001b[0m\u001b[1;33m\u001b[0m\u001b[0m\n\u001b[0m",
      "\u001b[1;32m<ipython-input-33-d08f6078abe6>\u001b[0m in \u001b[0;36morder_filter\u001b[1;34m(img, m)\u001b[0m\n\u001b[0;32m     14\u001b[0m             \u001b[0mmin_pic\u001b[0m\u001b[1;33m[\u001b[0m\u001b[1;33m(\u001b[0m\u001b[0mi\u001b[0m\u001b[1;33m-\u001b[0m\u001b[0mn\u001b[0m\u001b[1;33m)\u001b[0m\u001b[1;33m:\u001b[0m\u001b[1;33m(\u001b[0m\u001b[0mi\u001b[0m\u001b[1;33m+\u001b[0m\u001b[0mn\u001b[0m\u001b[1;33m)\u001b[0m\u001b[1;33m,\u001b[0m\u001b[1;33m(\u001b[0m\u001b[0mj\u001b[0m\u001b[1;33m-\u001b[0m\u001b[0mn\u001b[0m\u001b[1;33m)\u001b[0m\u001b[1;33m:\u001b[0m\u001b[1;33m(\u001b[0m\u001b[0mj\u001b[0m\u001b[1;33m+\u001b[0m\u001b[0mn\u001b[0m\u001b[1;33m)\u001b[0m\u001b[1;33m]\u001b[0m \u001b[1;33m=\u001b[0m \u001b[0msorted_pic\u001b[0m\u001b[1;33m[\u001b[0m\u001b[1;36m0\u001b[0m\u001b[1;33m]\u001b[0m\u001b[1;33m\u001b[0m\u001b[0m\n\u001b[0;32m     15\u001b[0m             \u001b[0mmax_pic\u001b[0m\u001b[1;33m[\u001b[0m\u001b[1;33m(\u001b[0m\u001b[0mi\u001b[0m\u001b[1;33m-\u001b[0m\u001b[0mn\u001b[0m\u001b[1;33m)\u001b[0m\u001b[1;33m:\u001b[0m\u001b[1;33m(\u001b[0m\u001b[0mi\u001b[0m\u001b[1;33m+\u001b[0m\u001b[0mn\u001b[0m\u001b[1;33m)\u001b[0m\u001b[1;33m,\u001b[0m\u001b[1;33m(\u001b[0m\u001b[0mj\u001b[0m\u001b[1;33m-\u001b[0m\u001b[0mn\u001b[0m\u001b[1;33m)\u001b[0m\u001b[1;33m:\u001b[0m\u001b[1;33m(\u001b[0m\u001b[0mj\u001b[0m\u001b[1;33m+\u001b[0m\u001b[0mn\u001b[0m\u001b[1;33m)\u001b[0m\u001b[1;33m]\u001b[0m \u001b[1;33m=\u001b[0m \u001b[0msorted_pic\u001b[0m\u001b[1;33m[\u001b[0m\u001b[1;33m-\u001b[0m\u001b[1;36m1\u001b[0m\u001b[1;33m]\u001b[0m\u001b[1;33m\u001b[0m\u001b[0m\n\u001b[1;32m---> 16\u001b[1;33m             \u001b[0mmid_pic\u001b[0m\u001b[1;33m[\u001b[0m\u001b[1;33m(\u001b[0m\u001b[0mi\u001b[0m\u001b[1;33m-\u001b[0m\u001b[0mn\u001b[0m\u001b[1;33m)\u001b[0m\u001b[1;33m:\u001b[0m\u001b[1;33m(\u001b[0m\u001b[0mi\u001b[0m\u001b[1;33m+\u001b[0m\u001b[0mn\u001b[0m\u001b[1;33m)\u001b[0m\u001b[1;33m,\u001b[0m\u001b[1;33m(\u001b[0m\u001b[0mj\u001b[0m\u001b[1;33m-\u001b[0m\u001b[0mn\u001b[0m\u001b[1;33m)\u001b[0m\u001b[1;33m:\u001b[0m\u001b[1;33m(\u001b[0m\u001b[0mj\u001b[0m\u001b[1;33m+\u001b[0m\u001b[0mn\u001b[0m\u001b[1;33m)\u001b[0m\u001b[1;33m]\u001b[0m \u001b[1;33m=\u001b[0m \u001b[0msorted_pic\u001b[0m\u001b[1;33m[\u001b[0m\u001b[1;33m(\u001b[0m\u001b[0mm\u001b[0m\u001b[1;33m*\u001b[0m\u001b[0mm\u001b[0m\u001b[1;33m+\u001b[0m\u001b[1;36m1\u001b[0m\u001b[1;33m)\u001b[0m \u001b[1;33m//\u001b[0m \u001b[1;36m2\u001b[0m\u001b[1;33m]\u001b[0m\u001b[1;33m\u001b[0m\u001b[0m\n\u001b[0m\u001b[0;32m     17\u001b[0m \u001b[1;33m\u001b[0m\u001b[0m\n\u001b[0;32m     18\u001b[0m     \u001b[1;32mreturn\u001b[0m \u001b[0mmin_pic\u001b[0m\u001b[1;33m,\u001b[0m\u001b[0mmid_pic\u001b[0m\u001b[1;33m,\u001b[0m\u001b[0mmax_pic\u001b[0m\u001b[1;33m\u001b[0m\u001b[0m\n",
      "\u001b[1;31mIndexError\u001b[0m: index 5 is out of bounds for axis 0 with size 2"
     ]
    }
   ],
   "source": [
    "min_pic,mid_pic,max_pic = order_filter(gray)"
   ]
  },
  {
   "cell_type": "code",
   "execution_count": null,
   "metadata": {},
   "outputs": [],
   "source": []
  }
 ],
 "metadata": {
  "kernelspec": {
   "display_name": "Python 3",
   "language": "python",
   "name": "python3"
  },
  "language_info": {
   "codemirror_mode": {
    "name": "ipython",
    "version": 3
   },
   "file_extension": ".py",
   "mimetype": "text/x-python",
   "name": "python",
   "nbconvert_exporter": "python",
   "pygments_lexer": "ipython3",
   "version": "3.6.4"
  }
 },
 "nbformat": 4,
 "nbformat_minor": 2
}
