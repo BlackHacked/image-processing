{
 "cells": [
  {
   "cell_type": "markdown",
   "metadata": {},
   "source": [
    "RGB转换成YCbCr的计算公式如下:\n",
    "![](doc_imgs/01.png)"
   ]
  },
  {
   "cell_type": "markdown",
   "metadata": {},
   "source": [
    "YCbCr转换成RGB的计算公式如下:\n",
    "![](doc_imgs/02.png)"
   ]
  },
  {
   "cell_type": "code",
   "execution_count": 5,
   "metadata": {},
   "outputs": [],
   "source": [
    "#coding:utf-8\n",
    "import numpy as np\n",
    "import cv2\n",
    "%matplotlib inline\n",
    "import matplotlib.pyplot as plt"
   ]
  },
  {
   "cell_type": "code",
   "execution_count": 6,
   "metadata": {
    "collapsed": true
   },
   "outputs": [],
   "source": [
    "src = cv2.cvtColor(cv2.imread('../datas/f2.jpg'),cv2.COLOR_BGR2RGB)\n",
    "R = src[:,:,0]\n",
    "G = src[:,:,1]\n",
    "B = src[:,:,2]"
   ]
  },
  {
   "cell_type": "code",
   "execution_count": 3,
   "metadata": {
    "collapsed": true
   },
   "outputs": [],
   "source": [
    "YCbCrYRF = 0.299      # RGB转YCbCr的系数(浮点类型）\n",
    "YCbCrYGF = 0.587\n",
    "YCbCrYBF = 0.114\n",
    "YCbCrCbRF = -0.168736\n",
    "YCbCrCbGF = -0.331264\n",
    "YCbCrCbBF = 0.500000\n",
    "YCbCrCrRF = 0.500000\n",
    "YCbCrCrGF = -0.418688\n",
    "YCbCrCrBF = -0.081312\n",
    "\n",
    "RGBRYF = 1.00000    # YCbCr转RGB的系数(浮点类型）\n",
    "RGBRCbF = 0.0000\n",
    "RGBRCrF = 1.40200\n",
    "RGBGYF = 1.00000  \n",
    "RGBGCbF = -0.34414\n",
    "RGBGCrF = -0.71414\n",
    "RGBBYF = 1.00000  \n",
    "RGBBCbF = 1.77200\n",
    "RGBBCrF = 0.00000 \n",
    "\n",
    "Shift = 20\n",
    "HalfShiftValue = 1 << (Shift - 1)\n",
    "\n",
    "YCbCrYRI = int((YCbCrYRF * (1 << Shift) + 0.5)) # RGB转YCbCr的系数(整数类型）\n",
    "YCbCrYGI = int((YCbCrYGF * (1 << Shift) + 0.5))\n",
    "YCbCrYBI = int((YCbCrYBF * (1 << Shift) + 0.5))\n",
    "YCbCrCbRI = int((YCbCrCbRF * (1 << Shift) + 0.5))\n",
    "YCbCrCbGI = int((YCbCrCbGF * (1 << Shift) + 0.5))\n",
    "YCbCrCbBI = int((YCbCrCbBF * (1 << Shift) + 0.5))\n",
    "YCbCrCrRI = int((YCbCrCrRF * (1 << Shift) + 0.5))\n",
    "YCbCrCrGI = int((YCbCrCrGF * (1 << Shift) + 0.5))\n",
    "YCbCrCrBI = int((YCbCrCrBF * (1 << Shift) + 0.5))\n",
    "\n",
    "RGBRYI = int((RGBRYF * (1 << Shift) + 0.5))      # YCbCr转RGB的系数(整数类型）\n",
    "RGBRCbI = int((RGBRCbF * (1 << Shift) + 0.5))\n",
    "RGBRCrI = int((RGBRCrF * (1 << Shift) + 0.5))\n",
    "RGBGYI = int((RGBGYF * (1 << Shift) + 0.5))\n",
    "RGBGCbI = int((RGBGCbF * (1 << Shift) + 0.5))\n",
    "RGBGCrI = int((RGBGCrF * (1 << Shift) + 0.5))\n",
    "RGBBYI = int((RGBBYF * (1 << Shift) + 0.5))\n",
    "RGBBCbI = int((RGBBCbF * (1 << Shift) + 0.5))\n",
    "RGBBCrI = int((RGBBCrF * (1 << Shift) + 0.5)) "
   ]
  }
 ],
 "metadata": {
  "kernelspec": {
   "display_name": "Python 3",
   "language": "python",
   "name": "python3"
  },
  "language_info": {
   "codemirror_mode": {
    "name": "ipython",
    "version": 3
   },
   "file_extension": ".py",
   "mimetype": "text/x-python",
   "name": "python",
   "nbconvert_exporter": "python",
   "pygments_lexer": "ipython3",
   "version": "3.6.3"
  }
 },
 "nbformat": 4,
 "nbformat_minor": 2
}
