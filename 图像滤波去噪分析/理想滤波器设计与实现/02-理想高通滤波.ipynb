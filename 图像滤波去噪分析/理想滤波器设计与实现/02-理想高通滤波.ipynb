{
 "cells": [
  {
   "cell_type": "markdown",
   "metadata": {},
   "source": [
    "# 理想高通滤波"
   ]
  },
  {
   "cell_type": "code",
   "execution_count": 3,
   "metadata": {},
   "outputs": [],
   "source": [
    "%matplotlib inline\n",
    "import cv2\n",
    "import numpy as np\n",
    "import matplotlib.pyplot as plt\n",
    "from scipy import signal\n",
    "from pyexcel_xls import get_data"
   ]
  },
  {
   "cell_type": "code",
   "execution_count": 4,
   "metadata": {},
   "outputs": [],
   "source": [
    "def fftfilt(b, x, *n):\n",
    "    \"\"\"Filter the signal x with the FIR filter described by the\n",
    "    coefficients in b using the overlap-add method. If the FFT\n",
    "    length n is not specified, it and the overlap-add block length\n",
    "    are selected so as to minimize the computational cost of\n",
    "    the filtering operation.\"\"\"\n",
    "\n",
    "    N_x = len(x)\n",
    "    N_b = len(b)\n",
    "\n",
    "    # Determine the FFT length to use:\n",
    "    if len(n):\n",
    "\n",
    "        # Use the specified FFT length (rounded up to the nearest\n",
    "        # power of 2), provided that it is no less than the filter\n",
    "        # length:\n",
    "        n = n[0]\n",
    "        if n != int(n) or n <= 0:\n",
    "            raise ValueError('n must be a nonnegative integer')\n",
    "        if n < N_b:\n",
    "            n = N_b\n",
    "        N_fft = 2**nextpow2(n)\n",
    "    else:\n",
    "\n",
    "        if N_x > N_b:\n",
    "\n",
    "            # When the filter length is smaller than the signal,\n",
    "            # choose the FFT length and block size that minimize the\n",
    "            # FLOPS cost. Since the cost for a length-N FFT is\n",
    "            # (N/2)*log2(N) and the filtering operation of each block\n",
    "            # involves 2 FFT operations and N multiplications, the\n",
    "            # cost of the overlap-add method for 1 length-N block is\n",
    "            # N*(1+log2(N)). For the sake of efficiency, only FFT\n",
    "            # lengths that are powers of 2 are considered:\n",
    "            N = 2**arange(ceil(log2(N_b)), floor(log2(N_x)))\n",
    "            cost = ceil(N_x/(N-N_b+1))*N*(log2(N)+1)\n",
    "            N_fft = N[argmin(cost)]\n",
    "\n",
    "        else:\n",
    "\n",
    "            # When the filter length is at least as long as the signal,\n",
    "            # filter the signal using a single block:\n",
    "            N_fft = 2**nextpow2(N_b+N_x-1)\n",
    "\n",
    "    N_fft = int(N_fft)\n",
    "\n",
    "    # Compute the block length:\n",
    "    L = int(N_fft - N_b + 1)\n",
    "\n",
    "    # Compute the transform of the filter:\n",
    "    H = fft(b, N_fft)\n",
    "\n",
    "    y = zeros(N_x,float)\n",
    "    i = 0\n",
    "    while i <= N_x:\n",
    "        il = min([i+L,N_x])\n",
    "        k = min([i+N_fft,N_x])\n",
    "        yt = ifft(fft(x[i:il],N_fft)*H,N_fft) # Overlap..\n",
    "        y[i:k] = y[i:k] + yt[:k-i]            # and add\n",
    "        i += L\n",
    "    return y"
   ]
  },
  {
   "cell_type": "code",
   "execution_count": null,
   "metadata": {},
   "outputs": [],
   "source": [
    "https://stackoverflow.com/questions/34722985/matlab-fftfilt-equivalent-for-python"
   ]
  }
 ],
 "metadata": {
  "kernelspec": {
   "display_name": "Python 3",
   "language": "python",
   "name": "python3"
  },
  "language_info": {
   "codemirror_mode": {
    "name": "ipython",
    "version": 3
   },
   "file_extension": ".py",
   "mimetype": "text/x-python",
   "name": "python",
   "nbconvert_exporter": "python",
   "pygments_lexer": "ipython3",
   "version": "3.6.4"
  }
 },
 "nbformat": 4,
 "nbformat_minor": 2
}
