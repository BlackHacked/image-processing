{
 "cells": [
  {
   "cell_type": "code",
   "execution_count": 6,
   "metadata": {},
   "outputs": [],
   "source": [
    "#coding:utf-8\n",
    "'''\n",
    "BlockFilter\n",
    "'''\n",
    "%matplotlib inline\n",
    "import cv2\n",
    "import numpy as np\n",
    "import matplotlib.pyplot as plt"
   ]
  },
  {
   "cell_type": "code",
   "execution_count": 7,
   "metadata": {},
   "outputs": [],
   "source": [
    "src = cv2.cvtColor(cv2.imread('../datas/f2.jpg'),cv2.COLOR_BGR2RGB)"
   ]
  },
  {
   "cell_type": "code",
   "execution_count": 17,
   "metadata": {},
   "outputs": [],
   "source": [
    "block_size = 16\n",
    "\n",
    "rows,cols = src.shape[0],src.shape[1]\n",
    "\n",
    "\n",
    "src_int32 = np.int32(src.copy())\n",
    "dst = np.zeros_like(src_int32)\n",
    "for y in range(0,rows,block_size):\n",
    "    for x in range(0,rows,block_size):\n",
    "        w = min(block_size,cols - x)\n",
    "        h = min(block_size,rows - y)\n",
    "        \n",
    "        r = 0\n",
    "        g = 0\n",
    "        b = 0\n",
    "        i = 0\n",
    "        t = w * h\n",
    "        for by in range(h):\n",
    "            for bx in range(w):\n",
    "                r += int(src_int32[by,bx,0])\n",
    "                g += int(src_int32[by,bx,1])\n",
    "                b += int(src_int32[by,bx,1])\n",
    "                \n",
    "        r = int(r / t)\n",
    "        g = int(g / t)\n",
    "        b = int(b / t)\n",
    "        for by in range(h):\n",
    "            for bx in range(w):\n",
    "                src_int32[by,bx,0] = (src_int32[by,bx,0] & 0xff000000) | r\n",
    "                src_int32[by,bx,1] = (src_int32[by,bx,1] & 0xff000000) | g\n",
    "                src_int32[by,bx,2] = (src_int32[by,bx,2] & 0xff000000) | b\n",
    "        dst[y,x] = src_int32[h,w]\n",
    "        \n",
    "dst = cv2.convertScaleAbs(dst)"
   ]
  },
  {
   "cell_type": "code",
   "execution_count": 14,
   "metadata": {},
   "outputs": [
    {
     "name": "stdout",
     "output_type": "stream",
     "text": [
      "uint8\n"
     ]
    }
   ],
   "source": [
    "print(dst.dtype)"
   ]
  },
  {
   "cell_type": "code",
   "execution_count": 19,
   "metadata": {},
   "outputs": [
    {
     "data": {
      "text/plain": [
       "<matplotlib.image.AxesImage at 0x2438a99c240>"
      ]
     },
     "execution_count": 19,
     "metadata": {},
     "output_type": "execute_result"
    },
    {
     "data": {
      "image/png": "[encoded data removed]",
      "text/plain": [
       "<Figure size 432x288 with 1 Axes>"
      ]
     },
     "metadata": {},
     "output_type": "display_data"
    }
   ],
   "source": [
    "plt.imshow(dst)"
   ]
  },
  {
   "cell_type": "code",
   "execution_count": null,
   "metadata": {},
   "outputs": [],
   "source": []
  }
 ],
 "metadata": {
  "kernelspec": {
   "display_name": "Python 3",
   "language": "python",
   "name": "python3"
  },
  "language_info": {
   "codemirror_mode": {
    "name": "ipython",
    "version": 3
   },
   "file_extension": ".py",
   "mimetype": "text/x-python",
   "name": "python",
   "nbconvert_exporter": "python",
   "pygments_lexer": "ipython3",
   "version": "3.6.4"
  }
 },
 "nbformat": 4,
 "nbformat_minor": 2
}
