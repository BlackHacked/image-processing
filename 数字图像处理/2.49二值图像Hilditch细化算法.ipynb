{
 "cells": [
  {
   "cell_type": "markdown",
   "metadata": {},
   "source": [
    "# 二值图像Hilditch细化算法"
   ]
  },
  {
   "cell_type": "code",
   "execution_count": 173,
   "metadata": {},
   "outputs": [],
   "source": [
    "#coding:utf-8\n",
    "import numpy as np\n",
    "%matplotlib  inline\n",
    "import cv2\n",
    "import matplotlib.pyplot as plt\n",
    "import pandas as pd\n",
    "from pandas import DataFrame\n",
    "from scipy.ndimage.filters import convolve\n",
    "from skimage.util import view_as_windows as viewW"
   ]
  },
  {
   "cell_type": "code",
   "execution_count": 108,
   "metadata": {},
   "outputs": [],
   "source": [
    "src = cv2.cvtColor(cv2.imread('../datas/f2.jpg'),cv2.COLOR_BGR2RGB)"
   ]
  },
  {
   "cell_type": "code",
   "execution_count": 109,
   "metadata": {},
   "outputs": [],
   "source": [
    "# 灰度化图片\n",
    "def rgb2gray(rgb):\n",
    "    return np.dot(rgb[..., :3], [0.299, 0.587, 0.114]).astype(np.uint8)\n",
    "\n",
    "def tobinary(gray,thresh):\n",
    "    dst = np.zeros_like(gray)\n",
    "    idx = (gray >= thresh)\n",
    "    dst[idx] = 255\n",
    "    return dst"
   ]
  },
  {
   "cell_type": "code",
   "execution_count": 110,
   "metadata": {},
   "outputs": [],
   "source": [
    "def init_params(kpw, kpb):\n",
    "    kpw.append(np.array([[0.,0.,0.],[0.,1.,1.],[0.,1.,0.]]))\n",
    "    kpw.append(np.array([[0.,0.,0.],[0.,1.,0.],[1.,1.,0.]]))\n",
    "    kpw.append(np.array([[0.,0.,0.],[1.,1.,0.],[0.,1.,0.]]))\n",
    "    kpw.append(np.array([[1.,0.,0.],[1.,1.,0.],[0.,0.,0.]]))\n",
    "    kpw.append(np.array([[0.,1.,0.],[1.,1.,0.],[0.,0.,0.]]))\n",
    "    kpw.append(np.array([[0.,1.,1.],[0.,1.,0.],[0.,0.,0.]]))\n",
    "    kpw.append(np.array([[0.,1.,0.],[0.,1.,1.],[0.,0.,0.]]))\n",
    "    kpw.append(np.array([[0.,0.,0.],[0.,1.,1.],[0.,0.,1.]]))\n",
    "    kpb.append(np.array([[1.,1.,0.],[1.,0.,0.],[0.,0.,0.]]))\n",
    "    kpb.append(np.array([[1.,1.,1.],[0.,0.,0.],[0.,0.,0.]]))\n",
    "    kpb.append(np.array([[0.,1.,1.],[0.,0.,1.],[0.,0.,0.]]))\n",
    "    kpb.append(np.array([[0.,0.,1.],[0.,0.,1.],[0.,0.,1.]]))\n",
    "    kpb.append(np.array([[0.,0.,0.],[0.,0.,1.],[0.,1.,1.]]))\n",
    "    kpb.append(np.array([[0.,0.,0.],[0.,0.,0.],[1.,1.,1.]]))\n",
    "    kpb.append(np.array([[0.,0.,0.],[1.,0.,0.],[1.,1.,0.]]))\n",
    "    kpb.append(np.array([[1.,0.,0.],[1.,0.,0.],[1.,0.,0.]]))\n",
    "    \n",
    "def thinning_hilditch(src):\n",
    "    kpw = []\n",
    "    kpb = []\n",
    "    init_params(kpw,kpb)\n",
    "    src_w = np.array(src, dtype=np.float32)/255.\n",
    "    thresh, src_b = cv2.threshold(src_w, 0.5, 1.0, cv2.THRESH_BINARY_INV)\n",
    "    thresh, src_f = cv2.threshold(src_w, 0.5, 1.0, cv2.THRESH_BINARY)\n",
    "    thresh, src_w = cv2.threshold(src_w, 0.5, 1.0, cv2.THRESH_BINARY)\n",
    "    th = 1.\n",
    "    \n",
    "    while th > 0:\n",
    "        th = 0.\n",
    "        for i in range(8):\n",
    "            src_w = cv2.filter2D(src_w, cv2.CV_32F, kpw[i])\n",
    "            src_b = cv2.filter2D(src_b, cv2.CV_32F, kpb[i])\n",
    "            thresh, src_w = cv2.threshold(src_w, 2.99, 1, cv2.THRESH_BINARY)\n",
    "            thresh, src_b = cv2.threshold(src_b, 2.99, 1, cv2.THRESH_BINARY)\n",
    "            src_w = np.array(np.logical_and(src_w,src_b), dtype=np.float32)\n",
    "            th += np.sum(src_w)\n",
    "            src_f = np.array(np.logical_xor(src_f, src_w), dtype=np.float32)\n",
    "            src_w = src_f.copy()\n",
    "            thresh, src_b = cv2.threshold(src_f, 0.5, 1.0, cv2.THRESH_BINARY_INV)\n",
    "    return src_f,src_w"
   ]
  },
  {
   "cell_type": "code",
   "execution_count": 111,
   "metadata": {},
   "outputs": [],
   "source": [
    "gray = rgb2gray(src)\n",
    "src_f,src_w = thinning_hilditch(gray)"
   ]
  },
  {
   "cell_type": "code",
   "execution_count": 112,
   "metadata": {},
   "outputs": [
    {
     "data": {
      "text/plain": [
       "Text(0.5,1,'Result 2')"
      ]
     },
     "execution_count": 112,
     "metadata": {},
     "output_type": "execute_result"
    },
    {
     "data": {
      "image/png": "[encoded data removed]",
      "text/plain": [
       "<Figure size 432x288 with 2 Axes>"
      ]
     },
     "metadata": {},
     "output_type": "display_data"
    }
   ],
   "source": [
    "plt.subplot(121)\n",
    "plt.imshow(cv2.convertScaleAbs(src_f),'gray')\n",
    "plt.title('Result 1')\n",
    "plt.subplot(122)\n",
    "plt.imshow(cv2.convertScaleAbs(src_w),'gray')\n",
    "plt.title('Result 2')"
   ]
  },
  {
   "cell_type": "code",
   "execution_count": 113,
   "metadata": {},
   "outputs": [],
   "source": [
    "def rev_thinning_Hi(img):\n",
    "\tkpw = []\n",
    "\tkpb = []\n",
    "\n",
    "\tinit_params(kpw, kpb)\n",
    "\tsrc_w = np.array(img, dtype=np.float32)/255.\n",
    "\tthresh, src_b = cv2.threshold(src_w, 0.5, 1.0, cv2.THRESH_BINARY)\n",
    "\n",
    "\tthresh, src_f = cv2.threshold(src_w, 0.5, 1.0, cv2.THRESH_BINARY_INV)\n",
    "\tthresh, src_w = cv2.threshold(src_w, 0.5, 1.0, cv2.THRESH_BINARY_INV)\n",
    "\n",
    "\tth = 1.\n",
    "\twhile th > 0:\n",
    "\t\tth = 0.\n",
    "\t\tfor i in range(8):\n",
    "\t\t\tsrc_w = cv2.filter2D(src_w, cv2.CV_32F, kpw[i])\n",
    "\t\t\tsrc_b = cv2.filter2D(src_b, cv2.CV_32F, kpb[i])\n",
    "\t\t\tthresh, src_w = cv2.threshold(src_w, 2.99, 1, cv2.THRESH_BINARY)\n",
    "\t\t\tthresh, src_b = cv2.threshold(src_b, 2.99, 1, cv2.THRESH_BINARY)\n",
    "\t\t\tsrc_w = np.array(np.logical_and(src_w,src_b), dtype=np.float32)\n",
    "\t\t\tth += np.sum(src_w)\n",
    "\t\t\tsrc_f = np.array(np.logical_xor(src_f, src_w), dtype=np.float32)\n",
    "\t\t\tsrc_w = src_f.copy()\n",
    "\t\t\tthresh, src_b = cv2.threshold(src_f, 0.5, 1.0, cv2.THRESH_BINARY_INV)\n",
    "\t\t\t#cv.imshow('result', src_w)\n",
    "\t\t\t#cv.waitKey(10)\n",
    "\n",
    "\tthresh, ret_img = cv2.threshold(src_f, 0.5, 255.0, cv2.THRESH_BINARY_INV)\n",
    "\treturn ret_img.astype(np.uint8)"
   ]
  },
  {
   "cell_type": "code",
   "execution_count": 114,
   "metadata": {},
   "outputs": [],
   "source": [
    "dst = rev_thinning_Hi(gray)"
   ]
  },
  {
   "cell_type": "code",
   "execution_count": 115,
   "metadata": {},
   "outputs": [
    {
     "data": {
      "text/plain": [
       "<matplotlib.image.AxesImage at 0x1e605e032b0>"
      ]
     },
     "execution_count": 115,
     "metadata": {},
     "output_type": "execute_result"
    },
    {
     "data": {
      "image/png": "[encoded data removed]",
      "text/plain": [
       "<Figure size 432x288 with 1 Axes>"
      ]
     },
     "metadata": {},
     "output_type": "display_data"
    }
   ],
   "source": [
    "plt.imshow(dst,'gray')"
   ]
  },
  {
   "cell_type": "code",
   "execution_count": 116,
   "metadata": {},
   "outputs": [],
   "source": [
    "def thinning_Hi(img):\n",
    "\tkpw = []\n",
    "\tkpb = []\n",
    "\n",
    "\tinit_params(kpw, kpb)\n",
    "\tsrc_w = np.array(img, dtype=np.float32)/255.\n",
    "\tthresh, src_b = cv2.threshold(src_w, 0.5, 1.0, cv2.THRESH_BINARY_INV)\n",
    "\tthresh, src_f = cv2.threshold(src_w, 0.5, 1.0, cv2.THRESH_BINARY)\n",
    "\tthresh, src_w = cv2.threshold(src_w, 0.5, 1.0, cv2.THRESH_BINARY)\n",
    "\tth = 1.\n",
    "\twhile th > 0:\n",
    "\t\tth = 0.\n",
    "\t\tfor i in range(8):\n",
    "\t\t\tsrc_w = cv2.filter2D(src_w, cv2.CV_32F, kpw[i])\n",
    "\t\t\tsrc_b = cv2.filter2D(src_b, cv2.CV_32F, kpb[i])\n",
    "\t\t\tthresh, src_w = cv2.threshold(src_w, 2.99, 1, cv2.THRESH_BINARY)\n",
    "\t\t\tthresh, src_b = cv2.threshold(src_b, 2.99, 1, cv2.THRESH_BINARY)\n",
    "\t\t\tsrc_w = np.array(np.logical_and(src_w,src_b), dtype=np.float32)\n",
    "\t\t\tth += np.sum(src_w)\n",
    "\t\t\tsrc_f = np.array(np.logical_xor(src_f, src_w), dtype=np.float32)\n",
    "\t\t\tsrc_w = src_f.copy()\n",
    "\t\t\tthresh, src_b = cv2.threshold(src_f, 0.5, 1.0, cv2.THRESH_BINARY_INV)\n",
    "\n",
    "\tthresh, ret_img = cv2.threshold(src_f, 0.5, 255.0, cv2.THRESH_BINARY)\n",
    "\treturn ret_img.astype(np.uint8)"
   ]
  },
  {
   "cell_type": "code",
   "execution_count": 117,
   "metadata": {},
   "outputs": [],
   "source": [
    "dst = thinning_Hi(gray)"
   ]
  },
  {
   "cell_type": "code",
   "execution_count": 118,
   "metadata": {},
   "outputs": [
    {
     "data": {
      "text/plain": [
       "<matplotlib.image.AxesImage at 0x1e605e582e8>"
      ]
     },
     "execution_count": 118,
     "metadata": {},
     "output_type": "execute_result"
    },
    {
     "data": {
      "image/png": "[encoded data removed]",
      "text/plain": [
       "<Figure size 432x288 with 1 Axes>"
      ]
     },
     "metadata": {},
     "output_type": "display_data"
    }
   ],
   "source": [
    "plt.imshow(dst,'gray')"
   ]
  },
  {
   "cell_type": "code",
   "execution_count": 138,
   "metadata": {},
   "outputs": [],
   "source": [
    "def quick_thinning(binary):\n",
    "    rows,cols = binary.shape\n",
    "    F = np.zeros_like(binary)\n",
    "    G = np.zeros_like(binary)\n",
    "    M = np.zeros_like(binary)\n",
    "    out = np.zeros_like(binary)\n",
    "    \n",
    "    for i in range(1,rows-1):\n",
    "        for j in range(1,cols-1):\n",
    "            if binary[i,j] == 0:\n",
    "                F[i,j] = 0\n",
    "            else:\n",
    "                mi = [F[i,j-1],F[i-1,j-1],F[i-1,j],F[i-1,j+1]]\n",
    "                F[i,j] = np.min(mi) + 1\n",
    "    \n",
    "    for i in range(rows-2,0,-1):\n",
    "        for j in range(1,cols-1):\n",
    "            if binary[i,j] == 0:\n",
    "                G[i,j] = 0\n",
    "            else:\n",
    "                mi = [G[i+1,j-1],G[i+1,j],G[i+1,j+1],G[i,j+1]]\n",
    "                G[i,j] = np.min(mi) + 1\n",
    "                \n",
    "    for i in range(1,rows-1):\n",
    "        for j in range(1,cols-1):\n",
    "            mi = [F[i,j],G[i,j]]\n",
    "            M[i,j] = np.min(mi)\n",
    "            \n",
    "    for i in range(1,rows-1):\n",
    "        for j in range(1,cols-1):\n",
    "            ma = [M[i,j-1],M[i-1,j-1],M[i-1,j],M[i-1,j+1],M[i+1,j-1],M[i+1,j],M[i+1,j+1],M[i,j+1]]\n",
    "            if M[i,j] == np.max(ma):\n",
    "                out[i,j] = M[i,j]\n",
    "            else:\n",
    "                out[i,j] = 0\n",
    "                \n",
    "    return cv2.convertScaleAbs(out*255)"
   ]
  },
  {
   "cell_type": "code",
   "execution_count": 145,
   "metadata": {},
   "outputs": [],
   "source": [
    "src = cv2.cvtColor(cv2.imread('../datas/char.jpg'),cv2.COLOR_BGR2RGB)\n",
    "gray = rgb2gray(src)\n",
    "binary = cv2.convertScaleAbs(tobinary(gray,120) / 255)\n",
    "dst = quick_thinning(binary)"
   ]
  },
  {
   "cell_type": "code",
   "execution_count": 148,
   "metadata": {},
   "outputs": [
    {
     "data": {
      "text/plain": [
       "<matplotlib.image.AxesImage at 0x1e6075465f8>"
      ]
     },
     "execution_count": 148,
     "metadata": {},
     "output_type": "execute_result"
    },
    {
     "data": {
      "image/png": "[encoded data removed]",
      "text/plain": [
       "<Figure size 432x288 with 1 Axes>"
      ]
     },
     "metadata": {},
     "output_type": "display_data"
    }
   ],
   "source": [
    "plt.imshow(binary,'gray')"
   ]
  },
  {
   "cell_type": "code",
   "execution_count": 147,
   "metadata": {
    "scrolled": true
   },
   "outputs": [
    {
     "data": {
      "text/plain": [
       "<matplotlib.image.AxesImage at 0x1e6074ee5c0>"
      ]
     },
     "execution_count": 147,
     "metadata": {},
     "output_type": "execute_result"
    },
    {
     "data": {
      "image/png": "[encoded data removed]",
      "text/plain": [
       "<Figure size 432x288 with 1 Axes>"
      ]
     },
     "metadata": {},
     "output_type": "display_data"
    }
   ],
   "source": [
    "plt.imshow(dst,'gray')"
   ]
  },
  {
   "cell_type": "code",
   "execution_count": 163,
   "metadata": {},
   "outputs": [],
   "source": [
    "def thin(src,iterations = 1):\n",
    "    isFinished = False\n",
    "    rows,cols = src.shape\n",
    "    dst = np.zeros_like(src)\n",
    "    for k in range(iterations):\n",
    "        for i in range(1,rows-1):\n",
    "            for j in range(1,cols-1):\n",
    "                pC = src[i,j]\n",
    "                if pC > 0:\n",
    "                    ap = 0\n",
    "                    p2 = int((src[i-1,j] > 0))\n",
    "                    p3 = int((src[i-1,j+1] > 0))\n",
    "                    if p2 == 0 and p3 == 1:\n",
    "                        ap += 1\n",
    "                    p4 = int((src[i,j+1] > 0))\n",
    "                    if p3 == 0 and p4 == 1:\n",
    "                        ap += 1\n",
    "                    p5 = int((src[i+1,j+1] > 0))\n",
    "                    if p4 == 0 and p5 == 1:\n",
    "                        ap +=1\n",
    "                    p6 = int((src[i+1,j] > 0))\n",
    "                    if p5 == 0 and p6 == 1:\n",
    "                        ap += 1\n",
    "                    p7 = int((src[i+1,j-1] > 0))\n",
    "                    if p6 == 0 and p7 == 1:\n",
    "                        ap += 1\n",
    "                    p8 = int((src[i,j-1] > 0))\n",
    "                    if p7 == 0 and p8 == 1:\n",
    "                        ap += 1\n",
    "                    p9 = int((src[i-1,j-1] > 0))\n",
    "                    if p8 == 0 and p9 == 1:\n",
    "                        ap += 1\n",
    "                    if p9 == 0 and p2 == 1:\n",
    "                        ap += 1\n",
    "                         \n",
    "                    if (p2+p3+p4+p5+p6+p7+p8+p9) > 1 and (p2+p3+p4+p5+p6+p7+p8+p9) < 7:\n",
    "                        if ap == 1:\n",
    "                            if (p2 * p4 * p6 == 0) and (p4 * p6 * p8 ==0):\n",
    "                                dst[i,j] = 0\n",
    "                                isFinished = True\n",
    "                                \n",
    "            tmpImg = dst.copy()\n",
    "            for i in range(1,rows-1):\n",
    "                for j in range(1,cols-1):\n",
    "                    if tmpImg[i,j] > 0:\n",
    "                        ap = 0\n",
    "                        p2 = int(tmpImg[i - 1,j] > 0)\n",
    "                        p3 = int(tmpImg[i - 1,j + 1] > 0)\n",
    "                        if p2 == 0 and p3 == 1:\n",
    "                            ap += 1\n",
    "                        p4 = int(tmpImg[i,j+1] > 0)\n",
    "                        if p3 == 0 and p4 == 1:\n",
    "                            ap += 1\n",
    "                        p5 = int(tmpImg[i+1,j+1] > 0)\n",
    "                        if p4 == 0 and p5 == 1:\n",
    "                            ap += 1\n",
    "                        p6 = int(tmpImg[i+1,j] > 0)\n",
    "                        if p5 == 0 and p6 == 1:\n",
    "                            ap += 1\n",
    "                        p7 = int(tmpImg[i+1,j-1] > 0)\n",
    "                        if p6 ==0 and p7 == 1:\n",
    "                            ap += 1\n",
    "                        p8 = int(tmpImg[i,j-1] > 0)\n",
    "                        if p7 == 0 and p8 == 1:\n",
    "                            ap += 1\n",
    "                        p9 = int(tmpImg[i-1,j-1] > 0)\n",
    "                        if p8 == 0 and p9 == 1:\n",
    "                            ap += 1\n",
    "                            \n",
    "                        if p9 == 0 and p2 == 1:\n",
    "                            ap += 1\n",
    "                        if (p2+p3+p4+p5+p6+p7+p8+p9) > 1 and (p2+p3+p4+p5+p6+p7+p8+p9) < 7:\n",
    "                            if ap == 1:\n",
    "                                if (p2*p4*p8 == 0) and (p2 * p6 * p8 == 0):\n",
    "                                    dst[i,j] = 0\n",
    "                                    isFinished = True\n",
    "                        \n",
    "            if isFinished:\n",
    "                break\n",
    "    return dst\n",
    "                    "
   ]
  },
  {
   "cell_type": "code",
   "execution_count": 164,
   "metadata": {},
   "outputs": [],
   "source": [
    "dst = thin(binary,3)"
   ]
  },
  {
   "cell_type": "code",
   "execution_count": 165,
   "metadata": {},
   "outputs": [
    {
     "name": "stdout",
     "output_type": "stream",
     "text": [
      "[[0 0 0 ... 0 0 0]\n",
      " [0 0 0 ... 0 0 0]\n",
      " [0 0 0 ... 0 0 0]\n",
      " ...\n",
      " [0 0 0 ... 0 0 0]\n",
      " [0 0 0 ... 0 0 0]\n",
      " [0 0 0 ... 0 0 0]]\n"
     ]
    }
   ],
   "source": [
    "print(dst)"
   ]
  },
  {
   "cell_type": "code",
   "execution_count": 166,
   "metadata": {},
   "outputs": [
    {
     "data": {
      "text/plain": [
       "<matplotlib.image.AxesImage at 0x1e607779208>"
      ]
     },
     "execution_count": 166,
     "metadata": {},
     "output_type": "execute_result"
    },
    {
     "data": {
      "image/png": "[encoded data removed]",
      "text/plain": [
       "<Figure size 432x288 with 1 Axes>"
      ]
     },
     "metadata": {},
     "output_type": "display_data"
    }
   ],
   "source": [
    "plt.imshow(cv2.convertScaleAbs(dst*255),'gray')"
   ]
  },
  {
   "cell_type": "code",
   "execution_count": 180,
   "metadata": {},
   "outputs": [],
   "source": [
    "def skeletonize(bimg, term_thres=0):\n",
    "    assert len(bimg.shape) == 2, 'must be binary img'\n",
    "    def A(a):  \n",
    "        # woodoo magic !!\n",
    "        side_size = (3,3)\n",
    "        ext_size = (side_size[0]-1)//2, (side_size[1]-1)//2\n",
    "        img = np.pad(a, ([ext_size[0]],[ext_size[1]]), 'constant', constant_values=(0))\n",
    "        out = viewW(img, side_size)\n",
    "        out = out.reshape(out.shape[0:2] + (9,))\n",
    "        out = out[:,:,np.uint8([1,2,5,8,7,6,3,0,1])]\n",
    "        out[:,:,-1] = out [:,:,0]\n",
    "        n_0to1 = np.zeros(a.shape, np.uint8)\n",
    "        n_0to1[:,:] = np.sum(np.diff(out[:,:], axis=2) == 1 , axis=2)\n",
    "        n_0to1[0,:] = 0\n",
    "        n_0to1[-1,:] = 0\n",
    "        n_0to1[:,0] = 0\n",
    "        n_0to1[:,-1] = 0\n",
    "        return n_0to1\n",
    "\n",
    "    n_step1, n_step2 = np.inf ,np.inf\n",
    "\n",
    "    zthinning = bimg.astype(np.float32)\n",
    "    zthinning[zthinning !=0] = 1\n",
    "    \n",
    "    while n_step1 > term_thres or n_step2 > term_thres:\n",
    "\n",
    "        step10 = zthinning == 1\n",
    "\n",
    "        step11_kernel = np.ones((3,3),np.float32)\n",
    "        step11_mask = convolve(zthinning,step11_kernel)\n",
    "        step11 = (step11_mask >= 2) & (step11_mask <= 6)\n",
    "\n",
    "\n",
    "        step12 = A(zthinning) == 1\n",
    "\n",
    "        step13_kernel = np.float32([[0,-1,0],[0,0,-1],[0,-1,0]])\n",
    "        step13_mask = convolve(zthinning,step13_kernel)\n",
    "        step13 = step13_mask > -3\n",
    "\n",
    "        step14_kernel = np.float32([[0,0,0],[-1,0,-1],[0,-1,0]])\n",
    "        step14_mask =convolve(zthinning,step14_kernel)\n",
    "        step14 = step14_mask > -3\n",
    "\n",
    "        step1_mask = step10 & step11 & step12 & step13 & step14\n",
    "\n",
    "        n_step1 = np.count_nonzero(step1_mask)\n",
    "\n",
    "        zthinning[step1_mask] = 0\n",
    "\n",
    "\n",
    "        step20 = zthinning == 1\n",
    "\n",
    "        step21_kernel = np.ones((3,3),np.float32)\n",
    "        step21_mask = convolve(zthinning,step21_kernel)\n",
    "        step21 = (step21_mask >= 2) & (step21_mask <= 6)\n",
    "\n",
    "        step22 = A(zthinning) == 1\n",
    "\n",
    "        step23_kernel = np.float32([[0,-1,0],[-1,0,-1],[0,0,0]])\n",
    "        step23_mask = convolve(zthinning,step23_kernel)\n",
    "        step23 = step23_mask > -3\n",
    "\n",
    "        step24_kernel = np.float32([[0,-1,0],[-1,0,0],[0,-1,0]])\n",
    "        step24_mask = convolve(zthinning,step24_kernel)\n",
    "        step24 = step24_mask > -3\n",
    "\n",
    "        step2_mask = step20 & step21 & step22 & step23 & step24\n",
    "\n",
    "        n_step2 = np.count_nonzero(step2_mask)\n",
    "        zthinning[step2_mask] = 0\n",
    "    \n",
    "    return zthinning.astype(np.uint8)"
   ]
  },
  {
   "cell_type": "code",
   "execution_count": 197,
   "metadata": {},
   "outputs": [],
   "source": [
    "src = cv2.cvtColor(cv2.imread('../datas/char.jpg'),cv2.COLOR_BGR2RGB)\n",
    "gray = rgb2gray(src)\n",
    "import skimage.filters\n",
    "from skimage.filters.thresholding import threshold_otsu\n",
    "# binary = gray[gray < cv2.convertScaleAbs(threshold_otsu(gray))]\n",
    "# dst = skeletonize(binary)\n",
    "thresh = threshold_otsu(gray)\n",
    "binary = (gray < thresh)\n",
    "dst = skeletonize(binary)"
   ]
  },
  {
   "cell_type": "code",
   "execution_count": 198,
   "metadata": {},
   "outputs": [
    {
     "data": {
      "text/plain": [
       "<matplotlib.image.AxesImage at 0x1e609aa62e8>"
      ]
     },
     "execution_count": 198,
     "metadata": {},
     "output_type": "execute_result"
    },
    {
     "data": {
      "image/png": "[encoded data removed]",
      "text/plain": [
       "<Figure size 432x288 with 1 Axes>"
      ]
     },
     "metadata": {},
     "output_type": "display_data"
    }
   ],
   "source": [
    "plt.imshow(binary,'gray')"
   ]
  },
  {
   "cell_type": "code",
   "execution_count": 199,
   "metadata": {},
   "outputs": [
    {
     "data": {
      "text/plain": [
       "<matplotlib.image.AxesImage at 0x1e609afd390>"
      ]
     },
     "execution_count": 199,
     "metadata": {},
     "output_type": "execute_result"
    },
    {
     "data": {
      "image/png": "[encoded data removed]",
      "text/plain": [
       "<Figure size 432x288 with 1 Axes>"
      ]
     },
     "metadata": {},
     "output_type": "display_data"
    }
   ],
   "source": [
    "plt.imshow(dst,'gray')"
   ]
  },
  {
   "cell_type": "code",
   "execution_count": 200,
   "metadata": {},
   "outputs": [],
   "source": [
    "def neighbours(x,y,image):\n",
    "    \"Return 8-neighbours of image point P1(x,y), in a clockwise order\"\n",
    "    img = image\n",
    "    x_1, y_1, x1, y1 = x-1, y-1, x+1, y+1\n",
    "    return [ img[x_1][y], img[x_1][y1], img[x][y1], img[x1][y1],     # P2,P3,P4,P5\n",
    "                img[x1][y], img[x1][y_1], img[x][y_1], img[x_1][y_1] ]    # P6,P7,P8,P9"
   ]
  },
  {
   "cell_type": "code",
   "execution_count": 201,
   "metadata": {},
   "outputs": [],
   "source": [
    "def transitions(neighbours):\n",
    "    \"No. of 0,1 patterns (transitions from 0 to 1) in the ordered sequence\"\n",
    "    n = neighbours + neighbours[0:1]      # P2, P3, ... , P8, P9, P2\n",
    "    return sum( (n1, n2) == (0, 1) for n1, n2 in zip(n, n[1:]) )  # (P2,P3), (P3,P4), ... , (P8,P9), (P9,P2)"
   ]
  },
  {
   "cell_type": "code",
   "execution_count": 202,
   "metadata": {},
   "outputs": [],
   "source": [
    "def zhangSuen(image):\n",
    "    \"the Zhang-Suen Thinning Algorithm\"\n",
    "    Image_Thinned = image.copy()  # deepcopy to protect the original image\n",
    "    changing1 = changing2 = 1        #  the points to be removed (set as 0)\n",
    "    while changing1 or changing2:   #  iterates until no further changes occur in the image\n",
    "        # Step 1\n",
    "        changing1 = []\n",
    "        rows, columns = Image_Thinned.shape               # x for rows, y for columns\n",
    "        for x in range(1, rows - 1):                     # No. of  rows\n",
    "            for y in range(1, columns - 1):            # No. of columns\n",
    "                P2,P3,P4,P5,P6,P7,P8,P9 = n = neighbours(x, y, Image_Thinned)\n",
    "                if (Image_Thinned[x][y] == 1     and    # Condition 0: Point P1 in the object regions \n",
    "                    2 <= sum(n) <= 6   and    # Condition 1: 2<= N(P1) <= 6\n",
    "                    transitions(n) == 1 and    # Condition 2: S(P1)=1  \n",
    "                    P2 * P4 * P6 == 0  and    # Condition 3   \n",
    "                    P4 * P6 * P8 == 0):         # Condition 4\n",
    "                    changing1.append((x,y))\n",
    "        for x, y in changing1: \n",
    "            Image_Thinned[x][y] = 0\n",
    "        # Step 2\n",
    "        changing2 = []\n",
    "        for x in range(1, rows - 1):\n",
    "            for y in range(1, columns - 1):\n",
    "                P2,P3,P4,P5,P6,P7,P8,P9 = n = neighbours(x, y, Image_Thinned)\n",
    "                if (Image_Thinned[x][y] == 1   and        # Condition 0\n",
    "                    2 <= sum(n) <= 6  and       # Condition 1\n",
    "                    transitions(n) == 1 and      # Condition 2\n",
    "                    P2 * P4 * P8 == 0 and       # Condition 3\n",
    "                    P2 * P6 * P8 == 0):            # Condition 4\n",
    "                    changing2.append((x,y))    \n",
    "        for x, y in changing2: \n",
    "            Image_Thinned[x][y] = 0\n",
    "    return Image_Thinned"
   ]
  },
  {
   "cell_type": "code",
   "execution_count": 203,
   "metadata": {},
   "outputs": [],
   "source": [
    "dst = zhangSuen(binary)"
   ]
  },
  {
   "cell_type": "code",
   "execution_count": 206,
   "metadata": {},
   "outputs": [
    {
     "data": {
      "text/plain": [
       "<matplotlib.image.AxesImage at 0x1e609cb9c50>"
      ]
     },
     "execution_count": 206,
     "metadata": {},
     "output_type": "execute_result"
    },
    {
     "data": {
      "image/png": "[encoded data removed]",
      "text/plain": [
       "<Figure size 432x288 with 1 Axes>"
      ]
     },
     "metadata": {},
     "output_type": "display_data"
    }
   ],
   "source": [
    "plt.imshow(dst,'gray')"
   ]
  },
  {
   "cell_type": "code",
   "execution_count": 220,
   "metadata": {},
   "outputs": [],
   "source": [
    "def skeletonize(image, size, structuring=cv2.MORPH_RECT):\n",
    "    # determine the area (i.e. total number of pixels in the image),\n",
    "    # initialize the output skeletonized image, and construct the\n",
    "    # morphological structuring element\n",
    "    area = image.shape[0] * image.shape[1]\n",
    "    skeleton = np.zeros(image.shape, dtype=\"uint8\")\n",
    "    elem = cv2.getStructuringElement(structuring, size)\n",
    "\n",
    "    # keep looping until the erosions remove all pixels from the\n",
    "    # image\n",
    "    while True:\n",
    "        # erode and dilate the image using the structuring element\n",
    "        eroded = cv2.erode(image, elem)\n",
    "        temp = cv2.dilate(eroded, elem)\n",
    "\n",
    "        # subtract the temporary image from the original, eroded\n",
    "        # image, then take the bitwise 'or' between the skeleton\n",
    "        # and the temporary image\n",
    "        temp = cv2.subtract(image, temp)\n",
    "        skeleton = cv2.bitwise_or(skeleton, temp)\n",
    "        image = eroded.copy()\n",
    "\n",
    "        # if there are no more 'white' pixels in the image, then\n",
    "        # break from the loop\n",
    "        if area == area - cv2.countNonZero(image):\n",
    "            break\n",
    "\n",
    "    # return the skeletonized image\n",
    "    return skeleton"
   ]
  },
  {
   "cell_type": "code",
   "execution_count": 222,
   "metadata": {},
   "outputs": [],
   "source": [
    "dst = skeletonize(gray,size=(3, 3))"
   ]
  },
  {
   "cell_type": "code",
   "execution_count": 223,
   "metadata": {},
   "outputs": [
    {
     "data": {
      "text/plain": [
       "<matplotlib.image.AxesImage at 0x1e609dd9978>"
      ]
     },
     "execution_count": 223,
     "metadata": {},
     "output_type": "execute_result"
    },
    {
     "data": {
      "image/png": "[encoded data removed]",
      "text/plain": [
       "<Figure size 432x288 with 1 Axes>"
      ]
     },
     "metadata": {},
     "output_type": "display_data"
    }
   ],
   "source": [
    "plt.imshow(dst,'gray')"
   ]
  },
  {
   "cell_type": "markdown",
   "metadata": {},
   "source": [
    "\n",
    "参考：\n",
    "\n",
    "[1]. https://blog.csdn.net/qq_27208177/article/details/54020521\n",
    "\n",
    "[2]. https://blog.csdn.net/klose93/article/details/54564519\n",
    "\n",
    "[2]. https://blog.csdn.net/cdrxyf/article/details/47779667\n",
    "\n",
    "[3]. https://www.cnblogs.com/denny402/p/5167414.html"
   ]
  }
 ],
 "metadata": {
  "kernelspec": {
   "display_name": "Python 3",
   "language": "python",
   "name": "python3"
  },
  "language_info": {
   "codemirror_mode": {
    "name": "ipython",
    "version": 3
   },
   "file_extension": ".py",
   "mimetype": "text/x-python",
   "name": "python",
   "nbconvert_exporter": "python",
   "pygments_lexer": "ipython3",
   "version": "3.6.4"
  }
 },
 "nbformat": 4,
 "nbformat_minor": 2
}
