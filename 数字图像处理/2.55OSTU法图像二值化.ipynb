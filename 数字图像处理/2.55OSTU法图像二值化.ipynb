{
 "cells": [
  {
   "cell_type": "markdown",
   "metadata": {},
   "source": [
    "# OSTU法图像二值化"
   ]
  },
  {
   "cell_type": "code",
   "execution_count": null,
   "metadata": {
    "collapsed": true
   },
   "outputs": [],
   "source": [
    "#coding:utf-8\n",
    "import numpy as np\n",
    "%matplotlib  inline\n",
    "import cv2\n",
    "import matplotlib.pyplot as plt\n",
    "import pandas as pd\n",
    "from pandas import DataFrame"
   ]
  },
  {
   "cell_type": "code",
   "execution_count": null,
   "metadata": {
    "collapsed": true
   },
   "outputs": [],
   "source": [
    "src = cv2.cvtColor(cv2.imread('../datas/f2.jpg'),cv2.COLOR_BGR2RGB)\n",
    "gray = cv2.cvtColor(src,cv2.COLOR_RGB2GRAY)"
   ]
  },
  {
   "cell_type": "code",
   "execution_count": null,
   "metadata": {},
   "outputs": [],
   "source": [
    "def ostu_thresh_segment(src):\n",
    "    rows,cols = src.shape[0],src.shape[1]\n",
    "    Th = 0\n",
    "    n1,n2,sum1,sum2 = 0,0,0.0,0.0\n",
    "    w1,w2,u1,u2,g, TT = 0.0,0.0,0.0,0.0,0.0,0.0\n",
    "    dst = np.zeros_like(src)\n",
    "    # 寻找最大类间方差\n",
    "    for T in range(256):\n",
    "        for i in range(rows):\n",
    "            for j in range(cols):\n",
    "                if src[i,j] > T:\n",
    "                    n2 += 1\n",
    "                    sum2 += src[i,j]\n",
    "                else:\n",
    "                    n1 += 1\n",
    "                    sum1 += src[i,j]\n",
    "#         idx = (src > T)\n",
    "#         n2 = len(src[idx])\n",
    "#         sum2 = np.sum(src[idx])\n",
    "#         n1 = len(src[~idx])\n",
    "#         sum2 = np.sum(src[~idx])\n",
    "        w1 = (n1 / (n2 + n1 + 1.0e-5))\n",
    "        w2 = (1.0 - w1)\n",
    "        if n1 == 0:\n",
    "            u1 = 0.0\n",
    "        else:\n",
    "            u1 = sum1 / (n1+1.0e-5)\n",
    "            \n",
    "        if n2 == 0:\n",
    "            u2 = 0.0\n",
    "        else:\n",
    "            u2 = sum2 / (n2 + 1.0e-5)\n",
    "            \n",
    "        g = n1 * n2 * (u1 - u2) * (u1 - u2)\n",
    "        if g > TT:\n",
    "            TT = g\n",
    "            Th = T\n",
    "        n1 ,n2 = 0,0\n",
    "#         dst[src < Th] = 0\n",
    "#         dst[src >= Th] = 255\n",
    "        n1,n2,sum1,sum2 = 0,0,0.0,0.0\n",
    "        w1,w2,u1,u2,g = 0.0,0.0,0.0,0.0,0.0\n",
    "    dst[src < Th] = 0\n",
    "    dst[src >= Th] = 255\n",
    "    \n",
    "    return dst,Th\n",
    "                "
   ]
  },
  {
   "cell_type": "code",
   "execution_count": null,
   "metadata": {},
   "outputs": [],
   "source": [
    "dst,th = ostu_thresh_segment(gray)\n",
    "print('threshold:',th)"
   ]
  },
  {
   "cell_type": "code",
   "execution_count": null,
   "metadata": {},
   "outputs": [],
   "source": [
    "plt.subplot(121)\n",
    "plt.imshow(gray,'gray')\n",
    "plt.title('SRC')\n",
    "plt.subplot(122)\n",
    "plt.imshow(dst,'gray')\n",
    "plt.title('OSTU Threshold')"
   ]
  },
  {
   "cell_type": "code",
   "execution_count": null,
   "metadata": {
    "collapsed": true
   },
   "outputs": [],
   "source": [
    "def ostu_thresh(src):\n",
    "    rows,cols = src.shape[0],src.shape[1]\n",
    "    counts = np.zeros((256,),dtype=np.int32)\n",
    "    "
   ]
  },
  {
   "cell_type": "markdown",
   "metadata": {},
   "source": [
    "参考：\n",
    "\n",
    "[1]. https://blog.csdn.net/trent1985/article/details/45169015\n",
    "\n",
    "[2]. https://blog.csdn.net/liyuanbhu/article/details/49387483\n",
    "\n",
    "[3]. https://blog.csdn.net/qq_20823641/article/details/51480651\n",
    "\n",
    "[4]. https://blog.csdn.net/taoyanbian1022/article/details/9030825"
   ]
  }
 ],
 "metadata": {
  "kernelspec": {
   "display_name": "Python 3",
   "language": "python",
   "name": "python3"
  },
  "language_info": {
   "codemirror_mode": {
    "name": "ipython",
    "version": 3
   },
   "file_extension": ".py",
   "mimetype": "text/x-python",
   "name": "python",
   "nbconvert_exporter": "python",
   "pygments_lexer": "ipython3",
   "version": "3.6.3"
  }
 },
 "nbformat": 4,
 "nbformat_minor": 2
}
