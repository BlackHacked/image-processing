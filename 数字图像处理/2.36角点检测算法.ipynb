{
 "cells": [
  {
   "cell_type": "markdown",
   "metadata": {},
   "source": [
    "# 角点检测算法"
   ]
  },
  {
   "cell_type": "code",
   "execution_count": 56,
   "metadata": {},
   "outputs": [],
   "source": [
    "#coding:utf-8\n",
    "import numpy as np\n",
    "%matplotlib  inline\n",
    "import cv2\n",
    "import matplotlib.pyplot as plt\n",
    "import pandas as pd\n",
    "from pandas import DataFrame"
   ]
  },
  {
   "cell_type": "code",
   "execution_count": 58,
   "metadata": {},
   "outputs": [],
   "source": [
    "src = cv2.cvtColor(cv2.imread('../datas/checkerboard.jpg'),cv2.COLOR_BGR2RGB)"
   ]
  },
  {
   "cell_type": "code",
   "execution_count": null,
   "metadata": {},
   "outputs": [],
   "source": [
    "def togray(src):\n",
    "    rgb = np.float64(src)\n",
    "    dst = 0.299 * rgb[:,:,0] + 0.587 * rgb[:,:,1] + 0.114 * rgb[:,:,2]\n",
    "    return cv2.convertScaleAbs(dst)\n",
    "\n",
    "# def get_iv(src):\n",
    "#     Ix = np.zeros(src.shape,dtype=np.float64)\n",
    "#     Iy = np.zeros(src.shape,dtype=np.float64)\n",
    "#     Ixy = np.zeros(src.shape,dtype=np.float64)\n",
    "#     rows,cols = src.shape[:2]\n",
    "#     for i in range(1,rows - 1):\n",
    "#         for j in range(1,cols - 1):\n",
    "#             Ix[i, j] = np.abs(src[i + 1, j - 1] + src[i + 1, j] + src[i + 1, j + 1] - src[i - 1, j - 1] - src[i - 1, j] - src[i - 1, j + 1])  \n",
    "#             Iy[i, j] = np.abs(src[i - 1, j + 1] + src[i, j + 1] + src[i + 1, j + 1] - src[i - 1, j - 1] - src[i, j - 1] - src[i + 1, j - 1])  \n",
    "#             Ixy[i, j] = np.abs(Ix[i, j] * Iy[i, j]);\n",
    "#     return Ix,Iy,Ixy\n",
    "\n",
    "# def gaussian_filter(src):\n",
    "#     rows,cols = src.shape[:2]\n",
    "#     Ix = np.zeros_like(src)\n",
    "#     for i in range(1,rows - 1):\n",
    "#         for j in range(1,cols - 1):\n",
    "#             Ix[i, j] = (src[i - 1, j - 1] + src[i, j - 1] * 2 + src[i + 1, j - 1] + 2 * src[i - 1, j] + 4 * Ix[i, j] + 2 * src[i + 1, j] + src[i - 1, j + 1] + 2 * src[i, j + 1] + src[i + 1, j + 1]) / 16\n",
    "            \n",
    "#     return Ix\n",
    "\n",
    "# def get_cim(Ix,Iy,Ixy):\n",
    "#     rows,cols = Ix.shape[0],Ix.shape[1]\n",
    "#     results = np.zeros_like(Ix)\n",
    "#     for i in range(1,rows-1):\n",
    "#         for j in range(1,cols-1):\n",
    "#             cim = np.abs(Ix[i, j] * Iy[i, j] - Ixy[i, j] * Ixy[i, j]) / (Ix[i, j] * Ix[i, j] + Iy[i, j] * Iy[i, j])\n",
    "#             results[i,j] = cim\n",
    "            \n",
    "#     return results\n",
    "\n",
    "# def get_max(src):\n",
    "#     return np.max(src)\n",
    "\n",
    "# def harris(src,crf):\n",
    "#     rows,cols = src.shape[0],src.shape[1]\n",
    "#     Ix = np.zeros((rows,cols),dtype=np.float64)\n",
    "#     Iy = np.zeros((rows,cols),dtype=np.float64)\n",
    "#     Ixy = np.zeros((rows,cols),dtype=np.float64)\n",
    "#     result = np.zeros((rows,cols),dtype=np.float64)\n",
    "    \n",
    "#     srcBytes = np.float64(togray(src))\n",
    "#     Ix,Iy,Ixy = get_iv(srcBytes)\n",
    "#     Ix = gaussian_filter(Ix)\n",
    "#     Iy = gaussian_filter(Iy)\n",
    "#     Ixy = gaussian_filter(Ixy)\n",
    "#     cim = get_cim(Ix,Iy,Ixy)\n",
    "    \n",
    "#     for i in range(1,rows - 1):\n",
    "#         for j in range(1,cols - 1):\n",
    "#             arr = [cim[i - 1, j - 1], cim[i, j - 1], cim[i + 1, j - 1], \n",
    "#                             cim[i - 1, j], cim[i, j], cim[i + 1, j], cim[i - 1, j + 1], \n",
    "#                             cim[i, j + 1], cim[i + 1, j + 1]]\n",
    "#             max_value = max(arr)\n",
    "#             if (cim[i,j] ==max_value) and (cim[i,j] > crf):\n",
    "#                 result[i,j] = 1\n",
    "#     return result"
   ]
  },
  {
   "cell_type": "code",
   "execution_count": 61,
   "metadata": {},
   "outputs": [],
   "source": [
    "def findCorners(img, window_size, k, thresh):\n",
    "    \"\"\"\n",
    "    Finds and returns list of corners and new image with corners drawn\n",
    "    :param img: The original image\n",
    "    :param window_size: The size (side length) of the sliding window\n",
    "    :param k: Harris corner constant. Usually 0.04 - 0.06\n",
    "    :param thresh: The threshold above which a corner is counted\n",
    "    :return:\n",
    "    \"\"\"\n",
    "    #Find x and y derivatives\n",
    "    dy, dx = np.gradient(img)\n",
    "#     res = np.gradient(img)\n",
    "    \n",
    "    Ixx = dx**2\n",
    "    Ixy = dy*dx\n",
    "    Iyy = dy**2\n",
    "    height = img.shape[0]\n",
    "    width = img.shape[1]\n",
    "\n",
    "    cornerList = []\n",
    "    newImg = img.copy()\n",
    "    color_img = cv2.cvtColor(newImg, cv2.COLOR_GRAY2RGB)\n",
    "    offset = window_size//2\n",
    "\n",
    "    #Loop through image and find our corners\n",
    "    for y in range(offset, height-offset):\n",
    "        for x in range(offset, width-offset):\n",
    "            #Calculate sum of squares\n",
    "            windowIxx = Ixx[y-offset:y+offset+1, x-offset:x+offset+1]\n",
    "            windowIxy = Ixy[y-offset:y+offset+1, x-offset:x+offset+1]\n",
    "            windowIyy = Iyy[y-offset:y+offset+1, x-offset:x+offset+1]\n",
    "            Sxx = windowIxx.sum()\n",
    "            Sxy = windowIxy.sum()\n",
    "            Syy = windowIyy.sum()\n",
    "\n",
    "            #Find determinant and trace, use to get corner response\n",
    "            det = (Sxx * Syy) - (Sxy**2)\n",
    "            trace = Sxx + Syy\n",
    "            r = det - k*(trace**2)\n",
    "\n",
    "            #If corner response is over threshold, color the point and add to corner list\n",
    "            if r > thresh:\n",
    "#                 print x, y, r\n",
    "                cornerList.append([x, y, r])\n",
    "                color_img.itemset((y, x, 0), 0)\n",
    "                color_img.itemset((y, x, 1), 0)\n",
    "                color_img.itemset((y, x, 2), 255)\n",
    "    return color_img, cornerList"
   ]
  },
  {
   "cell_type": "code",
   "execution_count": 62,
   "metadata": {},
   "outputs": [],
   "source": [
    "# dst = harris(src,1000)"
   ]
  },
  {
   "cell_type": "code",
   "execution_count": 63,
   "metadata": {},
   "outputs": [],
   "source": [
    "gray = togray(src)\n",
    "cimg,corners = findCorners(gray,5,0.04,1000)"
   ]
  },
  {
   "cell_type": "code",
   "execution_count": 64,
   "metadata": {},
   "outputs": [
    {
     "data": {
      "text/plain": [
       "<matplotlib.image.AxesImage at 0x1fe577404a8>"
      ]
     },
     "execution_count": 64,
     "metadata": {},
     "output_type": "execute_result"
    },
    {
     "data": {
      "image/png": "[encoded data removed]",
      "text/plain": [
       "<Figure size 432x288 with 1 Axes>"
      ]
     },
     "metadata": {},
     "output_type": "display_data"
    }
   ],
   "source": [
    "plt.imshow(cimg)"
   ]
  },
  {
   "cell_type": "markdown",
   "metadata": {},
   "source": [
    "参考：\n",
    "\n",
    "[1]. https://blog.csdn.net/woxincd/article/details/60754658\n",
    "\n",
    "[2]. https://blog.csdn.net/trent1985/article/details/45023059"
   ]
  }
 ],
 "metadata": {
  "kernelspec": {
   "display_name": "Python 3",
   "language": "python",
   "name": "python3"
  },
  "language_info": {
   "codemirror_mode": {
    "name": "ipython",
    "version": 3
   },
   "file_extension": ".py",
   "mimetype": "text/x-python",
   "name": "python",
   "nbconvert_exporter": "python",
   "pygments_lexer": "ipython3",
   "version": "3.6.4"
  }
 },
 "nbformat": 4,
 "nbformat_minor": 2
}
