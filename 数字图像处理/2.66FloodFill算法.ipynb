{
 "cells": [
  {
   "cell_type": "markdown",
   "metadata": {},
   "source": [
    "# FloodFill算法"
   ]
  },
  {
   "cell_type": "code",
   "execution_count": null,
   "metadata": {},
   "outputs": [],
   "source": [
    "#coding:utf-8\n",
    "import numpy as np\n",
    "%matplotlib  inline\n",
    "import cv2\n",
    "import matplotlib.pyplot as plt\n",
    "import pandas as pd\n",
    "import queue\n",
    "import random\n",
    "from pandas import DataFrame\n",
    "from PIL import Image, ImageDraw\n",
    "import pylab as pl"
   ]
  },
  {
   "cell_type": "code",
   "execution_count": null,
   "metadata": {},
   "outputs": [],
   "source": [
    "src = cv2.cvtColor(cv2.imread('../datas/char.jpg'),cv2.COLOR_BGR2RGB)"
   ]
  },
  {
   "cell_type": "code",
   "execution_count": null,
   "metadata": {},
   "outputs": [],
   "source": [
    "def flood_fill(src,x,y,fillColor,threshold):\n",
    "    rows,cols = src.shape[0],src.shape[1]\n",
    "    if x < 0 or y < 0 or x > cols or y > rows:\n",
    "        return np.zeros_like(src)\n",
    "    dst = np.zeros_like(src)\n",
    "    fillPoints = np.zeros((rows * cols + 1),dtype=np.int32).tolist()\n",
    "    for i in range(len(fillPoints)):\n",
    "        fillPoints[i] = (0,0)\n",
    "    fillImage = np.zeros_like(src)\n",
    "    mask = np.zeros((rows,cols),dtype=np.int32)\n",
    "    backColor = src[x,y]\n",
    "    gray = np.sum(backColor) / 3.0\n",
    "    fillPoints[len(fillPoints) - 1] = (x,y)\n",
    "    \n",
    "    while len(fillPoints) > 0:\n",
    "        p = fillPoints.pop(0)\n",
    "        \n",
    "        mask[p[0],p[1]] = 1\n",
    "        dst[p[0],p[1]] = fillColor\n",
    "        \n",
    "        if p[0] > 0 :\n",
    "            gv = np.sum(src[(p[0] - 1),p[1]]) / 3.0\n",
    "            dif = gray - gv\n",
    "            if dif < threshold and mask[p[0] - 1,p[1]] != 1:\n",
    "                dst[p[0] - 1,p[1]] = fillColor\n",
    "                fillPoints.insert(0,(p[0] - 1,p[1]))\n",
    "                mask[p[0] - 1,p[1]] = 1\n",
    "        \n",
    "        \n",
    "        if p[0] < cols - 1: \n",
    "            gv = np.sum(src[p[0] + 1,p[1]]) / 3.0\n",
    "            dif = gray - gv\n",
    "            if dif < threshold and mask[p[0] + 1,p[1]] != 1:\n",
    "                dst[p[0] + 1,p[1]] = fillColor\n",
    "                fillPoints.insert(0,(p[0] + 1,p[1]))\n",
    "                mask[p[0] + 1,p[1]]\n",
    "            \n",
    "        \n",
    "        if p[1] > 0 : \n",
    "            gv = np.sum(src[p[0],p[1] - 1]) / 3.0\n",
    "            dif = gray - gv\n",
    "            if dif < threshold and mask[p[0],p[1] - 1] != 1:\n",
    "                dst[p[0],p[1] - 1] = fillColor\n",
    "                fillPoints.insert(0,(p[0],p[1] - 1))\n",
    "                mask[p[0],p[1] - 1] = 1\n",
    "            \n",
    "        \n",
    "        if p[1] < rows - 1:\n",
    "            gv = np.sum(src[p[0],p[1] - 1]) / 3.0\n",
    "            dif = gray - gv\n",
    "            if dif < threshold and mask[p[0],p[1] + 1] != 1:\n",
    "                dst[p[0],p[1] + 1] = fillColor\n",
    "                fillPoints.insert(0,(p[0],p[1] + 1))\n",
    "                mask[p[0],p[1] + 1] = 1\n",
    "            \n",
    "    return fillImage"
   ]
  },
  {
   "cell_type": "code",
   "execution_count": null,
   "metadata": {},
   "outputs": [],
   "source": [
    "dst = flood_fill(src,20,20,(243,128,64),160)"
   ]
  },
  {
   "cell_type": "code",
   "execution_count": null,
   "metadata": {},
   "outputs": [],
   "source": [
    "plt.imshow(dst)"
   ]
  },
  {
   "cell_type": "markdown",
   "metadata": {},
   "source": [
    "参考：\n",
    "\n",
    "[1]. https://blog.csdn.net/trent1985/article/details/45267605"
   ]
  }
 ],
 "metadata": {
  "kernelspec": {
   "display_name": "Python 3",
   "language": "python",
   "name": "python3"
  },
  "language_info": {
   "codemirror_mode": {
    "name": "ipython",
    "version": 3
   },
   "file_extension": ".py",
   "mimetype": "text/x-python",
   "name": "python",
   "nbconvert_exporter": "python",
   "pygments_lexer": "ipython3",
   "version": "3.6.4"
  }
 },
 "nbformat": 4,
 "nbformat_minor": 2
}
