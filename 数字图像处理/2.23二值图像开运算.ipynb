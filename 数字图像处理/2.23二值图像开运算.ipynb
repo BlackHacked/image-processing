{
 "cells": [
  {
   "cell_type": "markdown",
   "metadata": {},
   "source": [
    "# 二值图像开运算"
   ]
  },
  {
   "cell_type": "code",
   "execution_count": 1,
   "metadata": {},
   "outputs": [],
   "source": [
    "#coding:utf-8\n",
    "import numpy as np\n",
    "%matplotlib  inline\n",
    "import cv2\n",
    "import matplotlib.pyplot as plt\n",
    "import pandas as pd\n",
    "from pandas import DataFrame"
   ]
  },
  {
   "cell_type": "code",
   "execution_count": 2,
   "metadata": {},
   "outputs": [],
   "source": [
    "src = cv2.cvtColor(cv2.imread('../datas/f2.jpg'),cv2.COLOR_BGR2RGB)"
   ]
  },
  {
   "cell_type": "code",
   "execution_count": 3,
   "metadata": {},
   "outputs": [],
   "source": [
    "def togray(src):\n",
    "    dst = np.zeros((src.shape[0],src.shape[1]),dtype=np.float64)\n",
    "    rgb = np.float64(src)\n",
    "    dst = 0.299 * rgb[:,:,0] + 0.587 * rgb[:,:,1] + 0.114 * rgb[:,:,2]\n",
    "    return cv2.convertScaleAbs(dst)\n",
    "\n",
    "def tobinary(src,thresh):\n",
    "    dst = np.zeros_like(src)\n",
    "    dst[src < thresh] = 0\n",
    "    dst[src >= thresh] = 255\n",
    "    return dst\n",
    "\n",
    "def dilation(src):\n",
    "    dst = np.zeros_like(src)\n",
    "    rows,cols = src.shape[0],src.shape[1]\n",
    "    for x in range(1,rows - 1):\n",
    "        for y in range(1,cols - 1):\n",
    "            if src[x,y-1] == 255 or src[x - 1,y] == 255 or \\\n",
    "               src[x,y] == 255 or src[x + 1,y] == 255 or src[x,y + 1] == 255:\n",
    "                dst[x,y] = 255\n",
    "            else:\n",
    "                dst[x,y] = 0\n",
    "                \n",
    "    return dst\n",
    "\n",
    "def corrosion(src):\n",
    "    dst = np.zeros_like(src)\n",
    "    rows,cols = src.shape[0],src.shape[1]\n",
    "    for x in range(1,rows - 1):\n",
    "        for y in range(1,cols - 1):\n",
    "            if src[x,y-1] == 255 and src[x - 1,y] == 255 and \\\n",
    "               src[x,y] == 255 and src[x + 1,y] == 255 and src[x,y + 1] == 255:\n",
    "                dst[x,y] = 255\n",
    "            else:\n",
    "                dst[x,y] = 0\n",
    "                \n",
    "    return dst\n",
    "\n",
    "def openoperate(src):\n",
    "    return dilation(corrosion(src))"
   ]
  },
  {
   "cell_type": "code",
   "execution_count": 4,
   "metadata": {},
   "outputs": [],
   "source": [
    "gray = togray(src)\n",
    "binary = tobinary(gray,160)\n",
    "dst = openoperate(binary)"
   ]
  },
  {
   "cell_type": "code",
   "execution_count": 5,
   "metadata": {},
   "outputs": [
    {
     "data": {
      "text/plain": [
       "Text(0.5,1,'Open Operation')"
      ]
     },
     "execution_count": 5,
     "metadata": {},
     "output_type": "execute_result"
    },
    {
     "data": {
      "image/png": "[encoded data removed]",
      "text/plain": [
       "<Figure size 432x288 with 2 Axes>"
      ]
     },
     "metadata": {},
     "output_type": "display_data"
    }
   ],
   "source": [
    "plt.subplot(121)\n",
    "plt.imshow(binary,'gray')\n",
    "plt.title('Binary')\n",
    "plt.subplot(122)\n",
    "plt.imshow(dst,'gray')\n",
    "plt.title('Open Operation')"
   ]
  },
  {
   "cell_type": "code",
   "execution_count": 6,
   "metadata": {},
   "outputs": [
    {
     "data": {
      "text/plain": [
       "Text(0.5,1,'Binary-Corrosion')"
      ]
     },
     "execution_count": 6,
     "metadata": {},
     "output_type": "execute_result"
    },
    {
     "data": {
      "image/png": "[encoded data removed]",
      "text/plain": [
       "<Figure size 432x288 with 1 Axes>"
      ]
     },
     "metadata": {},
     "output_type": "display_data"
    }
   ],
   "source": [
    "diff = dst - binary\n",
    "plt.imshow(diff,'gray')\n",
    "plt.title('Binary-Corrosion')"
   ]
  },
  {
   "cell_type": "markdown",
   "metadata": {},
   "source": [
    "参考：\n",
    "\n",
    "[1]. https://blog.csdn.net/trent1985/article/details/44936629"
   ]
  }
 ],
 "metadata": {
  "kernelspec": {
   "display_name": "Python 3",
   "language": "python",
   "name": "python3"
  },
  "language_info": {
   "codemirror_mode": {
    "name": "ipython",
    "version": 3
   },
   "file_extension": ".py",
   "mimetype": "text/x-python",
   "name": "python",
   "nbconvert_exporter": "python",
   "pygments_lexer": "ipython3",
   "version": "3.6.4"
  }
 },
 "nbformat": 4,
 "nbformat_minor": 2
}
