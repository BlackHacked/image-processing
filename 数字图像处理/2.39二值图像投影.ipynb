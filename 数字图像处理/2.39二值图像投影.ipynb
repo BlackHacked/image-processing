{
 "cells": [
  {
   "cell_type": "markdown",
   "metadata": {},
   "source": [
    "# 二值图像投影"
   ]
  },
  {
   "cell_type": "code",
   "execution_count": 1,
   "metadata": {},
   "outputs": [],
   "source": [
    "#coding:utf-8\n",
    "import numpy as np\n",
    "%matplotlib  inline\n",
    "import cv2\n",
    "import matplotlib.pyplot as plt\n",
    "import pandas as pd\n",
    "from pandas import DataFrame"
   ]
  },
  {
   "cell_type": "code",
   "execution_count": 40,
   "metadata": {},
   "outputs": [],
   "source": [
    "src = cv2.cvtColor(cv2.imread('../datas/f2.jpg'),cv2.COLOR_BGR2RGB)"
   ]
  },
  {
   "cell_type": "code",
   "execution_count": 56,
   "metadata": {},
   "outputs": [],
   "source": [
    "def rgb2gray(rgb):\n",
    "    return np.dot(rgb[..., :3], [0.299, 0.587, 0.114]).astype(np.uint8)\n",
    "\n",
    "def tobinary(gray,thresh):\n",
    "    dst = np.zeros_like(gray)\n",
    "    idx = (gray >= thresh)\n",
    "    dst[idx] = 255\n",
    "    return dst\n",
    "\n",
    "def projection(src):\n",
    "    rows,cols = src.shape[0],src.shape[1]\n",
    "    paint_x = np.zeros_like(src)\n",
    "    paint_y = np.zeros_like(src)\n",
    "    vertical = np.zeros((cols,),dtype = np.int32)\n",
    "    horizontal = np.zeros((rows,),dtype = np.int32)\n",
    "    for i in range(cols):\n",
    "        for j in range(rows):\n",
    "            if src[j,i] == 0:\n",
    "                vertical[i] += 1\n",
    "    for i in range(cols):\n",
    "        for j in range(vertical[i]):\n",
    "            paint_x[rows - j - 1,i] = 255\n",
    "    \n",
    "    \n",
    "    for i in range(rows):\n",
    "        for j in range(cols):\n",
    "            if src[i,j] == 0:\n",
    "                horizontal[i] += 1\n",
    "                \n",
    "    for i in range(rows):\n",
    "        for j in range(horizontal[i]):\n",
    "            paint_y[i,j] = 255\n",
    "    \n",
    "    return paint_x,paint_y\n",
    "    \n",
    "    "
   ]
  },
  {
   "cell_type": "code",
   "execution_count": 57,
   "metadata": {},
   "outputs": [],
   "source": [
    "gray = rgb2gray(src)\n",
    "binary = tobinary(gray,80)\n",
    "px,py = projection(binary)"
   ]
  },
  {
   "cell_type": "code",
   "execution_count": 58,
   "metadata": {},
   "outputs": [
    {
     "data": {
      "text/plain": [
       "Text(0.5,1,'Horizontal Projection')"
      ]
     },
     "execution_count": 58,
     "metadata": {},
     "output_type": "execute_result"
    },
    {
     "data": {
      "image/png": "[encoded data removed]",
      "text/plain": [
       "<Figure size 432x288 with 2 Axes>"
      ]
     },
     "metadata": {},
     "output_type": "display_data"
    }
   ],
   "source": [
    "plt.subplot(121)\n",
    "plt.imshow(px,'gray')\n",
    "plt.title('Vertical Projection')\n",
    "plt.subplot(122)\n",
    "plt.imshow(py,'gray')\n",
    "plt.title('Horizontal Projection')"
   ]
  },
  {
   "cell_type": "markdown",
   "metadata": {},
   "source": [
    "参考：\n",
    "\n",
    "[1]. https://blog.csdn.net/zju_fish1996/article/details/51908584\n",
    "\n",
    "[2]. https://blog.csdn.net/zju_fish1996/article/details/51908584"
   ]
  }
 ],
 "metadata": {
  "kernelspec": {
   "display_name": "Python 3",
   "language": "python",
   "name": "python3"
  },
  "language_info": {
   "codemirror_mode": {
    "name": "ipython",
    "version": 3
   },
   "file_extension": ".py",
   "mimetype": "text/x-python",
   "name": "python",
   "nbconvert_exporter": "python",
   "pygments_lexer": "ipython3",
   "version": "3.6.4"
  }
 },
 "nbformat": 4,
 "nbformat_minor": 2
}
