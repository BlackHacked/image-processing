{
 "cells": [
  {
   "cell_type": "markdown",
   "metadata": {},
   "source": [
    "# 边缘检测算子Marr-Hildreth(LOG)"
   ]
  },
  {
   "cell_type": "code",
   "execution_count": 2,
   "metadata": {},
   "outputs": [],
   "source": [
    "#coding:utf-8\n",
    "import numpy as np\n",
    "%matplotlib  inline\n",
    "import cv2\n",
    "import matplotlib.pyplot as plt"
   ]
  },
  {
   "cell_type": "code",
   "execution_count": 3,
   "metadata": {},
   "outputs": [],
   "source": [
    "src = cv2.cvtColor(cv2.imread('../datas/f2.jpg'),cv2.COLOR_BGR2RGB)\n",
    "gray = cv2.imread('../datas/f2.jpg',0)"
   ]
  },
  {
   "cell_type": "code",
   "execution_count": 8,
   "metadata": {},
   "outputs": [],
   "source": [
    "def gen_log_kernel(kvalue,delta):\n",
    "    kerlen = kvalue >> 1\n",
    "    kernel = np.zeros((kvalue,kvalue))\n",
    "    for i in range(-kerlen,kerlen+1):\n",
    "        for j in range(-kerlen,kerlen+1):\n",
    "            kernel[i+kerlen,j+kerlen] = np.exp(-(i * i + j * j)/(2 * delta * delta)) *\\\n",
    "            (i * i + j * j - 2 * delta * delta) / (delta ** 4)\n",
    "    return kernel"
   ]
  },
  {
   "cell_type": "code",
   "execution_count": 18,
   "metadata": {},
   "outputs": [],
   "source": [
    "kernel = gen_log_kernel(3,1)"
   ]
  },
  {
   "cell_type": "code",
   "execution_count": 19,
   "metadata": {},
   "outputs": [
    {
     "name": "stdout",
     "output_type": "stream",
     "text": [
      "[[ 0.         -0.60653066  0.        ]\n",
      " [-0.60653066 -2.         -0.60653066]\n",
      " [ 0.         -0.60653066  0.        ]]\n"
     ]
    }
   ],
   "source": [
    "print(kernel)"
   ]
  },
  {
   "cell_type": "code",
   "execution_count": 27,
   "metadata": {},
   "outputs": [],
   "source": [
    "def log_edge_detect(src,kvalue,delta):\n",
    "    rows,cols = src.shape\n",
    "    kernel = gen_log_kernel(kvalue,delta)\n",
    "    keroffset = kvalue >> 1\n",
    "    srcf = src.astype(np.float32)\n",
    "    lap = cv2.filter2D(srcf,-1,kernel)\n",
    "    dst = np.zeros_like(lap)\n",
    "    # 邻域判定\n",
    "    for i in range(1,rows-1):\n",
    "        for j in range(1,cols-1):\n",
    "            if lap[i - 1,j] * lap[i+1,j] < 0:\n",
    "                dst[i,j] = 255\n",
    "            if lap[i,j+1] * lap[i,j-1] < 0:\n",
    "                dst[i,j] = 255\n",
    "            if lap[i+1,j+1] * lap[i-1,j-1] < 0:\n",
    "                dst[i,j] = 255\n",
    "            if lap[i-1,j+1] * lap[i+1,j-1] < 0:\n",
    "                dst[i,j] = 255\n",
    "    print(dst)\n",
    "    return dst.astype(np.uint8)"
   ]
  },
  {
   "cell_type": "code",
   "execution_count": 28,
   "metadata": {},
   "outputs": [
    {
     "name": "stdout",
     "output_type": "stream",
     "text": [
      "[[0. 0. 0. ... 0. 0. 0.]\n",
      " [0. 0. 0. ... 0. 0. 0.]\n",
      " [0. 0. 0. ... 0. 0. 0.]\n",
      " ...\n",
      " [0. 0. 0. ... 0. 0. 0.]\n",
      " [0. 0. 0. ... 0. 0. 0.]\n",
      " [0. 0. 0. ... 0. 0. 0.]]\n"
     ]
    }
   ],
   "source": [
    "dst = log_edge_detect(gray,5,2)"
   ]
  },
  {
   "cell_type": "code",
   "execution_count": 29,
   "metadata": {},
   "outputs": [
    {
     "data": {
      "text/plain": [
       "<matplotlib.image.AxesImage at 0x1fa27890278>"
      ]
     },
     "execution_count": 29,
     "metadata": {},
     "output_type": "execute_result"
    },
    {
     "data": {
      "image/png": "[encoded data removed]",
      "text/plain": [
       "<Figure size 432x288 with 1 Axes>"
      ]
     },
     "metadata": {},
     "output_type": "display_data"
    }
   ],
   "source": [
    "plt.imshow(dst,'gray')"
   ]
  },
  {
   "cell_type": "markdown",
   "metadata": {},
   "source": [
    "参考：\n",
    "\n",
    "[1]. https://blog.csdn.net/a664607530/article/details/79318564"
   ]
  },
  {
   "cell_type": "code",
   "execution_count": null,
   "metadata": {},
   "outputs": [],
   "source": []
  }
 ],
 "metadata": {
  "kernelspec": {
   "display_name": "Python 3",
   "language": "python",
   "name": "python3"
  },
  "language_info": {
   "codemirror_mode": {
    "name": "ipython",
    "version": 3
   },
   "file_extension": ".py",
   "mimetype": "text/x-python",
   "name": "python",
   "nbconvert_exporter": "python",
   "pygments_lexer": "ipython3",
   "version": "3.6.4"
  }
 },
 "nbformat": 4,
 "nbformat_minor": 2
}
