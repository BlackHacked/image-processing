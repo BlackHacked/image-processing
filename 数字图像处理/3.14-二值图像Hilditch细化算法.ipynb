{
 "cells": [
  {
   "cell_type": "markdown",
   "metadata": {},
   "source": [
    "# 二值图像Hilditch细化算法"
   ]
  },
  {
   "cell_type": "code",
   "execution_count": null,
   "metadata": {
    "collapsed": true
   },
   "outputs": [],
   "source": [
    "#coding:utf-8\n",
    "import numpy as np\n",
    "%matplotlib  inline\n",
    "import cv2\n",
    "import matplotlib.pyplot as plt\n",
    "import pandas as pd\n",
    "from pandas import DataFrame"
   ]
  },
  {
   "cell_type": "code",
   "execution_count": null,
   "metadata": {
    "collapsed": true
   },
   "outputs": [],
   "source": [
    "src = cv2.cvtColor(cv2.imread('../datas/f2.jpg'),cv2.COLOR_BGR2RGB)"
   ]
  },
  {
   "cell_type": "code",
   "execution_count": 2,
   "metadata": {},
   "outputs": [],
   "source": [
    "def rgb2gray(rgb):\n",
    "    return np.dot(rgb[..., :3], [0.299, 0.587, 0.114]).astype(np.uint8)\n",
    "                                                              \n",
    "def tobinary(gray,thresh):\n",
    "    dst = np.zeros_like(gray)\n",
    "    idx = (gray >= thresh)\n",
    "    dst[idx] = 255\n",
    "    return dst\n",
    "                                                              \n",
    "def hilditch(image):\n",
    "    rows,cols = image.shape\n",
    "    check = 1\n",
    "    mark = 128\n",
    "    a = np.zeros((9),dtype=image.dtype)\n",
    "    b = np.zeros_like(a)\n",
    "    while check != 0:\n",
    "        check = 0\n",
    "        \n",
    "        for j in range(1,rows - 1):\n",
    "            for i in range(1,cols - 1):\n",
    "                if src[j,i] != 255:\n",
    "                    continue\n",
    "                a[0] = src[j,i + 1]\n",
    "                a[1] = src[j-1,i+1]\n",
    "                a[2] = src[j-1,i]\n",
    "                a[3] = src[j-1,i-1]\n",
    "                a[4] = src[j,i-1]\n",
    "                a[5] = src[j+1,i-1]\n",
    "                a[6] = src[j+1,i]\n",
    "                a[7] = src[j+1,i+1]\n",
    "                \n",
    "                for m in range(8):\n",
    "                    if a[m] == mark:\n",
    "                        a[m] = 255\n",
    "                        b[m] = 255\n",
    "                    else:\n",
    "                        b[m] = a[m]\n",
    "                a[8] = a[0]\n",
    "                b[8] = b[0]\n",
    "                \n",
    "                #4联通全为255\n",
    "                if a[0] + a[2] + a[4] + a[6] == 4 * 255\n",
    "                    continue\n",
    "                if a[0]+a[1]+a[2]+a[3]+a[4]+a[5]+a[6]+a[7]<=1:\n",
    "                    continue\n",
    "                if b[0]+b[1]+b[2]+b[3]+b[4]+b[5]+b[6]+b[7]==0:\n",
    "                    continue\n",
    "                \n",
    "        "
   ]
  }
 ],
 "metadata": {
  "kernelspec": {
   "display_name": "Python 3",
   "language": "python",
   "name": "python3"
  },
  "language_info": {
   "codemirror_mode": {
    "name": "ipython",
    "version": 3
   },
   "file_extension": ".py",
   "mimetype": "text/x-python",
   "name": "python",
   "nbconvert_exporter": "python",
   "pygments_lexer": "ipython3",
   "version": "3.6.4"
  }
 },
 "nbformat": 4,
 "nbformat_minor": 2
}
