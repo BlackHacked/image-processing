{
 "cells": [
  {
   "cell_type": "markdown",
   "metadata": {},
   "source": [
    "# 形态学轮廓提取算法"
   ]
  },
  {
   "cell_type": "code",
   "execution_count": 2,
   "metadata": {},
   "outputs": [],
   "source": [
    "#coding:utf-8\n",
    "import numpy as np\n",
    "%matplotlib  inline\n",
    "import cv2\n",
    "import matplotlib.pyplot as plt\n",
    "import pandas as pd\n",
    "from pandas import DataFrame"
   ]
  },
  {
   "cell_type": "code",
   "execution_count": 44,
   "metadata": {},
   "outputs": [],
   "source": [
    "src = cv2.cvtColor(cv2.imread('../datas/char.jpg'),cv2.COLOR_BGR2GRAY)"
   ]
  },
  {
   "cell_type": "code",
   "execution_count": 60,
   "metadata": {},
   "outputs": [],
   "source": [
    "def morcontour_extraction(src):\n",
    "    dst = np.zeros_like(src)\n",
    "    rows,cols = src.shape[0],src.shape[1]\n",
    "    \n",
    "    # 腐蚀\n",
    "    for i in range(1,rows - 1):\n",
    "        for j in range(1,cols - 1):\n",
    "            if src[i-1,j] == 255 and src[i,j] == 255 and \\\n",
    "                src[i+1,j] == 255 and src[i,j-1] == 255 and \\\n",
    "                src[i,j+1] == 255:\n",
    "                dst[i,j] = 255\n",
    "            else:\n",
    "                dst[i,j] = 0\n",
    "                \n",
    "    # 提取边缘\n",
    "    temp =  cv2.convertScaleAbs(src - dst)\n",
    "    dst =  np.zeros_like(src)\n",
    "    # 膨胀\n",
    "    for i in range(1,rows - 1):\n",
    "        for j in range(1,cols - 1):\n",
    "            if temp[i-1,j] == 255 or temp[i,j] == 255 or \\\n",
    "                temp[i+1,j] == 255 or temp[i,j-1] == 255 or \\\n",
    "                temp[i,j+1] == 255:\n",
    "                dst[i,j] = 255\n",
    "            else:\n",
    "                dst[i,j] = 0\n",
    "    return dst"
   ]
  },
  {
   "cell_type": "code",
   "execution_count": 61,
   "metadata": {},
   "outputs": [],
   "source": [
    "binary = np.zeros_like(src)\n",
    "idx = src >= 240\n",
    "binary[idx] = 255\n",
    "binary[~idx] = 0\n",
    "dst = morcontour_extraction(binary)"
   ]
  },
  {
   "cell_type": "code",
   "execution_count": 62,
   "metadata": {},
   "outputs": [
    {
     "data": {
      "text/plain": [
       "Text(0.5,1,'DST')"
      ]
     },
     "execution_count": 62,
     "metadata": {},
     "output_type": "execute_result"
    },
    {
     "data": {
      "image/png": "[encoded data removed]",
      "text/plain": [
       "<Figure size 432x288 with 2 Axes>"
      ]
     },
     "metadata": {},
     "output_type": "display_data"
    }
   ],
   "source": [
    "plt.subplot(121)\n",
    "plt.imshow(binary,'gray')\n",
    "plt.title('SRC')\n",
    "plt.subplot(122)\n",
    "plt.imshow(dst,'gray')\n",
    "plt.title('DST')"
   ]
  },
  {
   "cell_type": "markdown",
   "metadata": {},
   "source": [
    "## OpenCV 实现"
   ]
  },
  {
   "cell_type": "code",
   "execution_count": 68,
   "metadata": {},
   "outputs": [
    {
     "data": {
      "text/plain": [
       "Text(0.5,1,'DST')"
      ]
     },
     "execution_count": 68,
     "metadata": {},
     "output_type": "execute_result"
    },
    {
     "data": {
      "image/png": "[encoded data removed]",
      "text/plain": [
       "<Figure size 432x288 with 2 Axes>"
      ]
     },
     "metadata": {},
     "output_type": "display_data"
    }
   ],
   "source": [
    "element = cv2.getStructuringElement(cv2.MORPH_CROSS,(3,3))  \n",
    "\n",
    "erode = cv2.erode(src,element)\n",
    "dst = src - erode\n",
    "dst = cv2.dilate(dst,element)\n",
    "\n",
    "plt.subplot(121)\n",
    "plt.imshow(src,'gray')\n",
    "plt.title('SRC')\n",
    "plt.subplot(122)\n",
    "plt.imshow(dst,'gray')\n",
    "plt.title('DST')"
   ]
  },
  {
   "cell_type": "markdown",
   "metadata": {},
   "source": [
    "参考：\n",
    "\n",
    "[1]. https://blog.csdn.net/trent1985/article/details/45267595\n",
    "\n",
    "[2]. https://blog.csdn.net/sunny2038/article/details/9137759\n",
    "\n",
    "[3]. https://www.cnblogs.com/jsxyhelu/p/4491920.html\n",
    "\n",
    "[4]. http://www.zealfilter.com/portal.php"
   ]
  }
 ],
 "metadata": {
  "kernelspec": {
   "display_name": "Python 3",
   "language": "python",
   "name": "python3"
  },
  "language_info": {
   "codemirror_mode": {
    "name": "ipython",
    "version": 3
   },
   "file_extension": ".py",
   "mimetype": "text/x-python",
   "name": "python",
   "nbconvert_exporter": "python",
   "pygments_lexer": "ipython3",
   "version": "3.6.4"
  }
 },
 "nbformat": 4,
 "nbformat_minor": 2
}
