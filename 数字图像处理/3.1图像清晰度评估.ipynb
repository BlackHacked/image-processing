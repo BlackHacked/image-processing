{
 "cells": [
  {
   "cell_type": "markdown",
   "metadata": {},
   "source": [
    "# 图像清晰度评估\n",
    "\n",
    "图像清晰度评价算法有很多种，在空域中，主要思路是考察图像的领域对比度，即相邻像素间的灰度特征的梯度差；在频域中，主要思路是考察图像的频率分量，对焦清晰的图像高频分量较多，对焦模糊的图像低频分量较多。"
   ]
  },
  {
   "cell_type": "code",
   "execution_count": 25,
   "metadata": {},
   "outputs": [],
   "source": [
    "#coding:utf-8\n",
    "import numpy as np\n",
    "%matplotlib  inline\n",
    "import cv2\n",
    "import matplotlib.pyplot as plt\n",
    "import pandas as pd\n",
    "from pandas import DataFrame\n",
    "from scipy.misc import imread, imresize, imsave"
   ]
  },
  {
   "cell_type": "code",
   "execution_count": 6,
   "metadata": {},
   "outputs": [],
   "source": [
    "src = cv2.cvtColor(cv2.imread('../datas/f2.jpg'),cv2.COLOR_BGR2RGB)\n",
    "gray = cv2.cvtColor(src,cv2.COLOR_RGB2GRAY)"
   ]
  },
  {
   "cell_type": "markdown",
   "metadata": {},
   "source": [
    "# Tenengrad梯度方法\n",
    "\n",
    "Tenengrad梯度方法利用Sobel算子分别计算水平和垂直方向的梯度，同一场景下梯度值越高，图像越清晰。以下是具体实现，这里衡量的指标是经过Sobel算子处理后的图像的平均灰度值，值越大，代表图像越清晰。"
   ]
  },
  {
   "cell_type": "code",
   "execution_count": 7,
   "metadata": {},
   "outputs": [],
   "source": [
    "def tenengrad_articulation(src):\n",
    "    gray = cv2.cvtColor(src,cv2.COLOR_RGB2GRAY)\n",
    "    img_sobel = cv2.Sobel(gray,cv2.CV_16S,1,1)\n",
    "    \n",
    "    mean_value = np.mean(img_sobel)\n",
    "    return mean_value"
   ]
  },
  {
   "cell_type": "code",
   "execution_count": 8,
   "metadata": {},
   "outputs": [
    {
     "name": "stdout",
     "output_type": "stream",
     "text": [
      "0.0004524739583333333\n"
     ]
    }
   ],
   "source": [
    "print(tenengrad_articulation(src))"
   ]
  },
  {
   "cell_type": "markdown",
   "metadata": {},
   "source": [
    "# Laplacian梯度方法\n",
    "\n",
    "Laplacian梯度是另一种求图像梯度的方法，在上例的OpenCV代码中直接替换Sobel算子即可。"
   ]
  },
  {
   "cell_type": "code",
   "execution_count": 9,
   "metadata": {},
   "outputs": [],
   "source": [
    "def laplacian_articulation(src):\n",
    "    gray = cv2.cvtColor(src,cv2.COLOR_RGB2GRAY)\n",
    "    img_sobel = cv2.Laplacian(gray,cv2.CV_16U)\n",
    "    \n",
    "    mean_value = np.mean(img_sobel)\n",
    "    return mean_value"
   ]
  },
  {
   "cell_type": "code",
   "execution_count": 11,
   "metadata": {},
   "outputs": [
    {
     "name": "stdout",
     "output_type": "stream",
     "text": [
      "2.649055989583333\n"
     ]
    }
   ],
   "source": [
    "print(laplacian_articulation(src))"
   ]
  },
  {
   "cell_type": "markdown",
   "metadata": {},
   "source": [
    "# 方差方法\n",
    "\n",
    "方差是概率论中用来考察一组离散数据和其期望（即数据的均值）之间的离散（偏离）成都的度量方法。方差较大，表示这一组数据之间的偏差就较大，组内的数据有的较大，有的较小，分布不均衡；方差较小，表示这一组数据之间的偏差较小，组内的数据之间分布平均，大小相近。\n",
    "\n",
    "\n",
    "\n",
    "对焦清晰的图像相比对焦模糊的图像，它的数据之间的灰度差异应该更大，即它的方差应该较大，可以通过图像灰度数据的方差来衡量图像的清晰度，方差越大，表示清晰度越好。"
   ]
  },
  {
   "cell_type": "code",
   "execution_count": 23,
   "metadata": {},
   "outputs": [],
   "source": [
    "def variance_articulation(src):\n",
    "    gray = cv2.cvtColor(src,cv2.COLOR_RGB2GRAY)\n",
    "    mean_value,stddev = cv2.meanStdDev(gray)\n",
    "    return mean_value[0,0],stddev[0,0]"
   ]
  },
  {
   "cell_type": "code",
   "execution_count": 24,
   "metadata": {},
   "outputs": [
    {
     "data": {
      "text/plain": [
       "(116.16978841145833, 52.11182671663212)"
      ]
     },
     "execution_count": 24,
     "metadata": {},
     "output_type": "execute_result"
    }
   ],
   "source": [
    "variance_articulation(src)"
   ]
  },
  {
   "cell_type": "markdown",
   "metadata": {},
   "source": [
    "参考：\n",
    "\n",
    "[1].https://blog.csdn.net/dcrmg/article/details/53543341"
   ]
  }
 ],
 "metadata": {
  "kernelspec": {
   "display_name": "Python 3",
   "language": "python",
   "name": "python3"
  },
  "language_info": {
   "codemirror_mode": {
    "name": "ipython",
    "version": 3
   },
   "file_extension": ".py",
   "mimetype": "text/x-python",
   "name": "python",
   "nbconvert_exporter": "python",
   "pygments_lexer": "ipython3",
   "version": "3.6.3"
  }
 },
 "nbformat": 4,
 "nbformat_minor": 2
}
