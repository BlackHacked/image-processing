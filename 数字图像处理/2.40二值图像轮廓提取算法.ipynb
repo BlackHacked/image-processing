{
 "cells": [
  {
   "cell_type": "markdown",
   "metadata": {},
   "source": [
    "# 二值图像轮廓提取算法"
   ]
  },
  {
   "cell_type": "code",
   "execution_count": 1,
   "metadata": {},
   "outputs": [],
   "source": [
    "#coding:utf-8\n",
    "import numpy as np\n",
    "%matplotlib  inline\n",
    "import cv2\n",
    "import matplotlib.pyplot as plt\n",
    "import pandas as pd\n",
    "from pandas import DataFrame"
   ]
  },
  {
   "cell_type": "code",
   "execution_count": 2,
   "metadata": {},
   "outputs": [],
   "source": [
    "src = cv2.cvtColor(cv2.imread('../datas/f2.jpg'),cv2.COLOR_BGR2RGB)"
   ]
  },
  {
   "cell_type": "code",
   "execution_count": 4,
   "metadata": {},
   "outputs": [],
   "source": [
    "def rgb2gray(rgb):\n",
    "    return np.dot(rgb[..., :3], [0.299, 0.587, 0.114]).astype(np.uint8)\n",
    "\n",
    "def tobinary(gray,thresh):\n",
    "    dst = np.zeros_like(gray)\n",
    "    idx = (gray >= thresh)\n",
    "    dst[idx] = 255\n",
    "    return dst\n",
    "\n",
    "def contour_extraction(src):\n",
    "    rows,cols = src.shape\n",
    "    dst = np.zeros_like(src)\n",
    "    for i in range(1,rows - 1):\n",
    "        for j in range(1,cols - 1):\n",
    "            p1 = src[i,j]\n",
    "            p2 = src[i - 1,j]\n",
    "            p3 = src[i + 1,j]\n",
    "            p4 = src[i - 1,j - 1]\n",
    "            p5 = src[i - 1,j + 1]\n",
    "            p6 = src[i,j - 1]\n",
    "            p7 = src[i,j + 1]\n",
    "            p8 = src[i + 1,j - 1]\n",
    "            p9 = src[i + 1,j + 1]\n",
    "            \n",
    "            if p1 == 0 and p2 == 0 and p3 == 0 \\\n",
    "                and p4 == 0 and p5 == 0 and p6 == 0 \\\n",
    "                and p7 == 0 and p8 == 0 and p9 == 0:\n",
    "                \n",
    "                dst[i,j] = 255\n",
    "    return dst\n",
    "            "
   ]
  },
  {
   "cell_type": "code",
   "execution_count": 5,
   "metadata": {},
   "outputs": [],
   "source": [
    "gray = rgb2gray(src)\n",
    "binary = tobinary(gray,160)\n",
    "dst = contour_extraction(binary)"
   ]
  },
  {
   "cell_type": "code",
   "execution_count": 10,
   "metadata": {},
   "outputs": [
    {
     "data": {
      "text/plain": [
       "Text(0.5,1,'Contour')"
      ]
     },
     "execution_count": 10,
     "metadata": {},
     "output_type": "execute_result"
    },
    {
     "data": {
      "image/png": "[encoded data removed]",
      "text/plain": [
       "<Figure size 432x288 with 2 Axes>"
      ]
     },
     "metadata": {},
     "output_type": "display_data"
    }
   ],
   "source": [
    "plt.subplot(121)\n",
    "plt.imshow(binary,'gray')\n",
    "plt.title('Binary')\n",
    "plt.subplot(122)\n",
    "plt.imshow(dst,'gray')\n",
    "plt.title('Contour')"
   ]
  },
  {
   "cell_type": "markdown",
   "metadata": {},
   "source": [
    "参考：\n",
    "\n",
    "[1]. https://blog.csdn.net/trent1985/article/details/45040351"
   ]
  }
 ],
 "metadata": {
  "kernelspec": {
   "display_name": "Python 3",
   "language": "python",
   "name": "python3"
  },
  "language_info": {
   "codemirror_mode": {
    "name": "ipython",
    "version": 3
   },
   "file_extension": ".py",
   "mimetype": "text/x-python",
   "name": "python",
   "nbconvert_exporter": "python",
   "pygments_lexer": "ipython3",
   "version": "3.6.4"
  }
 },
 "nbformat": 4,
 "nbformat_minor": 2
}
