{
 "cells": [
  {
   "cell_type": "markdown",
   "metadata": {},
   "source": [
    "# 图像半色调(Halftoning)\n",
    "\n",
    "假设一幅灰度图像，那么我们知道它的每个像素都有一个对应的灰度值，通常这个灰度的取值范围是 0 ~ 255，即 8 bit 灰度级。而半色调技术的意思就是，如图中所示，将灰度级压缩，划分成 10 个灰度级，取值范围是 0 ~ 9。我们想将以前的图像的一个像素，用现在的一个 3 * 3的矩阵表示，它在原图像中的像素值是一个 0 ~ 255 的数， 在 0 ~ 255 内10等分，即像素灰度值除以25.6，则其像素值就会对应图中的某一种情况，那么就用那个矩阵来表示这个像素。比如灰度是 0， 那么那个像素就用图中 0 的情况的矩阵表示。"
   ]
  },
  {
   "cell_type": "code",
   "execution_count": 1,
   "metadata": {},
   "outputs": [],
   "source": [
    "#coding:utf-8\n",
    "import numpy as np\n",
    "%matplotlib  inline\n",
    "import cv2\n",
    "import matplotlib.pyplot as plt\n",
    "import pandas as pd\n",
    "from pandas import DataFrame\n",
    "from scipy.misc import imread, imresize, imsave"
   ]
  },
  {
   "cell_type": "code",
   "execution_count": 2,
   "metadata": {},
   "outputs": [],
   "source": [
    "src = cv2.cvtColor(cv2.imread('../datas/rgb-cube.jpg'),cv2.COLOR_BGR2RGB)\n",
    "gray = cv2.cvtColor(src,cv2.COLOR_RGB2GRAY)"
   ]
  },
  {
   "cell_type": "code",
   "execution_count": 3,
   "metadata": {},
   "outputs": [
    {
     "data": {
      "text/plain": [
       "<matplotlib.image.AxesImage at 0x531fac8>"
      ]
     },
     "execution_count": 3,
     "metadata": {},
     "output_type": "execute_result"
    },
    {
     "data": {
      "image/png": "[encoded data removed]",
      "text/plain": [
       "<matplotlib.figure.Figure at 0x133585c0>"
      ]
     },
     "metadata": {},
     "output_type": "display_data"
    }
   ],
   "source": [
    "size = 256\n",
    "# 生成256*256灰度图像\n",
    "simple_gray = np.zeros((size,size),dtype=np.uint8)\n",
    "for i in range(size):\n",
    "    simple_gray[i,:] = (255 - i - 1) * np.ones((1,size))\n",
    "\n",
    "plt.imshow(simple_gray,'gray')"
   ]
  },
  {
   "cell_type": "code",
   "execution_count": 9,
   "metadata": {},
   "outputs": [
    {
     "ename": "IndexError",
     "evalue": "only integers, slices (`:`), ellipsis (`...`), numpy.newaxis (`None`) and integer or boolean arrays are valid indices",
     "output_type": "error",
     "traceback": [
      "\u001b[1;31m---------------------------------------------------------------------------\u001b[0m",
      "\u001b[1;31mIndexError\u001b[0m                                Traceback (most recent call last)",
      "\u001b[1;32m<ipython-input-9-49c7eec049b8>\u001b[0m in \u001b[0;36m<module>\u001b[1;34m()\u001b[0m\n\u001b[0;32m     32\u001b[0m         \u001b[0mlevel\u001b[0m \u001b[1;33m=\u001b[0m \u001b[0mqim\u001b[0m\u001b[1;33m[\u001b[0m\u001b[0mi\u001b[0m\u001b[1;33m,\u001b[0m\u001b[0mj\u001b[0m\u001b[1;33m]\u001b[0m\u001b[1;33m\u001b[0m\u001b[0m\n\u001b[0;32m     33\u001b[0m \u001b[1;33m\u001b[0m\u001b[0m\n\u001b[1;32m---> 34\u001b[1;33m         \u001b[0mdst\u001b[0m\u001b[1;33m[\u001b[0m\u001b[0mint\u001b[0m\u001b[1;33m(\u001b[0m\u001b[1;33m(\u001b[0m\u001b[0mi\u001b[0m \u001b[1;33m-\u001b[0m \u001b[1;36m1\u001b[0m\u001b[1;33m)\u001b[0m \u001b[1;33m*\u001b[0m \u001b[1;36m3\u001b[0m \u001b[1;33m+\u001b[0m \u001b[1;36m1\u001b[0m\u001b[1;33m)\u001b[0m\u001b[1;33m:\u001b[0m\u001b[0mint\u001b[0m\u001b[1;33m(\u001b[0m\u001b[0mi\u001b[0m \u001b[1;33m*\u001b[0m \u001b[1;36m3\u001b[0m\u001b[1;33m)\u001b[0m\u001b[1;33m,\u001b[0m\u001b[0mint\u001b[0m\u001b[1;33m(\u001b[0m\u001b[1;33m(\u001b[0m\u001b[0mj\u001b[0m \u001b[1;33m-\u001b[0m \u001b[1;36m1\u001b[0m\u001b[1;33m)\u001b[0m \u001b[1;33m*\u001b[0m \u001b[1;36m3\u001b[0m\u001b[1;33m)\u001b[0m\u001b[1;33m:\u001b[0m\u001b[0mint\u001b[0m\u001b[1;33m(\u001b[0m\u001b[0mj\u001b[0m \u001b[1;33m*\u001b[0m \u001b[1;36m3\u001b[0m\u001b[1;33m)\u001b[0m\u001b[1;33m]\u001b[0m \u001b[1;33m=\u001b[0m \u001b[0mdot_mat\u001b[0m\u001b[1;33m[\u001b[0m\u001b[1;33m:\u001b[0m\u001b[1;33m,\u001b[0m\u001b[1;33m:\u001b[0m\u001b[1;33m,\u001b[0m\u001b[0mlevel\u001b[0m \u001b[1;33m+\u001b[0m \u001b[1;36m1\u001b[0m\u001b[1;33m]\u001b[0m\u001b[1;33m\u001b[0m\u001b[0m\n\u001b[0m\u001b[0;32m     35\u001b[0m \u001b[0mplt\u001b[0m\u001b[1;33m.\u001b[0m\u001b[0mimshow\u001b[0m\u001b[1;33m(\u001b[0m\u001b[0mdst\u001b[0m\u001b[1;33m)\u001b[0m\u001b[1;33m\u001b[0m\u001b[0m\n",
      "\u001b[1;31mIndexError\u001b[0m: only integers, slices (`:`), ellipsis (`...`), numpy.newaxis (`None`) and integer or boolean arrays are valid indices"
     ]
    }
   ],
   "source": [
    "# 基于半色调计数的图像打印\n",
    "rows,cols = gray.shape\n",
    "#将256灰度级量化成10灰度级别\n",
    "qim = np.fix(np.float32(simple_gray) / 25.6)\n",
    "new_gray = gray.copy()\n",
    "\n",
    "# 调整图像大小\n",
    "r_scale = float(rows) / 272\n",
    "c_scale = float(cols) / 352\n",
    "\n",
    "scale = max(r_scale,c_scale)\n",
    "if scale > 1:\n",
    "    new_gray = cv2.resize(new_gray,(int(cols * 1.0 / scale),int(rows * 1.0 / scale)))\n",
    "cy,cx = new_gray.shape                     \n",
    "\n",
    "# 构造点模式，表示10个灰度级\n",
    "dot_mat = np.array([[[0,0,0],[0,0,0],[0,0,0]],\n",
    "[[0,255,0],[0,0,0],[0,0,0]],\n",
    "[[0,255,0],[0,0,0],[0,0,255]],\n",
    "[[255,255,0],[0,0,0],[0,0,255]],\n",
    "[[255,255,0],[0,0,0],[255,0,255]],\n",
    "[[255,255,255],[0,0,0,],[255,0,255]],\n",
    "[[255,255,255],[0,0,255,],[255,0,255]],\n",
    "[[255,255,255],[0,0,255],[255,255,255]],\n",
    "[[255,255,255],[255,0,255],[255,255,255]],\n",
    "[[255,255,255],[255,255,255],[255,255,255]]])\n",
    "\n",
    "dst = np.zeros((3 * cy,3*cx),np.float32)\n",
    "\n",
    "for i in range(1,cy):\n",
    "    for j in range(1,cx):\n",
    "        level = qim[i,j]\n",
    "        \n",
    "        dst[int((i - 1) * 3 + 1):int(i * 3),int((j - 1) * 3):int(j * 3)] = dot_mat[:,:,level + 1]\n",
    "plt.imshow(dst)"
   ]
  },
  {
   "cell_type": "code",
   "execution_count": 12,
   "metadata": {},
   "outputs": [
    {
     "name": "stdout",
     "output_type": "stream",
     "text": [
      "[[  0   0   0]\n",
      " [  0   0   0]\n",
      " [  0   0 255]\n",
      " [  0   0 255]\n",
      " [  0   0 255]\n",
      " [255   0 255]\n",
      " [255 255 255]\n",
      " [255 255 255]\n",
      " [255 255 255]\n",
      " [255 255 255]]\n"
     ]
    }
   ],
   "source": [
    "print(dot_mat[:,:,2])"
   ]
  },
  {
   "cell_type": "code",
   "execution_count": null,
   "metadata": {},
   "outputs": [],
   "source": []
  }
 ],
 "metadata": {
  "kernelspec": {
   "display_name": "Python 3",
   "language": "python",
   "name": "python3"
  },
  "language_info": {
   "codemirror_mode": {
    "name": "ipython",
    "version": 3
   },
   "file_extension": ".py",
   "mimetype": "text/x-python",
   "name": "python",
   "nbconvert_exporter": "python",
   "pygments_lexer": "ipython3",
   "version": "3.6.3"
  }
 },
 "nbformat": 4,
 "nbformat_minor": 2
}
