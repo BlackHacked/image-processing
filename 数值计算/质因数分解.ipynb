{
 "cells": [
  {
   "cell_type": "markdown",
   "metadata": {},
   "source": [
    "# 质因数分解\n",
    "\n",
    "基本思路：使用如下公式把整数分解为c和d两个数\n",
    "$N = cd = (a + b)(a - b) = a^2 - b^2$"
   ]
  },
  {
   "cell_type": "code",
   "execution_count": 1,
   "metadata": {},
   "outputs": [],
   "source": [
    "import numpy as np"
   ]
  },
  {
   "cell_type": "code",
   "execution_count": 2,
   "metadata": {},
   "outputs": [],
   "source": [
    "N = 600851475143\n",
    "LIM = 10 ** 6"
   ]
  },
  {
   "cell_type": "code",
   "execution_count": 7,
   "metadata": {},
   "outputs": [],
   "source": [
    "def factor(n):\n",
    "    a = np.ceil(np.sqrt(n))\n",
    "    lim = min(n,LIM)\n",
    "    a = np.arange(a,a + lim)\n",
    "    b2 = a ** 2 - n\n",
    "    # 检测数组b2中的元素是否是某个整数的平方\n",
    "    fractions = np.modf(np.sqrt(b2))[0]\n",
    "    \n",
    "    # 查找小数部分0的数组元素\n",
    "    indices = np.where(fractions == 0)\n",
    "    \n",
    "    # 找到第一个小数部分为0的数组元素\n",
    "    a = np.ravel(np.take(a,indices))[0]\n",
    "    a = int(a)\n",
    "    \n",
    "    b = np.sqrt(a ** 2 - n)\n",
    "    b = int(b)\n",
    "    c = a + b\n",
    "    d = a - b\n",
    "    \n",
    "    if c == 1 or d == 1:\n",
    "        return\n",
    "    print(c,d)\n",
    "    factor(c)\n",
    "    factor(d)"
   ]
  },
  {
   "cell_type": "code",
   "execution_count": 8,
   "metadata": {},
   "outputs": [
    {
     "name": "stdout",
     "output_type": "stream",
     "text": [
      "1234169 486847\n",
      "1471 839\n",
      "6857 71\n"
     ]
    }
   ],
   "source": [
    "factor(N)"
   ]
  }
 ],
 "metadata": {
  "kernelspec": {
   "display_name": "Python 3",
   "language": "python",
   "name": "python3"
  },
  "language_info": {
   "codemirror_mode": {
    "name": "ipython",
    "version": 3
   },
   "file_extension": ".py",
   "mimetype": "text/x-python",
   "name": "python",
   "nbconvert_exporter": "python",
   "pygments_lexer": "ipython3",
   "version": "3.6.4"
  }
 },
 "nbformat": 4,
 "nbformat_minor": 2
}
