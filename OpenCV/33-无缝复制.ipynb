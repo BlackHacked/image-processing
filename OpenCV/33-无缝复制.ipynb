{
 "cells": [
  {
   "cell_type": "markdown",
   "metadata": {},
   "source": [
    "# 无缝复制"
   ]
  },
  {
   "cell_type": "code",
   "execution_count": 1,
   "metadata": {},
   "outputs": [],
   "source": [
    "import numpy as np\n",
    "import cv2\n",
    "import random\n",
    "%matplotlib inline\n",
    "import matplotlib.pyplot as plt"
   ]
  },
  {
   "cell_type": "code",
   "execution_count": 10,
   "metadata": {},
   "outputs": [],
   "source": [
    "src = cv2.cvtColor(cv2.imread(\"../datas/airplane.jpg\"),cv2.COLOR_BGR2RGB)\n",
    "dst = cv2.cvtColor(cv2.imread(\"../datas/sky.jpg\"),cv2.COLOR_BGR2RGB)"
   ]
  },
  {
   "cell_type": "code",
   "execution_count": 14,
   "metadata": {},
   "outputs": [
    {
     "ename": "error",
     "evalue": "OpenCV(4.0.0-pre) D:\\Develop\\DL\\temp\\opencv\\modules\\photo\\src\\seamless_cloning.cpp:94: error: (-215:Assertion failed) minxd >= 0 && minyd >= 0 && maxxd <= dest.rows && maxyd <= dest.cols in function 'cv::seamlessClone'\n",
     "output_type": "error",
     "traceback": [
      "\u001b[1;31m---------------------------------------------------------------------------\u001b[0m",
      "\u001b[1;31merror\u001b[0m                                     Traceback (most recent call last)",
      "\u001b[1;32m<ipython-input-14-bb8d3ef1a8ab>\u001b[0m in \u001b[0;36m<module>\u001b[1;34m()\u001b[0m\n\u001b[0;32m      8\u001b[0m \u001b[1;33m\u001b[0m\u001b[0m\n\u001b[0;32m      9\u001b[0m \u001b[1;31m# Clone seamlessly.\u001b[0m\u001b[1;33m\u001b[0m\u001b[1;33m\u001b[0m\u001b[0m\n\u001b[1;32m---> 10\u001b[1;33m \u001b[0moutput\u001b[0m \u001b[1;33m=\u001b[0m \u001b[0mcv2\u001b[0m\u001b[1;33m.\u001b[0m\u001b[0mseamlessClone\u001b[0m\u001b[1;33m(\u001b[0m\u001b[0msrc\u001b[0m\u001b[1;33m,\u001b[0m \u001b[0mdst\u001b[0m\u001b[1;33m,\u001b[0m \u001b[0msrc_mask\u001b[0m\u001b[1;33m,\u001b[0m \u001b[0mcenter\u001b[0m\u001b[1;33m,\u001b[0m \u001b[0mcv2\u001b[0m\u001b[1;33m.\u001b[0m\u001b[0mNORMAL_CLONE\u001b[0m\u001b[1;33m)\u001b[0m\u001b[1;33m\u001b[0m\u001b[0m\n\u001b[0m",
      "\u001b[1;31merror\u001b[0m: OpenCV(4.0.0-pre) D:\\Develop\\DL\\temp\\opencv\\modules\\photo\\src\\seamless_cloning.cpp:94: error: (-215:Assertion failed) minxd >= 0 && minyd >= 0 && maxxd <= dest.rows && maxyd <= dest.cols in function 'cv::seamlessClone'\n"
     ]
    }
   ],
   "source": [
    "# Create a rough mask around the airplane.\n",
    "src_mask = np.zeros(src.shape, src.dtype)\n",
    "poly = np.array([ [4,80], [30,54], [151,63], [254,37], [298,90], [272,134], [43,122] ], np.int32)\n",
    "cv2.fillPoly(src_mask, [poly], (255, 255, 255))\n",
    " \n",
    "# This is where the CENTER of the airplane will be placed\n",
    "center = (800,100)\n",
    " \n",
    "# Clone seamlessly.\n",
    "output = cv2.seamlessClone(src, dst, src_mask, center, cv2.NORMAL_CLONE)"
   ]
  },
  {
   "cell_type": "markdown",
   "metadata": {},
   "source": [
    "参考：\n",
    "\n",
    "[1]. https://www.learnopencv.com/seamless-cloning-using-opencv-python-cpp/"
   ]
  }
 ],
 "metadata": {
  "kernelspec": {
   "display_name": "Python 3",
   "language": "python",
   "name": "python3"
  },
  "language_info": {
   "codemirror_mode": {
    "name": "ipython",
    "version": 3
   },
   "file_extension": ".py",
   "mimetype": "text/x-python",
   "name": "python",
   "nbconvert_exporter": "python",
   "pygments_lexer": "ipython3",
   "version": "3.6.4"
  }
 },
 "nbformat": 4,
 "nbformat_minor": 2
}
