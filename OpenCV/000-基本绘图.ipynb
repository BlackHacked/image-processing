{
 "cells": [
  {
   "cell_type": "markdown",
   "metadata": {},
   "source": [
    "# 基本绘图"
   ]
  },
  {
   "cell_type": "code",
   "execution_count": 2,
   "metadata": {},
   "outputs": [],
   "source": [
    "import numpy as np\n",
    "import cv2\n",
    "%matplotlib inline\n",
    "import matplotlib.pyplot as plt"
   ]
  },
  {
   "cell_type": "code",
   "execution_count": 5,
   "metadata": {},
   "outputs": [],
   "source": [
    "# dtype = data type, uint8 = 8-bit unsigned integer\n",
    "canvas = np.zeros((300, 300, 3), dtype = \"uint8\")\n",
    "\n",
    "green = 0, 255, 0\n",
    "cv2.line(canvas, (0, 0), (300, 300), green)\n",
    "# cv2.imshow(\"Canvas\", canvas)\n",
    "# cv2.waitKey(0)\n",
    "\n",
    "red = 0, 0, 255\n",
    "cv2.line(canvas, (300, 0), (0, 300), red, 3)\n",
    "# cv2.imshow(\"Canvas\", canvas)\n",
    "# cv2.waitKey(0)\n",
    "\n",
    "cv2.rectangle(canvas, (10, 10), (60, 60), green)\n",
    "# cv2.imshow(\"Canvas\", canvas)\n",
    "# cv2.waitKey(0)\n",
    "\n",
    "cv2.rectangle(canvas, (50, 200), (200, 225), red, 5)\n",
    "# cv2.imshow(\"Canvas\", canvas)\n",
    "# cv2.waitKey(0)\n",
    "\n",
    "blue = (255, 0, 0)\n",
    "cv2.rectangle(canvas, (200, 50), (225, 125), blue, -1)\n",
    "# cv2.imshow(\"Canvas\", canvas)\n",
    "# cv2.waitKey(0)\n",
    "\n",
    "# canvas = np.zeros((300, 300, 3), dtype = \"uint8\")\n",
    "(centerX, centerY) = (0, canvas.shape[0] // 2)\n",
    "# print \"\\n %d \\t %d \\n\" % (centerX, centerY)\n",
    "white = (255, 255, 255)\n",
    "\n",
    "for r in range(0, 175, 25):\n",
    "\tcv2.circle(canvas, (centerX, centerY), r, white)\n",
    "\n",
    "# cv2.imshow(\"Canvas\", canvas)\n",
    "# cv2.waitKey(0)\n",
    "\n",
    "for i in range(0, 25):\n",
    "\tradius = np.random.randint(5, high = 200)\n",
    "\tcolor = np.random.randint(0, high = 256, size = (3,)).tolist()\n",
    "\tpt = np.random.randint(0, high = 300, size = (2,))\n",
    "\tcv2.circle(canvas, tuple(pt), radius, color, -1)"
   ]
  },
  {
   "cell_type": "code",
   "execution_count": 6,
   "metadata": {},
   "outputs": [
    {
     "data": {
      "text/plain": [
       "<matplotlib.image.AxesImage at 0x2680869b7b8>"
      ]
     },
     "execution_count": 6,
     "metadata": {},
     "output_type": "execute_result"
    },
    {
     "data": {
      "image/png": "[encoded data removed]",
      "text/plain": [
       "<Figure size 432x288 with 1 Axes>"
      ]
     },
     "metadata": {},
     "output_type": "display_data"
    }
   ],
   "source": [
    "plt.imshow(canvas)"
   ]
  }
 ],
 "metadata": {
  "kernelspec": {
   "display_name": "Python 3",
   "language": "python",
   "name": "python3"
  },
  "language_info": {
   "codemirror_mode": {
    "name": "ipython",
    "version": 3
   },
   "file_extension": ".py",
   "mimetype": "text/x-python",
   "name": "python",
   "nbconvert_exporter": "python",
   "pygments_lexer": "ipython3",
   "version": "3.6.4"
  }
 },
 "nbformat": 4,
 "nbformat_minor": 2
}
