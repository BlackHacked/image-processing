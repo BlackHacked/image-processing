{
 "cells": [
  {
   "cell_type": "markdown",
   "metadata": {},
   "source": [
    "# 图像直接卷积下的非极大值抑制实现Sobel边缘检测"
   ]
  },
  {
   "cell_type": "code",
   "execution_count": 1,
   "metadata": {},
   "outputs": [],
   "source": [
    "%matplotlib inline\n",
    "import matplotlib.pyplot as plt\n",
    "import cv2\n",
    "import numpy as np\n",
    "import scipy.signal as signal"
   ]
  },
  {
   "cell_type": "code",
   "execution_count": 2,
   "metadata": {},
   "outputs": [],
   "source": [
    "src = cv2.imread('../datas/f2.jpg')\n",
    "rgb = cv2.cvtColor(src,cv2.COLOR_BGR2RGB)\n",
    "gray = cv2.cvtColor(src,cv2.COLOR_BGR2GRAY)\n",
    "rgb_f = rgb.astype(np.float32)"
   ]
  },
  {
   "cell_type": "code",
   "execution_count": 5,
   "metadata": {},
   "outputs": [],
   "source": [
    "def convolution_sobel(src,direction=0):\n",
    "    srcf = np.float32(src)\n",
    "    dst = np.zeros_like(srcf)\n",
    "    sobel_x = np.array([\n",
    "        [1,0,-1],\n",
    "        [2,0,-2],\n",
    "        [1,0,-1]\n",
    "    ])\n",
    "    sobel_y = np.array([\n",
    "        [1,2,1],\n",
    "        [0,0,0],\n",
    "        [-1,-2,-1]\n",
    "    ])\n",
    "    \n",
    "    # 卷积计算\n",
    "#     grad_x = cv2.filter2D(srcf,-1,sobel_x)\n",
    "#     grad_y = cv2.filter2D(srcf,-1,sobel_y)\n",
    "    grad_x = signal.convolve2d(srcf,sobel_x,boundary='symm',mode='same')\n",
    "    grad_y = signal.convolve2d(srcf,sobel_y,boundary='symm',mode='same')\n",
    "    X,Y = 1,0\n",
    "    if direction == 0:#X方向\n",
    "        X = 1\n",
    "        Y = 0\n",
    "    elif direction == 1:#Y方向\n",
    "        X = 0\n",
    "        Y = 1\n",
    "    elif direction == 2: #XY方向\n",
    "        X = 1\n",
    "        Y = 1\n",
    "        \n",
    "    # 计算梯度模长\n",
    "    dst = np.sqrt(X * grad_x ** 2 + Y * grad_y ** 2)\n",
    "    return dst,grad_x,grad_y"
   ]
  },
  {
   "cell_type": "code",
   "execution_count": 8,
   "metadata": {},
   "outputs": [],
   "source": [
    "def nms_convold_sobel(src,scale=4.0,direction=0):\n",
    "    grad,grad_x,grad_y = convolution_sobel(src,direction=direction)\n",
    "    thresh = scale * np.mean(grad)\n",
    "    rows,cols = src.shape[0],src.shape[1]\n",
    "    dst = np.zeros_like(grad)\n",
    "    for i in range(1,rows - 1):\n",
    "        for j in range(1,cols - 1):\n",
    "            b1 = grad[i,j] > grad[i,j - 1]\n",
    "            b2 = grad[i,j] > grad[i,j + 1]\n",
    "            b3 = grad[i,j] > grad[i - 1,j]\n",
    "            b4 = grad[i,j] > grad[i + 1,j]\n",
    "            \n",
    "            # 7.判断邻域梯度是否满足大于水平或垂直条件，并根据自适应域值二值化\n",
    "            if (grad[i,j] > thresh) and ((b1 and b2) or (b3 and b4)):\n",
    "                dst[i,j] = 255\n",
    "    return np.uint8(dst)"
   ]
  },
  {
   "cell_type": "code",
   "execution_count": 17,
   "metadata": {},
   "outputs": [],
   "source": [
    "dst = nms_convold_sobel(gray,scale=4.0)"
   ]
  },
  {
   "cell_type": "code",
   "execution_count": 18,
   "metadata": {},
   "outputs": [
    {
     "data": {
      "text/plain": [
       "<matplotlib.image.AxesImage at 0x2bb5a0fb0b8>"
      ]
     },
     "execution_count": 18,
     "metadata": {},
     "output_type": "execute_result"
    },
    {
     "data": {
      "image/png": "[encoded data removed]",
      "text/plain": [
       "<Figure size 432x288 with 1 Axes>"
      ]
     },
     "metadata": {},
     "output_type": "display_data"
    }
   ],
   "source": [
    "plt.imshow(dst,'gray')"
   ]
  }
 ],
 "metadata": {
  "kernelspec": {
   "display_name": "Python 3",
   "language": "python",
   "name": "python3"
  },
  "language_info": {
   "codemirror_mode": {
    "name": "ipython",
    "version": 3
   },
   "file_extension": ".py",
   "mimetype": "text/x-python",
   "name": "python",
   "nbconvert_exporter": "python",
   "pygments_lexer": "ipython3",
   "version": "3.6.4"
  }
 },
 "nbformat": 4,
 "nbformat_minor": 2
}
