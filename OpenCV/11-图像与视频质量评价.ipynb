{
 "cells": [
  {
   "cell_type": "markdown",
   "metadata": {},
   "source": [
    "# 图像与视频质量评价"
   ]
  },
  {
   "cell_type": "code",
   "execution_count": 1,
   "metadata": {},
   "outputs": [],
   "source": [
    "%matplotlib inline\n",
    "import matplotlib.pyplot as plt\n",
    "import cv2\n",
    "import numpy as np"
   ]
  },
  {
   "cell_type": "code",
   "execution_count": 3,
   "metadata": {},
   "outputs": [],
   "source": [
    "src = cv2.imread('../datas/f4.jpg')\n",
    "rgb = cv2.cvtColor(src,cv2.COLOR_BGR2RGB)\n",
    "gray = cv2.cvtColor(src,cv2.COLOR_BGR2GRAY)\n",
    "rgb_f = rgb.astype(np.float32)\n",
    "\n",
    "src2 = cv2.imread('../datas/f4_1.jpg')\n",
    "rgb2 = cv2.cvtColor(src,cv2.COLOR_BGR2RGB)\n",
    "gray2 = cv2.cvtColor(src,cv2.COLOR_BGR2GRAY)\n",
    "rgb_f2 = rgb.astype(np.float32)"
   ]
  },
  {
   "cell_type": "markdown",
   "metadata": {},
   "source": [
    "## 峰值信噪比(Peak Signal to Noise Ratio,PSNR)\n",
    "\n",
    "参考：[OpenCV图像处理编程实例.朱伟等]"
   ]
  },
  {
   "cell_type": "code",
   "execution_count": 9,
   "metadata": {},
   "outputs": [],
   "source": [
    "'''\n",
    "计算PSNR峰值信噪比，返回值为30-50dB，值越大越好\n",
    "'''\n",
    "def PSNR(I1,I2):\n",
    "    s1 = cv2.absdiff(I1,I2)\n",
    "    s1 = s1.astype(np.float32)\n",
    "    s1 = s1 * s1\n",
    "    sse = np.sum(s1)\n",
    "    if sse <= 1.0e-10:\n",
    "        return 0\n",
    "    else:\n",
    "        mse = sse / (np.sum(I1))\n",
    "        psnr = 10.0 * np.log10((255 * 255) / mse)\n",
    "        return psnr"
   ]
  },
  {
   "cell_type": "code",
   "execution_count": 10,
   "metadata": {},
   "outputs": [
    {
     "name": "stdout",
     "output_type": "stream",
     "text": [
      "54.95993436634255\n"
     ]
    }
   ],
   "source": [
    "print(PSNR(src,src2))"
   ]
  },
  {
   "cell_type": "code",
   "execution_count": 15,
   "metadata": {},
   "outputs": [],
   "source": [
    "'''\n",
    "计算MSSIM结构相似性，返回值0-1，值越大越好\n",
    "'''\n",
    "def MSSIM(i1,i2):\n",
    "    C1 = 6.5025\n",
    "    C2 = 25.5225\n",
    "    I1 = i1.astype(np.float32)\n",
    "    I2 = i2.astype(np.float32)\n",
    "    \n",
    "    I2_2 = I2 * I2\n",
    "    I1_2 = I1 * I2\n",
    "    I1_I2 = I1 * I2\n",
    "    \n",
    "    mu1 = cv2.GaussianBlur(I1,(11,11),1.5)\n",
    "    mu2 = cv2.GaussianBlur(I2,(11,11),1.5)\n",
    "    mu1_2 = mu1 * mu1\n",
    "    mu2_2 = mu2 * mu2\n",
    "    mu1_mu2 = mu1 * mu2\n",
    "    sigma1_2 = cv2.GaussianBlur(I1_2,(11,11),1.5)\n",
    "    sigma1_2 -= mu1_2\n",
    "    sigma2_2 = cv2.GaussianBlur(I2_2,(11,11),1.5)\n",
    "    sigma2_2 -= mu2_2\n",
    "    sigma12 = cv2.GaussianBlur(I1_I2,(11,11),1.5)\n",
    "    sigma12 -= mu1_mu2\n",
    "    \n",
    "    t1 = 2 * mu1_mu2 + C1\n",
    "    t2 = 2 * sigma12 + C2\n",
    "    t3 = t1 * t2\n",
    "    t1 = mu1_2 + mu2_2 + C1\n",
    "    t2 = sigma1_2 + sigma2_2 + C2\n",
    "    t1 = t1 * t2\n",
    "    ssim_map = t3 / (t1+1.0e-5)\n",
    "    mssim = np.mean(ssim_map)\n",
    "    return mssim"
   ]
  },
  {
   "cell_type": "code",
   "execution_count": 17,
   "metadata": {},
   "outputs": [
    {
     "name": "stdout",
     "output_type": "stream",
     "text": [
      "0.22439894\n"
     ]
    }
   ],
   "source": [
    "dst = MSSIM(src,src2)\n",
    "print(dst)"
   ]
  }
 ],
 "metadata": {
  "kernelspec": {
   "display_name": "Python 3",
   "language": "python",
   "name": "python3"
  },
  "language_info": {
   "codemirror_mode": {
    "name": "ipython",
    "version": 3
   },
   "file_extension": ".py",
   "mimetype": "text/x-python",
   "name": "python",
   "nbconvert_exporter": "python",
   "pygments_lexer": "ipython3",
   "version": "3.6.3"
  }
 },
 "nbformat": 4,
 "nbformat_minor": 2
}
