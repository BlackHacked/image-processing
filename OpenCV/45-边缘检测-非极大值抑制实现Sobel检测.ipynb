{
 "cells": [
  {
   "cell_type": "markdown",
   "metadata": {},
   "source": [
    "# 边缘检测-非极大值抑制实现Sobel检测"
   ]
  },
  {
   "cell_type": "code",
   "execution_count": 1,
   "metadata": {},
   "outputs": [],
   "source": [
    "%matplotlib inline\n",
    "import matplotlib.pyplot as plt\n",
    "import cv2\n",
    "import numpy as np"
   ]
  },
  {
   "cell_type": "code",
   "execution_count": 2,
   "metadata": {},
   "outputs": [],
   "source": [
    "src = cv2.imread('../datas/f2.jpg')\n",
    "rgb = cv2.cvtColor(src,cv2.COLOR_BGR2RGB)\n",
    "gray = cv2.cvtColor(src,cv2.COLOR_BGR2GRAY)\n",
    "rgb_f = rgb.astype(np.float32)"
   ]
  },
  {
   "cell_type": "code",
   "execution_count": 24,
   "metadata": {},
   "outputs": [],
   "source": [
    "def nonmaximum_suppression_sobel(src):\n",
    "    # 1.转换图像类型为float\n",
    "    gray = np.float32(src)\n",
    "    if len(src.shape) > 2:\n",
    "        gray = np.float32(cv2.cvtColor(src,cv2.COLOR_RGB2GRAY))\n",
    "    rows,cols = gray.shape\n",
    "    dst_x = np.zeros_like(gray)\n",
    "    #dst_y = np.zeros_like(gray)\n",
    "    dst = np.zeros_like(gray)\n",
    "    # 2.定义水平或垂直Sobel算子\n",
    "    sobel_x = np.array([\n",
    "        [-0.125,0,0.125],\n",
    "        [-0.25,0,0.25],\n",
    "        [-0.125,0,0.125]\n",
    "    ])\n",
    "    \n",
    "    # 3.卷积运算\n",
    "    dst_x = cv2.filter2D(gray,-1,sobel_x)\n",
    "    \n",
    "    # 4.计算图像梯度\n",
    "    grad = cv2.multiply(dst_x,dst_x)\n",
    "    \n",
    "    # 5.根据梯度幅度设置阈值\n",
    "    scale_value = 1.0\n",
    "    thresh = scale_value * np.mean(grad)\n",
    "    \n",
    "    # 6.非极大值抑制计算\n",
    "    for i in range(1,rows - 1):\n",
    "        for j in range(1,cols - 1):\n",
    "            b1 = grad[i,j] > grad[i,j - 1]\n",
    "            b2 = grad[i,j] > grad[i,j + 1]\n",
    "            b3 = grad[i,j] > grad[i - 1,j]\n",
    "            b4 = grad[i,j] > grad[i + 1,j]\n",
    "            \n",
    "            # 7.判断邻域梯度是否满足大于水平或垂直条件，并根据自适应域值二值化\n",
    "            if (grad[i,j] > thresh) and ((b1 and b2) or (b3 and b4)):\n",
    "                dst[i,j] = 255\n",
    "                \n",
    "    return np.uint8(dst)\n",
    "            "
   ]
  },
  {
   "cell_type": "code",
   "execution_count": 26,
   "metadata": {},
   "outputs": [],
   "source": [
    "dst = nonmaximum_suppression_sobel(gray)"
   ]
  },
  {
   "cell_type": "code",
   "execution_count": 27,
   "metadata": {},
   "outputs": [
    {
     "data": {
      "text/plain": [
       "<matplotlib.image.AxesImage at 0x1b711c0c5f8>"
      ]
     },
     "execution_count": 27,
     "metadata": {},
     "output_type": "execute_result"
    },
    {
     "data": {
      "image/png": "[encoded data removed]",
      "text/plain": [
       "<Figure size 432x288 with 1 Axes>"
      ]
     },
     "metadata": {},
     "output_type": "display_data"
    }
   ],
   "source": [
    "plt.imshow(dst,'gray')"
   ]
  },
  {
   "cell_type": "code",
   "execution_count": 28,
   "metadata": {},
   "outputs": [],
   "source": [
    "\"\"\"\n",
    "    Non-max Suppression Algorithm\n",
    "    @param list  Object candidate bounding boxes\n",
    "    @param list  Confidence score of bounding boxes\n",
    "    @param float IoU threshold\n",
    "    @return Rest boxes after nms operation\n",
    "\"\"\"\n",
    "def nms(bounding_boxes, confidence_score, threshold):\n",
    "    # If no bounding boxes, return empty list\n",
    "    if len(bounding_boxes) == 0:\n",
    "        return [], []\n",
    "\n",
    "    # Bounding boxes\n",
    "    boxes = np.array(bounding_boxes)\n",
    "\n",
    "    # coordinates of bounding boxes\n",
    "    start_x = boxes[:, 0]\n",
    "    start_y = boxes[:, 1]\n",
    "    end_x = boxes[:, 2]\n",
    "    end_y = boxes[:, 3]\n",
    "\n",
    "    # Confidence scores of bounding boxes\n",
    "    score = np.array(confidence_score)\n",
    "\n",
    "    # Picked bounding boxes\n",
    "    picked_boxes = []\n",
    "    picked_score = []\n",
    "\n",
    "    # Compute areas of bounding boxes\n",
    "    areas = (end_x - start_x + 1) * (end_y - start_y + 1)\n",
    "\n",
    "    # Sort by confidence score of bounding boxes\n",
    "    order = np.argsort(score)\n",
    "\n",
    "    # Iterate bounding boxes\n",
    "    while order.size > 0:\n",
    "        # The index of largest confidence score\n",
    "        index = order[-1]\n",
    "\n",
    "        # Pick the bounding box with largest confidence score\n",
    "        picked_boxes.append(bounding_boxes[index])\n",
    "        picked_score.append(confidence_score[index])\n",
    "\n",
    "        # Compute ordinates of intersection-over-union(IOU)\n",
    "        x1 = np.maximum(start_x[index], start_x[order[:-1]])\n",
    "        x2 = np.minimum(end_x[index], end_x[order[:-1]])\n",
    "        y1 = np.maximum(start_y[index], start_y[order[:-1]])\n",
    "        y2 = np.minimum(end_y[index], end_y[order[:-1]])\n",
    "\n",
    "        # Compute areas of intersection-over-union\n",
    "        w = np.maximum(0.0, x2 - x1 + 1)\n",
    "        h = np.maximum(0.0, y2 - y1 + 1)\n",
    "        intersection = w * h\n",
    "\n",
    "        # Compute the ratio between intersection and union\n",
    "        ratio = intersection / (areas[index] + areas[order[:-1]] - intersection)\n",
    "\n",
    "        left = np.where(ratio < threshold)\n",
    "        order = order[left]\n",
    "\n",
    "    return picked_boxes, picked_score"
   ]
  },
  {
   "cell_type": "code",
   "execution_count": null,
   "metadata": {},
   "outputs": [],
   "source": []
  },
  {
   "cell_type": "markdown",
   "metadata": {},
   "source": [
    "参考：\n",
    "\n",
    "[1]. OpenCV图像处理编程实例"
   ]
  }
 ],
 "metadata": {
  "kernelspec": {
   "display_name": "Python 3",
   "language": "python",
   "name": "python3"
  },
  "language_info": {
   "codemirror_mode": {
    "name": "ipython",
    "version": 3
   },
   "file_extension": ".py",
   "mimetype": "text/x-python",
   "name": "python",
   "nbconvert_exporter": "python",
   "pygments_lexer": "ipython3",
   "version": "3.6.4"
  }
 },
 "nbformat": 4,
 "nbformat_minor": 2
}
