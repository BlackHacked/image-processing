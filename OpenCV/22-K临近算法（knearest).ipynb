{
 "cells": [
  {
   "cell_type": "markdown",
   "metadata": {},
   "source": [
    "# K临近算法（knearest)"
   ]
  },
  {
   "cell_type": "code",
   "execution_count": 1,
   "metadata": {},
   "outputs": [],
   "source": [
    "%matplotlib inline\n",
    "import matplotlib.pyplot as plt\n",
    "import cv2\n",
    "import numpy as np"
   ]
  },
  {
   "cell_type": "code",
   "execution_count": 2,
   "metadata": {},
   "outputs": [
    {
     "data": {
      "text/plain": [
       "<matplotlib.collections.PathCollection at 0x2312bf373c8>"
      ]
     },
     "execution_count": 2,
     "metadata": {},
     "output_type": "execute_result"
    },
    {
     "data": {
      "image/png": "[encoded data removed]",
      "text/plain": [
       "<Figure size 432x288 with 1 Axes>"
      ]
     },
     "metadata": {},
     "output_type": "display_data"
    }
   ],
   "source": [
    "trainData = np.random.randint(0,100,(25,2)).astype(np.float32)\n",
    "responses = np.random.randint(0,2,(25,1)).astype(np.float32)\n",
    "red = trainData[responses.ravel() == 0]\n",
    "plt.scatter(red[:,0],red[:,1], 80,'r','^')\n",
    "blue = trainData[responses.ravel() == 1]\n",
    "plt.scatter(blue[:,0],blue[:,1], 80,'b','s')"
   ]
  },
  {
   "cell_type": "code",
   "execution_count": 10,
   "metadata": {},
   "outputs": [
    {
     "name": "stdout",
     "output_type": "stream",
     "text": [
      "result: [[0.]]\n",
      "neighbours: [[1. 0. 0. 0. 1.]]\n",
      "distance [[ 61. 185. 226. 250. 261.]]\n"
     ]
    },
    {
     "data": {
      "image/png": "[encoded data removed]",
      "text/plain": [
       "<Figure size 432x288 with 1 Axes>"
      ]
     },
     "metadata": {},
     "output_type": "display_data"
    }
   ],
   "source": [
    "newcomer = np.random.randint(0,100,(1,2)).astype(np.float32)\n",
    "plt.scatter(newcomer[:,0], newcomer[:,1], 80,'g','o')\n",
    "knn = cv2.ml.KNearest_create()\n",
    "# knn.train(trainData,responses)\n",
    "knn.train(trainData, cv2.ml.ROW_SAMPLE, responses)\n",
    "ret,results,neighbours,dist = knn.findNearest(newcomer,k=3)\n",
    "\n",
    "print('result:',results)\n",
    "print('neighbours:',neighbours)\n",
    "print('distance',dist)"
   ]
  },
  {
   "cell_type": "markdown",
   "metadata": {},
   "source": [
    "参考：\n",
    "\n",
    "[1]. https://docs.opencv.org/3.1.0/d5/d26/tutorial_py_knn_understanding.html"
   ]
  }
 ],
 "metadata": {
  "kernelspec": {
   "display_name": "Python 3",
   "language": "python",
   "name": "python3"
  },
  "language_info": {
   "codemirror_mode": {
    "name": "ipython",
    "version": 3
   },
   "file_extension": ".py",
   "mimetype": "text/x-python",
   "name": "python",
   "nbconvert_exporter": "python",
   "pygments_lexer": "ipython3",
   "version": "3.6.4"
  }
 },
 "nbformat": 4,
 "nbformat_minor": 2
}
