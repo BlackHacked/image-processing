{
 "cells": [
  {
   "cell_type": "markdown",
   "metadata": {},
   "source": [
    "# 图像特效-木雕效果"
   ]
  },
  {
   "cell_type": "code",
   "execution_count": 1,
   "metadata": {},
   "outputs": [],
   "source": [
    "from scipy import signal\n",
    "import numpy as np\n",
    "import cv2\n",
    "%matplotlib inline\n",
    "import matplotlib.pyplot as plt\n",
    "import math"
   ]
  },
  {
   "cell_type": "code",
   "execution_count": 2,
   "metadata": {},
   "outputs": [],
   "source": [
    "src = cv2.imread('../datas/sunset2.jpg')\n",
    "gray = cv2.imread('../datas/sunset2.jpg',0)\n",
    "rgb = cv2.cvtColor(src,cv2.COLOR_BGR2RGB)"
   ]
  },
  {
   "cell_type": "code",
   "execution_count": 12,
   "metadata": {},
   "outputs": [],
   "source": [
    "def wood(src,thresh=30):\n",
    "#     srcf = np.float32(src)\n",
    "#     if len(src.shape) < 3:\n",
    "#         srcf = cv2.cvtColor(src,cv2.COLOR_GRAY2RGB).astype(np.float32)\n",
    "    dst = np.zeros_like(src)\n",
    "    rows,cols = src.shape[0],src.shape[1]\n",
    "    for i in range(1,rows-1):\n",
    "        for j in range(1,cols-1):\n",
    "            a = src[i,j-1]\n",
    "            b = src[i,j]\n",
    "            h = src[i,j+1]\n",
    "            c = src[i-1,j]\n",
    "            d = src[i-1,j-1]\n",
    "            e = src[i+1,j]\n",
    "            f = src[i+1,j-1]\n",
    "            g = src[i+1,j+1]\n",
    "            \n",
    "            \n",
    "            if a > thresh or b > thresh or \\\n",
    "                c > thresh or d > thresh or \\\n",
    "                e > thresh or f > thresh or g > thresh or h > thresh:\n",
    "                dst[i,j] = 255\n",
    "            else:\n",
    "                dst[i,j] = 0\n",
    "    return dst"
   ]
  },
  {
   "cell_type": "code",
   "execution_count": 13,
   "metadata": {},
   "outputs": [],
   "source": [
    "dst = wood(gray)"
   ]
  },
  {
   "cell_type": "code",
   "execution_count": 14,
   "metadata": {},
   "outputs": [
    {
     "data": {
      "text/plain": [
       "<matplotlib.image.AxesImage at 0x12ca9668>"
      ]
     },
     "execution_count": 14,
     "metadata": {},
     "output_type": "execute_result"
    },
    {
     "data": {
      "image/png": "[encoded data removed]",
      "text/plain": [
       "<matplotlib.figure.Figure at 0x1296f080>"
      ]
     },
     "metadata": {},
     "output_type": "display_data"
    }
   ],
   "source": [
    "plt.imshow(dst,'gray')"
   ]
  }
 ],
 "metadata": {
  "kernelspec": {
   "display_name": "Python 3",
   "language": "python",
   "name": "python3"
  },
  "language_info": {
   "codemirror_mode": {
    "name": "ipython",
    "version": 3
   },
   "file_extension": ".py",
   "mimetype": "text/x-python",
   "name": "python",
   "nbconvert_exporter": "python",
   "pygments_lexer": "ipython3",
   "version": "3.6.3"
  }
 },
 "nbformat": 4,
 "nbformat_minor": 2
}
