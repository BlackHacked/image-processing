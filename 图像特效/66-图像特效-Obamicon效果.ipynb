{
 "cells": [
  {
   "cell_type": "markdown",
   "metadata": {},
   "source": [
    "# 图像特效-Obamicon效果"
   ]
  },
  {
   "cell_type": "code",
   "execution_count": 1,
   "metadata": {},
   "outputs": [],
   "source": [
    "from scipy import signal\n",
    "import numpy as np\n",
    "import cv2\n",
    "%matplotlib inline\n",
    "import matplotlib.pyplot as plt\n",
    "import math"
   ]
  },
  {
   "cell_type": "code",
   "execution_count": 2,
   "metadata": {},
   "outputs": [],
   "source": [
    "src = cv2.imread('../datas/f2.jpg')\n",
    "gray = cv2.imread('../datas/f2.jpg',0)\n",
    "rgb = cv2.cvtColor(src,cv2.COLOR_BGR2RGB)"
   ]
  },
  {
   "cell_type": "code",
   "execution_count": 3,
   "metadata": {},
   "outputs": [],
   "source": [
    "def obamicon(src):\n",
    "    darkblue = (0,51,76)\n",
    "    red = (217,26,33)\n",
    "    lightblue = (112,150,158)\n",
    "    yellow = (252,227,166)\n",
    "    dst = np.zeros_like(src).astype(np.float32)\n",
    "    srcf = src.astype(np.float32)\n",
    "#     r,g,b = src[:,:,0],src[:,:,1],src[:,:,2]\n",
    "#     dr,dg,db = dst[:,:,0],dst[:,:,1],dst[:,:,2]\n",
    "#     intensity = np.sum()\n",
    "#     idx = r < 182\n",
    "#     dr[idx] = darkblue[0]\n",
    "#     idx = g < 182\n",
    "#     dg[idx] = darkblue[61]\n",
    "#     idx = b < 182\n",
    "#     db[idx] = darkblue[2]\n",
    "    \n",
    "#     idx = (r >= 182) & (r \n",
    "    rows,cols = src.shape[0],src.shape[1]\n",
    "    for i in range(rows):\n",
    "        for j in range(cols):\n",
    "            intensity = np.sum(src[i,j])\n",
    "            if intensity < 182:\n",
    "                dst[i,j] = darkblue\n",
    "            elif intensity >= 182 and intensity < 364:\n",
    "                dst[i,j] = red\n",
    "            elif intensity >= 364 and intensity < 546:\n",
    "                dst[i,j] = lightblue\n",
    "            else:\n",
    "                dst[i,j] = yellow\n",
    "    return dst.astype(np.uint8)"
   ]
  },
  {
   "cell_type": "code",
   "execution_count": 4,
   "metadata": {},
   "outputs": [
    {
     "data": {
      "text/plain": [
       "<matplotlib.image.AxesImage at 0x118521d0>"
      ]
     },
     "execution_count": 4,
     "metadata": {},
     "output_type": "execute_result"
    },
    {
     "data": {
      "image/png": "[encoded data removed]",
      "text/plain": [
       "<matplotlib.figure.Figure at 0x11803208>"
      ]
     },
     "metadata": {},
     "output_type": "display_data"
    }
   ],
   "source": [
    "dst = obamicon(rgb)\n",
    "plt.imshow(dst)"
   ]
  }
 ],
 "metadata": {
  "kernelspec": {
   "display_name": "Python 3",
   "language": "python",
   "name": "python3"
  },
  "language_info": {
   "codemirror_mode": {
    "name": "ipython",
    "version": 3
   },
   "file_extension": ".py",
   "mimetype": "text/x-python",
   "name": "python",
   "nbconvert_exporter": "python",
   "pygments_lexer": "ipython3",
   "version": "3.6.3"
  }
 },
 "nbformat": 4,
 "nbformat_minor": 2
}
