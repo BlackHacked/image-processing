{
 "cells": [
  {
   "cell_type": "markdown",
   "metadata": {},
   "source": [
    "# 图像特效-Gotham效果"
   ]
  },
  {
   "cell_type": "code",
   "execution_count": null,
   "metadata": {},
   "outputs": [],
   "source": [
    "from scipy import signal\n",
    "import numpy as np\n",
    "import cv2\n",
    "import matplotlib.pyplot as plt\n",
    "from numpy.lib.function_base import histogram"
   ]
  },
  {
   "cell_type": "code",
   "execution_count": null,
   "metadata": {},
   "outputs": [],
   "source": [
    "src = cv2.imread('../datas/f2.jpg')\n",
    "gray = cv2.imread('../datas/f2.jpg',0)\n",
    "rgb = cv2.cvtColor(src,cv2.COLOR_BGR2RGB)"
   ]
  },
  {
   "cell_type": "code",
   "execution_count": null,
   "metadata": {},
   "outputs": [],
   "source": [
    "def threshold(src,threshmax,newval):\n",
    "    dst = np.zeros_like(src)\n",
    "    idx = (src <= threshmax)\n",
    "    dst[idx] = newval\n",
    "    dst[~idx] = src[~idx]\n",
    "    return dst"
   ]
  },
  {
   "cell_type": "code",
   "execution_count": null,
   "metadata": {},
   "outputs": [],
   "source": [
    "def brightness_contrast(img, alpha = 1.0, beta = 0):\n",
    "    img_contrast = img * (alpha)\n",
    "    img_bright = img_contrast + (beta)\n",
    "    # img_bright = img_bright.astype(int)\n",
    "#     img_bright = stats.threshold(img_bright,threshmax=255, newval=255)\n",
    "#     img_bright = stats.threshold(img_bright,threshmin=0, newval=0)\n",
    "    img_bright[img_bright < 0] = 0\n",
    "    img_bright[img_bright > 255] = 255\n",
    "    img_bright = img_bright.astype(np.uint8)\n",
    "    return img_bright"
   ]
  },
  {
   "cell_type": "code",
   "execution_count": null,
   "metadata": {},
   "outputs": [],
   "source": [
    "def hue_saturation(img_rgb, alpha = 1, beta = 1):\n",
    "    img_hsv = cv2.cvtColor(img_rgb, cv2.COLOR_BGR2HSV)\n",
    "    hue = img_hsv[:,:,0]\n",
    "    saturation = img_hsv[:,:,1]\n",
    "    hue = threshold(hue * alpha ,threshmax=179, newval=179)\n",
    "    saturation = threshold(saturation * beta,threshmax=255, newval=255)\n",
    "    img_hsv[:,:,0] = hue\n",
    "    img_hsv[:,:,1] = saturation\n",
    "    img_transformed = cv2.cvtColor(img_hsv, cv2.COLOR_HSV2RGB)\n",
    "    return img_transformed"
   ]
  },
  {
   "cell_type": "code",
   "execution_count": null,
   "metadata": {},
   "outputs": [],
   "source": [
    "def gotham(self, img, hue = 1, saturation = 0.1, contrast = 1.3, brightness = -20):\n",
    "\t\timg = self.hue_saturation(img, hue, saturation)\n",
    "\t\timg = self.brightness_contrast(img, contrast, brightness)\n",
    "\t\treturn img"
   ]
  }
 ],
 "metadata": {
  "kernelspec": {
   "display_name": "Python 3",
   "language": "python",
   "name": "python3"
  },
  "language_info": {
   "codemirror_mode": {
    "name": "ipython",
    "version": 3
   },
   "file_extension": ".py",
   "mimetype": "text/x-python",
   "name": "python",
   "nbconvert_exporter": "python",
   "pygments_lexer": "ipython3",
   "version": "3.6.4"
  }
 },
 "nbformat": 4,
 "nbformat_minor": 2
}
