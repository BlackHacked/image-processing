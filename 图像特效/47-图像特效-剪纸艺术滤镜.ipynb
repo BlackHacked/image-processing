{
 "cells": [
  {
   "cell_type": "markdown",
   "metadata": {},
   "source": [
    "# 图像特效-剪纸艺术滤镜"
   ]
  },
  {
   "cell_type": "code",
   "execution_count": 1,
   "metadata": {},
   "outputs": [],
   "source": [
    "from scipy import signal\n",
    "import numpy as np\n",
    "import cv2\n",
    "%matplotlib inline\n",
    "import matplotlib.pyplot as plt\n",
    "from numpy.lib.function_base import histogram"
   ]
  },
  {
   "cell_type": "code",
   "execution_count": 13,
   "metadata": {},
   "outputs": [],
   "source": [
    "src = cv2.imread('../datas/paper_cutjpg.jpg')\n",
    "gray = cv2.imread('../datas/paper_cutjpg.jpg',0)\n",
    "rgb = cv2.cvtColor(src,cv2.COLOR_BGR2RGB)"
   ]
  },
  {
   "cell_type": "code",
   "execution_count": 11,
   "metadata": {},
   "outputs": [],
   "source": [
    "def paper_cut(src,bgcolor,fgcolor):\n",
    "    srcf = src.astype(np.float32)\n",
    "    if len(src.shape) < 3:\n",
    "        srcf = cv2.cvtColor(src,cv2.COLOR_GRAY2RGB).astype(np.float32)\n",
    "    gray = cv2.cvtColor(srcf,cv2.COLOR_RGB2GRAY)\n",
    "    meanval = np.mean(gray)\n",
    "    dst = np.zeros_like(srcf)\n",
    "    idxr = (srcf[:,:,0] > meanval) # 背景色\n",
    "    idxg = (srcf[:,:,1] > meanval)\n",
    "    idxb = (srcf[:,:,2] > meanval)\n",
    "    dstr = dst[:,:,0]\n",
    "    dstg = dst[:,:,1]\n",
    "    dstb = dst[:,:,2]\n",
    "    dstr[idxr] = bgcolor[0]\n",
    "    dstg[idxg] = bgcolor[1]\n",
    "    dstb[idxb] = bgcolor[2]\n",
    "    \n",
    "    dstr[~idxr] = fgcolor[0]\n",
    "    dstg[~idxg] = fgcolor[1]\n",
    "    dstb[~idxb] = fgcolor[2]\n",
    "    dst[dst < 0] = 0\n",
    "    dst[dst > 255] = 255\n",
    "    return dst.astype(np.uint8)"
   ]
  },
  {
   "cell_type": "code",
   "execution_count": 18,
   "metadata": {},
   "outputs": [
    {
     "data": {
      "text/plain": [
       "<matplotlib.image.AxesImage at 0x11edccf8>"
      ]
     },
     "execution_count": 18,
     "metadata": {},
     "output_type": "execute_result"
    },
    {
     "data": {
      "image/png": "[encoded data removed]",
      "text/plain": [
       "<matplotlib.figure.Figure at 0x1192fa90>"
      ]
     },
     "metadata": {},
     "output_type": "display_data"
    }
   ],
   "source": [
    "dst = paper_cut(rgb,(115,115,115),(0,255,0))\n",
    "plt.imshow(dst)"
   ]
  }
 ],
 "metadata": {
  "kernelspec": {
   "display_name": "Python 3",
   "language": "python",
   "name": "python3"
  },
  "language_info": {
   "codemirror_mode": {
    "name": "ipython",
    "version": 3
   },
   "file_extension": ".py",
   "mimetype": "text/x-python",
   "name": "python",
   "nbconvert_exporter": "python",
   "pygments_lexer": "ipython3",
   "version": "3.6.3"
  }
 },
 "nbformat": 4,
 "nbformat_minor": 2
}
