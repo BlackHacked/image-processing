{
 "cells": [
  {
   "cell_type": "markdown",
   "metadata": {},
   "source": [
    "# 图像特效-DefocusBlur"
   ]
  },
  {
   "cell_type": "code",
   "execution_count": 1,
   "metadata": {},
   "outputs": [],
   "source": [
    "from scipy import signal\n",
    "from scipy.signal import convolve2d\n",
    "import numpy as np\n",
    "import cv2\n",
    "import matplotlib.pyplot as plt\n",
    "from numpy.lib.function_base import histogram\n",
    "from skimage.draw import line\n",
    "from skimage.draw import circle\n",
    "import math"
   ]
  },
  {
   "cell_type": "code",
   "execution_count": 2,
   "metadata": {},
   "outputs": [],
   "source": [
    "src = cv2.cvtColor(cv2.imread('../datas/f2.jpg'),cv2.COLOR_BGR2RGB)\n",
    "gray = cv2.imread('../datas/f2.jpg',0)"
   ]
  },
  {
   "cell_type": "code",
   "execution_count": 3,
   "metadata": {},
   "outputs": [],
   "source": [
    "defocusKernelDims = [3,5,7,9]\n",
    "\n",
    "def DefocusBlur_random(img):\n",
    "    kernelidx = np.random.randint(0, len(defocusKernelDims))    \n",
    "    kerneldim = defocusKernelDims[kernelidx]\n",
    "    return DefocusBlur(img, kerneldim)\n",
    "\n",
    "def DefocusBlur(img, dim):\n",
    "    imgarray = img.astype(np.float32)\n",
    "    kernel = DiskKernel(dim)\n",
    "    convolved = convolve2d(imgarray, kernel, mode='same', fillvalue=255.0).astype(\"uint8\")\n",
    "    #img = Image.fromarray(convolved)\n",
    "    return convolved\n",
    "\n",
    "\n",
    "def DiskKernel(dim):\n",
    "    kernelwidth = dim\n",
    "    kernel = np.zeros((kernelwidth, kernelwidth), dtype=np.float32)\n",
    "    circleCenterCoord = dim / 2\n",
    "    circleRadius = circleCenterCoord +1\n",
    "    \n",
    "    rr, cc = circle(circleCenterCoord, circleCenterCoord, circleRadius)\n",
    "    kernel[rr,cc]=1\n",
    "    \n",
    "    if(dim == 3 or dim == 5):\n",
    "        kernel = Adjust(kernel, dim)\n",
    "        \n",
    "    normalizationFactor = np.count_nonzero(kernel)\n",
    "    kernel = kernel / normalizationFactor\n",
    "    return kernel\n",
    "\n",
    "def Adjust(kernel, kernelwidth):\n",
    "    kernel[0,0] = 0\n",
    "    kernel[0,kernelwidth-1]=0\n",
    "    kernel[kernelwidth-1,0]=0\n",
    "    kernel[kernelwidth-1, kernelwidth-1] =0 \n",
    "    return kernel"
   ]
  },
  {
   "cell_type": "code",
   "execution_count": null,
   "metadata": {},
   "outputs": [],
   "source": []
  }
 ],
 "metadata": {
  "kernelspec": {
   "display_name": "Python 3",
   "language": "python",
   "name": "python3"
  },
  "language_info": {
   "codemirror_mode": {
    "name": "ipython",
    "version": 3
   },
   "file_extension": ".py",
   "mimetype": "text/x-python",
   "name": "python",
   "nbconvert_exporter": "python",
   "pygments_lexer": "ipython3",
   "version": "3.6.4"
  }
 },
 "nbformat": 4,
 "nbformat_minor": 2
}
