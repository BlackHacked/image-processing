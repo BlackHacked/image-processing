{
 "cells": [
  {
   "cell_type": "markdown",
   "metadata": {},
   "source": [
    "# 图像特效-xdog-滤镜"
   ]
  },
  {
   "cell_type": "code",
   "execution_count": 1,
   "metadata": {},
   "outputs": [],
   "source": [
    "from scipy import signal\n",
    "import numpy as np\n",
    "import cv2\n",
    "import matplotlib.pyplot as plt\n",
    "from numpy.lib.function_base import histogram\n",
    "from skimage.color import rgb2gray\n",
    "from scipy.ndimage.filters import gaussian_filter\n",
    "from skimage.filters import threshold_otsu"
   ]
  },
  {
   "cell_type": "code",
   "execution_count": 2,
   "metadata": {},
   "outputs": [],
   "source": [
    "src = cv2.imread('../datas/f2.jpg')\n",
    "gray = cv2.imread('../datas/f2.jpg',0)\n",
    "rgb = cv2.cvtColor(src,cv2.COLOR_BGR2RGB)"
   ]
  },
  {
   "cell_type": "code",
   "execution_count": 3,
   "metadata": {},
   "outputs": [],
   "source": [
    "def xdog(im, gamma=0.98, phi=200, eps=-0.1, k=1.6, sigma=0.8, binarize=False):\n",
    "    # Source : https://github.com/CemalUnal/XDoG-Filter\n",
    "    # Reference : XDoG: An eXtended difference-of-Gaussians compendium including advanced image stylization\n",
    "    # Link : http://citeseerx.ist.psu.edu/viewdoc/download?doi=10.1.1.365.151&rep=rep1&type=pdf\n",
    "    if im.shape[2] == 3:\n",
    "        im = rgb2gray(im)\n",
    "    imf1 = gaussian_filter(im, sigma)\n",
    "    imf2 = gaussian_filter(im, sigma * k)\n",
    "    imdiff = imf1 - gamma * imf2\n",
    "    imdiff = (imdiff < eps) * 1.0  + (imdiff >= eps) * (1.0 + np.tanh(phi * imdiff))\n",
    "    imdiff -= imdiff.min()\n",
    "    imdiff /= imdiff.max()\n",
    "    if binarize:\n",
    "        th = threshold_otsu(imdiff)\n",
    "        imdiff = imdiff >= th\n",
    "    imdiff = imdiff.astype('float32')\n",
    "    imdiff[imdiff < 0] = 0\n",
    "    imdiff[imdiff > 255] = 255\n",
    "    return imdiff.astype(np.uint8)"
   ]
  },
  {
   "cell_type": "code",
   "execution_count": 5,
   "metadata": {},
   "outputs": [
    {
     "data": {
      "text/plain": [
       "<matplotlib.image.AxesImage at 0x257040ddeb8>"
      ]
     },
     "execution_count": 5,
     "metadata": {},
     "output_type": "execute_result"
    },
    {
     "data": {
      "image/png": "[encoded data removed]",
      "text/plain": [
       "<Figure size 432x288 with 1 Axes>"
      ]
     },
     "metadata": {},
     "output_type": "display_data"
    }
   ],
   "source": [
    "dst = xdog(rgb)\n",
    "plt.imshow(dst,'gray')"
   ]
  }
 ],
 "metadata": {
  "kernelspec": {
   "display_name": "Python 3",
   "language": "python",
   "name": "python3"
  },
  "language_info": {
   "codemirror_mode": {
    "name": "ipython",
    "version": 3
   },
   "file_extension": ".py",
   "mimetype": "text/x-python",
   "name": "python",
   "nbconvert_exporter": "python",
   "pygments_lexer": "ipython3",
   "version": "3.6.4"
  }
 },
 "nbformat": 4,
 "nbformat_minor": 2
}
