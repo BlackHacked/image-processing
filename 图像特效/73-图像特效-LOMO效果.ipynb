{
 "cells": [
  {
   "cell_type": "markdown",
   "metadata": {},
   "source": [
    "# 图像特效-LOMO效果"
   ]
  },
  {
   "cell_type": "code",
   "execution_count": null,
   "metadata": {},
   "outputs": [],
   "source": [
    "from scipy import signal\n",
    "import numpy as np\n",
    "import cv2\n",
    "%matplotlib inline\n",
    "import matplotlib.pyplot as plt\n",
    "import math"
   ]
  },
  {
   "cell_type": "code",
   "execution_count": null,
   "metadata": {},
   "outputs": [],
   "source": [
    "src = cv2.imread('../datas/sunset2.jpg')\n",
    "gray = cv2.imread('../datas/sunset2.jpg',0)\n",
    "rgb = cv2.cvtColor(src,cv2.COLOR_BGR2RGB)"
   ]
  },
  {
   "cell_type": "code",
   "execution_count": null,
   "metadata": {},
   "outputs": [],
   "source": [
    "def lomo(src):\n",
    "    srcf = np.float32(src)\n",
    "    if len(src.shape) < 3:\n",
    "        srcf = cv2.cvtColor(src,cv2.COLOR_GRAY2RGB).astype(np.float32)\n",
    "    dst = np.zeros_like(srcf)\n",
    "    exponential_e = np.exp(1.0)\n",
    "    lut = np.zeros((256,))\n",
    "    for i in range(256):\n",
    "        x = i / 256.0\n",
    "        lut[i] = np.round(256 * (1.0 / (1 + exponential_e ** (-(x-0.5)/0.1))))\n",
    "    r = srcf[:,:,0]\n",
    "    g = srcf[:,:,1]\n",
    "    b = srcf[:,:,2]\n",
    "    rows,cols = srcf.shape[0],srcf.shape[1]\n",
    "    halo = np.zeros_like(srcf)\n",
    "    halo.fill((0.3,0.3,0.3))\n",
    "    cv2.circle(halo,(rows // 2,cols // 2),cols // 3,(1,1,1),-1)\n",
    "    \n",
    "    "
   ]
  }
 ],
 "metadata": {
  "kernelspec": {
   "display_name": "Python 3",
   "language": "python",
   "name": "python3"
  },
  "language_info": {
   "codemirror_mode": {
    "name": "ipython",
    "version": 3
   },
   "file_extension": ".py",
   "mimetype": "text/x-python",
   "name": "python",
   "nbconvert_exporter": "python",
   "pygments_lexer": "ipython3",
   "version": "3.6.4"
  }
 },
 "nbformat": 4,
 "nbformat_minor": 2
}
