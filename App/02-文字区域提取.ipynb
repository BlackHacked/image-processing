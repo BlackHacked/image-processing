{
 "cells": [
  {
   "cell_type": "code",
   "execution_count": 1,
   "metadata": {},
   "outputs": [],
   "source": [
    "#coding:utf-8\n",
    "import numpy as np\n",
    "%matplotlib  inline\n",
    "import cv2\n",
    "import matplotlib.pyplot as plt\n",
    "import pandas as pd\n",
    "from pandas import DataFrame\n",
    "import pytesseract"
   ]
  },
  {
   "cell_type": "code",
   "execution_count": 2,
   "metadata": {},
   "outputs": [],
   "source": [
    "rgb = cv2.imread('../datas/text_3.png')\n",
    "rgb = cv2.cvtColor(rgb,cv2.COLOR_BGR2RGB)"
   ]
  },
  {
   "cell_type": "code",
   "execution_count": 3,
   "metadata": {},
   "outputs": [],
   "source": [
    "def detect(img):\n",
    "    dst = img.copy()\n",
    "    # 1.  转化成灰度图\n",
    "    gray = cv2.cvtColor(dst, cv2.COLOR_RGB2GRAY)\n",
    "\n",
    "    # 2. 形态学变换的预处理，得到可以查找矩形的图片\n",
    "    dilation = preprocess(gray)\n",
    "\n",
    "    # 3. 查找和筛选文字区域\n",
    "    regions,boxes = findTextRegion(dilation)\n",
    "\n",
    "    # 4. 用绿线画出这些找到的轮廓\n",
    "    for box in boxes:\n",
    "        cv2.drawContours(dst, [box], 0, (0, 255, 0), 2)\n",
    "        \n",
    "    return dst,regions"
   ]
  },
  {
   "cell_type": "code",
   "execution_count": 4,
   "metadata": {},
   "outputs": [],
   "source": [
    "def preprocess(gray):\n",
    "    # 1. Sobel算子，x方向求梯度\n",
    "    sobel = cv2.Sobel(gray, cv2.CV_8U, 1, 0, ksize = 3)\n",
    "    # 2. 二值化\n",
    "    ret, binary = cv2.threshold(sobel, 0, 255, cv2.THRESH_OTSU+cv2.THRESH_BINARY)\n",
    "\n",
    "    # 3. 膨胀和腐蚀操作的核函数\n",
    "    element1 = cv2.getStructuringElement(cv2.MORPH_RECT, (30, 9))\n",
    "    element2 = cv2.getStructuringElement(cv2.MORPH_RECT, (24, 6))\n",
    "\n",
    "    # 4. 膨胀一次，让轮廓突出\n",
    "    dilation = cv2.dilate(binary, element2, iterations = 1)\n",
    "\n",
    "    # 5. 腐蚀一次，去掉细节，如表格线等。注意这里去掉的是竖直的线\n",
    "    erosion = cv2.erode(dilation, element1, iterations = 1)\n",
    "\n",
    "    # 6. 再次膨胀，让轮廓明显一些\n",
    "    dilation2 = cv2.dilate(erosion, element2, iterations = 3)\n",
    "\n",
    "    return dilation2"
   ]
  },
  {
   "cell_type": "code",
   "execution_count": 21,
   "metadata": {},
   "outputs": [],
   "source": [
    "def findTextRegion(img):\n",
    "    regions = []\n",
    "    boxes = []\n",
    "    # 1. 查找轮廓\n",
    "    _,contours, hierarchy = cv2.findContours(img, cv2.RETR_TREE, cv2.CHAIN_APPROX_SIMPLE)\n",
    "    # 2. 筛选那些面积小的\n",
    "    for i in range(len(contours)):\n",
    "        cnt = contours[i]\n",
    "        # 计算该轮廓的面积\n",
    "        area = cv2.contourArea(cnt) \n",
    "\n",
    "        # 面积小的都筛选掉\n",
    "        if(area < 10):\n",
    "            continue\n",
    "\n",
    "        # 轮廓近似，作用很小\n",
    "        epsilon = 0.001 * cv2.arcLength(cnt, True)\n",
    "        approx = cv2.approxPolyDP(cnt, epsilon, True)\n",
    "\n",
    "        # 找到最小的矩形，该矩形可能有方向\n",
    "        x,y,w,h = cv2.boundingRect(cnt)\n",
    "        rect = cv2.minAreaRect(cnt)\n",
    "        # box是四个点的坐标\n",
    "        box = cv2.boxPoints(rect)\n",
    "        box = np.int0(box)\n",
    "\n",
    "        # 计算高和宽\n",
    "#         height = abs(box[0][1] - box[2][1])\n",
    "#         width = abs(box[0][0] - box[2][0])\n",
    "\n",
    "        # 筛选那些太细的矩形，留下扁的\n",
    "        if(h > w * 1.2):\n",
    "            continue\n",
    "        region = (x,y,w,h)\n",
    "        regions.append(region)\n",
    "        boxes.append(box)\n",
    "    return regions,boxes"
   ]
  },
  {
   "cell_type": "code",
   "execution_count": 6,
   "metadata": {},
   "outputs": [
    {
     "data": {
      "text/plain": [
       "True"
      ]
     },
     "execution_count": 6,
     "metadata": {},
     "output_type": "execute_result"
    }
   ],
   "source": [
    "dst,regions = detect(rgb)\n",
    "cv2.imwrite('../temp/text_box.jpg',dst)"
   ]
  },
  {
   "cell_type": "code",
   "execution_count": 7,
   "metadata": {
    "scrolled": true
   },
   "outputs": [
    {
     "data": {
      "text/plain": [
       "<matplotlib.image.AxesImage at 0x199e0435da0>"
      ]
     },
     "execution_count": 7,
     "metadata": {},
     "output_type": "execute_result"
    },
    {
     "data": {
      "image/png": "[encoded data removed]",
      "text/plain": [
       "<Figure size 432x288 with 1 Axes>"
      ]
     },
     "metadata": {},
     "output_type": "display_data"
    }
   ],
   "source": [
    "plt.imshow(dst)"
   ]
  },
  {
   "cell_type": "code",
   "execution_count": 22,
   "metadata": {},
   "outputs": [],
   "source": [
    "def split_images(image,regions,dirname):\n",
    "    import os\n",
    "    #texts = []\n",
    "    fnames = []\n",
    "    idx = 1\n",
    "    for region in regions:\n",
    "        ex,ey,ew,eh = region\n",
    "        text_region = image[ey:(ey+eh),ex:(ex+ew)]\n",
    "        fname = 'text_%d.jpg' % (idx)\n",
    "        save_path = os.path.abspath(os.path.join(dirname,fname))\n",
    "        fnames.append(save_path)\n",
    "        cv2.imwrite(save_path,text_region)\n",
    "        idx += 1\n",
    "        # 出现有一些图像无法识别，不知道原因，从文件读取，识别正常\n",
    "        #text =  pytesseract.image_to_string(text_region,lang='chi_sim')\n",
    "        #print(text,'\\n')\n",
    "        #texts.append(text)\n",
    "    return fnames\n",
    "\n",
    "def get_texts(fnames):\n",
    "    texts = []\n",
    "    for fname in fnames:\n",
    "        text_region = cv2.imread(fname)\n",
    "        if type(text_region) is type(None):\n",
    "            print('invalid region')\n",
    "            continue\n",
    "        text =  pytesseract.image_to_string(text_region,lang='chi_sim')\n",
    "        if len(text) != 0:\n",
    "            texts.append(text)\n",
    "    return texts"
   ]
  },
  {
   "cell_type": "code",
   "execution_count": 9,
   "metadata": {},
   "outputs": [],
   "source": [
    "fnames = split_images(rgb,regions,'../temp/texts')\n",
    "texts = get_texts(fnames)"
   ]
  },
  {
   "cell_type": "code",
   "execution_count": 10,
   "metadata": {},
   "outputs": [],
   "source": [
    "# texts = get_texts(fnames)"
   ]
  },
  {
   "cell_type": "code",
   "execution_count": 11,
   "metadata": {
    "scrolled": true
   },
   "outputs": [
    {
     "name": "stdout",
     "output_type": "stream",
     "text": [
      "For example \n",
      "\n",
      "Launch Git client and clone OpenCyv repository. If you need modules from OpenCyV contrib repository then clone it as well. \n",
      "\n",
      "Getting the Cutting-edge OpenCyVv from the Git Repository \n",
      "\n",
      "。 Goto our downloads page.\n",
      "。 Download the source archive and unpack it. \n",
      "\n",
      "Getting the Latest Stable OpenCVv Version \n",
      "\n",
      "You can use the latest stable OpenCyV version or you can grab the latest snapshot from our Git repository. \n",
      "\n",
      "Getting OpenCV Source Code \n",
      "\n",
      "[compiler] sudo apt-get install build-essential\n",
      "[required] sudo apt-get install cmake git libgtk2.0-dey pkg-config libaycodec-dey libayformat-dey libswscale-dey\n",
      "[optional] sudo apt-get install python-dey python-numpy libtbb2 libtbb-dey libjpeg-dey libpng-dey libtiff-dey libjasper-dey libdc1394-22-dey \n",
      "\n",
      "The packages can be installed using a terminal and the following commands or by using Synaptic Manager: \n",
      "\n",
      "pkg-config\n",
      "\n",
      "Python 2.6 orlater and Numpy 1.5 or later with developer packages (python-dev, python-numpy)\n",
      "ffmpeg orlibav development packages: libavcodec-dev, libavformat-dev, libswscale-dev\n",
      "[optionall iibtbb2 libtbb-dev\n",
      "\n",
      "[optional]l libdc1394 2.x\n",
      "\n",
      "[optional] libjpeg-dev, libpng-dev, libtiff-dev, libjasper-dev', libdc1394-22-dev\n",
      "\n",
      "[optionall CUDA Toolkit 6.5 or higher \n",
      "\n",
      "GCC 4.4.Xorlater\n",
      "\n",
      "CMake 2.8.7 or higher\n",
      "\n",
      "Git\n",
      "\n",
      "GTK+2.x or higher including headers (libgtk2.0-dev) \n",
      "\n",
      "Required Packages \n",
      "\n",
      "The following steps have been tested for Ubuntu 10.04 but should work with other distros as well. \n",
      "\n"
     ]
    }
   ],
   "source": [
    "for text in texts:\n",
    "    print(text,'\\n')"
   ]
  },
  {
   "cell_type": "code",
   "execution_count": 12,
   "metadata": {},
   "outputs": [
    {
     "name": "stdout",
     "output_type": "stream",
     "text": [
      "The following steps have been tested for Ubuntu 10.04 but should work with other distros as well.\n"
     ]
    },
    {
     "data": {
      "image/png": "[encoded data removed]",
      "text/plain": [
       "<Figure size 432x288 with 1 Axes>"
      ]
     },
     "metadata": {},
     "output_type": "display_data"
    }
   ],
   "source": [
    "ex,ey,ew,eh = regions[-1]\n",
    "plt.imshow(rgb[ey:ey+eh,ex:ex+ew])\n",
    "text =  pytesseract.image_to_string(rgb[ey:ey+eh,ex:ex+ew],lang='chi_sim')\n",
    "print(text)"
   ]
  },
  {
   "cell_type": "code",
   "execution_count": 13,
   "metadata": {},
   "outputs": [],
   "source": [
    "res = pytesseract.image_to_string(rgb,lang='chi_sim')"
   ]
  },
  {
   "cell_type": "code",
   "execution_count": 14,
   "metadata": {
    "scrolled": true
   },
   "outputs": [
    {
     "name": "stdout",
     "output_type": "stream",
     "text": [
      "The following steps have been tested for Ubuntu 10.04 but should work with other distros as well.\n",
      "\n",
      "Required Packages\n",
      "\n",
      "GCC 4.4.xorlater\n",
      "\n",
      "CMake 2.8.7 or higher\n",
      "\n",
      "。，Git\n",
      "\n",
      "GTK+2.x or higher including headers (libgtk2.0-dev)\n",
      "\n",
      "pkg-config\n",
      "\n",
      "Python 2.6 orlaterand Numpy 1.5 orlater with developer packages (python-dev, python-numpy)\n",
      "ffmpeg or libav development packages: libavcodec-dev, libavformat-dev, libswscale-dev\n",
      "[optional] iibtbb2 libtbb-dev\n",
      "\n",
      "[optional] libdc1394 2.x\n",
      "\n",
      "[optional] libjpeg-dev, libpng-dev, libtif-dev, libjasper-dev, libdc1394-22-dev\n",
      "\n",
      "[optionall CUDA Toolkit 6.5 or higher\n",
      "\n",
      "The packages can be installed using a terminal and the following commands or by using Synaptic Manager\n",
      "\n",
      "[compiler] sudo apt-get install build-essential\n",
      "[required] sudo apt-get install cmake git libgtk2.0-dey pkg-config libaycodec-dey libayformat-dey libswscale-dey\n",
      "[optional] sudo apt-get install python-dey python-numpy libtbb2 libtbb-dey libjpeg-dey libpng-dey libtiff-dey libjasper-dey libdc1394-22-dev\n",
      "\n",
      "Getting OpenCV Source Code\n",
      "You can use the latest stable OpenCyV version or you can grab the latest snapshot from our Git repository.\n",
      "Getting the Latest Stable OpenCV Version\n",
      "\n",
      "。 Goto our downloads page.\n",
      "。 Download the source archive and unpack it.\n",
      "\n",
      "Getting the Cutting-edge OpenCyVv from the Git Repository\n",
      "\n",
      "Launch Git client and clone OpenCyV repository. If you need modules from OpenCyV contrib repository then clone it as well.\n",
      "\n",
      "For example\n"
     ]
    }
   ],
   "source": [
    "print(res)"
   ]
  },
  {
   "cell_type": "code",
   "execution_count": 15,
   "metadata": {},
   "outputs": [
    {
     "name": "stdout",
     "output_type": "stream",
     "text": [
      "For example \n",
      "\n",
      "Launch Git client and clone OpenCyv repository. If you need modules from OpenCyV contrib repository then clone it as well. \n",
      "\n",
      "Getting the Cutting-edge OpenCyVv from the Git Repository \n",
      "\n",
      "。 Goto our downloads page.\n",
      "。 Download the source archive and unpack it. \n",
      "\n",
      "Getting the Latest Stable OpenCVv Version \n",
      "\n",
      "You can use the latest stable OpenCyV version or you can grab the latest snapshot from our Git repository. \n",
      "\n",
      "Getting OpenCV Source Code \n",
      "\n",
      "[compiler] sudo apt-get install build-essential\n",
      "[required] sudo apt-get install cmake git libgtk2.0-dey pkg-config libaycodec-dey libayformat-dey libswscale-dey\n",
      "[optional] sudo apt-get install python-dey python-numpy libtbb2 libtbb-dey libjpeg-dey libpng-dey libtiff-dey libjasper-dey libdc1394-22-dey \n",
      "\n",
      "The packages can be installed using a terminal and the following commands or by using Synaptic Manager: \n",
      "\n",
      "pkg-config\n",
      "\n",
      "Python 2.6 orlater and Numpy 1.5 or later with developer packages (python-dev, python-numpy)\n",
      "ffmpeg orlibav development packages: libavcodec-dev, libavformat-dev, libswscale-dev\n",
      "[optionall iibtbb2 libtbb-dev\n",
      "\n",
      "[optional]l libdc1394 2.x\n",
      "\n",
      "[optional] libjpeg-dev, libpng-dev, libtiff-dev, libjasper-dev', libdc1394-22-dev\n",
      "\n",
      "[optionall CUDA Toolkit 6.5 or higher \n",
      "\n",
      "GCC 4.4.Xorlater\n",
      "\n",
      "CMake 2.8.7 or higher\n",
      "\n",
      "Git\n",
      "\n",
      "GTK+2.x or higher including headers (libgtk2.0-dev) \n",
      "\n",
      "Required Packages \n",
      "\n",
      "The following steps have been tested for Ubuntu 10.04 but should work with other distros as well. \n",
      "\n"
     ]
    }
   ],
   "source": [
    "for fname in fnames:\n",
    "    img = cv2.imread(fname)\n",
    "    text = pytesseract.image_to_string(img,lang='chi_sim')\n",
    "    print(text,'\\n')"
   ]
  },
  {
   "cell_type": "code",
   "execution_count": 18,
   "metadata": {},
   "outputs": [],
   "source": [
    "rgb = cv2.imread('../datas/ID.jpg')\n",
    "rgb = cv2.cvtColor(rgb,cv2.COLOR_BGR2RGB)"
   ]
  },
  {
   "cell_type": "code",
   "execution_count": 23,
   "metadata": {},
   "outputs": [
    {
     "name": "stdout",
     "output_type": "stream",
     "text": [
      "['D:\\\\Develop\\\\DL\\\\projects\\\\digital-image-processing\\\\temp\\\\texts\\\\text_1.jpg', 'D:\\\\Develop\\\\DL\\\\projects\\\\digital-image-processing\\\\temp\\\\texts\\\\text_2.jpg', 'D:\\\\Develop\\\\DL\\\\projects\\\\digital-image-processing\\\\temp\\\\texts\\\\text_3.jpg', 'D:\\\\Develop\\\\DL\\\\projects\\\\digital-image-processing\\\\temp\\\\texts\\\\text_4.jpg', 'D:\\\\Develop\\\\DL\\\\projects\\\\digital-image-processing\\\\temp\\\\texts\\\\text_5.jpg', 'D:\\\\Develop\\\\DL\\\\projects\\\\digital-image-processing\\\\temp\\\\texts\\\\text_6.jpg', 'D:\\\\Develop\\\\DL\\\\projects\\\\digital-image-processing\\\\temp\\\\texts\\\\text_7.jpg', 'D:\\\\Develop\\\\DL\\\\projects\\\\digital-image-processing\\\\temp\\\\texts\\\\text_8.jpg', 'D:\\\\Develop\\\\DL\\\\projects\\\\digital-image-processing\\\\temp\\\\texts\\\\text_9.jpg', 'D:\\\\Develop\\\\DL\\\\projects\\\\digital-image-processing\\\\temp\\\\texts\\\\text_10.jpg', 'D:\\\\Develop\\\\DL\\\\projects\\\\digital-image-processing\\\\temp\\\\texts\\\\text_11.jpg', 'D:\\\\Develop\\\\DL\\\\projects\\\\digital-image-processing\\\\temp\\\\texts\\\\text_12.jpg', 'D:\\\\Develop\\\\DL\\\\projects\\\\digital-image-processing\\\\temp\\\\texts\\\\text_13.jpg']\n",
      "invalid region\n",
      "invalid region\n",
      "invalid region\n",
      "invalid region\n"
     ]
    }
   ],
   "source": [
    "fnames = split_images(rgb,regions,'../temp/texts')\n",
    "print(fnames)\n",
    "texts = get_texts(fnames)"
   ]
  },
  {
   "cell_type": "code",
   "execution_count": 24,
   "metadata": {},
   "outputs": [
    {
     "name": "stdout",
     "output_type": "stream",
     "text": [
      "['AAA Eee EN ET关中     2', '本     妆也Jp人1 <三', '人\\n\\n别 男 民族回']\n"
     ]
    }
   ],
   "source": [
    "print(texts)"
   ]
  },
  {
   "cell_type": "code",
   "execution_count": 25,
   "metadata": {},
   "outputs": [],
   "source": [
    "text = pytesseract.image_to_string(rgb,lang='chi_sim')"
   ]
  },
  {
   "cell_type": "code",
   "execution_count": 26,
   "metadata": {},
   "outputs": [
    {
     "name": "stdout",
     "output_type": "stream",
     "text": [
      "马普业\n",
      "男\n",
      "人龟74 年 5 月26日\n",
      "\n",
      "云南省昆明市寻旬回族到\n",
      "族自治县羊街镇纳郎村委\n",
      "会纳郎村72号\n",
      "\n",
      "    \n",
      "   \n",
      "  \n",
      "\n",
      "民 族 回\n",
      "\n",
      "                                                                                                                                                                                                                                                                  \n",
      " \n",
      "     \n",
      "\n",
      "532231197405261333\n"
     ]
    }
   ],
   "source": [
    "print(text)"
   ]
  },
  {
   "cell_type": "code",
   "execution_count": null,
   "metadata": {},
   "outputs": [],
   "source": []
  }
 ],
 "metadata": {
  "kernelspec": {
   "display_name": "Python 3",
   "language": "python",
   "name": "python3"
  },
  "language_info": {
   "codemirror_mode": {
    "name": "ipython",
    "version": 3
   },
   "file_extension": ".py",
   "mimetype": "text/x-python",
   "name": "python",
   "nbconvert_exporter": "python",
   "pygments_lexer": "ipython3",
   "version": "3.6.4"
  }
 },
 "nbformat": 4,
 "nbformat_minor": 2
}
