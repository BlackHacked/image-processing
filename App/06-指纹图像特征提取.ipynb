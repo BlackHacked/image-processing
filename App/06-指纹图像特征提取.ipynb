{
 "cells": [
  {
   "cell_type": "markdown",
   "metadata": {},
   "source": [
    "# 指纹图像特征提取"
   ]
  },
  {
   "cell_type": "code",
   "execution_count": 1,
   "metadata": {},
   "outputs": [],
   "source": [
    "import cv2\n",
    "import numpy as np\n",
    "import skimage.morphology\n",
    "import skimage\n",
    "from skimage.morphology import convex_hull_image, erosion\n",
    "from skimage.morphology import square\n",
    "%matplotlib inline\n",
    "import matplotlib.pyplot as plt"
   ]
  },
  {
   "cell_type": "code",
   "execution_count": 2,
   "metadata": {},
   "outputs": [],
   "source": [
    "def removeSpuriousMinutiae(minutiaeList, img, thresh):\n",
    "    img = img * 0;\n",
    "    SpuriousMin = [];\n",
    "    numPoints = len(minutiaeList);\n",
    "    D = np.zeros((numPoints, numPoints))\n",
    "    for i in range(1,numPoints):\n",
    "        for j in range(0, i):\n",
    "            (X1,Y1) = minutiaeList[i]['centroid']\n",
    "            (X2,Y2) = minutiaeList[j]['centroid']\n",
    "            \n",
    "            dist = np.sqrt((X2-X1)**2 + (Y2-Y1)**2);\n",
    "            D[i][j] = dist\n",
    "            if(dist < thresh):\n",
    "                SpuriousMin.append(i)\n",
    "                SpuriousMin.append(j)\n",
    "                \n",
    "    SpuriousMin = np.unique(SpuriousMin)\n",
    "    for i in range(0,numPoints):\n",
    "        if(not i in SpuriousMin):\n",
    "            (X,Y) = np.int16(minutiaeList[i]['centroid']);\n",
    "            img[X,Y] = 1;\n",
    "    \n",
    "    img = np.uint8(img);\n",
    "    return(img)"
   ]
  },
  {
   "cell_type": "code",
   "execution_count": 3,
   "metadata": {},
   "outputs": [],
   "source": [
    "def getTerminationBifurcation(img, mask):\n",
    "    img = img == 255;\n",
    "    (rows, cols) = img.shape;\n",
    "    minutiaeTerm = np.zeros(img.shape);\n",
    "    minutiaeBif = np.zeros(img.shape);\n",
    "    \n",
    "    for i in range(1,rows-1):\n",
    "        for j in range(1,cols-1):\n",
    "            if(img[i][j] == 1):\n",
    "                block = img[i-1:i+2,j-1:j+2];\n",
    "                block_val = np.sum(block);\n",
    "                if(block_val == 2):\n",
    "                    minutiaeTerm[i,j] = 1;\n",
    "                elif(block_val == 4):\n",
    "                    minutiaeBif[i,j] = 1;\n",
    "    \n",
    "    mask = convex_hull_image(mask>0)\n",
    "    mask = erosion(mask, square(5))         # Structuing element for mask erosion = square(5)\n",
    "    minutiaeTerm = np.uint8(mask)*minutiaeTerm\n",
    "    return(minutiaeTerm, minutiaeBif)"
   ]
  },
  {
   "cell_type": "code",
   "execution_count": 5,
   "metadata": {},
   "outputs": [],
   "source": [
    "if __name__ == \"__main__\":\n",
    "    img = cv2.imread('../temp/fingure_enhanced.jpg',0);\n",
    "    img = np.uint8(img>128);\n",
    "    \n",
    "    skel = skimage.morphology.skeletonize(img)\n",
    "    skel = np.uint8(skel)*255;\n",
    "    \n",
    "    mask = img*255;\n",
    "    (minutiaeTerm, minutiaeBif) = getTerminationBifurcation(skel, mask);\n",
    "    \n",
    "    minutiaeTerm = skimage.measure.label(minutiaeTerm, 8);\n",
    "    RP = skimage.measure.regionprops(minutiaeTerm)\n",
    "    minutiaeTerm = removeSpuriousMinutiae(RP, np.uint8(img), 10);\n",
    "    \n",
    "    BifLabel = skimage.measure.label(minutiaeBif, 8);\n",
    "    TermLabel = skimage.measure.label(minutiaeTerm, 8);\n",
    "    \n",
    "    minutiaeBif = minutiaeBif * 0;\n",
    "    minutiaeTerm = minutiaeTerm * 0;\n",
    "    \n",
    "    (rows, cols) = skel.shape\n",
    "    DispImg = np.zeros((rows,cols,3), np.uint8)\n",
    "    DispImg[:,:,0] = skel; DispImg[:,:,1] = skel; DispImg[:,:,2] = skel;\n",
    "    \n",
    "    \n",
    "    RP = skimage.measure.regionprops(BifLabel)\n",
    "    for i in RP:\n",
    "        (row, col) = np.int16(np.round(i['Centroid']))\n",
    "        minutiaeBif[row, col] = 1;\n",
    "        (rr, cc) = skimage.draw.circle_perimeter(row, col, 3);\n",
    "        skimage.draw.set_color(DispImg, (rr,cc), (255,0,0));\n",
    "    \n",
    "    \n",
    "    RP = skimage.measure.regionprops(TermLabel)\n",
    "    for i in RP:\n",
    "        (row, col) = np.int16(np.round(i['Centroid']))\n",
    "        minutiaeTerm[row, col] = 1;\n",
    "        (rr, cc) = skimage.draw.circle_perimeter(row, col, 3);\n",
    "        skimage.draw.set_color(DispImg, (rr,cc), (0, 0, 255));\n",
    "    \n",
    "    cv2.imshow('a',DispImg);\n",
    "    cv2.waitKey(0)\n",
    "#     plt.imshow(DispImg)"
   ]
  },
  {
   "cell_type": "markdown",
   "metadata": {},
   "source": [
    "参考：\n",
    "\n",
    "[1].https://github.com/Utkarsh-Deshmukh/FingerprintFeatureExtraction"
   ]
  }
 ],
 "metadata": {
  "kernelspec": {
   "display_name": "Python 3",
   "language": "python",
   "name": "python3"
  },
  "language_info": {
   "codemirror_mode": {
    "name": "ipython",
    "version": 3
   },
   "file_extension": ".py",
   "mimetype": "text/x-python",
   "name": "python",
   "nbconvert_exporter": "python",
   "pygments_lexer": "ipython3",
   "version": "3.6.4"
  }
 },
 "nbformat": 4,
 "nbformat_minor": 2
}
