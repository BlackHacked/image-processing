{
 "cells": [
  {
   "cell_type": "markdown",
   "metadata": {},
   "source": [
    "# 图像模糊检测"
   ]
  },
  {
   "cell_type": "code",
   "execution_count": 1,
   "metadata": {},
   "outputs": [],
   "source": [
    "import numpy as np\n",
    "%matplotlib  inline\n",
    "import cv2\n",
    "from scipy import ndimage\n",
    "import matplotlib.pyplot as plt"
   ]
  },
  {
   "cell_type": "code",
   "execution_count": 2,
   "metadata": {},
   "outputs": [],
   "source": [
    "def fix_image_size(image, expected_pixels=2E6):\n",
    "    ratio = float(expected_pixels) / float(image.shape[0] * image.shape[1])\n",
    "    return cv2.resize(image, (0, 0), fx=ratio, fy=ratio)\n",
    "\n",
    "\n",
    "def estimate_blur(image, threshold=100):\n",
    "    if image.ndim == 3:\n",
    "        image = cv2.cvtColor(image, cv2.COLOR_BGR2GRAY)\n",
    "\n",
    "    blur_map = cv2.Laplacian(image, cv2.CV_64F)\n",
    "    score = numpy.var(blur_map)\n",
    "    return blur_map, score, bool(score < threshold)\n",
    "\n",
    "\n",
    "def pretty_blur_map(blur_map, sigma=5):\n",
    "    abs_image = numpy.log(numpy.abs(blur_map).astype(numpy.float32))\n",
    "    cv2.blur(abs_image, (sigma, sigma))\n",
    "    return cv2.medianBlur(abs_image, sigma)"
   ]
  },
  {
   "cell_type": "code",
   "execution_count": null,
   "metadata": {},
   "outputs": [],
   "source": []
  }
 ],
 "metadata": {
  "kernelspec": {
   "display_name": "Python 3",
   "language": "python",
   "name": "python3"
  },
  "language_info": {
   "codemirror_mode": {
    "name": "ipython",
    "version": 3
   },
   "file_extension": ".py",
   "mimetype": "text/x-python",
   "name": "python",
   "nbconvert_exporter": "python",
   "pygments_lexer": "ipython3",
   "version": "3.6.4"
  }
 },
 "nbformat": 4,
 "nbformat_minor": 2
}
