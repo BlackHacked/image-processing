{
 "cells": [
  {
   "cell_type": "markdown",
   "metadata": {},
   "source": [
    "# CUDA编程基础-纹理内存"
   ]
  },
  {
   "cell_type": "code",
   "execution_count": 2,
   "metadata": {},
   "outputs": [],
   "source": [
    "import pycuda.autoinit\n",
    "import pycuda.driver as cu\n",
    "import numpy as np\n",
    "from pycuda.compiler import SourceModule\n",
    "import string\n",
    "import cv2\n",
    "%matplotlib inline\n",
    "import matplotlib.pyplot as plt"
   ]
  },
  {
   "cell_type": "code",
   "execution_count": 3,
   "metadata": {},
   "outputs": [],
   "source": [
    "def load_kernel_from_file(fname,kname):\n",
    "    sources = None\n",
    "    kernel = None\n",
    "    with open(fname,encoding='utf-8') as f:\n",
    "        sources = str(f.read())\n",
    "        sm = SourceModule(sources)\n",
    "        kernel = sm.get_function(kname)\n",
    "    return kernel\n",
    "\n",
    "def load_kernel_from_string(sources,kname):\n",
    "    sm = SourceModule(str(sources))\n",
    "    kernel = sm.get_function(kname)\n",
    "    return kernel,sm"
   ]
  },
  {
   "cell_type": "code",
   "execution_count": 4,
   "metadata": {},
   "outputs": [],
   "source": [
    "sources = string.Template(\"\"\"\n",
    "texture<float, cudaTextureType2D, cudaReadModeElementType> texRef;\n",
    "__global__ void transform_kernel(float * input,float * output,int width,int height,float theta){\n",
    "    unsigned int x = blockIdx.x * blockDim.x + threadIdx.x;\n",
    "    unsigned int y = blockIdx.y * blockDim.y + threadIdx.y;\n",
    "    \n",
    "    float u = x / (float)width;\n",
    "    float v = y / (float)height;\n",
    "    \n",
    "    // 转换坐标\n",
    "    u -= 0.5f;\n",
    "    v -= 0.5f;\n",
    "    \n",
    "    float tu = u * cosf(theta) - v * sinf(theta) + 0.5f;\n",
    "    float tv = v * cosf(theta) + u * sinf(theta) + 0.5f;\n",
    "    \n",
    "    int col = tu * width;\n",
    "    int row = tv * height;\n",
    "    \n",
    "    output[y * width + x] = tex2D(texRef,tu,tv);\n",
    "}\n",
    "\n",
    "\"\"\").substitute()"
   ]
  },
  {
   "cell_type": "code",
   "execution_count": 5,
   "metadata": {},
   "outputs": [],
   "source": [
    "img = cv2.imread('../../datas/f3.jpg',0)"
   ]
  },
  {
   "cell_type": "code",
   "execution_count": 6,
   "metadata": {},
   "outputs": [],
   "source": [
    "transform_kernel,sm = load_kernel_from_string(sources,'transform_kernel')\n",
    "texRef = sm.get_texref('texRef')"
   ]
  },
  {
   "cell_type": "code",
   "execution_count": 14,
   "metadata": {},
   "outputs": [],
   "source": [
    "dst = np.zeros_like(img).astype(np.float32)\n",
    "cu.matrix_to_texref(img.astype('float32'), texRef, order=\"C\")"
   ]
  },
  {
   "cell_type": "code",
   "execution_count": 15,
   "metadata": {},
   "outputs": [
    {
     "name": "stdout",
     "output_type": "stream",
     "text": [
      "(32, 32, 1) (13, 10, 1)\n"
     ]
    }
   ],
   "source": [
    "rows,cols = img.shape\n",
    "block = (32,32,1)\n",
    "grid = (int((cols + block[0] - 1) / block[0]),int((rows + block[1] - 1) / block[1]),1)\n",
    "print(block,grid)"
   ]
  },
  {
   "cell_type": "code",
   "execution_count": 26,
   "metadata": {},
   "outputs": [],
   "source": [
    "transform_kernel(cu.In(img.astype('float32')),cu.Out(dst),np.int32(cols),\n",
    "                np.int32(rows),np.float32(30.0 / 180.0 * np.pi),grid=grid,block=block)"
   ]
  },
  {
   "cell_type": "code",
   "execution_count": 27,
   "metadata": {},
   "outputs": [
    {
     "name": "stdout",
     "output_type": "stream",
     "text": [
      "[[64. 64. 64. ... 64. 64. 64.]\n",
      " [64. 64. 64. ... 64. 64. 64.]\n",
      " [64. 64. 64. ... 64. 64. 64.]\n",
      " ...\n",
      " [86. 86. 86. ... 86. 86. 86.]\n",
      " [86. 86. 86. ... 86. 86. 86.]\n",
      " [86. 86. 86. ... 86. 86. 86.]]\n"
     ]
    }
   ],
   "source": [
    "print(dst)"
   ]
  },
  {
   "cell_type": "code",
   "execution_count": 28,
   "metadata": {},
   "outputs": [],
   "source": [
    "dst[dst < 0] = 0\n",
    "dst[dst > 255] = 255\n",
    "dst = dst.astype('uint8')"
   ]
  },
  {
   "cell_type": "code",
   "execution_count": 29,
   "metadata": {},
   "outputs": [
    {
     "data": {
      "text/plain": [
       "<matplotlib.image.AxesImage at 0x1e2ab380898>"
      ]
     },
     "execution_count": 29,
     "metadata": {},
     "output_type": "execute_result"
    },
    {
     "data": {
      "image/png": "[encoded data removed]",
      "text/plain": [
       "<Figure size 432x288 with 1 Axes>"
      ]
     },
     "metadata": {},
     "output_type": "display_data"
    }
   ],
   "source": [
    "plt.imshow(dst,'gray')"
   ]
  },
  {
   "cell_type": "code",
   "execution_count": 19,
   "metadata": {},
   "outputs": [],
   "source": [
    "import pycuda.driver as cuda\n",
    "import pycuda.compiler\n",
    "import pycuda.autoinit\n",
    "import numpy\n",
    "from math import pi,cos,sin"
   ]
  },
  {
   "cell_type": "code",
   "execution_count": 50,
   "metadata": {},
   "outputs": [],
   "source": [
    "_rotation_kernel_source = \"\"\"\n",
    "texture<float, 2> tex;\n",
    "\n",
    "__global__ void copy_texture_kernel(\n",
    "    const float resize_val, \n",
    "    const float alpha, \n",
    "     int oldiw,  int oldih,\n",
    "     int newiw,  int newih,\n",
    "     char* data) {\n",
    "\n",
    "        // calculate pixel idx\n",
    "        unsigned int x = blockIdx.x * blockDim.x + threadIdx.x;\n",
    "        unsigned int y = blockIdx.y * blockDim.y + threadIdx.y;\n",
    "        \n",
    "        // We might be outside the reachable pixels. Don't do anything\n",
    "        if( (x >= newiw) || (y >= newih) )\n",
    "            return;\n",
    "        \n",
    "        // calculate offset into destination array\n",
    "        unsigned int didx = y * newiw + x;\n",
    "        \n",
    "        // calculate offset into source array (be aware of rotation and scaling)\n",
    "        float xmiddle = (x-newiw/2.) / resize_val;\n",
    "        float ymiddle = (y-newih/2.) / resize_val;\n",
    "        float sx = ( xmiddle*cos(alpha)+ymiddle*sin(alpha) + oldiw/2.) ;\n",
    "        float sy = ( -xmiddle*sin(alpha)+ymiddle*cos(alpha) + oldih/2.);\n",
    "        \n",
    "        if( (sx < 0) || (sx >= oldiw) || (sy < 0) || (sy >= oldih) ) { \n",
    "            data[didx] = 255; \n",
    "            return;\n",
    "        }\n",
    "\n",
    "        data[didx] = tex2D(tex, sx, sy);\n",
    "    }\n",
    "\"\"\""
   ]
  },
  {
   "cell_type": "code",
   "execution_count": 52,
   "metadata": {},
   "outputs": [],
   "source": [
    "mod_copy_texture=pycuda.compiler.SourceModule( _rotation_kernel_source )"
   ]
  },
  {
   "cell_type": "code",
   "execution_count": 53,
   "metadata": {},
   "outputs": [],
   "source": [
    "copy_texture_func = mod_copy_texture.get_function(\"copy_texture_kernel\")"
   ]
  },
  {
   "cell_type": "code",
   "execution_count": 54,
   "metadata": {},
   "outputs": [],
   "source": [
    "texref = mod_copy_texture.get_texref(\"tex\")"
   ]
  },
  {
   "cell_type": "code",
   "execution_count": 57,
   "metadata": {},
   "outputs": [],
   "source": [
    "def rotate_image( a, resize = 1.5, angle = 20., interpolation = \"linear\", \n",
    "                 blocks = (16,16,1)  ):\n",
    "    \"\"\"\n",
    "    Rotates the array. The new array has the new size and centers the\n",
    "    picture in the middle.\n",
    "    \n",
    "    a             - array (2-dim)\n",
    "    resize        - new_image w/old_image w\n",
    "    angle         - degrees to rotate the image\n",
    "    interpolation - \"linear\" or None\n",
    "    blocks        - given to the kernel when run\n",
    "\n",
    "\n",
    "    returns: a new array with dtype=uint8 containing the rotated image\n",
    "    \"\"\"\n",
    "    angle = angle/180. * pi\n",
    "    a = a.astype(\"float32\")\n",
    "    calc_x = lambda x,y :(x*a.shape[1]/2.*cos(angle)-y*a.shape[0]/2.*sin(angle))\n",
    "    calc_y = lambda x,y :(x*a.shape[1]/2.*sin(angle)+y*a.shape[0]/2.*cos(angle))\n",
    "    xs = [ calc_x(p[0],p[1]) for p in [ (-1.,-1.),(1.,-1.),(1.,1.),(-1.,1.) ] ]\n",
    "    ys = [ calc_y(p[0],p[1]) for p in [ (-1.,-1.),(1.,-1.),(1.,1.),(-1.,1.) ] ]\n",
    "    new_image_dim = (\n",
    "        int(numpy.ceil(max(ys)-min(ys))*resize),\n",
    "        int(numpy.ceil(max(xs)-min(xs))*resize),\n",
    "    )\n",
    "    \n",
    "    # Now generate the cuda texture\n",
    "    cuda.matrix_to_texref(a, texref, order=\"C\")\n",
    "    # We could set the next if we wanted to address the image\n",
    "    # in normalized coordinates ( 0 <= coordinate < 1.)\n",
    "    # texref.set_flags(cuda.TRSF_NORMALIZED_COORDINATES)\n",
    "    if interpolation == \"linear\":\n",
    "        texref.set_filter_mode(cuda.filter_mode.LINEAR)\n",
    "    \n",
    "    # Calculate the gridsize. This is entirely given by the size of our image. \n",
    "    gridx = new_image_dim[0]//blocks[0] if \\\n",
    "            new_image_dim[0]%blocks[0]==1 else new_image_dim[0]//blocks[0] +1\n",
    "    gridy = new_image_dim[1]//blocks[1] if \\\n",
    "            new_image_dim[1]%blocks[1]==0 else new_image_dim[1]//blocks[1] +1\n",
    "    \n",
    "     # Get the output image\n",
    "    output = numpy.zeros(new_image_dim,dtype=\"uint8\")\n",
    "     # Call the kernel\n",
    "    copy_texture_func(\n",
    "        numpy.float32(resize), numpy.float32(angle),\n",
    "        numpy.int32(a.shape[1]), numpy.int32(a.shape[0]),\n",
    "        numpy.int32(new_image_dim[1]), numpy.int32(new_image_dim[0]),\n",
    "            cuda.Out(output),texrefs=[texref],block=blocks,grid=(gridx,gridy))\n",
    "    return output"
   ]
  },
  {
   "cell_type": "code",
   "execution_count": 59,
   "metadata": {},
   "outputs": [],
   "source": [
    "dst = rotate_image(img,angle=30.0)"
   ]
  },
  {
   "cell_type": "code",
   "execution_count": 61,
   "metadata": {},
   "outputs": [
    {
     "data": {
      "text/plain": [
       "<matplotlib.image.AxesImage at 0x1e2aafaf400>"
      ]
     },
     "execution_count": 61,
     "metadata": {},
     "output_type": "execute_result"
    },
    {
     "data": {
      "image/png": "[encoded data removed]",
      "text/plain": [
       "<Figure size 432x288 with 1 Axes>"
      ]
     },
     "metadata": {},
     "output_type": "display_data"
    }
   ],
   "source": [
    "plt.imshow(dst,'gray')"
   ]
  },
  {
   "cell_type": "code",
   "execution_count": null,
   "metadata": {},
   "outputs": [],
   "source": []
  }
 ],
 "metadata": {
  "kernelspec": {
   "display_name": "Python 3",
   "language": "python",
   "name": "python3"
  },
  "language_info": {
   "codemirror_mode": {
    "name": "ipython",
    "version": 3
   },
   "file_extension": ".py",
   "mimetype": "text/x-python",
   "name": "python",
   "nbconvert_exporter": "python",
   "pygments_lexer": "ipython3",
   "version": "3.6.4"
  }
 },
 "nbformat": 4,
 "nbformat_minor": 2
}
