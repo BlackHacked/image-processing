{
 "cells": [
  {
   "cell_type": "markdown",
   "metadata": {},
   "source": [
    "# CUDA编程基础-向量和矩阵加减"
   ]
  },
  {
   "cell_type": "code",
   "execution_count": 1,
   "metadata": {},
   "outputs": [],
   "source": [
    "import pycuda.autoinit\n",
    "import pycuda.driver as cu\n",
    "import numpy as np\n",
    "from pycuda.compiler import SourceModule\n",
    "import string"
   ]
  },
  {
   "cell_type": "code",
   "execution_count": 2,
   "metadata": {},
   "outputs": [],
   "source": [
    "def load_kernel_from_file(fname,kname):\n",
    "    sources = None\n",
    "    kernel = None\n",
    "    with open(fname,encoding='utf-8') as f:\n",
    "        sources = str(f.read())\n",
    "        sm = SourceModule(sources)\n",
    "        kernel = sm.get_function(kname)\n",
    "    return kernel\n",
    "\n",
    "def load_kernel_from_string(sources,kname):\n",
    "    sm = SourceModule(str(sources))\n",
    "    kernel = sm.get_function(kname)\n",
    "    return kernel"
   ]
  },
  {
   "cell_type": "markdown",
   "metadata": {},
   "source": [
    "## 1.向量加减"
   ]
  },
  {
   "cell_type": "code",
   "execution_count": 3,
   "metadata": {},
   "outputs": [],
   "source": [
    "sources = string.Template(\"\"\"\n",
    "    __global__ void vec_add_kernel(float *A,float *B,float *C){\n",
    "        int i = threadIdx.x;\n",
    "        C[i] = A[i] + B[i];\n",
    "    }\n",
    "    \n",
    "    __global__ void vec_sub_kernel(float * A,float *B,float *C){\n",
    "        int i = threadIdx.x;\n",
    "        C[i] = A[i] - B[i];\n",
    "    }\n",
    "    \n",
    "     __global__ void vec_add_kernel_2(float *A,float *B,float *C,int N){\n",
    "        int i = blockDim.x * blockIdx.x + threadIdx.x;\n",
    "        if (i < N)\n",
    "            C[i] = A[i] + B[i];\n",
    "    }\n",
    "\"\"\").substitute()"
   ]
  },
  {
   "cell_type": "code",
   "execution_count": 5,
   "metadata": {},
   "outputs": [],
   "source": [
    "vec_add_kernel = load_kernel_from_string(sources,'vec_add_kernel')\n",
    "vec_sub_kernel = load_kernel_from_string(sources,'vec_sub_kernel')\n",
    "vec_add_kernel_2 = load_kernel_from_string(sources,'vec_add_kernel_2')"
   ]
  },
  {
   "cell_type": "code",
   "execution_count": 6,
   "metadata": {},
   "outputs": [],
   "source": [
    "N = 1024\n",
    "vec_A = np.arange(1,N + 1).astype(np.float32)\n",
    "vec_B = np.arange(1,N + 1).astype(np.float32)\n",
    "vec_C = np.zeros_like(vec_A)"
   ]
  },
  {
   "cell_type": "code",
   "execution_count": 13,
   "metadata": {},
   "outputs": [
    {
     "name": "stdout",
     "output_type": "stream",
     "text": [
      "(1024, 1, 1) (1, 1024, 1)\n"
     ]
    }
   ],
   "source": [
    "block = (1024,1,1)\n",
    "grid = (int((N + block[0] - 1) / block[0]),int((N + block[1] - 1) / block[1]),1)\n",
    "print(block,grid)"
   ]
  },
  {
   "cell_type": "code",
   "execution_count": 14,
   "metadata": {},
   "outputs": [],
   "source": [
    "vec_add_kernel_2(cu.In(vec_A),cu.In(vec_B),cu.Out(vec_C),np.int32(N),grid=grid,block=block)"
   ]
  },
  {
   "cell_type": "code",
   "execution_count": 15,
   "metadata": {},
   "outputs": [
    {
     "name": "stdout",
     "output_type": "stream",
     "text": [
      "True\n"
     ]
    }
   ],
   "source": [
    "print((vec_C == (vec_A + vec_B)).all())"
   ]
  },
  {
   "cell_type": "markdown",
   "metadata": {},
   "source": [
    "## 2.矩阵加减"
   ]
  },
  {
   "cell_type": "code",
   "execution_count": 22,
   "metadata": {},
   "outputs": [],
   "source": [
    "sources = string.Template(\"\"\"\n",
    "    __global__ void mat_add_kernel(float A[$N][$N],float B[$N][$N],\n",
    "                                    float C[$N][$N]){\n",
    "        int i = threadIdx.x;\n",
    "        int j = threadIdx.y;\n",
    "        C[i][j] = A[i][j] + B[i][j];\n",
    "    }\n",
    "    \n",
    "    __global__ void mat_add_kernel_2(float * A,float * B,\n",
    "                                    float *C,int N){\n",
    "        \n",
    "        int i = blockIdx.x * blockDim.x + threadIdx.x;\n",
    "        int j = blockIdx.y * blockDim.y + threadIdx.y;\n",
    "        int idx = j * N + i;\n",
    "        if (i < N && j < N){\n",
    "           C[idx] = A[idx] + B[idx];\n",
    "        }\n",
    "        \n",
    "    }\n",
    "   \n",
    "\"\"\").substitute(N=512)"
   ]
  },
  {
   "cell_type": "code",
   "execution_count": 23,
   "metadata": {},
   "outputs": [],
   "source": [
    "mat_add_kernel = load_kernel_from_string(sources,'mat_add_kernel')\n",
    "mat_add_kernel_2 = load_kernel_from_string(sources,'mat_add_kernel_2')"
   ]
  },
  {
   "cell_type": "code",
   "execution_count": 28,
   "metadata": {},
   "outputs": [],
   "source": [
    "N = 16\n",
    "block = (N,N,1)\n",
    "grid = (1,1,1)"
   ]
  },
  {
   "cell_type": "code",
   "execution_count": 29,
   "metadata": {},
   "outputs": [],
   "source": [
    "mat_A = np.arange(1,257).reshape((N,N)).astype('float32')\n",
    "mat_B = np.arange(1,257).reshape((N,N)).astype('float32')\n",
    "mat_C = np.zeros_like(mat_A)"
   ]
  },
  {
   "cell_type": "code",
   "execution_count": 30,
   "metadata": {},
   "outputs": [],
   "source": [
    "mat_add_kernel(cu.In(mat_A),cu.In(mat_B),cu.Out(mat_C),grid=grid,block=block)"
   ]
  },
  {
   "cell_type": "code",
   "execution_count": 31,
   "metadata": {
    "scrolled": true
   },
   "outputs": [
    {
     "name": "stdout",
     "output_type": "stream",
     "text": [
      "(512, 512)\n"
     ]
    }
   ],
   "source": [
    "W = 512\n",
    "mat_A = np.arange(1,262145).astype(np.float32).reshape((W,W))\n",
    "mat_B = np.arange(1,262145).astype(np.float32).reshape((W,W))\n",
    "mat_C = np.zeros_like(vec_A)\n",
    "print(vec_A.shape)"
   ]
  },
  {
   "cell_type": "code",
   "execution_count": 32,
   "metadata": {},
   "outputs": [
    {
     "name": "stdout",
     "output_type": "stream",
     "text": [
      "(16, 16, 1)\n"
     ]
    }
   ],
   "source": [
    "block = (32,32,1)\n",
    "grid = (int (W / block[0]),int(W / block[1]),1)\n",
    "print(grid)"
   ]
  },
  {
   "cell_type": "code",
   "execution_count": 33,
   "metadata": {},
   "outputs": [],
   "source": [
    "mat_add_kernel_2(cu.In(mat_A),cu.In(mat_B),cu.Out(mat_C),np.int32(W),grid=grid,block=block)"
   ]
  },
  {
   "cell_type": "code",
   "execution_count": 34,
   "metadata": {},
   "outputs": [
    {
     "name": "stdout",
     "output_type": "stream",
     "text": [
      "True\n"
     ]
    }
   ],
   "source": [
    "print((mat_C == (mat_A + mat_B)).all())"
   ]
  }
 ],
 "metadata": {
  "kernelspec": {
   "display_name": "Python 3",
   "language": "python",
   "name": "python3"
  },
  "language_info": {
   "codemirror_mode": {
    "name": "ipython",
    "version": 3
   },
   "file_extension": ".py",
   "mimetype": "text/x-python",
   "name": "python",
   "nbconvert_exporter": "python",
   "pygments_lexer": "ipython3",
   "version": "3.6.4"
  }
 },
 "nbformat": 4,
 "nbformat_minor": 2
}
