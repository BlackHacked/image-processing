{
 "cells": [
  {
   "cell_type": "markdown",
   "metadata": {},
   "source": [
    "# PyCUDA-图像处理-图像平滑"
   ]
  },
  {
   "cell_type": "code",
   "execution_count": 20,
   "metadata": {},
   "outputs": [],
   "source": [
    "import pycuda.autoinit\n",
    "import pycuda.driver as cu\n",
    "from pycuda import gpuarray\n",
    "from pycuda.reduction import ReductionKernel\n",
    "from pycuda.elementwise import ElementwiseKernel\n",
    "import time\n",
    "import numpy as np\n",
    "from pycuda.compiler import SourceModule\n",
    "import string\n",
    "import cv2\n",
    "%matplotlib inline\n",
    "import matplotlib.pyplot as plt\n",
    "from matplotlib import  animation"
   ]
  },
  {
   "cell_type": "code",
   "execution_count": 21,
   "metadata": {},
   "outputs": [],
   "source": [
    "def load_kernel_from_file(fname,kname):\n",
    "    sources = None\n",
    "    kernel = None\n",
    "    with open(fname) as f:\n",
    "        sources = f.read() # 通过str函数转换为unicode编码\n",
    "        sm = SourceModule(str(sources))\n",
    "        kernel = sm.get_function(kname)\n",
    "    return kernel\n",
    "\n",
    "def load_kernel_from_string(sources,kname):\n",
    "    sm = SourceModule(str(sources))\n",
    "    kernel = sm.get_function(kname)\n",
    "    return kernel"
   ]
  },
  {
   "cell_type": "code",
   "execution_count": 34,
   "metadata": {},
   "outputs": [],
   "source": [
    "smoothing_kernel  = load_kernel_from_file('../../datas/cuda/15-smooth.cu','smoothingFilter')"
   ]
  },
  {
   "cell_type": "code",
   "execution_count": 35,
   "metadata": {},
   "outputs": [],
   "source": [
    "normalize_kernel   = load_kernel_from_file('../../datas/cuda/14-smooth.cu','normalizeFilter')"
   ]
  },
  {
   "cell_type": "code",
   "execution_count": 36,
   "metadata": {},
   "outputs": [],
   "source": [
    "out_kernel = load_kernel_from_file('../../datas/cuda/14-smooth.cu','outFilter')"
   ]
  },
  {
   "cell_type": "code",
   "execution_count": 23,
   "metadata": {},
   "outputs": [],
   "source": [
    "src = cv2.cvtColor(cv2.imread('../../datas/f2.jpg'),cv2.COLOR_BGR2RGB)"
   ]
  },
  {
   "cell_type": "code",
   "execution_count": 24,
   "metadata": {},
   "outputs": [],
   "source": [
    "Lx = np.int32(src.shape[0])\n",
    "Ly = np.int32(src.shape[1])\n",
    "Threshold = np.int32(15)\n",
    "MaxRad = np.int32(4)\n",
    "\n",
    "src_r = src[:,:,0]"
   ]
  },
  {
   "cell_type": "code",
   "execution_count": 25,
   "metadata": {},
   "outputs": [],
   "source": [
    "BOX = np.zeros((Lx,Ly),dtype=np.float32)\n",
    "NORM = np.zeros((Lx,Ly),dtype=np.float32)\n",
    "OUT = np.zeros((Lx,Ly),dtype=np.float32)"
   ]
  },
  {
   "cell_type": "code",
   "execution_count": 60,
   "metadata": {},
   "outputs": [],
   "source": [
    "# GPU执行参数\n",
    "TPBx = int(32)\n",
    "TPBy = int(32)\n",
    "nBx = int(Ly / TPBx)\n",
    "nBy = int(Lx / TPBy)"
   ]
  },
  {
   "cell_type": "code",
   "execution_count": 27,
   "metadata": {},
   "outputs": [],
   "source": [
    "total_start_time = time.time()\n",
    "setup_start_time = time.time()"
   ]
  },
  {
   "cell_type": "code",
   "execution_count": 28,
   "metadata": {},
   "outputs": [],
   "source": [
    "smem_size   = int(TPBx*TPBy*4)"
   ]
  },
  {
   "cell_type": "code",
   "execution_count": 29,
   "metadata": {},
   "outputs": [],
   "source": [
    "# 复制数据到GPU设备\n",
    "IMG = src[:,:,0]\n",
    "IMG_device = gpuarray.to_gpu(IMG)\n",
    "BOX_device = gpuarray.to_gpu(BOX)\n",
    "NORM_device = gpuarray.to_gpu(NORM)\n",
    "OUT_device = gpuarray.to_gpu(OUT)"
   ]
  },
  {
   "cell_type": "code",
   "execution_count": 30,
   "metadata": {},
   "outputs": [],
   "source": [
    "# setup_stop_time = time.time()\n",
    "# smth_kernel_start_time   = cu.Event()\n",
    "# smth_kernel_stop_time    = cu.Event()\n",
    "# norm_kernel_start_time   = cu.Event()\n",
    "# norm_kernel_stop_time    = cu.Event()\n",
    "# out_kernel_start_time    = cu.Event()\n",
    "# out_kernel_stop_time     = cu.Event()"
   ]
  },
  {
   "cell_type": "code",
   "execution_count": 55,
   "metadata": {},
   "outputs": [],
   "source": [
    "# smth_kernel_start_time.record()\n",
    "smoothing_kernel (Lx, Ly, Threshold, MaxRad, IMG_device, BOX_device, NORM_device,\n",
    "    block=( TPBx, TPBy,1 ),  grid=( nBx, nBy ), shared=( smem_size ) )\n",
    "# smth_kernel_stop_time.record()\n",
    "# print('usage:',(smth_kernel_start_time.time_till(smth_kernel_stop_time) * 1e-3))"
   ]
  },
  {
   "cell_type": "code",
   "execution_count": 56,
   "metadata": {},
   "outputs": [],
   "source": [
    "normalize_kernel(Lx, Ly, IMG_device, NORM_device,\n",
    "    block=( TPBx, TPBy,1 ),  grid=( nBx, nBy ), shared=( smem_size ) )"
   ]
  },
  {
   "cell_type": "code",
   "execution_count": 57,
   "metadata": {},
   "outputs": [],
   "source": [
    "out_kernel(Lx, Ly, IMG_device, BOX_device, OUT_device,\n",
    "    block=( TPBx, TPBy,1 ),  grid=( nBx, nBy ), shared=( smem_size ) )"
   ]
  },
  {
   "cell_type": "code",
   "execution_count": 58,
   "metadata": {},
   "outputs": [
    {
     "name": "stdout",
     "output_type": "stream",
     "text": [
      "[[0.0000000e+00 0.0000000e+00 0.0000000e+00 ... 1.5366556e+33\n",
      "  1.1270549e+34 1.4309155e+34]\n",
      " [1.1187817e+35 5.1390916e+35 5.1101230e+35 ... 1.7754128e+26\n",
      "  3.8993550e+35 3.9196596e+35]\n",
      " [3.9478716e+35 8.2254400e+33 6.1987687e+33 ... 1.8500961e+25\n",
      "  3.3323025e+32 1.6548630e+34]\n",
      " ...\n",
      " [0.0000000e+00 0.0000000e+00 0.0000000e+00 ... 0.0000000e+00\n",
      "  0.0000000e+00 0.0000000e+00]\n",
      " [0.0000000e+00 0.0000000e+00 0.0000000e+00 ... 0.0000000e+00\n",
      "  0.0000000e+00 0.0000000e+00]\n",
      " [0.0000000e+00 0.0000000e+00 0.0000000e+00 ... 0.0000000e+00\n",
      "  0.0000000e+00 0.0000000e+00]]\n"
     ]
    }
   ],
   "source": [
    "print(OUT_device.get())"
   ]
  },
  {
   "cell_type": "code",
   "execution_count": 59,
   "metadata": {},
   "outputs": [
    {
     "data": {
      "text/plain": [
       "<matplotlib.image.AxesImage at 0x1c33d0690f0>"
      ]
     },
     "execution_count": 59,
     "metadata": {},
     "output_type": "execute_result"
    },
    {
     "data": {
      "image/png": "[encoded data removed]",
      "text/plain": [
       "<Figure size 432x288 with 1 Axes>"
      ]
     },
     "metadata": {},
     "output_type": "display_data"
    }
   ],
   "source": [
    "plt.imshow(OUT_device.get(),'gray')"
   ]
  },
  {
   "cell_type": "code",
   "execution_count": null,
   "metadata": {},
   "outputs": [],
   "source": []
  }
 ],
 "metadata": {
  "kernelspec": {
   "display_name": "Python 3",
   "language": "python",
   "name": "python3"
  },
  "language_info": {
   "codemirror_mode": {
    "name": "ipython",
    "version": 3
   },
   "file_extension": ".py",
   "mimetype": "text/x-python",
   "name": "python",
   "nbconvert_exporter": "python",
   "pygments_lexer": "ipython3",
   "version": "3.6.4"
  }
 },
 "nbformat": 4,
 "nbformat_minor": 2
}
