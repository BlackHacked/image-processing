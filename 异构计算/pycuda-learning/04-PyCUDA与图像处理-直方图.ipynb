{
 "cells": [
  {
   "cell_type": "markdown",
   "metadata": {},
   "source": [
    "# PyCUDA与图像处理-直方图"
   ]
  },
  {
   "cell_type": "code",
   "execution_count": 1,
   "metadata": {},
   "outputs": [],
   "source": [
    "import pycuda.autoinit\n",
    "import pycuda.driver as drv\n",
    "import numpy as np\n",
    "from pycuda.compiler import SourceModule\n",
    "import string\n",
    "import cv2\n",
    "%matplotlib inline\n",
    "import matplotlib.pyplot as plt\n",
    "from matplotlib import  animation"
   ]
  },
  {
   "cell_type": "code",
   "execution_count": 2,
   "metadata": {},
   "outputs": [],
   "source": [
    "def load_kernel_from_file(fname,kname):\n",
    "    sources = None\n",
    "    kernel = None\n",
    "    with open(fname,encoding='utf-8') as f:\n",
    "        sources = f.read() # 通过str函数转换为unicode编码\n",
    "        sm = SourceModule(str(sources))\n",
    "        kernel = sm.get_function(kname)\n",
    "    return kernel\n",
    "\n",
    "def load_kernel_from_string(sources,kname):\n",
    "    sm = SourceModule(str(sources))\n",
    "    kernel = sm.get_function(kname)\n",
    "    return kernel"
   ]
  },
  {
   "cell_type": "code",
   "execution_count": 4,
   "metadata": {},
   "outputs": [],
   "source": [
    "histogram = load_kernel_from_file('../../datas/cuda/07-histogram.cu','histogram')"
   ]
  },
  {
   "cell_type": "code",
   "execution_count": 5,
   "metadata": {},
   "outputs": [],
   "source": [
    "src = cv2.imread('../../datas/f2.jpg',0)"
   ]
  },
  {
   "cell_type": "code",
   "execution_count": 8,
   "metadata": {},
   "outputs": [],
   "source": [
    "histval = np.zeros((256,),np.int32)"
   ]
  },
  {
   "cell_type": "code",
   "execution_count": 9,
   "metadata": {},
   "outputs": [
    {
     "name": "stdout",
     "output_type": "stream",
     "text": [
      "block =  (32, 32, 1)\n",
      "grid =  (20, 15, 1)\n"
     ]
    }
   ],
   "source": [
    "rows,cols = src.shape\n",
    "block = (32,32,1)\n",
    "grid = (int(cols / block[0] ),int(rows / block[1]),1)\n",
    "\n",
    "print('block = ',block)\n",
    "print('grid = ',grid)"
   ]
  },
  {
   "cell_type": "code",
   "execution_count": 10,
   "metadata": {},
   "outputs": [],
   "source": [
    "histogram(drv.In(src),drv.Out(histval),grid=grid,block=block)"
   ]
  },
  {
   "cell_type": "code",
   "execution_count": 12,
   "metadata": {},
   "outputs": [
    {
     "data": {
      "text/plain": [
       "Text(0.5,1,'Histogram')"
      ]
     },
     "execution_count": 12,
     "metadata": {},
     "output_type": "execute_result"
    },
    {
     "data": {
      "image/png": "[encoded data removed]",
      "text/plain": [
       "<Figure size 432x288 with 1 Axes>"
      ]
     },
     "metadata": {},
     "output_type": "display_data"
    }
   ],
   "source": [
    "plt.bar(np.arange(0,256),histval)\n",
    "plt.title('Histogram')"
   ]
  }
 ],
 "metadata": {
  "kernelspec": {
   "display_name": "Python 3",
   "language": "python",
   "name": "python3"
  },
  "language_info": {
   "codemirror_mode": {
    "name": "ipython",
    "version": 3
   },
   "file_extension": ".py",
   "mimetype": "text/x-python",
   "name": "python",
   "nbconvert_exporter": "python",
   "pygments_lexer": "ipython3",
   "version": "3.6.4"
  }
 },
 "nbformat": 4,
 "nbformat_minor": 2
}
