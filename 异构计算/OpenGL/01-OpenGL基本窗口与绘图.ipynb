{
 "cells": [
  {
   "cell_type": "markdown",
   "metadata": {},
   "source": [
    "# OpenGL基本窗口与绘图"
   ]
  },
  {
   "cell_type": "code",
   "execution_count": null,
   "metadata": {},
   "outputs": [],
   "source": [
    "from OpenGL.GL import *\n",
    "from OpenGL.GLU import *\n",
    "from OpenGL.GLUT import *\n",
    "from numpy import *\n",
    "import sys\n",
    " \n",
    "global W, H, R\n",
    "(W, H, R) = (500, 500, 10.0)\n",
    " \n",
    "def init():\n",
    "    glClearColor(1.0, 1.0, 1.0, 1.0)\n",
    "    \n",
    "def drawfunc():\n",
    "    glClear(GL_COLOR_BUFFER_BIT)\n",
    "    glColor3f(0.0, 0.0, 0.0)\n",
    "    glBegin(GL_POINTS)\n",
    "    for x in arange(-R, R, 0.04):\n",
    "#         print '%.1f%%r' % ((R + x) / (R + R) * 100),\n",
    "        for y in arange(-R, R, 0.04):\n",
    "            r = cos(x) + sin(y)\n",
    "            glColor3f(cos(y*r), cos(x*y*r), sin(x*r))\n",
    "            glVertex2f(x, y)\n",
    "#     print '100%!!'\n",
    "    glEnd()\n",
    "    glFlush()\n",
    "\n",
    "def reshape(w, h):\n",
    "    if h <= 0: h = 1;\n",
    "    glViewport(0, 0, w, h)\n",
    "    glMatrixMode(GL_PROJECTION)\n",
    "    glLoadIdentity()\n",
    "    if w <= h:\n",
    "        gluOrtho2D(-R, R, -R * h / w, R * h / w)\n",
    "    else:\n",
    "        gluOrtho2D(-R * w / h, R * w / h, -R, R)\n",
    "    glMatrixMode(GL_MODELVIEW)\n",
    "    glLoadIdentity()\n",
    "\n",
    "\n",
    "def keyboard(key, x, y):\n",
    "    if key == chr(27) or key == \"q\": # Esc is 27\n",
    "        sys.exit()\n",
    "\n",
    "def main():\n",
    "    glutInit(sys.argv)\n",
    "    glutInitDisplayMode(GLUT_SINGLE|GLUT_RGB)\n",
    "    glutInitWindowPosition(20, 20)\n",
    "    glutInitWindowSize(W, H)\n",
    "    glutCreateWindow(b\"Artist Drawer\")\n",
    "    glutReshapeFunc(reshape)\n",
    "    glutDisplayFunc(drawfunc)\n",
    "    glutKeyboardFunc(keyboard)\n",
    "    init()\n",
    "    glutMainLoop()\n",
    "\n",
    "main()"
   ]
  },
  {
   "cell_type": "markdown",
   "metadata": {},
   "source": [
    "参考\n",
    "\n",
    "[1]. https://blog.csdn.net/jacke121/article/details/70209227\n",
    "\n",
    "[2]. http://eyehere.net/2013/learn-opengl-3d-by-pyopengl-5/"
   ]
  }
 ],
 "metadata": {
  "kernelspec": {
   "display_name": "Python 3",
   "language": "python",
   "name": "python3"
  },
  "language_info": {
   "codemirror_mode": {
    "name": "ipython",
    "version": 3
   },
   "file_extension": ".py",
   "mimetype": "text/x-python",
   "name": "python",
   "nbconvert_exporter": "python",
   "pygments_lexer": "ipython3",
   "version": "3.6.3"
  }
 },
 "nbformat": 4,
 "nbformat_minor": 2
}
