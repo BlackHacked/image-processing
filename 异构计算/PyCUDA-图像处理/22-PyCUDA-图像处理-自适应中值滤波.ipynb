{
 "cells": [
  {
   "cell_type": "markdown",
   "metadata": {},
   "source": [
    "# PyCUDA-图像处理-自适应中值滤波"
   ]
  },
  {
   "cell_type": "code",
   "execution_count": null,
   "metadata": {},
   "outputs": [],
   "source": [
    "import pycuda.autoinit\n",
    "import pycuda.driver as cu\n",
    "from pycuda import gpuarray\n",
    "from pycuda.reduction import ReductionKernel\n",
    "from pycuda.elementwise import ElementwiseKernel\n",
    "import time\n",
    "import numpy as np\n",
    "from pycuda.compiler import SourceModule\n",
    "import string\n",
    "import cv2\n",
    "%matplotlib inline\n",
    "import matplotlib.pyplot as plt\n",
    "from matplotlib import  animation"
   ]
  },
  {
   "cell_type": "code",
   "execution_count": null,
   "metadata": {},
   "outputs": [],
   "source": [
    "def load_kernel_from_file(fname,kname):\n",
    "    sources = None\n",
    "    kernel = None\n",
    "    with open(fname,encoding='utf-8') as f:\n",
    "        sources = f.read() # 通过str函数转换为unicode编码\n",
    "        sm = SourceModule(str(sources))\n",
    "        kernel = sm.get_function(kname)\n",
    "    return kernel\n",
    "\n",
    "def load_kernel_from_string(sources,kname):\n",
    "    sm = SourceModule(str(sources))\n",
    "    kernel = sm.get_function(kname)\n",
    "    return kernel"
   ]
  },
  {
   "cell_type": "code",
   "execution_count": null,
   "metadata": {},
   "outputs": [],
   "source": [
    "adaptive_median_filter_kernel = load_kernel_from_file('../../datas/cuda/29-adaptive-median-filter.cu','adaptive_median_filter_kernel')"
   ]
  },
  {
   "cell_type": "code",
   "execution_count": null,
   "metadata": {},
   "outputs": [],
   "source": [
    "rgb = cv2.cvtColor(cv2.imread('../../datas/f4.jpg'),cv2.COLOR_BGR2RGB)\n",
    "rgba = cv2.cvtColor(rgb,cv2.COLOR_RGB2RGBA)\n",
    "gray = cv2.cvtColor(rgb,cv2.COLOR_RGB2GRAY)"
   ]
  },
  {
   "cell_type": "code",
   "execution_count": null,
   "metadata": {},
   "outputs": [],
   "source": [
    "rows,cols,ch = rgb.shape"
   ]
  },
  {
   "cell_type": "code",
   "execution_count": null,
   "metadata": {},
   "outputs": [],
   "source": [
    "block = (16,16,1)\n",
    "grid = (int((cols + block[0]) / block[0]),int((rows + block[1]) / block[1]))\n",
    "# grid = (cols,rows,1)"
   ]
  },
  {
   "cell_type": "code",
   "execution_count": null,
   "metadata": {},
   "outputs": [],
   "source": [
    "MAX_AREA_SIZE = 7\n",
    "dst = np.zeros_like(rgb)\n",
    "median = np.zeros((rows * cols * MAX_AREA_SIZE),dtype=rgb.dtype)\n",
    "adaptive_median_filter_kernel(cu.In(rgb),cu.Out(dst),np.int32(cols),np.int32(rows),cu.Out(median),grid=grid,block=block)"
   ]
  },
  {
   "cell_type": "code",
   "execution_count": null,
   "metadata": {},
   "outputs": [],
   "source": [
    "plt.imshow(dst)"
   ]
  },
  {
   "cell_type": "code",
   "execution_count": null,
   "metadata": {},
   "outputs": [],
   "source": [
    "print(dst)"
   ]
  },
  {
   "cell_type": "code",
   "execution_count": null,
   "metadata": {},
   "outputs": [],
   "source": []
  }
 ],
 "metadata": {
  "kernelspec": {
   "display_name": "Python 3",
   "language": "python",
   "name": "python3"
  },
  "language_info": {
   "codemirror_mode": {
    "name": "ipython",
    "version": 3
   },
   "file_extension": ".py",
   "mimetype": "text/x-python",
   "name": "python",
   "nbconvert_exporter": "python",
   "pygments_lexer": "ipython3",
   "version": "3.6.4"
  }
 },
 "nbformat": 4,
 "nbformat_minor": 2
}
