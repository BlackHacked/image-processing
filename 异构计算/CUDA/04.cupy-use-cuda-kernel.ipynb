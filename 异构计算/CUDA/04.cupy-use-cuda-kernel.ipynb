{
 "cells": [
  {
   "cell_type": "markdown",
   "metadata": {},
   "source": [
    "# USe CUDA Kernel"
   ]
  },
  {
   "cell_type": "code",
   "execution_count": 1,
   "metadata": {},
   "outputs": [],
   "source": [
    "import numpy as np\n",
    "import cupy as cp\n",
    "import cv2\n",
    "import string\n",
    "%matplotlib inline\n",
    "import matplotlib.pyplot as plt\n",
    "from matplotlib import  animation"
   ]
  },
  {
   "cell_type": "code",
   "execution_count": 2,
   "metadata": {},
   "outputs": [],
   "source": [
    "DIM = 512\n",
    "n = 100\n",
    "img = cp.zeros( (DIM, DIM, n), dtype=cp.uint8)"
   ]
  },
  {
   "cell_type": "code",
   "execution_count": 3,
   "metadata": {},
   "outputs": [],
   "source": [
    "source = string.Template(\n",
    "\"\"\"\n",
    "extern \"C\"{\n",
    "const int DIM=${DIM};\n",
    "struct cuComplex{\n",
    "    float r;\n",
    "    float i;\n",
    "    \n",
    "    __device__ cuComplex( float a, float b): r(a), i(b) {}\n",
    "    \n",
    "    __device__ float magnitude2(){\n",
    "        return r * r + i * i;\n",
    "    }\n",
    "    \n",
    "    __device__ cuComplex operator*(const cuComplex &a){\n",
    "        return cuComplex( r * a.r - i * a.i,  i * a.r + r * a.i);\n",
    "    }\n",
    "    \n",
    "    __device__ cuComplex operator+(const cuComplex &a){\n",
    "        return cuComplex(r + a.r, i + a.i);\n",
    "    }    \n",
    "};\n",
    "\n",
    "__device__ int julia(int x, int y, int n){\n",
    "    const float scale = 1.5;\n",
    "    float jx = scale * (float)(DIM/2 - x)/(DIM/2);\n",
    "    float jy = scale * (float)(DIM/2 - y)/(DIM/2);\n",
    "    cuComplex c(-0.8, 0.156);\n",
    "    cuComplex a(jx, jy);\n",
    "    \n",
    "    for(int i =0; i < n; i++){\n",
    "        a = a * a + c;\n",
    "        if (a.magnitude2() > 1000){\n",
    "            return 0;\n",
    "        }\n",
    "    }\n",
    "    return 1;\n",
    "};\n",
    "\n",
    "__global__ void kernel(CArray<${dtype}, 2> dst, int n){    \n",
    "    int idx[] = { blockIdx.x,  blockIdx.y};\n",
    "    dst[idx] = 255 * julia(blockIdx.x, blockIdx.y, n);\n",
    "}\n",
    "}\n",
    "\"\"\").substitute(DIM=DIM, dtype=cp.core.core._get_typename(cp.uint8))\n",
    "\n",
    "kernel = cp.core.core.compile_with_cache(source).get_function(\"kernel\")"
   ]
  },
  {
   "cell_type": "code",
   "execution_count": 4,
   "metadata": {},
   "outputs": [],
   "source": [
    "for i in range(n):\n",
    "    kernel(grid=(DIM, DIM), block=(1,), args=(img[..., i], i))"
   ]
  },
  {
   "cell_type": "code",
   "execution_count": 5,
   "metadata": {},
   "outputs": [
    {
     "data": {
      "image/png": "[encoded data removed]",
      "text/plain": [
       "<Figure size 432x288 with 1 Axes>"
      ]
     },
     "metadata": {},
     "output_type": "display_data"
    }
   ],
   "source": [
    "img_ = img.get()\n",
    "fig =plt.figure()\n",
    "ims = []\n",
    "for i in range(n):\n",
    "    ims.append( [plt.imshow(img_[..., i], animated=True, cmap=\"ocean\") ])"
   ]
  },
  {
   "cell_type": "code",
   "execution_count": 11,
   "metadata": {},
   "outputs": [],
   "source": [
    "ani = animation.ArtistAnimation(fig, ims, interval=5, blit=True,\n",
    "                                repeat_delay=0)\n",
    "ani.save(\"../../temp/julia.gif\",  writer='imagemagick', fps=30)"
   ]
  },
  {
   "cell_type": "markdown",
   "metadata": {},
   "source": [
    "![](../../../files/temp/julia.gif)"
   ]
  },
  {
   "cell_type": "code",
   "execution_count": null,
   "metadata": {},
   "outputs": [],
   "source": []
  }
 ],
 "metadata": {
  "kernelspec": {
   "display_name": "Python 3",
   "language": "python",
   "name": "python3"
  },
  "language_info": {
   "codemirror_mode": {
    "name": "ipython",
    "version": 3
   },
   "file_extension": ".py",
   "mimetype": "text/x-python",
   "name": "python",
   "nbconvert_exporter": "python",
   "pygments_lexer": "ipython3",
   "version": "3.6.4"
  }
 },
 "nbformat": 4,
 "nbformat_minor": 2
}
