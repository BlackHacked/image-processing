{
 "cells": [
  {
   "cell_type": "markdown",
   "metadata": {},
   "source": [
    "# cupy cuda learning"
   ]
  },
  {
   "cell_type": "code",
   "execution_count": 1,
   "metadata": {},
   "outputs": [],
   "source": [
    "import numpy as np\n",
    "import cupy as cp\n",
    "import cv2\n",
    "import string\n",
    "%matplotlib inline\n",
    "import matplotlib.pyplot as plt\n",
    "from matplotlib import  animation"
   ]
  },
  {
   "cell_type": "code",
   "execution_count": 2,
   "metadata": {},
   "outputs": [],
   "source": [
    "def load_kernel(src,kname):\n",
    "    _ = cp.zeros((1,)) # 初始化cuda context\n",
    "    kernel = cp.core.core.compile_with_cache(src).get_function(kname)\n",
    "    return kernel"
   ]
  },
  {
   "cell_type": "code",
   "execution_count": 3,
   "metadata": {},
   "outputs": [],
   "source": [
    "source = string.Template(\"\"\"\n",
    "extern \"C\" {\n",
    "    __global__  void vector_add_int(int * a,int *b,int * c){\n",
    "        int tid = blockIdx.x;\n",
    "        c[tid] = a[tid] + b[tid];\n",
    "    }\n",
    "}\n",
    "\"\"\").substitute()"
   ]
  },
  {
   "cell_type": "code",
   "execution_count": 4,
   "metadata": {},
   "outputs": [],
   "source": [
    "vector_add = load_kernel(source,'vector_add_int')"
   ]
  },
  {
   "cell_type": "code",
   "execution_count": 5,
   "metadata": {},
   "outputs": [],
   "source": [
    "a = cp.arange(101).astype('int32')\n",
    "b = cp.arange(101).astype('int32')\n",
    "c = cp.zeros((101,),dtype=cp.int32)"
   ]
  },
  {
   "cell_type": "code",
   "execution_count": 6,
   "metadata": {},
   "outputs": [],
   "source": [
    "vector_add(grid=(101,1),block=(1,),args = (a,b,c))"
   ]
  },
  {
   "cell_type": "code",
   "execution_count": 7,
   "metadata": {},
   "outputs": [
    {
     "name": "stdout",
     "output_type": "stream",
     "text": [
      "[  0   2   4   6   8  10  12  14  16  18  20  22  24  26  28  30  32  34\n",
      "  36  38  40  42  44  46  48  50  52  54  56  58  60  62  64  66  68  70\n",
      "  72  74  76  78  80  82  84  86  88  90  92  94  96  98 100 102 104 106\n",
      " 108 110 112 114 116 118 120 122 124 126 128 130 132 134 136 138 140 142\n",
      " 144 146 148 150 152 154 156 158 160 162 164 166 168 170 172 174 176 178\n",
      " 180 182 184 186 188 190 192 194 196 198 200]\n"
     ]
    }
   ],
   "source": [
    "print(c.get())"
   ]
  },
  {
   "cell_type": "code",
   "execution_count": 8,
   "metadata": {},
   "outputs": [],
   "source": [
    "N = 2 * 4\n",
    "threadsPerBlock = 256\n",
    "blockPerGrid = max(32, (N + threadsPerBlock - 1) // threadsPerBlock)"
   ]
  },
  {
   "cell_type": "code",
   "execution_count": 9,
   "metadata": {},
   "outputs": [],
   "source": [
    "dot_source = string.Template(\"\"\"\n",
    "extern \"C\"{\n",
    "\n",
    "__global__ void dot_float(float * a,float * b,float *c){\n",
    "\n",
    "    //对于GPU上启动的每个线程块，CUDA C编译器都将创建该共享变量的一个副本。\n",
    "    //线程块中的每个线程都共享这块内存\n",
    "    __shared__ float cache[${threadsPerBlock}];\n",
    "    \n",
    "    //总索引\n",
    "    int tid = threadIdx.x + blockDim.x * blockIdx.x;\n",
    "    \n",
    "    int cacheIndex = threadIdx.x;\n",
    "    float temp = 0;\n",
    "    \n",
    "    while(tid < ${N}){\n",
    "        temp += a[tid] + b[tid];\n",
    "        tid += blockDim.x * gridDim.x;\n",
    "    }\n",
    "    \n",
    "    cache[cacheIndex] = temp;\n",
    "    \n",
    "    //保证线程块中的线程都执行完__synthreads()之前的语句\n",
    "    __syncthreads();\n",
    "    \n",
    "    int i = blockDim.x / 2;\n",
    "    while(i != 0){\n",
    "        if (cacheIndex < i){\n",
    "            cache[cacheIndex] += cache[cacheIndex + i];\n",
    "            __syncthreads();\n",
    "            i /= 2;\n",
    "        }\n",
    "    }\n",
    "    \n",
    "    if(cacheIndex == 0){\n",
    "        //将每个block内的线程之和保存到c中\n",
    "        c[blockIdx.x] = cache[0];\n",
    "    }\n",
    "}\n",
    "\n",
    "}\n",
    "\"\"\").substitute(threadsPerBlock=threadsPerBlock,N=N)"
   ]
  },
  {
   "cell_type": "code",
   "execution_count": 10,
   "metadata": {},
   "outputs": [
    {
     "name": "stdout",
     "output_type": "stream",
     "text": [
      "32\n",
      "0.0\n"
     ]
    }
   ],
   "source": [
    "a = cp.arange(N,dtype=cp.float32)\n",
    "b = cp.arange(N,dtype=cp.float32) * 2\n",
    "print(blockPerGrid)\n",
    "c = cp.zeros((N,),dtype=cp.float32)\n",
    "print(c.sum().get())"
   ]
  },
  {
   "cell_type": "code",
   "execution_count": 11,
   "metadata": {},
   "outputs": [],
   "source": [
    "dot_kernel = load_kernel(dot_source,'dot_float')"
   ]
  },
  {
   "cell_type": "code",
   "execution_count": 12,
   "metadata": {},
   "outputs": [],
   "source": [
    "dot_kernel(grid=(N, 1),block=(1,1),args=(a,b,c))"
   ]
  },
  {
   "cell_type": "code",
   "execution_count": 13,
   "metadata": {},
   "outputs": [
    {
     "name": "stdout",
     "output_type": "stream",
     "text": [
      "84.0\n"
     ]
    }
   ],
   "source": [
    "print(c.sum().get())"
   ]
  },
  {
   "cell_type": "code",
   "execution_count": 14,
   "metadata": {},
   "outputs": [
    {
     "name": "stdout",
     "output_type": "stream",
     "text": [
      "280.0\n"
     ]
    }
   ],
   "source": [
    "print(cp.dot(a,b).get())"
   ]
  }
 ],
 "metadata": {
  "kernelspec": {
   "display_name": "Python 3",
   "language": "python",
   "name": "python3"
  },
  "language_info": {
   "codemirror_mode": {
    "name": "ipython",
    "version": 3
   },
   "file_extension": ".py",
   "mimetype": "text/x-python",
   "name": "python",
   "nbconvert_exporter": "python",
   "pygments_lexer": "ipython3",
   "version": "3.6.4"
  }
 },
 "nbformat": 4,
 "nbformat_minor": 2
}
