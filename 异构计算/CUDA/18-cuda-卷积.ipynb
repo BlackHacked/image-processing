{
 "cells": [
  {
   "cell_type": "markdown",
   "metadata": {},
   "source": [
    "# 卷积"
   ]
  },
  {
   "cell_type": "code",
   "execution_count": 4,
   "metadata": {},
   "outputs": [],
   "source": [
    "import numpy as np\n",
    "from scipy import misc\n",
    "import time\n",
    "\n",
    "from scipy import signal as sg\n",
    "\n",
    "import pycuda.driver as cuda\n",
    "import pycuda.autoinit\n",
    "from pycuda.compiler import SourceModule"
   ]
  },
  {
   "cell_type": "code",
   "execution_count": 6,
   "metadata": {},
   "outputs": [
    {
     "name": "stderr",
     "output_type": "stream",
     "text": [
      "C:\\Users\\jenson\\Anaconda3\\lib\\site-packages\\ipykernel_launcher.py:6: UserWarning: The CUDA compiler succeeded, but said the following:\n",
      "kernel.cu\r\n",
      "c:\\program files\\nvidia gpu computing toolkit\\cuda\\v9.0\\include\\crt\\math_functions.h: warning C4819: The file contains a character that cannot be represented in the current code page (936). Save the file in Unicode format to prevent data loss\r\n",
      "c:\\program files\\nvidia gpu computing toolkit\\cuda\\v9.0\\include\\crt\\math_functions.h(838): warning C4819: The file contains a character that cannot be represented in the current code page (936). Save the file in Unicode format to prevent data loss\r\n",
      "c:\\program files\\nvidia gpu computing toolkit\\cuda\\v9.0\\include\\crt\\math_functions.h(1772): warning C4819: The file contains a character that cannot be represented in the current code page (936). Save the file in Unicode format to prevent data loss\r\n",
      "c:\\program files\\nvidia gpu computing toolkit\\cuda\\v9.0\\include\\crt\\math_functions.h(2628): warning C4819: The file contains a character that cannot be represented in the current code page (936). Save the file in Unicode format to prevent data loss\r\n",
      "c:\\program files\\nvidia gpu computing toolkit\\cuda\\v9.0\\include\\crt\\math_functions.h(3477): warning C4819: The file contains a character that cannot be represented in the current code page (936). Save the file in Unicode format to prevent data loss\r\n",
      "c:\\program files\\nvidia gpu computing toolkit\\cuda\\v9.0\\include\\crt\\math_functions.h(4417): warning C4819: The file contains a character that cannot be represented in the current code page (936). Save the file in Unicode format to prevent data loss\r\n",
      "c:\\program files\\nvidia gpu computing toolkit\\cuda\\v9.0\\include\\crt\\math_functions.h(5319): warning C4819: The file contains a character that cannot be represented in the current code page (936). Save the file in Unicode format to prevent data loss\r\n",
      "c:\\program files\\nvidia gpu computing toolkit\\cuda\\v9.0\\include\\crt\\math_functions.h(6229): warning C4819: The file contains a character that cannot be represented in the current code page (936). Save the file in Unicode format to prevent data loss\r\n",
      "c:\\program files\\nvidia gpu computing toolkit\\cuda\\v9.0\\include\\crt\\math_functions.h(7104): warning C4819: The file contains a character that cannot be represented in the current code page (936). Save the file in Unicode format to prevent data loss\r\n",
      "c:\\program files\\nvidia gpu computing toolkit\\cuda\\v9.0\\include\\crt\\math_functions.h(7914): warning C4819: The file contains a character that cannot be represented in the current code page (936). Save the file in Unicode format to prevent data loss\r\n",
      "c:\\program files\\nvidia gpu computing toolkit\\cuda\\v9.0\\include\\crt/device_functions.h: warning C4819: The file contains a character that cannot be represented in the current code page (936). Save the file in Unicode format to prevent data loss\r\n",
      "c:\\program files\\nvidia gpu computing toolkit\\cuda\\v9.0\\include\\crt/device_functions.h(776): warning C4819: The file contains a character that cannot be represented in the current code page (936). Save the file in Unicode format to prevent data loss\r\n",
      "c:\\program files\\nvidia gpu computing toolkit\\cuda\\v9.0\\include\\crt/device_functions.h(1636): warning C4819: The file contains a character that cannot be represented in the current code page (936). Save the file in Unicode format to prevent data loss\r\n",
      "c:\\program files\\nvidia gpu computing toolkit\\cuda\\v9.0\\include\\crt\\device_double_functions.h: warning C4819: The file contains a character that cannot be represented in the current code page (936). Save the file in Unicode format to prevent data loss\r\n",
      "c:\\program files\\nvidia gpu computing toolkit\\cuda\\v9.0\\include\\sm_20_intrinsics.h: warning C4819: The file contains a character that cannot be represented in the current code page (936). Save the file in Unicode format to prevent data loss\r\n",
      "c:\\program files\\nvidia gpu computing toolkit\\cuda\\v9.0\\include\\sm_20_intrinsics.h(925): warning C4819: The file contains a character that cannot be represented in the current code page (936). Save the file in Unicode format to prevent data loss\r\n",
      "\n",
      "  \n"
     ]
    }
   ],
   "source": [
    "\n",
    "# DEVICE SETUP\n",
    "BLOCK_SIZE = 32  # Max 32. 32**2 = 1024, max for GTX1060\n",
    "    \n",
    "# Compile kernel\n",
    "mod = SourceModule(open(\"../../datas/cuda/05-convolution.cu\", \"r\").read())\n",
    "\n",
    "# Get functions\n",
    "conv = mod.get_function(\"conv\")\n",
    "\n",
    "\n",
    "def convolve(a, b):\n",
    "    global BLOCK_SIZE\n",
    "    global conv\n",
    "    \n",
    "    a, b = [np.array(i).astype(np.float32) for i in [a, b]]\n",
    "    \n",
    "    # Matrix A \n",
    "    aw = np.int32(a.shape[1])  # Widthof in matrix\n",
    "    ah = np.int32(a.shape[0])  # Height of in matrix\n",
    "    \n",
    "    # Matrix B (kernel)\n",
    "    bw = np.int32(b.shape[1])  # Widthof in matrix\n",
    "    if bw % 2 == 0:\n",
    "        print(\"Kernel width is not an odd number! Strange things will happen...\")\n",
    "    bh = np.int32(b.shape[0])  # Height of in matrix\n",
    "    if bh % 2 == 0:\n",
    "        print(\"Kernel height is not an odd number! Strange things will happen...\")\n",
    "    b_sum = np.int32(np.absolute(b).sum())\n",
    "    \n",
    "    # Matrix C, subtract 2*padding, *2 because it's taken off all sides\n",
    "    c = np.empty([ah-(bh-1), aw-(bw-1)])\n",
    "    c = c.astype(np.float32)\n",
    "    \n",
    "    # Allocate memory on device\n",
    "    a_gpu = cuda.mem_alloc(a.nbytes)\n",
    "    b_gpu = cuda.mem_alloc(b.nbytes)\n",
    "    c_gpu = cuda.mem_alloc(c.nbytes)\n",
    "    \n",
    "    # Copy matrix to memory\n",
    "    cuda.memcpy_htod(a_gpu, a)\n",
    "    cuda.memcpy_htod(b_gpu, b)\n",
    "\n",
    "    # Set grid size from A matrix\n",
    "    grid = (int(aw/BLOCK_SIZE+(0 if aw % BLOCK_SIZE is 0 else 1)), \n",
    "            int(ah/BLOCK_SIZE+(0 if ah % BLOCK_SIZE is 0 else 1)), \n",
    "                          1)\n",
    "    \n",
    "    # Call gpu function\n",
    "    conv(a_gpu, b_gpu, aw, ah, bw, bh, b_sum, c_gpu, block=(BLOCK_SIZE, BLOCK_SIZE, 1), grid=grid)\n",
    "    \n",
    "    # Copy back the result\n",
    "    cuda.memcpy_dtoh(c, c_gpu)\n",
    "    \n",
    "    # Free memory. May not be useful? Ask about this.\n",
    "    a_gpu.free()\n",
    "    b_gpu.free()\n",
    "    c_gpu.free()\n",
    "    \n",
    "    # Return the result\n",
    "    return c"
   ]
  },
  {
   "cell_type": "code",
   "execution_count": 7,
   "metadata": {},
   "outputs": [
    {
     "name": "stderr",
     "output_type": "stream",
     "text": [
      "C:\\Users\\jenson\\Anaconda3\\lib\\site-packages\\ipykernel_launcher.py:3: DeprecationWarning: `imread` is deprecated!\n",
      "`imread` is deprecated in SciPy 1.0.0, and will be removed in 1.2.0.\n",
      "Use ``imageio.imread`` instead.\n",
      "  This is separate from the ipykernel package so we can avoid doing imports until\n",
      "C:\\Users\\jenson\\Anaconda3\\lib\\site-packages\\ipykernel_launcher.py:34: DeprecationWarning: `imsave` is deprecated!\n",
      "`imsave` is deprecated in SciPy 1.0.0, and will be removed in 1.2.0.\n",
      "Use ``imageio.imwrite`` instead.\n",
      "C:\\Users\\jenson\\Anaconda3\\lib\\site-packages\\ipykernel_launcher.py:36: DeprecationWarning: `imsave` is deprecated!\n",
      "`imsave` is deprecated in SciPy 1.0.0, and will be removed in 1.2.0.\n",
      "Use ``imageio.imwrite`` instead.\n",
      "C:\\Users\\jenson\\Anaconda3\\lib\\site-packages\\ipykernel_launcher.py:38: DeprecationWarning: `imsave` is deprecated!\n",
      "`imsave` is deprecated in SciPy 1.0.0, and will be removed in 1.2.0.\n",
      "Use ``imageio.imwrite`` instead.\n"
     ]
    },
    {
     "name": "stdout",
     "output_type": "stream",
     "text": [
      "GPU time: 0.67976 s\n"
     ]
    },
    {
     "name": "stderr",
     "output_type": "stream",
     "text": [
      "C:\\Users\\jenson\\Anaconda3\\lib\\site-packages\\ipykernel_launcher.py:45: DeprecationWarning: `imsave` is deprecated!\n",
      "`imsave` is deprecated in SciPy 1.0.0, and will be removed in 1.2.0.\n",
      "Use ``imageio.imwrite`` instead.\n",
      "C:\\Users\\jenson\\Anaconda3\\lib\\site-packages\\ipykernel_launcher.py:47: DeprecationWarning: `imsave` is deprecated!\n",
      "`imsave` is deprecated in SciPy 1.0.0, and will be removed in 1.2.0.\n",
      "Use ``imageio.imwrite`` instead.\n",
      "C:\\Users\\jenson\\Anaconda3\\lib\\site-packages\\ipykernel_launcher.py:49: DeprecationWarning: `imsave` is deprecated!\n",
      "`imsave` is deprecated in SciPy 1.0.0, and will be removed in 1.2.0.\n",
      "Use ``imageio.imwrite`` instead.\n"
     ]
    },
    {
     "name": "stdout",
     "output_type": "stream",
     "text": [
      "Scipy time: 0.60438 s\n"
     ]
    }
   ],
   "source": [
    "# Get numpy array from image\n",
    "def from_img(fname):\n",
    "    return np.asarray(misc.imread(fname, flatten=True), dtype=np.float32)\n",
    "\n",
    "\n",
    "# Write numpy array to image\n",
    "def to_img(m):\n",
    "    return np.clip(np.absolute(m), 0, 255)\n",
    "\n",
    "\n",
    "# Create a box blue kernel of radius r\n",
    "def k_boxblur(r):\n",
    "    return np.ones([r+(0 if r % 2 is 1 else 1), r+(0 if r % 2 is 1 else 1)])\n",
    "\n",
    "\n",
    "# Normalize kernel matrix\n",
    "def nrm(m):\n",
    "    m = np.array(m)\n",
    "    return m/np.sum(np.abs(m))\n",
    "\n",
    "\n",
    "# CREATE KERNELS\n",
    "k_sv = [[-1., 0., 1.], [-2., 0., 2.], [-1., 0., 1.]]\n",
    "k_sh = [[-1., -2., -1.], [0., 0., 0.], [1., 2., 1.]]\n",
    "k_b5 = k_boxblur(5)\n",
    "\n",
    "# LOAD IMAGE\n",
    "a = from_img('../../datas/f2.jpg').astype(np.float32)\n",
    "\n",
    "\n",
    "# GPU\n",
    "start = time.time()\n",
    "c = convolve(a, k_sv)\n",
    "misc.imsave('../../temp/g_result_sv.png', to_img(c))\n",
    "c = convolve(a, k_sh)\n",
    "misc.imsave('../../temp/g_result_sh.png', to_img(c))\n",
    "c = convolve(a, k_b5)\n",
    "misc.imsave('../../temp/g_result_b5.png', to_img(c))\n",
    "end = time.time()\n",
    "print(\"GPU time: %.5f s\" % (end-start))\n",
    "\n",
    "# SCIPY\n",
    "start = time.time()\n",
    "c = sg.convolve(a, nrm(k_sv))\n",
    "misc.imsave('../../temp/s_result_sv.png', to_img(c))\n",
    "c = sg.convolve(a, nrm(k_sh))\n",
    "misc.imsave('../../temp/s_result_sh.png', to_img(c))\n",
    "c = sg.convolve(a, nrm(k_b5))\n",
    "misc.imsave('../../temp/s_result_b5.png', to_img(c))\n",
    "end = time.time()\n",
    "print(\"Scipy time: %.5f s\" % (end-start))"
   ]
  }
 ],
 "metadata": {
  "kernelspec": {
   "display_name": "Python 3",
   "language": "python",
   "name": "python3"
  },
  "language_info": {
   "codemirror_mode": {
    "name": "ipython",
    "version": 3
   },
   "file_extension": ".py",
   "mimetype": "text/x-python",
   "name": "python",
   "nbconvert_exporter": "python",
   "pygments_lexer": "ipython3",
   "version": "3.6.4"
  }
 },
 "nbformat": 4,
 "nbformat_minor": 2
}
