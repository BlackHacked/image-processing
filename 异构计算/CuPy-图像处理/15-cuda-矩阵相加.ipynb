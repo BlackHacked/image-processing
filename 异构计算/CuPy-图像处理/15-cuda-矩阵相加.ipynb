{
 "cells": [
  {
   "cell_type": "markdown",
   "metadata": {},
   "source": [
    "# 矩阵相加"
   ]
  },
  {
   "cell_type": "code",
   "execution_count": 81,
   "metadata": {},
   "outputs": [],
   "source": [
    "import numpy as np\n",
    "import cupy as cp\n",
    "import cupyx\n",
    "import cv2\n",
    "import string\n",
    "%matplotlib inline\n",
    "import matplotlib.pyplot as plt\n",
    "from matplotlib import  animation"
   ]
  },
  {
   "cell_type": "code",
   "execution_count": 34,
   "metadata": {},
   "outputs": [],
   "source": [
    "def load_kernel(src,kname):\n",
    "    _ = cp.zeros((1,)) # 初始化cuda context\n",
    "    kernel = cp.core.core.compile_with_cache(src).get_function(kname)\n",
    "    return kernel\n",
    "def load_kernel_file(fname,kname,M,N):\n",
    "    sources = None\n",
    "    with open(fname,encoding='utf-8') as f:\n",
    "        data = f.read()\n",
    "        sources = string.Template(data).substitute(M=M,N=N)\n",
    "    kernel = load_kernel(sources,kname)\n",
    "    return kernel"
   ]
  },
  {
   "cell_type": "code",
   "execution_count": 70,
   "metadata": {},
   "outputs": [],
   "source": [
    "M = 512\n",
    "N = 512\n",
    "matrix_add = load_kernel_file('../../datas/cuda/02-matrix-add.cu','matrix_add',M,N)"
   ]
  },
  {
   "cell_type": "code",
   "execution_count": 71,
   "metadata": {},
   "outputs": [],
   "source": [
    "A = cp.array(np.random.randn(M,N)).astype('f')\n",
    "B = cp.array(np.random.randn(M,N)).astype('f')\n",
    "C = cp.zeros((M,N)).astype('f')"
   ]
  },
  {
   "cell_type": "code",
   "execution_count": 72,
   "metadata": {},
   "outputs": [],
   "source": [
    "block = (32,32)\n",
    "grid = ((block[0] + M -1) // block[0],(block[1] + N -1) // block[1])\n",
    "matrix_add(grid=(M,N),block=(1,1),args=(A,B,C))"
   ]
  },
  {
   "cell_type": "code",
   "execution_count": 73,
   "metadata": {},
   "outputs": [],
   "source": [
    "c = C.get()\n",
    "a = A.get()\n",
    "b = B.get()"
   ]
  },
  {
   "cell_type": "code",
   "execution_count": 76,
   "metadata": {},
   "outputs": [
    {
     "name": "stdout",
     "output_type": "stream",
     "text": [
      "True\n"
     ]
    }
   ],
   "source": [
    "print((a+b - c == 0).all())"
   ]
  },
  {
   "cell_type": "code",
   "execution_count": 82,
   "metadata": {},
   "outputs": [
    {
     "name": "stdout",
     "output_type": "stream",
     "text": [
      "CuPy Version          : 5.0.0b1\n",
      "CUDA Root             : C:\\Program Files\\NVIDIA GPU Computing Toolkit\\CUDA\\v9.1\n",
      "CUDA Build Version    : 9010\n",
      "CUDA Driver Version   : 9010\n",
      "CUDA Runtime Version  : 9010\n",
      "cuDNN Build Version   : 7103\n",
      "cuDNN Version         : 7103\n",
      "NCCL Build Version    : None\n",
      "\n"
     ]
    }
   ],
   "source": [
    "print(cupyx.get_runtime_info())"
   ]
  },
  {
   "cell_type": "code",
   "execution_count": null,
   "metadata": {},
   "outputs": [],
   "source": []
  }
 ],
 "metadata": {
  "kernelspec": {
   "display_name": "Python 3",
   "language": "python",
   "name": "python3"
  },
  "language_info": {
   "codemirror_mode": {
    "name": "ipython",
    "version": 3
   },
   "file_extension": ".py",
   "mimetype": "text/x-python",
   "name": "python",
   "nbconvert_exporter": "python",
   "pygments_lexer": "ipython3",
   "version": "3.6.4"
  }
 },
 "nbformat": 4,
 "nbformat_minor": 2
}
