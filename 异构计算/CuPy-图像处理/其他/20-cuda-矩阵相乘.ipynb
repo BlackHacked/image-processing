{
 "cells": [
  {
   "cell_type": "markdown",
   "metadata": {},
   "source": [
    "# 矩阵相乘"
   ]
  },
  {
   "cell_type": "code",
   "execution_count": 12,
   "metadata": {},
   "outputs": [],
   "source": [
    "import numpy as np\n",
    "import cupy as cp\n",
    "import cupyx\n",
    "import cv2\n",
    "import string\n",
    "%matplotlib inline\n",
    "import matplotlib.pyplot as plt\n",
    "from matplotlib import  animation"
   ]
  },
  {
   "cell_type": "code",
   "execution_count": 13,
   "metadata": {},
   "outputs": [],
   "source": [
    "def load_kernel(src,kname):\n",
    "    _ = cp.zeros((1,)) # 初始化cuda context\n",
    "    kernel = cp.core.core.compile_with_cache(src).get_function(kname)\n",
    "    return kernel\n",
    "def load_kernel_file(fname,kname):\n",
    "    sources = None\n",
    "    with open(fname,encoding='utf-8') as f:\n",
    "        sources = f.read()\n",
    "    kernel = load_kernel(sources,kname)\n",
    "    return kernel"
   ]
  },
  {
   "cell_type": "code",
   "execution_count": 14,
   "metadata": {},
   "outputs": [],
   "source": [
    "matrix_multiply = load_kernel_file('../../datas/cuda/10-matrix-multiply.cu','matrix_multiply_1')\n",
    "matrix_elementwise_multiply = load_kernel_file('../../datas/cuda/10-matrix-multiply.cu','matrix_elementwise_multiply')"
   ]
  },
  {
   "cell_type": "code",
   "execution_count": 15,
   "metadata": {},
   "outputs": [
    {
     "name": "stdout",
     "output_type": "stream",
     "text": [
      "(230400,)\n"
     ]
    }
   ],
   "source": [
    "block_size = 16\n",
    "rows_a,cols_a = 480,640\n",
    "rows_b,cols_b = 640,480\n",
    "A = cp.array(np.reshape(np.random.randint(0,100,(rows_a,cols_a)),(rows_a*cols_a,))).astype(np.float32)\n",
    "B = cp.array(np.reshape(np.random.randint(0,100,(rows_b,cols_b)),(rows_b*cols_b,))).astype(np.float32)\n",
    "D = cp.array(np.random.randint(0,100,(rows_a,cols_a))).astype(np.float32)\n",
    "C = cp.zeros((rows_a*cols_b,),dtype=cp.float32)\n",
    "E = cp.zeros((rows_a,cols_a),dtype=cp.float32)\n",
    "print(C.shape)"
   ]
  },
  {
   "cell_type": "code",
   "execution_count": 16,
   "metadata": {},
   "outputs": [
    {
     "name": "stdout",
     "output_type": "stream",
     "text": [
      "(15, 15, 1)\n"
     ]
    }
   ],
   "source": [
    "rows_c,cols_c = rows_a,cols_b\n",
    "block = (32,32,1)\n",
    "grid = (int((cols_c - 1) / block[0] + 1),int((rows_c-1) / block[1] + 1),1)\n",
    "print(grid)"
   ]
  },
  {
   "cell_type": "code",
   "execution_count": 17,
   "metadata": {},
   "outputs": [],
   "source": [
    "matrix_multiply(grid=grid,block=block,args=(A,B,C,rows_a,cols_a,rows_b,cols_b,rows_c,cols_c))"
   ]
  },
  {
   "cell_type": "code",
   "execution_count": 18,
   "metadata": {},
   "outputs": [],
   "source": [
    "dst_c = C.get().reshape((rows_a,cols_b))"
   ]
  },
  {
   "cell_type": "code",
   "execution_count": 19,
   "metadata": {},
   "outputs": [
    {
     "name": "stdout",
     "output_type": "stream",
     "text": [
      "(480, 480)\n"
     ]
    }
   ],
   "source": [
    "# dst_nc = cp.dot(A.reshape(3,2),B.reshape(2,4)).get()\n",
    "dst_nc = np.dot(A.reshape(rows_a,cols_a).get(),B.reshape(rows_b,cols_b).get())\n",
    "print(dst_nc.shape)"
   ]
  },
  {
   "cell_type": "code",
   "execution_count": 20,
   "metadata": {},
   "outputs": [
    {
     "name": "stdout",
     "output_type": "stream",
     "text": [
      "True\n"
     ]
    }
   ],
   "source": [
    "print((dst_c - dst_nc == 0).all())"
   ]
  },
  {
   "cell_type": "code",
   "execution_count": 21,
   "metadata": {},
   "outputs": [],
   "source": [
    "block = (32,32,1)\n",
    "grid = (int(cols_a / block[0]),int(rows_a / block[1]),1)"
   ]
  },
  {
   "cell_type": "code",
   "execution_count": 22,
   "metadata": {},
   "outputs": [],
   "source": [
    "AA = A.reshape(rows_a,cols_a)\n",
    "matrix_elementwise_multiply(grid=grid,block=block,args=(AA,D,E,cols_a,rows_a))"
   ]
  },
  {
   "cell_type": "code",
   "execution_count": 23,
   "metadata": {},
   "outputs": [],
   "source": [
    "EE = np.multiply(AA.get(),D.get())"
   ]
  },
  {
   "cell_type": "code",
   "execution_count": 24,
   "metadata": {},
   "outputs": [
    {
     "name": "stdout",
     "output_type": "stream",
     "text": [
      "True\n"
     ]
    }
   ],
   "source": [
    "print((EE - E.get() == 0).all())"
   ]
  }
 ],
 "metadata": {
  "kernelspec": {
   "display_name": "Python 3",
   "language": "python",
   "name": "python3"
  },
  "language_info": {
   "codemirror_mode": {
    "name": "ipython",
    "version": 3
   },
   "file_extension": ".py",
   "mimetype": "text/x-python",
   "name": "python",
   "nbconvert_exporter": "python",
   "pygments_lexer": "ipython3",
   "version": "3.6.4"
  }
 },
 "nbformat": 4,
 "nbformat_minor": 2
}
