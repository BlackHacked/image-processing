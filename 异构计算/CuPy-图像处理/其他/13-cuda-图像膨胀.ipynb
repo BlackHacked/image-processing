{
 "cells": [
  {
   "cell_type": "markdown",
   "metadata": {},
   "source": [
    "# 图像膨胀"
   ]
  },
  {
   "cell_type": "code",
   "execution_count": 1,
   "metadata": {},
   "outputs": [],
   "source": [
    "import numpy as np\n",
    "import cupy as cp\n",
    "import cv2\n",
    "import string\n",
    "%matplotlib inline\n",
    "import matplotlib.pyplot as plt\n",
    "from matplotlib import  animation"
   ]
  },
  {
   "cell_type": "code",
   "execution_count": 2,
   "metadata": {},
   "outputs": [],
   "source": [
    "def load_kernel(src,kname):\n",
    "    _ = cp.zeros((1,)) # 初始化cuda context\n",
    "    kernel = cp.core.core.compile_with_cache(src).get_function(kname)\n",
    "    return kernel\n",
    "def load_kernel_file(fname,kname):\n",
    "    sources = None\n",
    "    with open(fname,encoding='utf-8') as f:\n",
    "        sources = f.read()\n",
    "    kernel = load_kernel(sources,kname)\n",
    "    return kernel"
   ]
  },
  {
   "cell_type": "code",
   "execution_count": 3,
   "metadata": {},
   "outputs": [],
   "source": [
    "dilate = load_kernel_file('../../datas/cuda/dilate.cu','dilate')"
   ]
  },
  {
   "cell_type": "code",
   "execution_count": 4,
   "metadata": {},
   "outputs": [],
   "source": [
    "src = cv2.imread('../../datas/char.jpg',0)"
   ]
  },
  {
   "cell_type": "code",
   "execution_count": 5,
   "metadata": {},
   "outputs": [],
   "source": [
    "height,width = src.shape\n",
    "dim_block = (32,32)\n",
    "grid = ((dim_block[0] + width - 1) // dim_block[0],\n",
    "        (dim_block[1] + height - 1) // dim_block[1])\n",
    "src_cu = cp.array(src).astype(cp.float32)\n",
    "dst_cu = cp.zeros(src.shape,dtype=cp.float32)"
   ]
  },
  {
   "cell_type": "code",
   "execution_count": 6,
   "metadata": {},
   "outputs": [],
   "source": [
    "dilate(grid=grid,block=dim_block,args=(src_cu,dst_cu,3,5,width,height))"
   ]
  },
  {
   "cell_type": "code",
   "execution_count": 10,
   "metadata": {},
   "outputs": [
    {
     "name": "stdout",
     "output_type": "stream",
     "text": [
      "[[255. 255. 255. ...   0.   0. 128.]\n",
      " [255. 255.   0. ...   0.   0. 128.]\n",
      " [255. 255.   0. ...   0.   0. 128.]\n",
      " ...\n",
      " [  0.   0.   0. ...   0.   0.   0.]\n",
      " [  0.   0.   0. ...   0.   0.   0.]\n",
      " [  0.   0.   0. ...   0.   0.   0.]]\n"
     ]
    }
   ],
   "source": [
    "dst = dst_cu.get()\n",
    "print(dst)\n",
    "dst[dst < 0] = 0\n",
    "dst[dst >255] = 255\n",
    "dst = dst.astype(np.uint8)"
   ]
  },
  {
   "cell_type": "code",
   "execution_count": 8,
   "metadata": {},
   "outputs": [
    {
     "data": {
      "text/plain": [
       "([], <a list of 0 Text yticklabel objects>)"
      ]
     },
     "execution_count": 8,
     "metadata": {},
     "output_type": "execute_result"
    },
    {
     "data": {
      "image/png": "[encoded data removed]",
      "text/plain": [
       "<Figure size 432x288 with 2 Axes>"
      ]
     },
     "metadata": {},
     "output_type": "display_data"
    }
   ],
   "source": [
    "plt.subplot(121)\n",
    "plt.imshow(src,'gray')\n",
    "plt.title('SRC')\n",
    "plt.xticks([])\n",
    "plt.yticks([])\n",
    "plt.subplot(122)\n",
    "plt.imshow(dst,'gray')\n",
    "plt.title('Erode')\n",
    "plt.xticks([])\n",
    "plt.yticks([])"
   ]
  },
  {
   "cell_type": "code",
   "execution_count": null,
   "metadata": {},
   "outputs": [],
   "source": []
  }
 ],
 "metadata": {
  "kernelspec": {
   "display_name": "Python 3",
   "language": "python",
   "name": "python3"
  },
  "language_info": {
   "codemirror_mode": {
    "name": "ipython",
    "version": 3
   },
   "file_extension": ".py",
   "mimetype": "text/x-python",
   "name": "python",
   "nbconvert_exporter": "python",
   "pygments_lexer": "ipython3",
   "version": "3.6.4"
  }
 },
 "nbformat": 4,
 "nbformat_minor": 2
}
