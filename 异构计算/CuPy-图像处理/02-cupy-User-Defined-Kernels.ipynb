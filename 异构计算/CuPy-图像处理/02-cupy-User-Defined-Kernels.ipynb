{
 "cells": [
  {
   "cell_type": "markdown",
   "metadata": {},
   "source": [
    "# User Define Kernels"
   ]
  },
  {
   "cell_type": "markdown",
   "metadata": {},
   "source": [
    "## elementwise kernels 基本用法"
   ]
  },
  {
   "cell_type": "code",
   "execution_count": 46,
   "metadata": {},
   "outputs": [],
   "source": [
    "import numpy as np\n",
    "import cupy as cp\n",
    "import cv2\n",
    "%matplotlib inline\n",
    "import matplotlib.pyplot as plt"
   ]
  },
  {
   "cell_type": "markdown",
   "metadata": {},
   "source": [
    "Elementwise Kernel由四部分组成：1.输入参数列表；2.输出参数列表；3.实现逻辑代码；4.Kernel名称。比如，实现 $f(x,y) = (x - y)^2$的Kernel定义如下："
   ]
  },
  {
   "cell_type": "code",
   "execution_count": 21,
   "metadata": {},
   "outputs": [],
   "source": [
    "squared_diff = cp.ElementwiseKernel(\n",
    "'float32 x,float32 y','float32 z','''\n",
    "    z = (x - y) * (x - y);\n",
    "    ''',\n",
    "    'squared_diff'\n",
    ")"
   ]
  },
  {
   "cell_type": "code",
   "execution_count": 22,
   "metadata": {},
   "outputs": [
    {
     "name": "stdout",
     "output_type": "stream",
     "text": [
      "squared diff: [100. 100. 100. 100. 100. 100. 100. 100. 100.]\n"
     ]
    }
   ],
   "source": [
    "x = cp.arange(1,10).astype('f')\n",
    "y = cp.arange(11,20).astype('f')\n",
    "res = squared_diff(x,y)\n",
    "print('squared diff:',res)"
   ]
  },
  {
   "cell_type": "markdown",
   "metadata": {},
   "source": [
    "通过标量广播"
   ]
  },
  {
   "cell_type": "code",
   "execution_count": 23,
   "metadata": {},
   "outputs": [
    {
     "name": "stdout",
     "output_type": "stream",
     "text": [
      "[[ 0.  0.  0.  0.  0.]\n",
      " [25. 25. 25. 25. 25.]]\n"
     ]
    }
   ],
   "source": [
    "x = cp.arange(10,dtype=np.float32).reshape(2,5)\n",
    "y = cp.arange(5,dtype=np.float32)\n",
    "res = squared_diff(x,y)\n",
    "print(res)"
   ]
  },
  {
   "cell_type": "markdown",
   "metadata": {},
   "source": [
    "显示指定输出"
   ]
  },
  {
   "cell_type": "code",
   "execution_count": 24,
   "metadata": {},
   "outputs": [
    {
     "name": "stdout",
     "output_type": "stream",
     "text": [
      "[[ 0.  0.  0.  0.  0.]\n",
      " [25. 25. 25. 25. 25.]]\n"
     ]
    }
   ],
   "source": [
    "z = cp.empty((2,5),dtype=np.float32)\n",
    "squared_diff(x,y,z)\n",
    "print(z)"
   ]
  },
  {
   "cell_type": "markdown",
   "metadata": {},
   "source": [
    "泛型参数类型Kernel"
   ]
  },
  {
   "cell_type": "code",
   "execution_count": 25,
   "metadata": {},
   "outputs": [],
   "source": [
    "squared_diff_generic = cp.ElementwiseKernel('T x,T y','T z','z = (x - y) * (x - y)',\n",
    "                                           'squared_diff_generic')"
   ]
  },
  {
   "cell_type": "code",
   "execution_count": 26,
   "metadata": {},
   "outputs": [
    {
     "name": "stdout",
     "output_type": "stream",
     "text": [
      "[[ 0  0  0  0  0]\n",
      " [25 25 25 25 25]]\n"
     ]
    }
   ],
   "source": [
    "x = cp.arange(10).reshape(2,5)\n",
    "y = cp.arange(5)\n",
    "res = squared_diff_generic(x,y)\n",
    "print(res)"
   ]
  },
  {
   "cell_type": "markdown",
   "metadata": {},
   "source": [
    "## 数组手动索引\n",
    "\n",
    "通过使用raw关键字、特殊的变量 i 和 _ind.size()方法可以实现手动索引。变量 i 表示循环体内的索引；_ind.size()表示所要操作的元素数量。"
   ]
  },
  {
   "cell_type": "code",
   "execution_count": 27,
   "metadata": {},
   "outputs": [],
   "source": [
    "add_reverse = cp.ElementwiseKernel(\n",
    "    'T x,raw T y','T z','z = x + y[_ind.size() - i - 1]',\n",
    "    'add_reverse'\n",
    "    )"
   ]
  },
  {
   "cell_type": "code",
   "execution_count": 28,
   "metadata": {},
   "outputs": [
    {
     "name": "stdout",
     "output_type": "stream",
     "text": [
      "[20 20 20 20 20 20 20 20 20]\n"
     ]
    }
   ],
   "source": [
    "x = cp.arange(1,10)\n",
    "y = cp.arange(11,20)\n",
    "res = add_reverse(x,y)\n",
    "print(res)"
   ]
  },
  {
   "cell_type": "markdown",
   "metadata": {},
   "source": [
    "## Reduction Kernel\n",
    "\n",
    "reduction kernel 主要由四部分组成：\n",
    "\n",
    "1.Identity Value:初始化值\n",
    "\n",
    "2.Mapping expression：预处理\n",
    "\n",
    "3.Reduction expression：通过特殊变量a和b操作\n",
    "\n",
    "4.Post mapping expression：通过特殊变量a操作"
   ]
  },
  {
   "cell_type": "code",
   "execution_count": 29,
   "metadata": {},
   "outputs": [],
   "source": [
    "l2norm_kernel = cp.ReductionKernel(\n",
    "    'T x', # 输入参数\n",
    "    'T y', # 输出参数\n",
    "    'x * x', # map\n",
    "    'a + b', # reduce\n",
    "    'y = sqrt(a)',# post-reduction map\n",
    "    '0', # identity value\n",
    "    'l2norm' # kernel name\n",
    ")"
   ]
  },
  {
   "cell_type": "code",
   "execution_count": 30,
   "metadata": {},
   "outputs": [
    {
     "name": "stdout",
     "output_type": "stream",
     "text": [
      "[ 5.477226  15.9687195]\n"
     ]
    }
   ],
   "source": [
    "x = cp.arange(10,dtype=np.float32).reshape(2,5)\n",
    "res = l2norm_kernel(x,axis=1)\n",
    "print(res)"
   ]
  }
 ],
 "metadata": {
  "kernelspec": {
   "display_name": "Python 3",
   "language": "python",
   "name": "python3"
  },
  "language_info": {
   "codemirror_mode": {
    "name": "ipython",
    "version": 3
   },
   "file_extension": ".py",
   "mimetype": "text/x-python",
   "name": "python",
   "nbconvert_exporter": "python",
   "pygments_lexer": "ipython3",
   "version": "3.6.4"
  }
 },
 "nbformat": 4,
 "nbformat_minor": 2
}
