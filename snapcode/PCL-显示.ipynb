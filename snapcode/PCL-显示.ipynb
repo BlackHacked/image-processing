{
 "cells": [
  {
   "cell_type": "markdown",
   "metadata": {},
   "source": [
    "# PCL显示"
   ]
  },
  {
   "cell_type": "code",
   "execution_count": null,
   "metadata": {},
   "outputs": [],
   "source": [
    "import pcl\n",
    "import numpy as np\n",
    "p = pcl.PointCloud(np.array([[1, 2, 3], [3, 4, 5]], dtype=np.float32))\n",
    "seg = p.make_segmenter()\n",
    "seg.set_model_type(pcl.SACMODEL_PLANE)\n",
    "seg.set_method_type(pcl.SAC_RANSAC)\n",
    "indices, model = seg.segment()"
   ]
  },
  {
   "cell_type": "code",
   "execution_count": null,
   "metadata": {},
   "outputs": [],
   "source": [
    "from __future__ import print_function\n",
    "\n",
    "import numpy as np\n",
    "import pcl\n",
    "\n",
    "import pcl.pcl_visualization\n",
    "# from pcl.pcl_registration import icp, gicp, icp_nl\n",
    "\n",
    "cloud = pcl.load_XYZRGB('../temp/table_scene_mug_stereo_textured.pcd')\n",
    "visual = pcl.pcl_visualization.CloudViewing()\n",
    "\n",
    "# PointXYZ\n",
    "# visual.ShowMonochromeCloud(cloud)\n",
    "\n",
    "# visual.ShowGrayCloud(cloud, b'cloud')\n",
    "visual.ShowColorCloud(cloud, b'cloud')\n",
    "# visual.ShowColorACloud(cloud, b'cloud')\n",
    "\n",
    "# while True:\n",
    "#     visual.WasStopped()\n",
    "# end\n",
    "\n",
    "flag = True\n",
    "while flag:\n",
    "    flag != visual.WasStopped()\n",
    "end"
   ]
  },
  {
   "cell_type": "code",
   "execution_count": null,
   "metadata": {},
   "outputs": [],
   "source": []
  }
 ],
 "metadata": {
  "kernelspec": {
   "display_name": "Python 3",
   "language": "python",
   "name": "python3"
  },
  "language_info": {
   "codemirror_mode": {
    "name": "ipython",
    "version": 3
   },
   "file_extension": ".py",
   "mimetype": "text/x-python",
   "name": "python",
   "nbconvert_exporter": "python",
   "pygments_lexer": "ipython3",
   "version": "3.6.4"
  }
 },
 "nbformat": 4,
 "nbformat_minor": 2
}
