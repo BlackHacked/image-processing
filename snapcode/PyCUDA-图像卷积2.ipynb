{
 "cells": [
  {
   "cell_type": "markdown",
   "metadata": {},
   "source": [
    "# PyCUDA-图像卷积"
   ]
  },
  {
   "cell_type": "code",
   "execution_count": 1,
   "metadata": {},
   "outputs": [],
   "source": [
    "import numpy as np\n",
    "import pycuda.driver as cuda\n",
    "import pycuda.autoinit\n",
    "from pycuda.compiler import SourceModule\n",
    "import time\n",
    "import matplotlib as mpl\n",
    "from PIL import Image\n",
    "import scipy\n",
    "from scipy import misc\n",
    "mpl.use('agg')\n",
    "import matplotlib.pyplot as plt\n",
    "from scipy import signal\n",
    "import string\n"
   ]
  },
  {
   "cell_type": "code",
   "execution_count": 2,
   "metadata": {},
   "outputs": [],
   "source": [
    "def create_img(filename, cols, rows):\n",
    "    size = (cols, rows)\n",
    "    im = Image.open(filename).convert('L')  # .convert('L') converts the image to grayscale\n",
    "    im = im.resize(size)\n",
    "    return np.array(im)"
   ]
  },
  {
   "cell_type": "code",
   "execution_count": 3,
   "metadata": {},
   "outputs": [],
   "source": [
    "filters = {\n",
    "    'identity': np.array([[0,0,0], [0,1,0], [0,0,0]]).astype(np.int32),\n",
    "    'sharpen': np.array([[0,-1,0], [-1,5,-1],[0,-1,0]]).astype(np.int32),\n",
    "    'blur': np.array([[1,1,1], [1, 1, 1], [1, 1, 1]]).astype(np.int32),\n",
    "    'edge_det': np.array([[0, 1, 0], [1, -4, 1], [0, 1, 0]]).astype(np.int32),\n",
    "    'emboss': np.array([[2, 1., 0.], [1., 1, -1.], [0, -1, -2]]).astype(np.int32),\n",
    "    'sob_x': np.array([[-1, 0., 1.], [-2., 0, 2.], [-1, 0, 1]]).astype(np.int32),\n",
    "    'sob_y': np.array([[-1, -2., -1.], [0., 0, 0.], [1, 2, 1.]]).astype(np.int32),\n",
    "    'smooth_5x5': np.array(\n",
    "        [[0,1,2, 1, 0], [1, 4, 8, 4, 1], [2, 8, 16, 8, 2], [1, 4, 8, 4, 1], [0, 1, 2, 1, 0]]).astype(np.int32)\n",
    "}"
   ]
  },
  {
   "cell_type": "code",
   "execution_count": 4,
   "metadata": {},
   "outputs": [],
   "source": [
    "Template = \"\"\"\n",
    " \n",
    "#define TILE_WIDTH  $TILE_WIDTH\n",
    "__global__ void convolution(int* in, int* out, const int * __restrict__ M, int height, int width, int mask_width)\n",
    "{\n",
    "    int tx = threadIdx.x;\n",
    "    int ty = threadIdx.y;\n",
    "    int ROW_TILE_WIDTH = (TILE_WIDTH - (mask_width - 1));\n",
    "    \n",
    "    int row_o = blockIdx.y * ROW_TILE_WIDTH + ty;\n",
    "    int col_o = blockIdx.x * ROW_TILE_WIDTH + tx;\n",
    "    int row_i = row_o - (mask_width - 1) / 2;\n",
    "    int col_i = col_o - (mask_width - 1) / 2;\n",
    "    \n",
    "    __shared__ int Ns[TILE_WIDTH][TILE_WIDTH];\n",
    "    \n",
    "    if((row_i >= 0) && (row_i < height) && (col_i >= 0) && (col_i < width))\n",
    "    {\n",
    "    \tNs[ty][tx] = in[row_i * width + col_i];\n",
    "    }\n",
    "    else\n",
    "    {\n",
    "    \tNs[ty][tx] = 0;\n",
    "    }\n",
    "    \n",
    "    __syncthreads();\n",
    "    \n",
    "    int output = 0;\n",
    "    if(ty < ROW_TILE_WIDTH  && tx < ROW_TILE_WIDTH )\n",
    "    {\n",
    "        for(int i = 0; i < mask_width; i++)\n",
    "        {\n",
    "            for(int j = 0; j < mask_width; j++)\n",
    "            {\n",
    "                output += M[mask_width * mask_width - 1 - j - i * mask_width] * Ns[ty + i][tx + j];\n",
    "            }\n",
    "        }\n",
    "        if(row_o < height && col_o < width)\n",
    "            {\n",
    "            \tout[row_o * width + col_o] = output;\n",
    "            }\n",
    "    }\n",
    "}\n",
    "\"\"\""
   ]
  },
  {
   "cell_type": "code",
   "execution_count": 6,
   "metadata": {},
   "outputs": [],
   "source": [
    "BLOCK_SIZE = 32\n",
    "template = string.Template(Template)\n",
    "code = template.substitute(TILE_WIDTH = BLOCK_SIZE) \n",
    "mod = SourceModule(code)\n",
    "\n",
    "func = mod.get_function(\"convolution\")"
   ]
  },
  {
   "cell_type": "code",
   "execution_count": 16,
   "metadata": {},
   "outputs": [],
   "source": [
    "def GPU_convolution(matrix, mask):\n",
    "    (M_height, M_width) = mask.shape\n",
    "    M_width = np.int32(M_width)\n",
    "    (M, N) = matrix.shape\n",
    "    M = np.int32(M)\n",
    "    N = np.int32(N)\n",
    "    sourceImage_gpu = cuda.mem_alloc(matrix.nbytes)\n",
    "    destImage_gpu = cuda.mem_alloc(matrix.nbytes)\n",
    "    mask_gpu = cuda.mem_alloc(mask.nbytes)\n",
    "    destImage_cpu = np.empty_like(matrix).astype(np.int32)\n",
    "    cuda.memcpy_htod(sourceImage_gpu, matrix)\n",
    "    cuda.memcpy_htod(mask_gpu, mask)\n",
    "    \n",
    "    start = time.time()\n",
    "    func(sourceImage_gpu, destImage_gpu, mask_gpu, M, N, M_width, block=(BLOCK_SIZE, BLOCK_SIZE, 1),\n",
    "         grid=(int((N - 1) / (BLOCK_SIZE - (M_width - 1)) + 1), int((M - 1) / (BLOCK_SIZE - (M_width - 1)) + 1), 1))\n",
    "    time1.append(time.time() - start)\n",
    "    \n",
    "    start = time.time()\n",
    "    cpu = signal.convolve2d(matrix, mask, boundary='fill', mode='same')\n",
    "    time2.append(time.time() - start)\n",
    "    \n",
    "    cuda.memcpy_dtoh(destImage_cpu, destImage_gpu)\n",
    "#     print(\"whether cpu and gpu results are equal:\",np.allclose(destImage_cpu, cpu))\n",
    "    return destImage_cpu"
   ]
  },
  {
   "cell_type": "code",
   "execution_count": 24,
   "metadata": {},
   "outputs": [
    {
     "name": "stderr",
     "output_type": "stream",
     "text": [
      "C:\\Users\\jenson\\Anaconda3\\lib\\site-packages\\ipykernel_launcher.py:5: DeprecationWarning: `imsave` is deprecated!\n",
      "`imsave` is deprecated in SciPy 1.0.0, and will be removed in 1.2.0.\n",
      "Use ``imageio.imwrite`` instead.\n",
      "  \"\"\"\n",
      "C:\\Users\\jenson\\Anaconda3\\lib\\site-packages\\ipykernel_launcher.py:6: DeprecationWarning: `imsave` is deprecated!\n",
      "`imsave` is deprecated in SciPy 1.0.0, and will be removed in 1.2.0.\n",
      "Use ``imageio.imwrite`` instead.\n",
      "  \n"
     ]
    }
   ],
   "source": [
    "image = create_img(\"../datas/f2.jpg\", 640,480).astype(np.int32)\n",
    "for filter in filters:\n",
    "    temp_gpu = GPU_convolution(image,filters[filter])\n",
    "    temp_cpu = signal.convolve2d(image, filters[filter], boundary='fill', mode='same')\n",
    "    scipy.misc.imsave('../temp/cuda_cpu_%r.jpg'%filter, temp_cpu)\n",
    "    scipy.misc.imsave('../temp/cuda_gpu_%r.jpg'%filter, temp_gpu)"
   ]
  },
  {
   "cell_type": "code",
   "execution_count": null,
   "metadata": {},
   "outputs": [],
   "source": []
  }
 ],
 "metadata": {
  "kernelspec": {
   "display_name": "Python 3",
   "language": "python",
   "name": "python3"
  },
  "language_info": {
   "codemirror_mode": {
    "name": "ipython",
    "version": 3
   },
   "file_extension": ".py",
   "mimetype": "text/x-python",
   "name": "python",
   "nbconvert_exporter": "python",
   "pygments_lexer": "ipython3",
   "version": "3.6.4"
  }
 },
 "nbformat": 4,
 "nbformat_minor": 2
}
