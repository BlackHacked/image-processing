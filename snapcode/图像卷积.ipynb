{
 "cells": [
  {
   "cell_type": "code",
   "execution_count": null,
   "metadata": {},
   "outputs": [],
   "source": [
    "import numpy as np\n",
    "\n",
    "def convolve(img, kernel):\n",
    "    #print(kernel)\n",
    "    radius = kernel.shape[0] // 2\n",
    "    output = np.zeros(img.shape, dtype=img.dtype)\n",
    "    for i in range(radius, img.shape[0] - radius):\n",
    "        for j in range(radius, img.shape[1] - radius):\n",
    "            neighborhood = img[i - radius:i + radius + 1, j - radius:j + radius + 1]\n",
    "            output[i, j] = np.sum(neighborhood * kernel)\n",
    "    return output"
   ]
  }
 ],
 "metadata": {
  "kernelspec": {
   "display_name": "Python 3",
   "language": "python",
   "name": "python3"
  },
  "language_info": {
   "codemirror_mode": {
    "name": "ipython",
    "version": 3
   },
   "file_extension": ".py",
   "mimetype": "text/x-python",
   "name": "python",
   "nbconvert_exporter": "python",
   "pygments_lexer": "ipython3",
   "version": "3.6.3"
  }
 },
 "nbformat": 4,
 "nbformat_minor": 2
}
