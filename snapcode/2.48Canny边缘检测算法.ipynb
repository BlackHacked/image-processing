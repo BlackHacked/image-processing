{
 "cells": [
  {
   "cell_type": "markdown",
   "metadata": {},
   "source": [
    "# Canny边缘检测算法"
   ]
  },
  {
   "cell_type": "code",
   "execution_count": 29,
   "metadata": {
    "collapsed": true
   },
   "outputs": [],
   "source": [
    "#coding:utf-8\n",
    "import numpy as np\n",
    "%matplotlib  inline\n",
    "import cv2\n",
    "import matplotlib.pyplot as plt\n",
    "import pandas as pd\n",
    "from pandas import DataFrame\n",
    "import numpy, scipy, scipy.ndimage\n",
    "from scipy.ndimage import filters\n",
    "from scipy.ndimage import measurements\n",
    "from numpy import *\n",
    "from PIL import Image, ImageFilter"
   ]
  },
  {
   "cell_type": "code",
   "execution_count": 21,
   "metadata": {
    "collapsed": true
   },
   "outputs": [],
   "source": [
    "src = cv2.cvtColor(cv2.imread('../datas/f2.jpg'),cv2.COLOR_BGR2RGB)"
   ]
  },
  {
   "cell_type": "code",
   "execution_count": 22,
   "metadata": {
    "collapsed": true
   },
   "outputs": [],
   "source": [
    "# 梯度计算\n",
    "# Sobel or Prewit gradient\n",
    "def gradient(image, type=0):\n",
    "    if type==0:\n",
    "        Ix = filters.sobel(image, axis=1)\n",
    "        Iy = filters.sobel(image, axis=0)\n",
    "        return Ix, Iy\n",
    "    else:\n",
    "        Ix = filters.prewitt(image, axis=1)\n",
    "        Iy = filters.prewitt(image, axis=0)\n",
    "    return Ix, Iy\n",
    "\n",
    "# gradient magnitudes and directions of a grayscale image, Gd: [-pi/2, +pi/2]\n",
    "def gray_gradient(image):\n",
    "    Gx, Gy = gradient(image)\n",
    "    Gm = sqrt(Gx**2+Gy**2)\n",
    "    Gd = arctan2(Gy, Gx)    \n",
    "    Gd[Gd > 0.5*numpy.pi] -= numpy.pi\n",
    "    Gd[Gd < -0.5*numpy.pi] += numpy.pi\n",
    "    return Gm, Gd\n",
    "\n",
    "# using the same approach of color gradient mag-ori computation for a gray image\n",
    "def gray_gradient_tensor(image, sigma=0.5):\n",
    "        \n",
    "    g = image.astype('float32')\n",
    "    #g = scipy.ndimage.filters.gaussian_filter(g, sigma)\n",
    "    gx, gy = gradient(g)\n",
    "    \n",
    "    cxx = gx*gx\n",
    "    cyy = gy*gy \n",
    "    cxy = 2*(gx*gy)     ## 2*cxy\n",
    "    \n",
    "    ## todo: smooth the color tensor\n",
    "    cxx = scipy.ndimage.filters.gaussian_filter(cxx, sigma)\n",
    "    cyy = scipy.ndimage.filters.gaussian_filter(cyy, sigma)\n",
    "    cxy = scipy.ndimage.filters.gaussian_filter(cxy, sigma)\n",
    "    \n",
    "    cxx_cyy = cxx-cyy\n",
    "    eps = 0.0000001\n",
    "    d = sqrt( cxx_cyy**2 + cxy**2 + eps)\n",
    "    \n",
    "    ## largest eigenvalue -- derivative energy in the most prominent direction\n",
    "    lambda1 = cxx + cyy + d          ## 0.5*... ?\n",
    "    \n",
    "    Gm = sqrt(lambda1 + eps)\n",
    "    Gd = 0.5*arctan2(cxy, cxx_cyy)\n",
    "    \n",
    "    return Gm, Gd\n",
    "\n",
    "# color gradient from multiple single channel images\n",
    "# imgs: contains a list of single channel images (pixel values must be in the same range)\n",
    "# output: Gm, gradient magnitude in the most prominent gradient direction (largest eigenvalue of color tensor)\n",
    "# Gd: gradient directions [-pi/2, +pi/2]\n",
    "# Reference: Van De Weijer, Joost and Gevers, Theo and Smeulders, Arnold WM, 'Robust Photometric Invariant Features from the Color Tensor', TIP 2006.\n",
    "# This Py code was adapted from the Matlab code of the paper\n",
    "def multi_gradient(imgs, gtype=0, sigma=0.5):\n",
    "    if gtype==1: return multi_gradient_max(imgs)\n",
    "\n",
    "    N=len(imgs)    \n",
    "    # compute gradients\n",
    "    # first channel    \n",
    "    gx, gy = gradient(imgs[0])\n",
    "    # structure tensor (color tensor in RGB images)\n",
    "    cxx = gx*gx; cyy = gy*gy; cxy = gx*gy\n",
    "    # remaining channels    \n",
    "    for i in range(1, N):        \n",
    "        gx, gy = gradient(imgs[i])\n",
    "        cxx += gx*gx; cyy += gy*gy; cxy += gx*gy        \n",
    "    cxy *= 2    ## 2*cxy\n",
    "    \n",
    "    ## smooth the structure/color tensor\n",
    "    cxx = scipy.ndimage.filters.gaussian_filter(cxx, sigma)\n",
    "    cyy = scipy.ndimage.filters.gaussian_filter(cyy, sigma)\n",
    "    cxy = scipy.ndimage.filters.gaussian_filter(cxy, sigma)\n",
    "    \n",
    "    cxx_cyy = cxx-cyy\n",
    "    eps = 1e-9\n",
    "    d = sqrt( cxx_cyy**2 + cxy**2 + eps)\n",
    "        \n",
    "    ## largest eigenvalue -- derivative energy in the most prominent direction\n",
    "    lambda1 = cxx + cyy + d          ## 0.5*... ?\n",
    "        \n",
    "    Gm = sqrt(lambda1 + eps)\n",
    "    Gd = 0.5*arctan2(cxy, cxx_cyy)\n",
    "    \n",
    "    return Gm, Gd\n",
    "\n",
    "# maximum gradient for each pixel in all the channels\n",
    "def multi_gradient_max(imgs):\n",
    "    N=len(imgs)      \n",
    "    Gm,Gd = gray_gradient(imgs[0])\n",
    "    for i in range(1, N):\n",
    "        Gm2, Gd2 = gray_gradient(imgs[i])        \n",
    "        ind= Gm2>Gm\n",
    "        Gm[ind] = Gm2[ind]       \n",
    "        Gd[ind] = Gd2[ind]\n",
    "    return Gm, Gd\n",
    "\n",
    "# gradient magnitude from an RGB image\n",
    "# type: 0 (color tensor), else (max)\n",
    "def rgb_gradient(image, gtype=0, sigma=0.5):\n",
    "    r = image[:,:,0].astype('float32')\n",
    "    g = image[:,:,1].astype('float32')\n",
    "    b = image[:,:,2].astype('float32')\n",
    "    \n",
    "    imgs=[]\n",
    "    imgs.append(r)\n",
    "    imgs.append(g)\n",
    "    imgs.append(b)\n",
    "    \n",
    "    if gtype == 0:\n",
    "        return multi_gradient(imgs, sigma)\n",
    "    else:\n",
    "        return multi_gradient_max(imgs)"
   ]
  },
  {
   "cell_type": "code",
   "execution_count": 23,
   "metadata": {
    "collapsed": true
   },
   "outputs": [],
   "source": [
    "# 获取分位数\n",
    "def getFractile(nms, th=1.0, fraction=0.30, bins=255):\n",
    "    nzrind = nms >= th\n",
    "    nzvals = nms[nzrind]\n",
    "    minVal = nzvals.min()\n",
    "    maxVal = nzvals.max()\n",
    "    \n",
    "    #figure(); hist(nzvals, bins=bins); draw()    \n",
    "    H, e = numpy.histogram(nzvals, bins)\n",
    "    \n",
    "    nzr_frac = fraction*len(nzvals)    \n",
    "    sum = 0.0\n",
    "    i = 0\n",
    "    while i < bins and sum < nzr_frac:\n",
    "        sum += H[i]\n",
    "        i += 1\n",
    "    return (maxVal-minVal)*i/float(bins) + minVal\n",
    "\n",
    "# 非极大值抑制\n",
    "## nonmaximum suppression\n",
    "# Gm: gradient magnitudes\n",
    "# Gd: gradient directions, -pi/2 to +pi/2\n",
    "# return: nms, gradient magnitude if local max, 0 otherwise\n",
    "def nonmaxsupress(Gm, Gd, th=1.0):\n",
    "    nms = zeros(Gm.shape, Gm.dtype)   \n",
    "    h,w = Gm.shape    \n",
    "    for x in range(1, w-1):\n",
    "        for y in range(1, h-1):            \n",
    "            mag = Gm[y,x]\n",
    "            if mag < th: continue        \n",
    "            teta = Gd[y,x]            \n",
    "            dx, dy = 0, -1      # abs(orient) >= 1.1781, teta < -67.5 degrees and teta > 67.5 degrees\n",
    "            if abs(teta) <= 0.3927: dx, dy = 1, 0       # -22.5 <= teta <= 22.5\n",
    "            elif teta < 1.1781 and teta > 0.3927: dx, dy = 1, 1     # 22.5 < teta < 67.5 degrees\n",
    "            elif teta > -1.1781 and teta < -0.3927: dx, dy = 1, -1  # -67.5 < teta < -22.5 degrees            \n",
    "            if mag > Gm[y+dy,x+dx] and mag > Gm[y-dy,x-dx]: nms[y,x] = mag    \n",
    "    return nms\n",
    "\n",
    "# 滞后阈值\n",
    "def hysteresisThreshold(nms, thLow, thHigh, binaryEdge = True):\n",
    "    labels, n = measurements.label(nms > thLow, structure=ones((3,3)))\n",
    "    for i in range(1, n):\n",
    "        upper = amax(nms[labels==i])\n",
    "        if upper < thHigh: labels[labels==i] = 0\n",
    "    if binaryEdge: return 255*(labels>0)        \n",
    "    else: return nms*(labels>0)\n",
    "\n",
    "def detect_gray(image, thLow, thHigh, binaryEdge=True):\n",
    "    Gm, Gd = gray_gradient(image)\n",
    "    #print 'Gm max:', Gm.max(), mean(Gm)\n",
    "    nms = nonmaxsupress(Gm, Gd, th=1.0)\n",
    "    #fr = getFractile(nms, th=1.0, fraction=0.30, bins=255)\n",
    "    #print 'Fractile:', fr, thLow, thHigh\n",
    "    edge = hysteresisThreshold(nms, thLow, thHigh, binaryEdge)    \n",
    "    return edge, nms\n",
    "\n",
    "def detect_rgb(image, thLow, thHigh, gtype=0, binaryEdge=True):\n",
    "    Gm, Gd = rgb_gradient(image, gtype) \n",
    "    #print 'Gm max:', Gm.max(), mean(Gm)\n",
    "    nms = nonmaxsupress(Gm, Gd, th=1.0)\n",
    "    #fr = getFractile(nms, th=1.0, fraction=0.50, bins=255)\n",
    "    #print 'Fractile:', fr, thLow, thHigh\n",
    "    edge = hysteresisThreshold(nms, thLow, thHigh, binaryEdge)\n",
    "    return edge, nms\n",
    "\n",
    "def detect_multichannel(images, thLow, thHigh, gtype=0, binaryEdge=True):\n",
    "    Gm, Gd = multi_gradient(images, gtype) \n",
    "    #print 'Gm max:', Gm.max(), mean(Gm)\n",
    "    nms = nonmaxsupress(Gm, Gd, th=1.0)\n",
    "    #fr = getFractile(nms, th=1.0, fraction=0.50, bins=255)\n",
    "    #print 'Fractile:', fr, thLow, thHigh\n",
    "    edge = hysteresisThreshold(nms, thLow, thHigh, binaryEdge)\n",
    "    return edge, nms"
   ]
  },
  {
   "cell_type": "code",
   "execution_count": 26,
   "metadata": {},
   "outputs": [],
   "source": [
    "sigma = 2.0\n",
    "image = scipy.ndimage.filters.gaussian_filter(src, sigma)\n",
    "imgMax=image.max()\n",
    "if imgMax > 255:\n",
    "    image *= (255.0/65535)\n",
    "tlow=0\n",
    "thigh=255\n",
    "edge,_ = detect_rgb(image, tlow, thigh, 1)\n"
   ]
  },
  {
   "cell_type": "code",
   "execution_count": 27,
   "metadata": {},
   "outputs": [
    {
     "data": {
      "text/plain": [
       "Text(0.5,1,'Canny Edge')"
      ]
     },
     "execution_count": 27,
     "metadata": {},
     "output_type": "execute_result"
    },
    {
     "data": {
      "image/png": "[encoded data removed]",
      "text/plain": [
       "<matplotlib.figure.Figure at 0x1440a0b8>"
      ]
     },
     "metadata": {},
     "output_type": "display_data"
    }
   ],
   "source": [
    "plt.subplot(121)\n",
    "plt.imshow(src)\n",
    "plt.title('SRC')\n",
    "plt.subplot(122)\n",
    "plt.imshow(cv2.convertScaleAbs(edge * 65535 / 255),'gray')\n",
    "plt.title('Canny Edge')"
   ]
  },
  {
   "cell_type": "code",
   "execution_count": 28,
   "metadata": {
    "collapsed": true
   },
   "outputs": [],
   "source": [
    "DEGREE_0 = 0\n",
    "DEGREE_45 = 45\n",
    "DEGREE_90 = 90\n",
    "DEGREE_135 = 135\n",
    "\n",
    "THRESHOLD_LOW = 12\n",
    "THRESHOLD_HIGH = 30\n",
    "\n",
    "EDGE = 255\n",
    "NOT_EDGE = 0\n",
    "\n",
    "sobel_x = np.array([[-1, 0, 1],\n",
    "                    [-2, 0, 2],\n",
    "                    [-1, 0, 1]])\n",
    "\n",
    "sobel_y = np.array([[1, 2, 1],\n",
    "                    [0, 0, 0],\n",
    "                    [-1, -2, -1]])"
   ]
  },
  {
   "cell_type": "markdown",
   "metadata": {},
   "source": [
    "参考：\n",
    "\n",
    "[1]. https://blog.csdn.net/trent1985/article/details/45095931\n",
    "\n",
    "[2]. https://github.com/mubastan/canny"
   ]
  }
 ],
 "metadata": {
  "kernelspec": {
   "display_name": "Python 3",
   "language": "python",
   "name": "python3"
  },
  "language_info": {
   "codemirror_mode": {
    "name": "ipython",
    "version": 3
   },
   "file_extension": ".py",
   "mimetype": "text/x-python",
   "name": "python",
   "nbconvert_exporter": "python",
   "pygments_lexer": "ipython3",
   "version": "3.6.3"
  }
 },
 "nbformat": 4,
 "nbformat_minor": 2
}
