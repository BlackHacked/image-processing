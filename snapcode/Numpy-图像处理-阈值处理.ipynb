{
 "cells": [
  {
   "cell_type": "markdown",
   "metadata": {},
   "source": [
    "# 阈值处理"
   ]
  },
  {
   "cell_type": "code",
   "execution_count": 1,
   "metadata": {},
   "outputs": [],
   "source": [
    "import numpy as np\n",
    "import imageio as imgio\n",
    "import scipy as sci\n",
    "%matplotlib inline\n",
    "import matplotlib.pyplot as plt\n",
    "from scipy.signal import convolve2d\n",
    "import skimage as ski\n",
    "import skimage.color as skcolor\n",
    "import skimage.io as skio\n",
    "from scipy.ndimage.interpolation import zoom"
   ]
  },
  {
   "cell_type": "code",
   "execution_count": 2,
   "metadata": {},
   "outputs": [],
   "source": [
    "def simple_threshold(im, threshold=128):\n",
    "    return ((im > threshold) * 255).astype(\"uint8\")"
   ]
  },
  {
   "cell_type": "code",
   "execution_count": 9,
   "metadata": {},
   "outputs": [
    {
     "name": "stderr",
     "output_type": "stream",
     "text": [
      "C:\\Users\\jenson\\Anaconda3\\lib\\site-packages\\skimage\\util\\dtype.py:130: UserWarning: Possible precision loss when converting from float64 to uint8\n",
      "  .format(dtypeobj_in, dtypeobj_out))\n"
     ]
    }
   ],
   "source": [
    "src = skio.imread('../datas/f3.jpg')\n",
    "gray = ski.img_as_ubyte(skcolor.rgb2gray(src))"
   ]
  },
  {
   "cell_type": "code",
   "execution_count": 20,
   "metadata": {},
   "outputs": [],
   "source": [
    "dst = simple_threshold(gray,threshold=38)"
   ]
  },
  {
   "cell_type": "code",
   "execution_count": 21,
   "metadata": {},
   "outputs": [
    {
     "data": {
      "text/plain": [
       "<matplotlib.image.AxesImage at 0x121250450f0>"
      ]
     },
     "execution_count": 21,
     "metadata": {},
     "output_type": "execute_result"
    },
    {
     "data": {
      "image/png": "[encoded data removed]",
      "text/plain": [
       "<Figure size 432x288 with 1 Axes>"
      ]
     },
     "metadata": {},
     "output_type": "display_data"
    }
   ],
   "source": [
    "plt.imshow(dst,'gray')"
   ]
  },
  {
   "cell_type": "code",
   "execution_count": 23,
   "metadata": {},
   "outputs": [],
   "source": [
    "def otsu_threshold(im):\n",
    "\n",
    "    pixel_counts = [np.sum(im == i) for i in range(256)]\n",
    "    # 得到图片的以0-255索引的像素值个数列表\n",
    "    s_max = (0,-10)\n",
    "    ss = []\n",
    "    for threshold in range(256):\n",
    "    # 遍历所有阈值，根据公式挑选出最好的\n",
    "\n",
    "        # 更新\n",
    "        w_0 = sum(pixel_counts[:threshold]) # 得到阈值以下像素个数\n",
    "        w_1 = sum(pixel_counts[threshold:]) # 得到阈值以上像素个数\n",
    "\n",
    "        mu_0 = sum([i * pixel_counts[i] for i in range(0,threshold)]) / w_0 if w_0 > 0 else 0\n",
    "        # 得到阈值下所有像素的均值\n",
    "        # 注意 if else 用法意义： 如果 w_0 > 0 则 mu_0 = sum/w_0 否则 mu_0 = 0\n",
    "        mu_1 = sum([i * pixel_counts[i] for i in range(threshold, 256)]) / w_1 if w_1 > 0 else 0\n",
    "        # 得到阈值上所有像素的均值\n",
    "\n",
    "        # 根据公式计算\n",
    "        s = 1.0 * w_0 * w_1 * (mu_0 - mu_1) ** 2\n",
    "        # 直接使用w_0 * w_1可能会造成整数相乘溢出，所以先乘一个1.0变为浮点数\n",
    "        ss.append(s)\n",
    "\n",
    "        # 取最大的\n",
    "        if s > s_max[1]:\n",
    "            s_max = (threshold, s)\n",
    "\n",
    "    return s_max[0]"
   ]
  },
  {
   "cell_type": "code",
   "execution_count": 28,
   "metadata": {},
   "outputs": [
    {
     "name": "stdout",
     "output_type": "stream",
     "text": [
      "140\n"
     ]
    }
   ],
   "source": [
    "thresh = otsu_threshold(gray)\n",
    "dst = simple_threshold(gray,threshold=thresh)\n",
    "print(thresh)"
   ]
  },
  {
   "cell_type": "code",
   "execution_count": 29,
   "metadata": {},
   "outputs": [
    {
     "data": {
      "text/plain": [
       "<matplotlib.image.AxesImage at 0x1212511d5c0>"
      ]
     },
     "execution_count": 29,
     "metadata": {},
     "output_type": "execute_result"
    },
    {
     "data": {
      "image/png": "[encoded data removed]",
      "text/plain": [
       "<Figure size 432x288 with 1 Axes>"
      ]
     },
     "metadata": {},
     "output_type": "display_data"
    }
   ],
   "source": [
    "plt.imshow(dst,'gray')"
   ]
  }
 ],
 "metadata": {
  "kernelspec": {
   "display_name": "Python 3",
   "language": "python",
   "name": "python3"
  },
  "language_info": {
   "codemirror_mode": {
    "name": "ipython",
    "version": 3
   },
   "file_extension": ".py",
   "mimetype": "text/x-python",
   "name": "python",
   "nbconvert_exporter": "python",
   "pygments_lexer": "ipython3",
   "version": "3.6.4"
  }
 },
 "nbformat": 4,
 "nbformat_minor": 2
}
