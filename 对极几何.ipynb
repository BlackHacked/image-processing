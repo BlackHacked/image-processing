{
 "cells": [
  {
   "cell_type": "code",
   "execution_count": 2,
   "metadata": {},
   "outputs": [],
   "source": [
    "#coding:utf-8\n",
    "'''\n",
    "对极几何\n",
    "https://blog.csdn.net/firemicrocosm/article/details/48622961\n",
    "'''\n",
    "import cv2\n",
    "import numpy as np\n",
    "import matplotlib.pyplot as plt\n",
    "from scipy import signal\n",
    "\n",
    "img_L = cv2.imread('datas/left.png',0)\n",
    "img_R = cv2.imread('datas/right.png',0)\n"
   ]
  },
  {
   "cell_type": "code",
   "execution_count": 4,
   "metadata": {},
   "outputs": [
    {
     "ename": "error",
     "evalue": "OpenCV(4.0.0-pre) D:\\Develop\\DL\\temp\\opencv\\modules\\calib3d\\src\\fundam.cpp:782: error: (-5:Bad argument) The input arrays should be 2D or 3D point sets in function 'cv::findFundamentalMat'\n",
     "output_type": "error",
     "traceback": [
      "\u001b[1;31m---------------------------------------------------------------------------\u001b[0m",
      "\u001b[1;31merror\u001b[0m                                     Traceback (most recent call last)",
      "\u001b[1;32m<ipython-input-4-989d2fc372bb>\u001b[0m in \u001b[0;36m<module>\u001b[1;34m()\u001b[0m\n\u001b[0;32m     26\u001b[0m \u001b[0mpts2\u001b[0m \u001b[1;33m=\u001b[0m \u001b[0mnp\u001b[0m\u001b[1;33m.\u001b[0m\u001b[0mfloat32\u001b[0m\u001b[1;33m(\u001b[0m\u001b[0mpts2\u001b[0m\u001b[1;33m)\u001b[0m\u001b[1;33m\u001b[0m\u001b[0m\n\u001b[0;32m     27\u001b[0m \u001b[1;31m# 根据匹配点对计算基础矩阵\u001b[0m\u001b[1;33m\u001b[0m\u001b[1;33m\u001b[0m\u001b[0m\n\u001b[1;32m---> 28\u001b[1;33m \u001b[0mF\u001b[0m\u001b[1;33m,\u001b[0m \u001b[0mmask\u001b[0m \u001b[1;33m=\u001b[0m \u001b[0mcv2\u001b[0m\u001b[1;33m.\u001b[0m\u001b[0mfindFundamentalMat\u001b[0m\u001b[1;33m(\u001b[0m\u001b[0mpts1\u001b[0m\u001b[1;33m,\u001b[0m\u001b[0mpts2\u001b[0m\u001b[1;33m,\u001b[0m\u001b[0mcv2\u001b[0m\u001b[1;33m.\u001b[0m\u001b[0mFM_LMEDS\u001b[0m\u001b[1;33m)\u001b[0m\u001b[1;33m\u001b[0m\u001b[0m\n\u001b[0m\u001b[0;32m     29\u001b[0m \u001b[1;33m\u001b[0m\u001b[0m\n\u001b[0;32m     30\u001b[0m \u001b[1;31m# 寻则内部点\u001b[0m\u001b[1;33m\u001b[0m\u001b[1;33m\u001b[0m\u001b[0m\n",
      "\u001b[1;31merror\u001b[0m: OpenCV(4.0.0-pre) D:\\Develop\\DL\\temp\\opencv\\modules\\calib3d\\src\\fundam.cpp:782: error: (-5:Bad argument) The input arrays should be 2D or 3D point sets in function 'cv::findFundamentalMat'\n"
     ]
    }
   ],
   "source": [
    "sift = cv2.xfeatures2d.SIFT_create()\n",
    "  \n",
    "kp1,des1 = sift.detectAndCompute(img_L,None)  \n",
    "kp2,des2 = sift.detectAndCompute(img_R,None)  \n",
    "  \n",
    "FLANN_INDEX_KDTREE = 0  \n",
    "index_params = dict(algorithm = FLANN_INDEX_KDTREE, trees = 5)  \n",
    "search_params = dict(checks=50)  \n",
    "  \n",
    "# 利用FLANN匹配器  \n",
    "flann = cv2.FlannBasedMatcher(index_params, search_params)  \n",
    "matches = flann.knnMatch(des1,des2,k=2)  \n",
    "  \n",
    "good = []  \n",
    "pts1 = []  \n",
    "pts2 = []  \n",
    "  \n",
    "# 寻找匹配点对  \n",
    "for i,(m,n) in enumerate(matches):  \n",
    "    if m.distance < 0.2*n.distance:  \n",
    "        good.append(m)  \n",
    "        pts1.append(kp1[m.queryIdx].pt)  \n",
    "        pts2.append(kp2[m.trainIdx].pt)  \n",
    "  \n",
    "pts1 = np.float32(pts1)  \n",
    "pts2 = np.float32(pts2)  \n",
    "# 根据匹配点对计算基础矩阵  \n",
    "F, mask = cv2.findFundamentalMat(pts1,pts2,cv2.FM_LMEDS)  \n",
    "  \n",
    "# 寻则内部点  \n",
    "pts1 = pts1[mask.ravel()==1]  \n",
    "pts2 = pts2[mask.ravel()==1]  \n",
    "  \n",
    "# 绘制极线的函数  \n",
    "def drawlines(img1,img2,lines,pts1,pts2):  \n",
    "    r,c = img1.shape  \n",
    "    img1 = cv2.cvtColor(img1,cv2.COLOR_GRAY2BGR)  \n",
    "    img2 = cv2.cvtColor(img2,cv2.COLOR_GRAY2BGR)  \n",
    "    for r,pt1,pt2 in zip(lines,pts1,pts2):  \n",
    "        color = tuple(np.random.randint(0,255,3).tolist())  \n",
    "        x0,y0 = map(int,[0,-r[2]/r[1]])   # 映射成整数值  \n",
    "        x1,y1 = map(int,[c,-(r[2]+r[1]*c)/r[1]])  \n",
    "        cv2.line(img1, (x0,y0),(x1,y1),color,1)  \n",
    "        cv2.circle(img1,tuple(pt1),5,color,-1)  \n",
    "        cv2.circle(img2,tuple(pt2),5,color,-1)  \n",
    "    return img1,img2  \n",
    "  \n",
    "# 计算并绘制两幅图像中的极线  \n",
    "lines1 = cv2.computeCorrespondEpilines(pts2.reshape(-1,1,2),2,F)  \n",
    "lines1 = lines1.reshape(-1,3)  \n",
    "img5,img6 = drawlines(img_L,img_R,lines1,pts1,pts2)  \n",
    "  \n",
    "lines2 = cv2.computeCorrespondEpilines(pts1.reshape(-1,1,2),2,F)  \n",
    "lines2 = lines2.reshape(-1,3)  \n",
    "img3,img4 = drawlines(img_R,img_L,lines2,pts2,pts1)  \n",
    "  \n",
    "plt.subplot(121),plt.imshow(img5),plt.title('leftImage'),plt.xticks([]),plt.yticks([])  \n",
    "plt.subplot(122),plt.imshow(img3),plt.title('rightImage'),plt.xticks([]),plt.yticks([])  "
   ]
  },
  {
   "cell_type": "code",
   "execution_count": null,
   "metadata": {},
   "outputs": [],
   "source": []
  }
 ],
 "metadata": {
  "kernelspec": {
   "display_name": "Python 3",
   "language": "python",
   "name": "python3"
  },
  "language_info": {
   "codemirror_mode": {
    "name": "ipython",
    "version": 3
   },
   "file_extension": ".py",
   "mimetype": "text/x-python",
   "name": "python",
   "nbconvert_exporter": "python",
   "pygments_lexer": "ipython3",
   "version": "3.6.4"
  }
 },
 "nbformat": 4,
 "nbformat_minor": 2
}
